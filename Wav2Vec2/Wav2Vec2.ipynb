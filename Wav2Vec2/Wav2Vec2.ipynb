{
  "cells": [
    {
      "cell_type": "markdown",
      "metadata": {
        "id": "wAmTPVvQqnBd"
      },
      "source": [
        "# Set-up"
      ]
    },
    {
      "cell_type": "code",
      "execution_count": 3,
      "metadata": {
        "colab": {
          "base_uri": "https://localhost:8080/"
        },
        "id": "gPyUb-bZEwoB",
        "outputId": "263d3d31-4a8b-43e6-ca7a-fcf50cfbeb17"
      },
      "outputs": [
        {
          "output_type": "stream",
          "name": "stdout",
          "text": [
            "Drive already mounted at /content/drive; to attempt to forcibly remount, call drive.mount(\"/content/drive\", force_remount=True).\n"
          ]
        }
      ],
      "source": [
        "from google.colab import drive\n",
        "drive.mount('/content/drive')"
      ]
    },
    {
      "cell_type": "code",
      "source": [
        "# SET TO PROJECT FOLDER\n",
        "dir = '/content/drive/MyDrive/cse256'\n",
        "\n",
        "# LOCATION OF FEATURE FOLDER\n",
        "folder = dir + '/wav2vec2_features'\n",
        "folder"
      ],
      "metadata": {
        "colab": {
          "base_uri": "https://localhost:8080/",
          "height": 35
        },
        "id": "m4Q0t9Y4p_tx",
        "outputId": "fbe1bb2f-1474-4341-cb36-4bb8c0395eba"
      },
      "execution_count": 4,
      "outputs": [
        {
          "output_type": "execute_result",
          "data": {
            "text/plain": [
              "'/content/drive/MyDrive/cse256/wav2vec2_features'"
            ],
            "application/vnd.google.colaboratory.intrinsic+json": {
              "type": "string"
            }
          },
          "metadata": {},
          "execution_count": 4
        }
      ]
    },
    {
      "cell_type": "code",
      "execution_count": 3,
      "metadata": {
        "id": "H05_ap7hEwfF"
      },
      "outputs": [],
      "source": [
        "! unzip '/content/drive/MyDrive/cse256/wav2vec2_features.zip'"
      ]
    },
    {
      "cell_type": "markdown",
      "metadata": {
        "id": "xDn8MS31qiCn"
      },
      "source": [
        "# Get features from .wav files\n"
      ]
    },
    {
      "cell_type": "markdown",
      "source": [
        "Tutorial: [Speech Recognition with Wav2Vec ](https://pytorch.org/audio/stable/tutorials/speech_recognition_pipeline_tutorial.html)"
      ],
      "metadata": {
        "id": "NFo6hj_Ysjk5"
      }
    },
    {
      "cell_type": "code",
      "source": [
        "import IPython\n",
        "import matplotlib.pyplot as plt\n",
        "from torchaudio.utils import download_asset"
      ],
      "metadata": {
        "id": "6WBga3FzsjXI"
      },
      "execution_count": 5,
      "outputs": []
    },
    {
      "cell_type": "code",
      "execution_count": 6,
      "metadata": {
        "id": "Ch8p8gPUqsUb"
      },
      "outputs": [],
      "source": [
        "import glob\n",
        "# speech_files = glob.glob(\"output/*.wav\")"
      ]
    },
    {
      "cell_type": "code",
      "source": [
        "import torch\n",
        "import torchaudio\n",
        "\n",
        "print(torch.__version__)\n",
        "print(torchaudio.__version__)\n",
        "\n",
        "torch.random.manual_seed(0)\n",
        "# device = torch.device(\"cuda\" if torch.cuda.is_available() else \"cpu\")\n",
        "device = torch.device(\"cpu\")\n",
        "print(device)"
      ],
      "metadata": {
        "colab": {
          "base_uri": "https://localhost:8080/"
        },
        "id": "54_yhXA3sp44",
        "outputId": "d1d1643c-83c9-4727-e2d3-76e3f5643019"
      },
      "execution_count": 6,
      "outputs": [
        {
          "output_type": "stream",
          "name": "stdout",
          "text": [
            "2.0.1+cu118\n",
            "2.0.2+cu118\n",
            "cpu\n"
          ]
        }
      ]
    },
    {
      "cell_type": "code",
      "source": [
        "# bundle = torchaudio.pipelines.WAV2VEC2_ASR_BASE_960H\n",
        "\n",
        "# print(\"Sample Rate:\", bundle.sample_rate)\n",
        "\n",
        "# print(\"Labels:\", bundle.get_labels())\n",
        "\n",
        "# model = bundle.get_model().to(device)\n",
        "\n",
        "# print(model.__class__)"
      ],
      "metadata": {
        "colab": {
          "base_uri": "https://localhost:8080/"
        },
        "id": "QC77Uv_ss4ph",
        "outputId": "f79398fb-6b07-45ba-e3f9-16ecc72e4371"
      },
      "execution_count": 7,
      "outputs": [
        {
          "output_type": "stream",
          "name": "stdout",
          "text": [
            "Sample Rate: 16000\n",
            "Labels: ('-', '|', 'E', 'T', 'A', 'O', 'N', 'I', 'H', 'S', 'R', 'D', 'L', 'U', 'M', 'W', 'C', 'F', 'G', 'Y', 'P', 'B', 'V', 'K', \"'\", 'X', 'J', 'Q', 'Z')\n",
            "<class 'torchaudio.models.wav2vec2.model.Wav2Vec2Model'>\n"
          ]
        }
      ]
    },
    {
      "cell_type": "code",
      "execution_count": 8,
      "metadata": {
        "id": "acwd2Z4DrL5O"
      },
      "outputs": [],
      "source": [
        "def file_to_features(file_path):\n",
        "  waveform, sample_rate = torchaudio.load(file_path)\n",
        "  waveform = waveform.to(device)\n",
        "\n",
        "  if sample_rate != bundle.sample_rate:\n",
        "    waveform = torchaudio.functional.resample(waveform, sample_rate, bundle.sample_rate)\n",
        "\n",
        "  with torch.inference_mode():\n",
        "    features, _ = model.extract_features(waveform)\n",
        "\n",
        "  return features"
      ]
    },
    {
      "cell_type": "code",
      "execution_count": 7,
      "metadata": {
        "id": "QJYYIxPVsCbl"
      },
      "outputs": [],
      "source": [
        "import pickle\n",
        "import os\n",
        "import numpy as np\n",
        "\n",
        "# GET FEATURES FROM WAV FILES\n",
        "\n",
        "# for i, f in enumerate(speech_files):\n",
        "#   name = f.split(\".\")[0].split('/')[1]\n",
        "#   file_name = dir + '/wav2vec2_features/' + name + '.pickle'\n",
        "#   print('Audio ', i, ': ', file_name)\n",
        "\n",
        "#   if not os.path.exists(file_name):\n",
        "#     feat = file_to_features(f)\n",
        "\n",
        "#     feat = [t.reshape((t.shape[1], t.shape[2])) for t in feat]\n",
        "#     stacked_feat = torch.stack(feat)\n",
        "#     features_np = stacked_feat.numpy()\n",
        "\n",
        "#     average_features = np.mean( np.array(np.split(features_np, 12, axis=0)), axis=0)\n",
        "#     average_features = average_features.reshape((average_features.shape[1], average_features.shape[2]))\n",
        "\n",
        "#     with open(file_name, 'wb') as handle:\n",
        "#       pickle.dump(average_features, handle)"
      ]
    },
    {
      "cell_type": "markdown",
      "source": [
        "# Features DF"
      ],
      "metadata": {
        "id": "aTJIrojdvvNL"
      }
    },
    {
      "cell_type": "code",
      "source": [
        "import pandas as pd\n",
        "\n",
        "meta = pd.read_csv('drive/MyDrive/cse256/speakers_all.csv')\n",
        "display(meta)"
      ],
      "metadata": {
        "colab": {
          "base_uri": "https://localhost:8080/",
          "height": 424
        },
        "id": "RhxJ8XjGvzkf",
        "outputId": "e436b17a-fe95-4458-ae35-d8a4c3d7c744"
      },
      "execution_count": 8,
      "outputs": [
        {
          "output_type": "display_data",
          "data": {
            "text/plain": [
              "       age  age_onset              birthplace  filename native_language  \\\n",
              "0     24.0       12.0         koussi, senegal   balanta         balanta   \n",
              "1     18.0       10.0          buea, cameroon  cameroon        cameroon   \n",
              "2     48.0        8.0  hong, adamawa, nigeria  fulfulde        fulfulde   \n",
              "3     42.0       42.0   port-au-prince, haiti   haitian         haitian   \n",
              "4     40.0       35.0   port-au-prince, haiti   haitian         haitian   \n",
              "...    ...        ...                     ...       ...             ...   \n",
              "2167  46.0        5.0          lagos, nigeria   yoruba3          yoruba   \n",
              "2168  46.0       12.0          lagos, nigeria   yoruba4          yoruba   \n",
              "2169  47.0        2.0         ibadan, nigeria   yoruba5          yoruba   \n",
              "2170  31.0        1.0     bethel, alaska, usa    yupik1           yupik   \n",
              "2171  24.0       14.0      bulawayo, zimbabwe     zulu1            zulu   \n",
              "\n",
              "         sex  speakerid   country  file_missing?  Unnamed: 9  Unnamed: 10  \\\n",
              "0       male        788   senegal           True         NaN          NaN   \n",
              "1       male       1953  cameroon           True         NaN          NaN   \n",
              "2       male       1037   nigeria           True         NaN          NaN   \n",
              "3       male       1165     haiti           True         NaN          NaN   \n",
              "4       male       1166     haiti           True         NaN          NaN   \n",
              "...      ...        ...       ...            ...         ...          ...   \n",
              "2167  female        766   nigeria          False         NaN          NaN   \n",
              "2168    male        851   nigeria          False         NaN          NaN   \n",
              "2169  female       2023   nigeria          False         NaN          NaN   \n",
              "2170  female        571       usa          False         NaN          NaN   \n",
              "2171  female        406  zimbabwe          False         NaN          NaN   \n",
              "\n",
              "     Unnamed: 11  \n",
              "0            NaN  \n",
              "1            NaN  \n",
              "2            NaN  \n",
              "3            NaN  \n",
              "4            NaN  \n",
              "...          ...  \n",
              "2167         NaN  \n",
              "2168         NaN  \n",
              "2169         NaN  \n",
              "2170         NaN  \n",
              "2171         NaN  \n",
              "\n",
              "[2172 rows x 12 columns]"
            ],
            "text/html": [
              "\n",
              "  <div id=\"df-cfb27ccd-d66c-43c7-bced-1da41bd4d463\">\n",
              "    <div class=\"colab-df-container\">\n",
              "      <div>\n",
              "<style scoped>\n",
              "    .dataframe tbody tr th:only-of-type {\n",
              "        vertical-align: middle;\n",
              "    }\n",
              "\n",
              "    .dataframe tbody tr th {\n",
              "        vertical-align: top;\n",
              "    }\n",
              "\n",
              "    .dataframe thead th {\n",
              "        text-align: right;\n",
              "    }\n",
              "</style>\n",
              "<table border=\"1\" class=\"dataframe\">\n",
              "  <thead>\n",
              "    <tr style=\"text-align: right;\">\n",
              "      <th></th>\n",
              "      <th>age</th>\n",
              "      <th>age_onset</th>\n",
              "      <th>birthplace</th>\n",
              "      <th>filename</th>\n",
              "      <th>native_language</th>\n",
              "      <th>sex</th>\n",
              "      <th>speakerid</th>\n",
              "      <th>country</th>\n",
              "      <th>file_missing?</th>\n",
              "      <th>Unnamed: 9</th>\n",
              "      <th>Unnamed: 10</th>\n",
              "      <th>Unnamed: 11</th>\n",
              "    </tr>\n",
              "  </thead>\n",
              "  <tbody>\n",
              "    <tr>\n",
              "      <th>0</th>\n",
              "      <td>24.0</td>\n",
              "      <td>12.0</td>\n",
              "      <td>koussi, senegal</td>\n",
              "      <td>balanta</td>\n",
              "      <td>balanta</td>\n",
              "      <td>male</td>\n",
              "      <td>788</td>\n",
              "      <td>senegal</td>\n",
              "      <td>True</td>\n",
              "      <td>NaN</td>\n",
              "      <td>NaN</td>\n",
              "      <td>NaN</td>\n",
              "    </tr>\n",
              "    <tr>\n",
              "      <th>1</th>\n",
              "      <td>18.0</td>\n",
              "      <td>10.0</td>\n",
              "      <td>buea, cameroon</td>\n",
              "      <td>cameroon</td>\n",
              "      <td>cameroon</td>\n",
              "      <td>male</td>\n",
              "      <td>1953</td>\n",
              "      <td>cameroon</td>\n",
              "      <td>True</td>\n",
              "      <td>NaN</td>\n",
              "      <td>NaN</td>\n",
              "      <td>NaN</td>\n",
              "    </tr>\n",
              "    <tr>\n",
              "      <th>2</th>\n",
              "      <td>48.0</td>\n",
              "      <td>8.0</td>\n",
              "      <td>hong, adamawa, nigeria</td>\n",
              "      <td>fulfulde</td>\n",
              "      <td>fulfulde</td>\n",
              "      <td>male</td>\n",
              "      <td>1037</td>\n",
              "      <td>nigeria</td>\n",
              "      <td>True</td>\n",
              "      <td>NaN</td>\n",
              "      <td>NaN</td>\n",
              "      <td>NaN</td>\n",
              "    </tr>\n",
              "    <tr>\n",
              "      <th>3</th>\n",
              "      <td>42.0</td>\n",
              "      <td>42.0</td>\n",
              "      <td>port-au-prince, haiti</td>\n",
              "      <td>haitian</td>\n",
              "      <td>haitian</td>\n",
              "      <td>male</td>\n",
              "      <td>1165</td>\n",
              "      <td>haiti</td>\n",
              "      <td>True</td>\n",
              "      <td>NaN</td>\n",
              "      <td>NaN</td>\n",
              "      <td>NaN</td>\n",
              "    </tr>\n",
              "    <tr>\n",
              "      <th>4</th>\n",
              "      <td>40.0</td>\n",
              "      <td>35.0</td>\n",
              "      <td>port-au-prince, haiti</td>\n",
              "      <td>haitian</td>\n",
              "      <td>haitian</td>\n",
              "      <td>male</td>\n",
              "      <td>1166</td>\n",
              "      <td>haiti</td>\n",
              "      <td>True</td>\n",
              "      <td>NaN</td>\n",
              "      <td>NaN</td>\n",
              "      <td>NaN</td>\n",
              "    </tr>\n",
              "    <tr>\n",
              "      <th>...</th>\n",
              "      <td>...</td>\n",
              "      <td>...</td>\n",
              "      <td>...</td>\n",
              "      <td>...</td>\n",
              "      <td>...</td>\n",
              "      <td>...</td>\n",
              "      <td>...</td>\n",
              "      <td>...</td>\n",
              "      <td>...</td>\n",
              "      <td>...</td>\n",
              "      <td>...</td>\n",
              "      <td>...</td>\n",
              "    </tr>\n",
              "    <tr>\n",
              "      <th>2167</th>\n",
              "      <td>46.0</td>\n",
              "      <td>5.0</td>\n",
              "      <td>lagos, nigeria</td>\n",
              "      <td>yoruba3</td>\n",
              "      <td>yoruba</td>\n",
              "      <td>female</td>\n",
              "      <td>766</td>\n",
              "      <td>nigeria</td>\n",
              "      <td>False</td>\n",
              "      <td>NaN</td>\n",
              "      <td>NaN</td>\n",
              "      <td>NaN</td>\n",
              "    </tr>\n",
              "    <tr>\n",
              "      <th>2168</th>\n",
              "      <td>46.0</td>\n",
              "      <td>12.0</td>\n",
              "      <td>lagos, nigeria</td>\n",
              "      <td>yoruba4</td>\n",
              "      <td>yoruba</td>\n",
              "      <td>male</td>\n",
              "      <td>851</td>\n",
              "      <td>nigeria</td>\n",
              "      <td>False</td>\n",
              "      <td>NaN</td>\n",
              "      <td>NaN</td>\n",
              "      <td>NaN</td>\n",
              "    </tr>\n",
              "    <tr>\n",
              "      <th>2169</th>\n",
              "      <td>47.0</td>\n",
              "      <td>2.0</td>\n",
              "      <td>ibadan, nigeria</td>\n",
              "      <td>yoruba5</td>\n",
              "      <td>yoruba</td>\n",
              "      <td>female</td>\n",
              "      <td>2023</td>\n",
              "      <td>nigeria</td>\n",
              "      <td>False</td>\n",
              "      <td>NaN</td>\n",
              "      <td>NaN</td>\n",
              "      <td>NaN</td>\n",
              "    </tr>\n",
              "    <tr>\n",
              "      <th>2170</th>\n",
              "      <td>31.0</td>\n",
              "      <td>1.0</td>\n",
              "      <td>bethel, alaska, usa</td>\n",
              "      <td>yupik1</td>\n",
              "      <td>yupik</td>\n",
              "      <td>female</td>\n",
              "      <td>571</td>\n",
              "      <td>usa</td>\n",
              "      <td>False</td>\n",
              "      <td>NaN</td>\n",
              "      <td>NaN</td>\n",
              "      <td>NaN</td>\n",
              "    </tr>\n",
              "    <tr>\n",
              "      <th>2171</th>\n",
              "      <td>24.0</td>\n",
              "      <td>14.0</td>\n",
              "      <td>bulawayo, zimbabwe</td>\n",
              "      <td>zulu1</td>\n",
              "      <td>zulu</td>\n",
              "      <td>female</td>\n",
              "      <td>406</td>\n",
              "      <td>zimbabwe</td>\n",
              "      <td>False</td>\n",
              "      <td>NaN</td>\n",
              "      <td>NaN</td>\n",
              "      <td>NaN</td>\n",
              "    </tr>\n",
              "  </tbody>\n",
              "</table>\n",
              "<p>2172 rows × 12 columns</p>\n",
              "</div>\n",
              "      <button class=\"colab-df-convert\" onclick=\"convertToInteractive('df-cfb27ccd-d66c-43c7-bced-1da41bd4d463')\"\n",
              "              title=\"Convert this dataframe to an interactive table.\"\n",
              "              style=\"display:none;\">\n",
              "        \n",
              "  <svg xmlns=\"http://www.w3.org/2000/svg\" height=\"24px\"viewBox=\"0 0 24 24\"\n",
              "       width=\"24px\">\n",
              "    <path d=\"M0 0h24v24H0V0z\" fill=\"none\"/>\n",
              "    <path d=\"M18.56 5.44l.94 2.06.94-2.06 2.06-.94-2.06-.94-.94-2.06-.94 2.06-2.06.94zm-11 1L8.5 8.5l.94-2.06 2.06-.94-2.06-.94L8.5 2.5l-.94 2.06-2.06.94zm10 10l.94 2.06.94-2.06 2.06-.94-2.06-.94-.94-2.06-.94 2.06-2.06.94z\"/><path d=\"M17.41 7.96l-1.37-1.37c-.4-.4-.92-.59-1.43-.59-.52 0-1.04.2-1.43.59L10.3 9.45l-7.72 7.72c-.78.78-.78 2.05 0 2.83L4 21.41c.39.39.9.59 1.41.59.51 0 1.02-.2 1.41-.59l7.78-7.78 2.81-2.81c.8-.78.8-2.07 0-2.86zM5.41 20L4 18.59l7.72-7.72 1.47 1.35L5.41 20z\"/>\n",
              "  </svg>\n",
              "      </button>\n",
              "      \n",
              "  <style>\n",
              "    .colab-df-container {\n",
              "      display:flex;\n",
              "      flex-wrap:wrap;\n",
              "      gap: 12px;\n",
              "    }\n",
              "\n",
              "    .colab-df-convert {\n",
              "      background-color: #E8F0FE;\n",
              "      border: none;\n",
              "      border-radius: 50%;\n",
              "      cursor: pointer;\n",
              "      display: none;\n",
              "      fill: #1967D2;\n",
              "      height: 32px;\n",
              "      padding: 0 0 0 0;\n",
              "      width: 32px;\n",
              "    }\n",
              "\n",
              "    .colab-df-convert:hover {\n",
              "      background-color: #E2EBFA;\n",
              "      box-shadow: 0px 1px 2px rgba(60, 64, 67, 0.3), 0px 1px 3px 1px rgba(60, 64, 67, 0.15);\n",
              "      fill: #174EA6;\n",
              "    }\n",
              "\n",
              "    [theme=dark] .colab-df-convert {\n",
              "      background-color: #3B4455;\n",
              "      fill: #D2E3FC;\n",
              "    }\n",
              "\n",
              "    [theme=dark] .colab-df-convert:hover {\n",
              "      background-color: #434B5C;\n",
              "      box-shadow: 0px 1px 3px 1px rgba(0, 0, 0, 0.15);\n",
              "      filter: drop-shadow(0px 1px 2px rgba(0, 0, 0, 0.3));\n",
              "      fill: #FFFFFF;\n",
              "    }\n",
              "  </style>\n",
              "\n",
              "      <script>\n",
              "        const buttonEl =\n",
              "          document.querySelector('#df-cfb27ccd-d66c-43c7-bced-1da41bd4d463 button.colab-df-convert');\n",
              "        buttonEl.style.display =\n",
              "          google.colab.kernel.accessAllowed ? 'block' : 'none';\n",
              "\n",
              "        async function convertToInteractive(key) {\n",
              "          const element = document.querySelector('#df-cfb27ccd-d66c-43c7-bced-1da41bd4d463');\n",
              "          const dataTable =\n",
              "            await google.colab.kernel.invokeFunction('convertToInteractive',\n",
              "                                                     [key], {});\n",
              "          if (!dataTable) return;\n",
              "\n",
              "          const docLinkHtml = 'Like what you see? Visit the ' +\n",
              "            '<a target=\"_blank\" href=https://colab.research.google.com/notebooks/data_table.ipynb>data table notebook</a>'\n",
              "            + ' to learn more about interactive tables.';\n",
              "          element.innerHTML = '';\n",
              "          dataTable['output_type'] = 'display_data';\n",
              "          await google.colab.output.renderOutput(dataTable, element);\n",
              "          const docLink = document.createElement('div');\n",
              "          docLink.innerHTML = docLinkHtml;\n",
              "          element.appendChild(docLink);\n",
              "        }\n",
              "      </script>\n",
              "    </div>\n",
              "  </div>\n",
              "  "
            ]
          },
          "metadata": {}
        }
      ]
    },
    {
      "cell_type": "markdown",
      "source": [
        "# Load in audio features"
      ],
      "metadata": {
        "id": "Jtf_ggt3tRN8"
      }
    },
    {
      "cell_type": "code",
      "source": [
        "wav2vec_list = glob.glob(dir + \"/wav2vec2_features/*.pickle\")"
      ],
      "metadata": {
        "id": "6xK2ssGp6zXa"
      },
      "execution_count": 9,
      "outputs": []
    },
    {
      "cell_type": "code",
      "execution_count": null,
      "metadata": {
        "id": "Z9Zx3XOe0THP"
      },
      "outputs": [],
      "source": [
        "import pickle\n",
        "\n",
        "lang_list = ['mandarin', 'italian']\n",
        "\n",
        "speaker_to_embeddings = {}\n",
        "speaker_labels = {}\n",
        "for f in wav2vec_list[:]:\n",
        "  name = f.split('/')[-1].split('.')[0]\n",
        "  for lang in lang_list:\n",
        "    if lang in name:\n",
        "      speaker_features = pickle.load(open(f, 'rb'))\n",
        "      speaker_to_embeddings[name] = speaker_features\n",
        "      speaker_labels[name] = lang\n",
        "      print(lang)\n",
        "      break"
      ]
    },
    {
      "cell_type": "code",
      "source": [
        "# PAD FEATURES TO MAKE SAME LENGTH\n",
        "import numpy as np\n",
        "\n",
        "max = 0\n",
        "for s in speaker_to_embeddings:\n",
        "  if speaker_to_embeddings[s].shape[0] > max:\n",
        "    max = speaker_to_embeddings[s].shape[0]\n",
        "\n",
        "print(\"Max embedding length: \", max)\n",
        "\n",
        "speaker_to_padded = {}\n",
        "for s in speaker_to_embeddings:\n",
        "  diff = max - speaker_to_embeddings[s].shape[0]\n",
        "  padded =  np.pad(speaker_to_embeddings[s], ((diff,0), (0, 0)), 'constant')\n",
        "  flattened = padded.flatten()\n",
        "  speaker_to_padded[s] = flattened\n",
        "\n",
        "print(\"Padded shape: \", flattened.shape)"
      ],
      "metadata": {
        "id": "pc7BhXT_iBVM",
        "colab": {
          "base_uri": "https://localhost:8080/"
        },
        "outputId": "a36b5441-52b2-4aa9-dd76-a1fbcc2206a5"
      },
      "execution_count": 9,
      "outputs": [
        {
          "output_type": "stream",
          "name": "stdout",
          "text": [
            "Max embedding length:  2779\n",
            "Padded shape:  (2134272,)\n"
          ]
        }
      ]
    },
    {
      "cell_type": "markdown",
      "metadata": {
        "id": "F4TzyY9juMfR"
      },
      "source": [
        "# Clustering"
      ]
    },
    {
      "cell_type": "code",
      "execution_count": 10,
      "metadata": {
        "id": "rW_fJ6TfuLwG"
      },
      "outputs": [],
      "source": [
        "from sklearn.decomposition import PCA\n",
        "\n",
        "values = list(speaker_to_padded.values())\n",
        "names = list(speaker_to_padded.keys())\n",
        "langs = [speaker_labels[n] for n in names]\n",
        "\n",
        "pca = PCA(n_components=3)\n",
        "components_3 = pca.fit_transform(values)"
      ]
    },
    {
      "cell_type": "code",
      "source": [
        "import plotly.express as px\n",
        "\n",
        "fig = px.scatter_3d(components_3, x=0, y=1, z=2, color=langs)\n",
        "fig.show()"
      ],
      "metadata": {
        "id": "dPkBHT9iHrDW",
        "colab": {
          "base_uri": "https://localhost:8080/",
          "height": 542
        },
        "outputId": "57cd71a6-489d-42b1-e378-2c71ffbe2bd6"
      },
      "execution_count": 11,
      "outputs": [
        {
          "output_type": "display_data",
          "data": {
            "text/html": [
              "<html>\n",
              "<head><meta charset=\"utf-8\" /></head>\n",
              "<body>\n",
              "    <div>            <script src=\"https://cdnjs.cloudflare.com/ajax/libs/mathjax/2.7.5/MathJax.js?config=TeX-AMS-MML_SVG\"></script><script type=\"text/javascript\">if (window.MathJax && window.MathJax.Hub && window.MathJax.Hub.Config) {window.MathJax.Hub.Config({SVG: {font: \"STIX-Web\"}});}</script>                <script type=\"text/javascript\">window.PlotlyConfig = {MathJaxConfig: 'local'};</script>\n",
              "        <script src=\"https://cdn.plot.ly/plotly-2.18.2.min.js\"></script>                <div id=\"55b88614-c75b-4ef6-bcc2-8e5da01a3125\" class=\"plotly-graph-div\" style=\"height:525px; width:100%;\"></div>            <script type=\"text/javascript\">                                    window.PLOTLYENV=window.PLOTLYENV || {};                                    if (document.getElementById(\"55b88614-c75b-4ef6-bcc2-8e5da01a3125\")) {                    Plotly.newPlot(                        \"55b88614-c75b-4ef6-bcc2-8e5da01a3125\",                        [{\"hovertemplate\":\"color=italian<br>0=%{x}<br>1=%{y}<br>2=%{z}<extra></extra>\",\"legendgroup\":\"italian\",\"marker\":{\"color\":\"#636efa\",\"symbol\":\"circle\"},\"mode\":\"markers\",\"name\":\"italian\",\"scene\":\"scene\",\"showlegend\":true,\"x\":[-53.53168777003932,-56.44776512497866,-59.59444802088509,-57.16651081149504,1.9431424510543405,-57.43731131132925,74.94818803714884,-23.033527862794305,-22.111679724427688,37.530869124923356,74.21416710884462,-50.967587119274654,-35.52579038320043,-60.80621353644708,-43.40698116715515,-21.15144682242149,-54.4255232462547,-56.587344933252986,103.93000710034329,-53.93921681684568,-55.02547244602941,0.5549587732163661,25.367042202998288,-53.454513776273686,-22.200452743947473,-60.15183177875841,-30.908746580312346,-51.99835426756682,-27.130606796867994,-59.3676096045459,-11.775582230958138,-61.16960769372646,-29.21534438953438],\"y\":[28.353021098244355,34.098716883534074,38.49222608282504,39.110742518577624,-48.11357902620694,39.78726221119977,11.091166825568754,-31.686779370300346,-16.842438932649216,-42.01512307644567,23.09180871717095,15.321365543553144,-5.913384308896068,42.187269101277195,1.7844772889661147,-36.52321162113769,30.72774149989088,29.50508687772032,68.96119319090707,28.52215479228616,37.76832533154422,-46.3571515591193,-54.833667785769556,23.54084179695856,-34.48923336265617,35.64500083218605,-30.01038821738471,16.27684288485271,-28.734815705113864,30.358938254550434,-39.66217168403514,31.495880790968034,-25.142618655217714],\"z\":[6.351700401811727,-5.362627741810243,-18.6515581155315,0.4569517392719519,1.8231813164471244,-7.087537294787068,-24.39177027758068,30.031286206197336,1.8263146717533183,-38.432459460549765,-13.8940632469112,11.22497512552534,25.283816926731003,-12.891353845386702,22.84439687040362,47.01717987924496,-4.90462708381493,-25.873018437269305,90.07266893501748,-7.155406579074446,-7.297335808495045,36.03141853269749,-30.657342968832303,6.243677012426004,39.53428639586924,-17.21993328579598,37.05736276014379,7.1577107071507955,35.72367810180307,-29.673570181310048,48.305482846916135,-24.158692819800784,38.07436728302204],\"type\":\"scatter3d\"},{\"hovertemplate\":\"color=mandarin<br>0=%{x}<br>1=%{y}<br>2=%{z}<extra></extra>\",\"legendgroup\":\"mandarin\",\"marker\":{\"color\":\"#EF553B\",\"symbol\":\"circle\"},\"mode\":\"markers\",\"name\":\"mandarin\",\"scene\":\"scene\",\"showlegend\":true,\"x\":[-14.605954153079484,84.44825514697006,93.47066490798365,33.9406211192463,-5.479372676186295,-63.66511920757461,27.513841319273237,65.60193446022205,-41.49131314205341,21.57919698826708,-56.537893179648044,48.33680524996784,4.076138700975774,-31.485236517322182,-23.981573168662116,14.955905793057482,19.56814090270158,-51.6936687817356,-2.9886100374988542,19.58034536995938,86.36467309814144,98.0050888925827,-29.82199751958722,25.084212956033042,97.13549355037482,-12.336743762749327,74.6437495451602,19.177685334460755,-17.965937839326216,104.30619158256782,-65.51856022785185,-63.6617282182957,-64.35511667802099,80.31043609458412,29.74049693764523,46.402713348836784,73.3311817004965,-44.94112720175817,-12.796312912349574,-57.20635736677762,101.0084538043882,45.11749022674262,-33.34490688221621,-61.2148961296106,48.39198644123375,7.582974178309862,-51.1863373732671,-50.4659668376292,104.21086906153177,47.26275743973695,90.24389188324041,99.85590274734426,-45.178851482095816,-57.59805351689384,-49.14651310235752,-53.53177856079871,84.11773705351133,-55.31462964199073,55.00722174449858,-18.78118591900026,14.92371929600559,-22.59047304620745,87.17029087411774,48.720341080939626,7.741588412228879],\"y\":[-42.332687839947994,38.8551710824182,46.39683632323044,-49.31067211772033,-41.32712174983449,35.78848681221735,-49.37694492645301,-14.386132546510417,14.239410939096949,-58.26412131758305,29.899222988873795,-44.84093694838411,-43.72124209604979,-19.34821813398827,-31.799506341263783,-58.26306703056586,-61.289286067618804,27.666263872124745,-52.58850104360836,-54.48958478601519,30.216418268399728,59.7908738555211,-24.6603763660317,-39.736140569139906,64.25939665607102,-32.454298846590966,-4.448218825343603,-44.170681133012764,-37.15334535137731,55.81469735286108,36.42323178087964,36.899181035055975,35.59861953766178,31.34665885025803,-34.00117699437911,-19.438800818804808,5.094258681550476,8.976561750566598,-29.255855199839033,25.394945839353966,52.34813931779382,-26.121227031045336,-25.737167472232215,29.386671529521504,-7.762977926494392,-50.324377137070286,19.277696433087204,15.966175121192844,36.793549524805414,2.427789910879554,61.65890650540775,54.458877699029294,10.089259170026004,36.909991405755115,19.56254506703024,28.804106803611546,14.732062496400077,28.483488631800718,-10.520781437120801,-32.654765503840316,-30.93518889881204,-34.75437792951076,13.975892500536421,-21.515223621514824,-46.34788295316222],\"z\":[24.428081989574025,8.009451875429763,4.2306854657176425,-17.520526657851867,33.11163526530005,-39.93918140993312,-20.64720498939883,-50.667314983127966,2.943825723620039,24.71841917503838,-4.15973254971632,-39.26446730002966,14.143523696920179,34.53523545763215,33.08922180025514,-14.912735351699661,-32.10432989323149,-5.269218572237185,18.989808447439348,-36.793536427963836,-4.203593123228845,27.17802908282695,45.27962707546152,-29.452665592734682,119.68295404188333,23.693250499158914,-41.68587381014597,-16.801571598440653,35.32517387410489,2.848480218223328,-40.762882287416595,-36.27765608610501,-41.06332827396225,8.606527204854768,-37.004394864415815,-28.551225096055237,-36.97483663688519,17.642723569978067,9.133418189377526,-19.80316772542422,10.317813069388652,-40.22035131642905,46.28363286910164,-33.40051805635037,-19.46306674900562,19.18009251851266,4.869684278396529,4.805699934670135,-14.158486893257077,-39.257336062795474,70.18091255001916,-5.232840430267198,9.255486169538141,-8.846295186864273,5.101110461871823,3.3396788217887585,-28.80347370816274,-22.00252702661424,-41.985051899143805,24.895738851691863,-3.068255804032689,35.693476587845474,-42.715969678988586,-18.825557604955804,-27.083383684231766],\"type\":\"scatter3d\"}],                        {\"template\":{\"data\":{\"histogram2dcontour\":[{\"type\":\"histogram2dcontour\",\"colorbar\":{\"outlinewidth\":0,\"ticks\":\"\"},\"colorscale\":[[0.0,\"#0d0887\"],[0.1111111111111111,\"#46039f\"],[0.2222222222222222,\"#7201a8\"],[0.3333333333333333,\"#9c179e\"],[0.4444444444444444,\"#bd3786\"],[0.5555555555555556,\"#d8576b\"],[0.6666666666666666,\"#ed7953\"],[0.7777777777777778,\"#fb9f3a\"],[0.8888888888888888,\"#fdca26\"],[1.0,\"#f0f921\"]]}],\"choropleth\":[{\"type\":\"choropleth\",\"colorbar\":{\"outlinewidth\":0,\"ticks\":\"\"}}],\"histogram2d\":[{\"type\":\"histogram2d\",\"colorbar\":{\"outlinewidth\":0,\"ticks\":\"\"},\"colorscale\":[[0.0,\"#0d0887\"],[0.1111111111111111,\"#46039f\"],[0.2222222222222222,\"#7201a8\"],[0.3333333333333333,\"#9c179e\"],[0.4444444444444444,\"#bd3786\"],[0.5555555555555556,\"#d8576b\"],[0.6666666666666666,\"#ed7953\"],[0.7777777777777778,\"#fb9f3a\"],[0.8888888888888888,\"#fdca26\"],[1.0,\"#f0f921\"]]}],\"heatmap\":[{\"type\":\"heatmap\",\"colorbar\":{\"outlinewidth\":0,\"ticks\":\"\"},\"colorscale\":[[0.0,\"#0d0887\"],[0.1111111111111111,\"#46039f\"],[0.2222222222222222,\"#7201a8\"],[0.3333333333333333,\"#9c179e\"],[0.4444444444444444,\"#bd3786\"],[0.5555555555555556,\"#d8576b\"],[0.6666666666666666,\"#ed7953\"],[0.7777777777777778,\"#fb9f3a\"],[0.8888888888888888,\"#fdca26\"],[1.0,\"#f0f921\"]]}],\"heatmapgl\":[{\"type\":\"heatmapgl\",\"colorbar\":{\"outlinewidth\":0,\"ticks\":\"\"},\"colorscale\":[[0.0,\"#0d0887\"],[0.1111111111111111,\"#46039f\"],[0.2222222222222222,\"#7201a8\"],[0.3333333333333333,\"#9c179e\"],[0.4444444444444444,\"#bd3786\"],[0.5555555555555556,\"#d8576b\"],[0.6666666666666666,\"#ed7953\"],[0.7777777777777778,\"#fb9f3a\"],[0.8888888888888888,\"#fdca26\"],[1.0,\"#f0f921\"]]}],\"contourcarpet\":[{\"type\":\"contourcarpet\",\"colorbar\":{\"outlinewidth\":0,\"ticks\":\"\"}}],\"contour\":[{\"type\":\"contour\",\"colorbar\":{\"outlinewidth\":0,\"ticks\":\"\"},\"colorscale\":[[0.0,\"#0d0887\"],[0.1111111111111111,\"#46039f\"],[0.2222222222222222,\"#7201a8\"],[0.3333333333333333,\"#9c179e\"],[0.4444444444444444,\"#bd3786\"],[0.5555555555555556,\"#d8576b\"],[0.6666666666666666,\"#ed7953\"],[0.7777777777777778,\"#fb9f3a\"],[0.8888888888888888,\"#fdca26\"],[1.0,\"#f0f921\"]]}],\"surface\":[{\"type\":\"surface\",\"colorbar\":{\"outlinewidth\":0,\"ticks\":\"\"},\"colorscale\":[[0.0,\"#0d0887\"],[0.1111111111111111,\"#46039f\"],[0.2222222222222222,\"#7201a8\"],[0.3333333333333333,\"#9c179e\"],[0.4444444444444444,\"#bd3786\"],[0.5555555555555556,\"#d8576b\"],[0.6666666666666666,\"#ed7953\"],[0.7777777777777778,\"#fb9f3a\"],[0.8888888888888888,\"#fdca26\"],[1.0,\"#f0f921\"]]}],\"mesh3d\":[{\"type\":\"mesh3d\",\"colorbar\":{\"outlinewidth\":0,\"ticks\":\"\"}}],\"scatter\":[{\"fillpattern\":{\"fillmode\":\"overlay\",\"size\":10,\"solidity\":0.2},\"type\":\"scatter\"}],\"parcoords\":[{\"type\":\"parcoords\",\"line\":{\"colorbar\":{\"outlinewidth\":0,\"ticks\":\"\"}}}],\"scatterpolargl\":[{\"type\":\"scatterpolargl\",\"marker\":{\"colorbar\":{\"outlinewidth\":0,\"ticks\":\"\"}}}],\"bar\":[{\"error_x\":{\"color\":\"#2a3f5f\"},\"error_y\":{\"color\":\"#2a3f5f\"},\"marker\":{\"line\":{\"color\":\"#E5ECF6\",\"width\":0.5},\"pattern\":{\"fillmode\":\"overlay\",\"size\":10,\"solidity\":0.2}},\"type\":\"bar\"}],\"scattergeo\":[{\"type\":\"scattergeo\",\"marker\":{\"colorbar\":{\"outlinewidth\":0,\"ticks\":\"\"}}}],\"scatterpolar\":[{\"type\":\"scatterpolar\",\"marker\":{\"colorbar\":{\"outlinewidth\":0,\"ticks\":\"\"}}}],\"histogram\":[{\"marker\":{\"pattern\":{\"fillmode\":\"overlay\",\"size\":10,\"solidity\":0.2}},\"type\":\"histogram\"}],\"scattergl\":[{\"type\":\"scattergl\",\"marker\":{\"colorbar\":{\"outlinewidth\":0,\"ticks\":\"\"}}}],\"scatter3d\":[{\"type\":\"scatter3d\",\"line\":{\"colorbar\":{\"outlinewidth\":0,\"ticks\":\"\"}},\"marker\":{\"colorbar\":{\"outlinewidth\":0,\"ticks\":\"\"}}}],\"scattermapbox\":[{\"type\":\"scattermapbox\",\"marker\":{\"colorbar\":{\"outlinewidth\":0,\"ticks\":\"\"}}}],\"scatterternary\":[{\"type\":\"scatterternary\",\"marker\":{\"colorbar\":{\"outlinewidth\":0,\"ticks\":\"\"}}}],\"scattercarpet\":[{\"type\":\"scattercarpet\",\"marker\":{\"colorbar\":{\"outlinewidth\":0,\"ticks\":\"\"}}}],\"carpet\":[{\"aaxis\":{\"endlinecolor\":\"#2a3f5f\",\"gridcolor\":\"white\",\"linecolor\":\"white\",\"minorgridcolor\":\"white\",\"startlinecolor\":\"#2a3f5f\"},\"baxis\":{\"endlinecolor\":\"#2a3f5f\",\"gridcolor\":\"white\",\"linecolor\":\"white\",\"minorgridcolor\":\"white\",\"startlinecolor\":\"#2a3f5f\"},\"type\":\"carpet\"}],\"table\":[{\"cells\":{\"fill\":{\"color\":\"#EBF0F8\"},\"line\":{\"color\":\"white\"}},\"header\":{\"fill\":{\"color\":\"#C8D4E3\"},\"line\":{\"color\":\"white\"}},\"type\":\"table\"}],\"barpolar\":[{\"marker\":{\"line\":{\"color\":\"#E5ECF6\",\"width\":0.5},\"pattern\":{\"fillmode\":\"overlay\",\"size\":10,\"solidity\":0.2}},\"type\":\"barpolar\"}],\"pie\":[{\"automargin\":true,\"type\":\"pie\"}]},\"layout\":{\"autotypenumbers\":\"strict\",\"colorway\":[\"#636efa\",\"#EF553B\",\"#00cc96\",\"#ab63fa\",\"#FFA15A\",\"#19d3f3\",\"#FF6692\",\"#B6E880\",\"#FF97FF\",\"#FECB52\"],\"font\":{\"color\":\"#2a3f5f\"},\"hovermode\":\"closest\",\"hoverlabel\":{\"align\":\"left\"},\"paper_bgcolor\":\"white\",\"plot_bgcolor\":\"#E5ECF6\",\"polar\":{\"bgcolor\":\"#E5ECF6\",\"angularaxis\":{\"gridcolor\":\"white\",\"linecolor\":\"white\",\"ticks\":\"\"},\"radialaxis\":{\"gridcolor\":\"white\",\"linecolor\":\"white\",\"ticks\":\"\"}},\"ternary\":{\"bgcolor\":\"#E5ECF6\",\"aaxis\":{\"gridcolor\":\"white\",\"linecolor\":\"white\",\"ticks\":\"\"},\"baxis\":{\"gridcolor\":\"white\",\"linecolor\":\"white\",\"ticks\":\"\"},\"caxis\":{\"gridcolor\":\"white\",\"linecolor\":\"white\",\"ticks\":\"\"}},\"coloraxis\":{\"colorbar\":{\"outlinewidth\":0,\"ticks\":\"\"}},\"colorscale\":{\"sequential\":[[0.0,\"#0d0887\"],[0.1111111111111111,\"#46039f\"],[0.2222222222222222,\"#7201a8\"],[0.3333333333333333,\"#9c179e\"],[0.4444444444444444,\"#bd3786\"],[0.5555555555555556,\"#d8576b\"],[0.6666666666666666,\"#ed7953\"],[0.7777777777777778,\"#fb9f3a\"],[0.8888888888888888,\"#fdca26\"],[1.0,\"#f0f921\"]],\"sequentialminus\":[[0.0,\"#0d0887\"],[0.1111111111111111,\"#46039f\"],[0.2222222222222222,\"#7201a8\"],[0.3333333333333333,\"#9c179e\"],[0.4444444444444444,\"#bd3786\"],[0.5555555555555556,\"#d8576b\"],[0.6666666666666666,\"#ed7953\"],[0.7777777777777778,\"#fb9f3a\"],[0.8888888888888888,\"#fdca26\"],[1.0,\"#f0f921\"]],\"diverging\":[[0,\"#8e0152\"],[0.1,\"#c51b7d\"],[0.2,\"#de77ae\"],[0.3,\"#f1b6da\"],[0.4,\"#fde0ef\"],[0.5,\"#f7f7f7\"],[0.6,\"#e6f5d0\"],[0.7,\"#b8e186\"],[0.8,\"#7fbc41\"],[0.9,\"#4d9221\"],[1,\"#276419\"]]},\"xaxis\":{\"gridcolor\":\"white\",\"linecolor\":\"white\",\"ticks\":\"\",\"title\":{\"standoff\":15},\"zerolinecolor\":\"white\",\"automargin\":true,\"zerolinewidth\":2},\"yaxis\":{\"gridcolor\":\"white\",\"linecolor\":\"white\",\"ticks\":\"\",\"title\":{\"standoff\":15},\"zerolinecolor\":\"white\",\"automargin\":true,\"zerolinewidth\":2},\"scene\":{\"xaxis\":{\"backgroundcolor\":\"#E5ECF6\",\"gridcolor\":\"white\",\"linecolor\":\"white\",\"showbackground\":true,\"ticks\":\"\",\"zerolinecolor\":\"white\",\"gridwidth\":2},\"yaxis\":{\"backgroundcolor\":\"#E5ECF6\",\"gridcolor\":\"white\",\"linecolor\":\"white\",\"showbackground\":true,\"ticks\":\"\",\"zerolinecolor\":\"white\",\"gridwidth\":2},\"zaxis\":{\"backgroundcolor\":\"#E5ECF6\",\"gridcolor\":\"white\",\"linecolor\":\"white\",\"showbackground\":true,\"ticks\":\"\",\"zerolinecolor\":\"white\",\"gridwidth\":2}},\"shapedefaults\":{\"line\":{\"color\":\"#2a3f5f\"}},\"annotationdefaults\":{\"arrowcolor\":\"#2a3f5f\",\"arrowhead\":0,\"arrowwidth\":1},\"geo\":{\"bgcolor\":\"white\",\"landcolor\":\"#E5ECF6\",\"subunitcolor\":\"white\",\"showland\":true,\"showlakes\":true,\"lakecolor\":\"white\"},\"title\":{\"x\":0.05},\"mapbox\":{\"style\":\"light\"}}},\"scene\":{\"domain\":{\"x\":[0.0,1.0],\"y\":[0.0,1.0]},\"xaxis\":{\"title\":{\"text\":\"0\"}},\"yaxis\":{\"title\":{\"text\":\"1\"}},\"zaxis\":{\"title\":{\"text\":\"2\"}}},\"legend\":{\"title\":{\"text\":\"color\"},\"tracegroupgap\":0},\"margin\":{\"t\":60}},                        {\"responsive\": true}                    ).then(function(){\n",
              "                            \n",
              "var gd = document.getElementById('55b88614-c75b-4ef6-bcc2-8e5da01a3125');\n",
              "var x = new MutationObserver(function (mutations, observer) {{\n",
              "        var display = window.getComputedStyle(gd).display;\n",
              "        if (!display || display === 'none') {{\n",
              "            console.log([gd, 'removed!']);\n",
              "            Plotly.purge(gd);\n",
              "            observer.disconnect();\n",
              "        }}\n",
              "}});\n",
              "\n",
              "// Listen for the removal of the full notebook cells\n",
              "var notebookContainer = gd.closest('#notebook-container');\n",
              "if (notebookContainer) {{\n",
              "    x.observe(notebookContainer, {childList: true});\n",
              "}}\n",
              "\n",
              "// Listen for the clearing of the current output cell\n",
              "var outputEl = gd.closest('.output');\n",
              "if (outputEl) {{\n",
              "    x.observe(outputEl, {childList: true});\n",
              "}}\n",
              "\n",
              "                        })                };                            </script>        </div>\n",
              "</body>\n",
              "</html>"
            ]
          },
          "metadata": {}
        }
      ]
    },
    {
      "cell_type": "code",
      "source": [
        "fig = px.scatter_matrix(\n",
        "    components_3,\n",
        "    dimensions=range(3),\n",
        "    labels=langs,\n",
        "    color=langs\n",
        ")\n",
        "fig.update_traces(diagonal_visible=False)\n",
        "fig.show()"
      ],
      "metadata": {
        "id": "1NTAAWAQYvDl",
        "outputId": "c602934d-817f-45cc-e1b8-cf3db8ba365e",
        "colab": {
          "base_uri": "https://localhost:8080/",
          "height": 542
        }
      },
      "execution_count": 12,
      "outputs": [
        {
          "output_type": "display_data",
          "data": {
            "text/html": [
              "<html>\n",
              "<head><meta charset=\"utf-8\" /></head>\n",
              "<body>\n",
              "    <div>            <script src=\"https://cdnjs.cloudflare.com/ajax/libs/mathjax/2.7.5/MathJax.js?config=TeX-AMS-MML_SVG\"></script><script type=\"text/javascript\">if (window.MathJax && window.MathJax.Hub && window.MathJax.Hub.Config) {window.MathJax.Hub.Config({SVG: {font: \"STIX-Web\"}});}</script>                <script type=\"text/javascript\">window.PlotlyConfig = {MathJaxConfig: 'local'};</script>\n",
              "        <script src=\"https://cdn.plot.ly/plotly-2.18.2.min.js\"></script>                <div id=\"c76d97d6-a3c6-4b09-81c9-77967ab17a32\" class=\"plotly-graph-div\" style=\"height:525px; width:100%;\"></div>            <script type=\"text/javascript\">                                    window.PLOTLYENV=window.PLOTLYENV || {};                                    if (document.getElementById(\"c76d97d6-a3c6-4b09-81c9-77967ab17a32\")) {                    Plotly.newPlot(                        \"c76d97d6-a3c6-4b09-81c9-77967ab17a32\",                        [{\"dimensions\":[{\"axis\":{\"matches\":true},\"label\":\"0\",\"values\":[-53.53168777003932,-56.44776512497866,-59.59444802088509,-57.16651081149504,1.9431424510543405,-57.43731131132925,74.94818803714884,-23.033527862794305,-22.111679724427688,37.530869124923356,74.21416710884462,-50.967587119274654,-35.52579038320043,-60.80621353644708,-43.40698116715515,-21.15144682242149,-54.4255232462547,-56.587344933252986,103.93000710034329,-53.93921681684568,-55.02547244602941,0.5549587732163661,25.367042202998288,-53.454513776273686,-22.200452743947473,-60.15183177875841,-30.908746580312346,-51.99835426756682,-27.130606796867994,-59.3676096045459,-11.775582230958138,-61.16960769372646,-29.21534438953438]},{\"axis\":{\"matches\":true},\"label\":\"1\",\"values\":[28.353021098244355,34.098716883534074,38.49222608282504,39.110742518577624,-48.11357902620694,39.78726221119977,11.091166825568754,-31.686779370300346,-16.842438932649216,-42.01512307644567,23.09180871717095,15.321365543553144,-5.913384308896068,42.187269101277195,1.7844772889661147,-36.52321162113769,30.72774149989088,29.50508687772032,68.96119319090707,28.52215479228616,37.76832533154422,-46.3571515591193,-54.833667785769556,23.54084179695856,-34.48923336265617,35.64500083218605,-30.01038821738471,16.27684288485271,-28.734815705113864,30.358938254550434,-39.66217168403514,31.495880790968034,-25.142618655217714]},{\"axis\":{\"matches\":true},\"label\":\"2\",\"values\":[6.351700401811727,-5.362627741810243,-18.6515581155315,0.4569517392719519,1.8231813164471244,-7.087537294787068,-24.39177027758068,30.031286206197336,1.8263146717533183,-38.432459460549765,-13.8940632469112,11.22497512552534,25.283816926731003,-12.891353845386702,22.84439687040362,47.01717987924496,-4.90462708381493,-25.873018437269305,90.07266893501748,-7.155406579074446,-7.297335808495045,36.03141853269749,-30.657342968832303,6.243677012426004,39.53428639586924,-17.21993328579598,37.05736276014379,7.1577107071507955,35.72367810180307,-29.673570181310048,48.305482846916135,-24.158692819800784,38.07436728302204]}],\"hovertemplate\":\"color=italian<br>%{xaxis.title.text}=%{x}<br>%{yaxis.title.text}=%{y}<extra></extra>\",\"legendgroup\":\"italian\",\"marker\":{\"color\":\"#636efa\",\"symbol\":\"circle\"},\"name\":\"italian\",\"showlegend\":true,\"type\":\"splom\",\"diagonal\":{\"visible\":false}},{\"dimensions\":[{\"axis\":{\"matches\":true},\"label\":\"0\",\"values\":[-14.605954153079484,84.44825514697006,93.47066490798365,33.9406211192463,-5.479372676186295,-63.66511920757461,27.513841319273237,65.60193446022205,-41.49131314205341,21.57919698826708,-56.537893179648044,48.33680524996784,4.076138700975774,-31.485236517322182,-23.981573168662116,14.955905793057482,19.56814090270158,-51.6936687817356,-2.9886100374988542,19.58034536995938,86.36467309814144,98.0050888925827,-29.82199751958722,25.084212956033042,97.13549355037482,-12.336743762749327,74.6437495451602,19.177685334460755,-17.965937839326216,104.30619158256782,-65.51856022785185,-63.6617282182957,-64.35511667802099,80.31043609458412,29.74049693764523,46.402713348836784,73.3311817004965,-44.94112720175817,-12.796312912349574,-57.20635736677762,101.0084538043882,45.11749022674262,-33.34490688221621,-61.2148961296106,48.39198644123375,7.582974178309862,-51.1863373732671,-50.4659668376292,104.21086906153177,47.26275743973695,90.24389188324041,99.85590274734426,-45.178851482095816,-57.59805351689384,-49.14651310235752,-53.53177856079871,84.11773705351133,-55.31462964199073,55.00722174449858,-18.78118591900026,14.92371929600559,-22.59047304620745,87.17029087411774,48.720341080939626,7.741588412228879]},{\"axis\":{\"matches\":true},\"label\":\"1\",\"values\":[-42.332687839947994,38.8551710824182,46.39683632323044,-49.31067211772033,-41.32712174983449,35.78848681221735,-49.37694492645301,-14.386132546510417,14.239410939096949,-58.26412131758305,29.899222988873795,-44.84093694838411,-43.72124209604979,-19.34821813398827,-31.799506341263783,-58.26306703056586,-61.289286067618804,27.666263872124745,-52.58850104360836,-54.48958478601519,30.216418268399728,59.7908738555211,-24.6603763660317,-39.736140569139906,64.25939665607102,-32.454298846590966,-4.448218825343603,-44.170681133012764,-37.15334535137731,55.81469735286108,36.42323178087964,36.899181035055975,35.59861953766178,31.34665885025803,-34.00117699437911,-19.438800818804808,5.094258681550476,8.976561750566598,-29.255855199839033,25.394945839353966,52.34813931779382,-26.121227031045336,-25.737167472232215,29.386671529521504,-7.762977926494392,-50.324377137070286,19.277696433087204,15.966175121192844,36.793549524805414,2.427789910879554,61.65890650540775,54.458877699029294,10.089259170026004,36.909991405755115,19.56254506703024,28.804106803611546,14.732062496400077,28.483488631800718,-10.520781437120801,-32.654765503840316,-30.93518889881204,-34.75437792951076,13.975892500536421,-21.515223621514824,-46.34788295316222]},{\"axis\":{\"matches\":true},\"label\":\"2\",\"values\":[24.428081989574025,8.009451875429763,4.2306854657176425,-17.520526657851867,33.11163526530005,-39.93918140993312,-20.64720498939883,-50.667314983127966,2.943825723620039,24.71841917503838,-4.15973254971632,-39.26446730002966,14.143523696920179,34.53523545763215,33.08922180025514,-14.912735351699661,-32.10432989323149,-5.269218572237185,18.989808447439348,-36.793536427963836,-4.203593123228845,27.17802908282695,45.27962707546152,-29.452665592734682,119.68295404188333,23.693250499158914,-41.68587381014597,-16.801571598440653,35.32517387410489,2.848480218223328,-40.762882287416595,-36.27765608610501,-41.06332827396225,8.606527204854768,-37.004394864415815,-28.551225096055237,-36.97483663688519,17.642723569978067,9.133418189377526,-19.80316772542422,10.317813069388652,-40.22035131642905,46.28363286910164,-33.40051805635037,-19.46306674900562,19.18009251851266,4.869684278396529,4.805699934670135,-14.158486893257077,-39.257336062795474,70.18091255001916,-5.232840430267198,9.255486169538141,-8.846295186864273,5.101110461871823,3.3396788217887585,-28.80347370816274,-22.00252702661424,-41.985051899143805,24.895738851691863,-3.068255804032689,35.693476587845474,-42.715969678988586,-18.825557604955804,-27.083383684231766]}],\"hovertemplate\":\"color=mandarin<br>%{xaxis.title.text}=%{x}<br>%{yaxis.title.text}=%{y}<extra></extra>\",\"legendgroup\":\"mandarin\",\"marker\":{\"color\":\"#EF553B\",\"symbol\":\"circle\"},\"name\":\"mandarin\",\"showlegend\":true,\"type\":\"splom\",\"diagonal\":{\"visible\":false}}],                        {\"template\":{\"data\":{\"histogram2dcontour\":[{\"type\":\"histogram2dcontour\",\"colorbar\":{\"outlinewidth\":0,\"ticks\":\"\"},\"colorscale\":[[0.0,\"#0d0887\"],[0.1111111111111111,\"#46039f\"],[0.2222222222222222,\"#7201a8\"],[0.3333333333333333,\"#9c179e\"],[0.4444444444444444,\"#bd3786\"],[0.5555555555555556,\"#d8576b\"],[0.6666666666666666,\"#ed7953\"],[0.7777777777777778,\"#fb9f3a\"],[0.8888888888888888,\"#fdca26\"],[1.0,\"#f0f921\"]]}],\"choropleth\":[{\"type\":\"choropleth\",\"colorbar\":{\"outlinewidth\":0,\"ticks\":\"\"}}],\"histogram2d\":[{\"type\":\"histogram2d\",\"colorbar\":{\"outlinewidth\":0,\"ticks\":\"\"},\"colorscale\":[[0.0,\"#0d0887\"],[0.1111111111111111,\"#46039f\"],[0.2222222222222222,\"#7201a8\"],[0.3333333333333333,\"#9c179e\"],[0.4444444444444444,\"#bd3786\"],[0.5555555555555556,\"#d8576b\"],[0.6666666666666666,\"#ed7953\"],[0.7777777777777778,\"#fb9f3a\"],[0.8888888888888888,\"#fdca26\"],[1.0,\"#f0f921\"]]}],\"heatmap\":[{\"type\":\"heatmap\",\"colorbar\":{\"outlinewidth\":0,\"ticks\":\"\"},\"colorscale\":[[0.0,\"#0d0887\"],[0.1111111111111111,\"#46039f\"],[0.2222222222222222,\"#7201a8\"],[0.3333333333333333,\"#9c179e\"],[0.4444444444444444,\"#bd3786\"],[0.5555555555555556,\"#d8576b\"],[0.6666666666666666,\"#ed7953\"],[0.7777777777777778,\"#fb9f3a\"],[0.8888888888888888,\"#fdca26\"],[1.0,\"#f0f921\"]]}],\"heatmapgl\":[{\"type\":\"heatmapgl\",\"colorbar\":{\"outlinewidth\":0,\"ticks\":\"\"},\"colorscale\":[[0.0,\"#0d0887\"],[0.1111111111111111,\"#46039f\"],[0.2222222222222222,\"#7201a8\"],[0.3333333333333333,\"#9c179e\"],[0.4444444444444444,\"#bd3786\"],[0.5555555555555556,\"#d8576b\"],[0.6666666666666666,\"#ed7953\"],[0.7777777777777778,\"#fb9f3a\"],[0.8888888888888888,\"#fdca26\"],[1.0,\"#f0f921\"]]}],\"contourcarpet\":[{\"type\":\"contourcarpet\",\"colorbar\":{\"outlinewidth\":0,\"ticks\":\"\"}}],\"contour\":[{\"type\":\"contour\",\"colorbar\":{\"outlinewidth\":0,\"ticks\":\"\"},\"colorscale\":[[0.0,\"#0d0887\"],[0.1111111111111111,\"#46039f\"],[0.2222222222222222,\"#7201a8\"],[0.3333333333333333,\"#9c179e\"],[0.4444444444444444,\"#bd3786\"],[0.5555555555555556,\"#d8576b\"],[0.6666666666666666,\"#ed7953\"],[0.7777777777777778,\"#fb9f3a\"],[0.8888888888888888,\"#fdca26\"],[1.0,\"#f0f921\"]]}],\"surface\":[{\"type\":\"surface\",\"colorbar\":{\"outlinewidth\":0,\"ticks\":\"\"},\"colorscale\":[[0.0,\"#0d0887\"],[0.1111111111111111,\"#46039f\"],[0.2222222222222222,\"#7201a8\"],[0.3333333333333333,\"#9c179e\"],[0.4444444444444444,\"#bd3786\"],[0.5555555555555556,\"#d8576b\"],[0.6666666666666666,\"#ed7953\"],[0.7777777777777778,\"#fb9f3a\"],[0.8888888888888888,\"#fdca26\"],[1.0,\"#f0f921\"]]}],\"mesh3d\":[{\"type\":\"mesh3d\",\"colorbar\":{\"outlinewidth\":0,\"ticks\":\"\"}}],\"scatter\":[{\"fillpattern\":{\"fillmode\":\"overlay\",\"size\":10,\"solidity\":0.2},\"type\":\"scatter\"}],\"parcoords\":[{\"type\":\"parcoords\",\"line\":{\"colorbar\":{\"outlinewidth\":0,\"ticks\":\"\"}}}],\"scatterpolargl\":[{\"type\":\"scatterpolargl\",\"marker\":{\"colorbar\":{\"outlinewidth\":0,\"ticks\":\"\"}}}],\"bar\":[{\"error_x\":{\"color\":\"#2a3f5f\"},\"error_y\":{\"color\":\"#2a3f5f\"},\"marker\":{\"line\":{\"color\":\"#E5ECF6\",\"width\":0.5},\"pattern\":{\"fillmode\":\"overlay\",\"size\":10,\"solidity\":0.2}},\"type\":\"bar\"}],\"scattergeo\":[{\"type\":\"scattergeo\",\"marker\":{\"colorbar\":{\"outlinewidth\":0,\"ticks\":\"\"}}}],\"scatterpolar\":[{\"type\":\"scatterpolar\",\"marker\":{\"colorbar\":{\"outlinewidth\":0,\"ticks\":\"\"}}}],\"histogram\":[{\"marker\":{\"pattern\":{\"fillmode\":\"overlay\",\"size\":10,\"solidity\":0.2}},\"type\":\"histogram\"}],\"scattergl\":[{\"type\":\"scattergl\",\"marker\":{\"colorbar\":{\"outlinewidth\":0,\"ticks\":\"\"}}}],\"scatter3d\":[{\"type\":\"scatter3d\",\"line\":{\"colorbar\":{\"outlinewidth\":0,\"ticks\":\"\"}},\"marker\":{\"colorbar\":{\"outlinewidth\":0,\"ticks\":\"\"}}}],\"scattermapbox\":[{\"type\":\"scattermapbox\",\"marker\":{\"colorbar\":{\"outlinewidth\":0,\"ticks\":\"\"}}}],\"scatterternary\":[{\"type\":\"scatterternary\",\"marker\":{\"colorbar\":{\"outlinewidth\":0,\"ticks\":\"\"}}}],\"scattercarpet\":[{\"type\":\"scattercarpet\",\"marker\":{\"colorbar\":{\"outlinewidth\":0,\"ticks\":\"\"}}}],\"carpet\":[{\"aaxis\":{\"endlinecolor\":\"#2a3f5f\",\"gridcolor\":\"white\",\"linecolor\":\"white\",\"minorgridcolor\":\"white\",\"startlinecolor\":\"#2a3f5f\"},\"baxis\":{\"endlinecolor\":\"#2a3f5f\",\"gridcolor\":\"white\",\"linecolor\":\"white\",\"minorgridcolor\":\"white\",\"startlinecolor\":\"#2a3f5f\"},\"type\":\"carpet\"}],\"table\":[{\"cells\":{\"fill\":{\"color\":\"#EBF0F8\"},\"line\":{\"color\":\"white\"}},\"header\":{\"fill\":{\"color\":\"#C8D4E3\"},\"line\":{\"color\":\"white\"}},\"type\":\"table\"}],\"barpolar\":[{\"marker\":{\"line\":{\"color\":\"#E5ECF6\",\"width\":0.5},\"pattern\":{\"fillmode\":\"overlay\",\"size\":10,\"solidity\":0.2}},\"type\":\"barpolar\"}],\"pie\":[{\"automargin\":true,\"type\":\"pie\"}]},\"layout\":{\"autotypenumbers\":\"strict\",\"colorway\":[\"#636efa\",\"#EF553B\",\"#00cc96\",\"#ab63fa\",\"#FFA15A\",\"#19d3f3\",\"#FF6692\",\"#B6E880\",\"#FF97FF\",\"#FECB52\"],\"font\":{\"color\":\"#2a3f5f\"},\"hovermode\":\"closest\",\"hoverlabel\":{\"align\":\"left\"},\"paper_bgcolor\":\"white\",\"plot_bgcolor\":\"#E5ECF6\",\"polar\":{\"bgcolor\":\"#E5ECF6\",\"angularaxis\":{\"gridcolor\":\"white\",\"linecolor\":\"white\",\"ticks\":\"\"},\"radialaxis\":{\"gridcolor\":\"white\",\"linecolor\":\"white\",\"ticks\":\"\"}},\"ternary\":{\"bgcolor\":\"#E5ECF6\",\"aaxis\":{\"gridcolor\":\"white\",\"linecolor\":\"white\",\"ticks\":\"\"},\"baxis\":{\"gridcolor\":\"white\",\"linecolor\":\"white\",\"ticks\":\"\"},\"caxis\":{\"gridcolor\":\"white\",\"linecolor\":\"white\",\"ticks\":\"\"}},\"coloraxis\":{\"colorbar\":{\"outlinewidth\":0,\"ticks\":\"\"}},\"colorscale\":{\"sequential\":[[0.0,\"#0d0887\"],[0.1111111111111111,\"#46039f\"],[0.2222222222222222,\"#7201a8\"],[0.3333333333333333,\"#9c179e\"],[0.4444444444444444,\"#bd3786\"],[0.5555555555555556,\"#d8576b\"],[0.6666666666666666,\"#ed7953\"],[0.7777777777777778,\"#fb9f3a\"],[0.8888888888888888,\"#fdca26\"],[1.0,\"#f0f921\"]],\"sequentialminus\":[[0.0,\"#0d0887\"],[0.1111111111111111,\"#46039f\"],[0.2222222222222222,\"#7201a8\"],[0.3333333333333333,\"#9c179e\"],[0.4444444444444444,\"#bd3786\"],[0.5555555555555556,\"#d8576b\"],[0.6666666666666666,\"#ed7953\"],[0.7777777777777778,\"#fb9f3a\"],[0.8888888888888888,\"#fdca26\"],[1.0,\"#f0f921\"]],\"diverging\":[[0,\"#8e0152\"],[0.1,\"#c51b7d\"],[0.2,\"#de77ae\"],[0.3,\"#f1b6da\"],[0.4,\"#fde0ef\"],[0.5,\"#f7f7f7\"],[0.6,\"#e6f5d0\"],[0.7,\"#b8e186\"],[0.8,\"#7fbc41\"],[0.9,\"#4d9221\"],[1,\"#276419\"]]},\"xaxis\":{\"gridcolor\":\"white\",\"linecolor\":\"white\",\"ticks\":\"\",\"title\":{\"standoff\":15},\"zerolinecolor\":\"white\",\"automargin\":true,\"zerolinewidth\":2},\"yaxis\":{\"gridcolor\":\"white\",\"linecolor\":\"white\",\"ticks\":\"\",\"title\":{\"standoff\":15},\"zerolinecolor\":\"white\",\"automargin\":true,\"zerolinewidth\":2},\"scene\":{\"xaxis\":{\"backgroundcolor\":\"#E5ECF6\",\"gridcolor\":\"white\",\"linecolor\":\"white\",\"showbackground\":true,\"ticks\":\"\",\"zerolinecolor\":\"white\",\"gridwidth\":2},\"yaxis\":{\"backgroundcolor\":\"#E5ECF6\",\"gridcolor\":\"white\",\"linecolor\":\"white\",\"showbackground\":true,\"ticks\":\"\",\"zerolinecolor\":\"white\",\"gridwidth\":2},\"zaxis\":{\"backgroundcolor\":\"#E5ECF6\",\"gridcolor\":\"white\",\"linecolor\":\"white\",\"showbackground\":true,\"ticks\":\"\",\"zerolinecolor\":\"white\",\"gridwidth\":2}},\"shapedefaults\":{\"line\":{\"color\":\"#2a3f5f\"}},\"annotationdefaults\":{\"arrowcolor\":\"#2a3f5f\",\"arrowhead\":0,\"arrowwidth\":1},\"geo\":{\"bgcolor\":\"white\",\"landcolor\":\"#E5ECF6\",\"subunitcolor\":\"white\",\"showland\":true,\"showlakes\":true,\"lakecolor\":\"white\"},\"title\":{\"x\":0.05},\"mapbox\":{\"style\":\"light\"}}},\"legend\":{\"title\":{\"text\":\"color\"},\"tracegroupgap\":0},\"margin\":{\"t\":60},\"dragmode\":\"select\"},                        {\"responsive\": true}                    ).then(function(){\n",
              "                            \n",
              "var gd = document.getElementById('c76d97d6-a3c6-4b09-81c9-77967ab17a32');\n",
              "var x = new MutationObserver(function (mutations, observer) {{\n",
              "        var display = window.getComputedStyle(gd).display;\n",
              "        if (!display || display === 'none') {{\n",
              "            console.log([gd, 'removed!']);\n",
              "            Plotly.purge(gd);\n",
              "            observer.disconnect();\n",
              "        }}\n",
              "}});\n",
              "\n",
              "// Listen for the removal of the full notebook cells\n",
              "var notebookContainer = gd.closest('#notebook-container');\n",
              "if (notebookContainer) {{\n",
              "    x.observe(notebookContainer, {childList: true});\n",
              "}}\n",
              "\n",
              "// Listen for the clearing of the current output cell\n",
              "var outputEl = gd.closest('.output');\n",
              "if (outputEl) {{\n",
              "    x.observe(outputEl, {childList: true});\n",
              "}}\n",
              "\n",
              "                        })                };                            </script>        </div>\n",
              "</body>\n",
              "</html>"
            ]
          },
          "metadata": {}
        }
      ]
    },
    {
      "cell_type": "code",
      "source": [
        "lang_to_comps = {}\n",
        "for lang in lang_list:\n",
        "\n",
        "  if lang not in lang_to_comps:\n",
        "    lang_to_comps[lang] = []\n",
        "\n",
        "  for name, comp in zip(names, values):\n",
        "    if lang in name:\n",
        "      lang_to_comps[lang].append(comp)\n",
        "\n",
        "\n",
        "lang_to_centroid = {}\n",
        "for lang in lang_to_comps:\n",
        "  centroid = np.average(np.asarray(lang_to_comps[lang]), axis=0)\n",
        "  lang_to_centroid[lang] = centroid\n",
        "\n",
        "mandarin_italian_dist = np.linalg.norm(lang_to_centroid['italian'] - lang_to_centroid['mandarin'])\n",
        "print(\"Mandarin-Italian Centroid Distance: \", mandarin_italian_dist)"
      ],
      "metadata": {
        "colab": {
          "base_uri": "https://localhost:8080/"
        },
        "id": "qLGKi_tGjHeF",
        "outputId": "2b962d01-b395-44b8-b681-4b57ea041d3c"
      },
      "execution_count": 13,
      "outputs": [
        {
          "output_type": "stream",
          "name": "stdout",
          "text": [
            "Mandarin-Italian Centroid Distance:  56.86651\n"
          ]
        }
      ]
    },
    {
      "cell_type": "markdown",
      "source": [
        "Top N Languages\n"
      ],
      "metadata": {
        "id": "dcwRzI3MjBDJ"
      }
    },
    {
      "cell_type": "code",
      "source": [
        "import pickle\n",
        "\n",
        "lang_list = ['english', 'mandarin', 'french', 'korean', 'russian', 'turkish']\n",
        "\n",
        "speaker_to_embeddings = {}\n",
        "speaker_labels = {}\n",
        "speaker_to_count = {}\n",
        "\n",
        "for lang in lang_list:\n",
        "  speaker_to_count[lang] = 0\n",
        "\n",
        "for f in wav2vec_list[:]:\n",
        "  name = f.split('/')[-1].split('.')[0]\n",
        "  for lang in lang_list:\n",
        "    if (lang in name) and (speaker_to_count[lang] <= 50):\n",
        "      speaker_features = pickle.load(open(f, 'rb'))\n",
        "      speaker_to_embeddings[name] = speaker_features\n",
        "      speaker_labels[name] = lang\n",
        "      speaker_to_count[lang] += 1\n",
        "      print(lang)\n",
        "      break"
      ],
      "metadata": {
        "id": "26p_1kuQn5ld"
      },
      "execution_count": null,
      "outputs": []
    },
    {
      "cell_type": "code",
      "source": [
        "# PAD FEATURES TO MAKE SAME LENGTH\n",
        "\n",
        "import numpy as np\n",
        "\n",
        "max = 0\n",
        "for s in speaker_to_embeddings:\n",
        "  if speaker_to_embeddings[s].shape[0] > max:\n",
        "    max = speaker_to_embeddings[s].shape[0]\n",
        "\n",
        "print(\"Max embedding length: \", max)\n",
        "\n",
        "speaker_to_padded = {}\n",
        "for s in speaker_to_embeddings:\n",
        "  diff = max - speaker_to_embeddings[s].shape[0]\n",
        "  padded =  np.pad(speaker_to_embeddings[s], ((diff,0), (0, 0)), 'constant')\n",
        "  flattened = padded.flatten()\n",
        "  speaker_to_padded[s] = flattened\n",
        "\n",
        "print(\"Padded shape: \", flattened.shape)"
      ],
      "metadata": {
        "colab": {
          "base_uri": "https://localhost:8080/"
        },
        "id": "IsYEyJhwsj-Y",
        "outputId": "a7eccf1c-492b-4d05-c301-7c696665a282"
      },
      "execution_count": 11,
      "outputs": [
        {
          "output_type": "stream",
          "name": "stdout",
          "text": [
            "Max embedding length:  3342\n",
            "Padded shape:  (2566656,)\n"
          ]
        }
      ]
    },
    {
      "cell_type": "code",
      "source": [
        "from sklearn.decomposition import PCA\n",
        "\n",
        "values = list(speaker_to_padded.values())\n",
        "names = list(speaker_to_padded.keys())\n",
        "langs = [speaker_labels[n] for n in names]\n",
        "\n",
        "pca = PCA(n_components=3)\n",
        "components = pca.fit_transform(values)"
      ],
      "metadata": {
        "id": "epbFjWZfn5y6"
      },
      "execution_count": null,
      "outputs": []
    },
    {
      "cell_type": "code",
      "source": [
        "import plotly.express as px\n",
        "\n",
        "fig = px.scatter_3d(components, x=0, y=1, z=2, color=langs)\n",
        "fig.show()"
      ],
      "metadata": {
        "id": "UMcyzPpVn_TO"
      },
      "execution_count": null,
      "outputs": []
    },
    {
      "cell_type": "code",
      "source": [
        "fig = px.scatter_matrix(\n",
        "    components,\n",
        "    labels=langs,\n",
        "    dimensions=range(3),\n",
        "    color=langs\n",
        ")\n",
        "fig.update_traces(diagonal_visible=False)\n",
        "fig.show()"
      ],
      "metadata": {
        "id": "d-uTqLGasIub"
      },
      "execution_count": null,
      "outputs": []
    },
    {
      "cell_type": "code",
      "source": [
        "lang_to_comps = {}\n",
        "for lang in lang_list:\n",
        "\n",
        "  if lang not in lang_to_comps:\n",
        "    lang_to_comps[lang] = []\n",
        "\n",
        "  for name, comp in zip(names, values):\n",
        "    if lang in name:\n",
        "      lang_to_comps[lang].append(comp)\n",
        "\n",
        "\n",
        "lang_to_centroid = {}\n",
        "for lang in lang_to_comps:\n",
        "  centroid = np.average(np.asarray(lang_to_comps[lang]), axis=0)\n",
        "  lang_to_centroid[lang] = centroid\n",
        "\n",
        "\n",
        "english_centroid = lang_to_centroid['english']\n",
        "for lang in lang_to_centroid:\n",
        "  if lang!='english':\n",
        "    distance = np.linalg.norm(lang_to_centroid[lang] - english_centroid)\n",
        "    print(lang.upper(), ' distance: ', distance)"
      ],
      "metadata": {
        "id": "kY2W7o25oBlN"
      },
      "execution_count": null,
      "outputs": []
    }
  ],
  "metadata": {
    "colab": {
      "provenance": [],
      "gpuType": "T4"
    },
    "kernelspec": {
      "display_name": "Python 3",
      "name": "python3"
    },
    "language_info": {
      "name": "python"
    }
  },
  "nbformat": 4,
  "nbformat_minor": 0
}