{
  "cells": [
    {
      "cell_type": "markdown",
      "source": [
        "# Set-Up"
      ],
      "metadata": {
        "id": "V2zftoGiyrx3"
      }
    },
    {
      "cell_type": "code",
      "execution_count": 2,
      "metadata": {
        "colab": {
          "base_uri": "https://localhost:8080/"
        },
        "id": "AHbhyWsjWfic",
        "outputId": "3804aa25-7441-45a0-ca0b-1349c4f5d7b8"
      },
      "outputs": [
        {
          "output_type": "stream",
          "name": "stdout",
          "text": [
            "Looking in indexes: https://pypi.org/simple, https://us-python.pkg.dev/colab-wheels/public/simple/\n",
            "Collecting allosaurus\n",
            "  Downloading allosaurus-1.0.2-py3-none-any.whl (52 kB)\n",
            "\u001b[2K     \u001b[90m━━━━━━━━━━━━━━━━━━━━━━━━━━━━━━━━━━━━━━━━\u001b[0m \u001b[32m52.1/52.1 kB\u001b[0m \u001b[31m1.6 MB/s\u001b[0m eta \u001b[36m0:00:00\u001b[0m\n",
            "\u001b[?25hRequirement already satisfied: scipy in /usr/local/lib/python3.10/dist-packages (from allosaurus) (1.10.1)\n",
            "Requirement already satisfied: numpy in /usr/local/lib/python3.10/dist-packages (from allosaurus) (1.22.4)\n",
            "Collecting resampy (from allosaurus)\n",
            "  Downloading resampy-0.4.2-py3-none-any.whl (3.1 MB)\n",
            "\u001b[2K     \u001b[90m━━━━━━━━━━━━━━━━━━━━━━━━━━━━━━━━━━━━━━━━\u001b[0m \u001b[32m3.1/3.1 MB\u001b[0m \u001b[31m21.2 MB/s\u001b[0m eta \u001b[36m0:00:00\u001b[0m\n",
            "\u001b[?25hCollecting panphon (from allosaurus)\n",
            "  Downloading panphon-0.20.0-py2.py3-none-any.whl (73 kB)\n",
            "\u001b[2K     \u001b[90m━━━━━━━━━━━━━━━━━━━━━━━━━━━━━━━━━━━━━━━━\u001b[0m \u001b[32m73.6/73.6 kB\u001b[0m \u001b[31m3.8 MB/s\u001b[0m eta \u001b[36m0:00:00\u001b[0m\n",
            "\u001b[?25hRequirement already satisfied: torch in /usr/local/lib/python3.10/dist-packages (from allosaurus) (2.0.1+cu118)\n",
            "Requirement already satisfied: editdistance in /usr/local/lib/python3.10/dist-packages (from allosaurus) (0.6.2)\n",
            "Requirement already satisfied: setuptools in /usr/local/lib/python3.10/dist-packages (from panphon->allosaurus) (67.7.2)\n",
            "Collecting unicodecsv (from panphon->allosaurus)\n",
            "  Downloading unicodecsv-0.14.1.tar.gz (10 kB)\n",
            "  Preparing metadata (setup.py) ... \u001b[?25l\u001b[?25hdone\n",
            "Requirement already satisfied: PyYAML in /usr/local/lib/python3.10/dist-packages (from panphon->allosaurus) (6.0)\n",
            "Requirement already satisfied: regex in /usr/local/lib/python3.10/dist-packages (from panphon->allosaurus) (2022.10.31)\n",
            "Collecting munkres (from panphon->allosaurus)\n",
            "  Downloading munkres-1.1.4-py2.py3-none-any.whl (7.0 kB)\n",
            "Requirement already satisfied: numba>=0.53 in /usr/local/lib/python3.10/dist-packages (from resampy->allosaurus) (0.56.4)\n",
            "Requirement already satisfied: filelock in /usr/local/lib/python3.10/dist-packages (from torch->allosaurus) (3.12.0)\n",
            "Requirement already satisfied: typing-extensions in /usr/local/lib/python3.10/dist-packages (from torch->allosaurus) (4.5.0)\n",
            "Requirement already satisfied: sympy in /usr/local/lib/python3.10/dist-packages (from torch->allosaurus) (1.11.1)\n",
            "Requirement already satisfied: networkx in /usr/local/lib/python3.10/dist-packages (from torch->allosaurus) (3.1)\n",
            "Requirement already satisfied: jinja2 in /usr/local/lib/python3.10/dist-packages (from torch->allosaurus) (3.1.2)\n",
            "Requirement already satisfied: triton==2.0.0 in /usr/local/lib/python3.10/dist-packages (from torch->allosaurus) (2.0.0)\n",
            "Requirement already satisfied: cmake in /usr/local/lib/python3.10/dist-packages (from triton==2.0.0->torch->allosaurus) (3.25.2)\n",
            "Requirement already satisfied: lit in /usr/local/lib/python3.10/dist-packages (from triton==2.0.0->torch->allosaurus) (16.0.5)\n",
            "Requirement already satisfied: llvmlite<0.40,>=0.39.0dev0 in /usr/local/lib/python3.10/dist-packages (from numba>=0.53->resampy->allosaurus) (0.39.1)\n",
            "Requirement already satisfied: MarkupSafe>=2.0 in /usr/local/lib/python3.10/dist-packages (from jinja2->torch->allosaurus) (2.1.2)\n",
            "Requirement already satisfied: mpmath>=0.19 in /usr/local/lib/python3.10/dist-packages (from sympy->torch->allosaurus) (1.3.0)\n",
            "Building wheels for collected packages: unicodecsv\n",
            "  Building wheel for unicodecsv (setup.py) ... \u001b[?25l\u001b[?25hdone\n",
            "  Created wheel for unicodecsv: filename=unicodecsv-0.14.1-py3-none-any.whl size=10745 sha256=b78268199e8572b0fb195fff8b1f33c84c2f51b0a995d35c27ff52caf990673d\n",
            "  Stored in directory: /root/.cache/pip/wheels/9c/ea/66/8e45247b09052a933eb1a680b7c64802298faba58aac9b346b\n",
            "Successfully built unicodecsv\n",
            "Installing collected packages: unicodecsv, munkres, panphon, resampy, allosaurus\n",
            "Successfully installed allosaurus-1.0.2 munkres-1.1.4 panphon-0.20.0 resampy-0.4.2 unicodecsv-0.14.1\n"
          ]
        }
      ],
      "source": [
        "!pip install allosaurus"
      ]
    },
    {
      "cell_type": "code",
      "execution_count": 3,
      "metadata": {
        "id": "06buIrLlXU_3",
        "colab": {
          "base_uri": "https://localhost:8080/"
        },
        "outputId": "ad0691f1-1b54-4978-a6bb-631451754ff3"
      },
      "outputs": [
        {
          "output_type": "stream",
          "name": "stdout",
          "text": [
            "Mounted at /content/drive\n"
          ]
        }
      ],
      "source": [
        "from google.colab import drive\n",
        "drive.mount('/content/drive')"
      ]
    },
    {
      "cell_type": "code",
      "execution_count": 4,
      "metadata": {
        "id": "8b9Xa5vgXU3Y"
      },
      "outputs": [],
      "source": [
        "# SET TO PROJECT FOLDER\n",
        "dir = '/content/drive/MyDrive/cse256'"
      ]
    },
    {
      "cell_type": "markdown",
      "source": [
        "# Features DF"
      ],
      "metadata": {
        "id": "eAJc801myxIb"
      }
    },
    {
      "cell_type": "code",
      "execution_count": 5,
      "metadata": {
        "id": "40--6mtthJYi",
        "colab": {
          "base_uri": "https://localhost:8080/",
          "height": 424
        },
        "outputId": "a6e9504c-0b2a-42be-f4cb-46c61a06b1e4"
      },
      "outputs": [
        {
          "output_type": "display_data",
          "data": {
            "text/plain": [
              "       age  age_onset              birthplace  filename native_language  \\\n",
              "0     24.0       12.0         koussi, senegal   balanta         balanta   \n",
              "1     18.0       10.0          buea, cameroon  cameroon        cameroon   \n",
              "2     48.0        8.0  hong, adamawa, nigeria  fulfulde        fulfulde   \n",
              "3     42.0       42.0   port-au-prince, haiti   haitian         haitian   \n",
              "4     40.0       35.0   port-au-prince, haiti   haitian         haitian   \n",
              "...    ...        ...                     ...       ...             ...   \n",
              "2167  46.0        5.0          lagos, nigeria   yoruba3          yoruba   \n",
              "2168  46.0       12.0          lagos, nigeria   yoruba4          yoruba   \n",
              "2169  47.0        2.0         ibadan, nigeria   yoruba5          yoruba   \n",
              "2170  31.0        1.0     bethel, alaska, usa    yupik1           yupik   \n",
              "2171  24.0       14.0      bulawayo, zimbabwe     zulu1            zulu   \n",
              "\n",
              "         sex  speakerid   country  file_missing?  Unnamed: 9  Unnamed: 10  \\\n",
              "0       male        788   senegal           True         NaN          NaN   \n",
              "1       male       1953  cameroon           True         NaN          NaN   \n",
              "2       male       1037   nigeria           True         NaN          NaN   \n",
              "3       male       1165     haiti           True         NaN          NaN   \n",
              "4       male       1166     haiti           True         NaN          NaN   \n",
              "...      ...        ...       ...            ...         ...          ...   \n",
              "2167  female        766   nigeria          False         NaN          NaN   \n",
              "2168    male        851   nigeria          False         NaN          NaN   \n",
              "2169  female       2023   nigeria          False         NaN          NaN   \n",
              "2170  female        571       usa          False         NaN          NaN   \n",
              "2171  female        406  zimbabwe          False         NaN          NaN   \n",
              "\n",
              "     Unnamed: 11  \n",
              "0            NaN  \n",
              "1            NaN  \n",
              "2            NaN  \n",
              "3            NaN  \n",
              "4            NaN  \n",
              "...          ...  \n",
              "2167         NaN  \n",
              "2168         NaN  \n",
              "2169         NaN  \n",
              "2170         NaN  \n",
              "2171         NaN  \n",
              "\n",
              "[2172 rows x 12 columns]"
            ],
            "text/html": [
              "\n",
              "  <div id=\"df-e45aab2b-da26-4ef8-b2b1-762702ccb572\">\n",
              "    <div class=\"colab-df-container\">\n",
              "      <div>\n",
              "<style scoped>\n",
              "    .dataframe tbody tr th:only-of-type {\n",
              "        vertical-align: middle;\n",
              "    }\n",
              "\n",
              "    .dataframe tbody tr th {\n",
              "        vertical-align: top;\n",
              "    }\n",
              "\n",
              "    .dataframe thead th {\n",
              "        text-align: right;\n",
              "    }\n",
              "</style>\n",
              "<table border=\"1\" class=\"dataframe\">\n",
              "  <thead>\n",
              "    <tr style=\"text-align: right;\">\n",
              "      <th></th>\n",
              "      <th>age</th>\n",
              "      <th>age_onset</th>\n",
              "      <th>birthplace</th>\n",
              "      <th>filename</th>\n",
              "      <th>native_language</th>\n",
              "      <th>sex</th>\n",
              "      <th>speakerid</th>\n",
              "      <th>country</th>\n",
              "      <th>file_missing?</th>\n",
              "      <th>Unnamed: 9</th>\n",
              "      <th>Unnamed: 10</th>\n",
              "      <th>Unnamed: 11</th>\n",
              "    </tr>\n",
              "  </thead>\n",
              "  <tbody>\n",
              "    <tr>\n",
              "      <th>0</th>\n",
              "      <td>24.0</td>\n",
              "      <td>12.0</td>\n",
              "      <td>koussi, senegal</td>\n",
              "      <td>balanta</td>\n",
              "      <td>balanta</td>\n",
              "      <td>male</td>\n",
              "      <td>788</td>\n",
              "      <td>senegal</td>\n",
              "      <td>True</td>\n",
              "      <td>NaN</td>\n",
              "      <td>NaN</td>\n",
              "      <td>NaN</td>\n",
              "    </tr>\n",
              "    <tr>\n",
              "      <th>1</th>\n",
              "      <td>18.0</td>\n",
              "      <td>10.0</td>\n",
              "      <td>buea, cameroon</td>\n",
              "      <td>cameroon</td>\n",
              "      <td>cameroon</td>\n",
              "      <td>male</td>\n",
              "      <td>1953</td>\n",
              "      <td>cameroon</td>\n",
              "      <td>True</td>\n",
              "      <td>NaN</td>\n",
              "      <td>NaN</td>\n",
              "      <td>NaN</td>\n",
              "    </tr>\n",
              "    <tr>\n",
              "      <th>2</th>\n",
              "      <td>48.0</td>\n",
              "      <td>8.0</td>\n",
              "      <td>hong, adamawa, nigeria</td>\n",
              "      <td>fulfulde</td>\n",
              "      <td>fulfulde</td>\n",
              "      <td>male</td>\n",
              "      <td>1037</td>\n",
              "      <td>nigeria</td>\n",
              "      <td>True</td>\n",
              "      <td>NaN</td>\n",
              "      <td>NaN</td>\n",
              "      <td>NaN</td>\n",
              "    </tr>\n",
              "    <tr>\n",
              "      <th>3</th>\n",
              "      <td>42.0</td>\n",
              "      <td>42.0</td>\n",
              "      <td>port-au-prince, haiti</td>\n",
              "      <td>haitian</td>\n",
              "      <td>haitian</td>\n",
              "      <td>male</td>\n",
              "      <td>1165</td>\n",
              "      <td>haiti</td>\n",
              "      <td>True</td>\n",
              "      <td>NaN</td>\n",
              "      <td>NaN</td>\n",
              "      <td>NaN</td>\n",
              "    </tr>\n",
              "    <tr>\n",
              "      <th>4</th>\n",
              "      <td>40.0</td>\n",
              "      <td>35.0</td>\n",
              "      <td>port-au-prince, haiti</td>\n",
              "      <td>haitian</td>\n",
              "      <td>haitian</td>\n",
              "      <td>male</td>\n",
              "      <td>1166</td>\n",
              "      <td>haiti</td>\n",
              "      <td>True</td>\n",
              "      <td>NaN</td>\n",
              "      <td>NaN</td>\n",
              "      <td>NaN</td>\n",
              "    </tr>\n",
              "    <tr>\n",
              "      <th>...</th>\n",
              "      <td>...</td>\n",
              "      <td>...</td>\n",
              "      <td>...</td>\n",
              "      <td>...</td>\n",
              "      <td>...</td>\n",
              "      <td>...</td>\n",
              "      <td>...</td>\n",
              "      <td>...</td>\n",
              "      <td>...</td>\n",
              "      <td>...</td>\n",
              "      <td>...</td>\n",
              "      <td>...</td>\n",
              "    </tr>\n",
              "    <tr>\n",
              "      <th>2167</th>\n",
              "      <td>46.0</td>\n",
              "      <td>5.0</td>\n",
              "      <td>lagos, nigeria</td>\n",
              "      <td>yoruba3</td>\n",
              "      <td>yoruba</td>\n",
              "      <td>female</td>\n",
              "      <td>766</td>\n",
              "      <td>nigeria</td>\n",
              "      <td>False</td>\n",
              "      <td>NaN</td>\n",
              "      <td>NaN</td>\n",
              "      <td>NaN</td>\n",
              "    </tr>\n",
              "    <tr>\n",
              "      <th>2168</th>\n",
              "      <td>46.0</td>\n",
              "      <td>12.0</td>\n",
              "      <td>lagos, nigeria</td>\n",
              "      <td>yoruba4</td>\n",
              "      <td>yoruba</td>\n",
              "      <td>male</td>\n",
              "      <td>851</td>\n",
              "      <td>nigeria</td>\n",
              "      <td>False</td>\n",
              "      <td>NaN</td>\n",
              "      <td>NaN</td>\n",
              "      <td>NaN</td>\n",
              "    </tr>\n",
              "    <tr>\n",
              "      <th>2169</th>\n",
              "      <td>47.0</td>\n",
              "      <td>2.0</td>\n",
              "      <td>ibadan, nigeria</td>\n",
              "      <td>yoruba5</td>\n",
              "      <td>yoruba</td>\n",
              "      <td>female</td>\n",
              "      <td>2023</td>\n",
              "      <td>nigeria</td>\n",
              "      <td>False</td>\n",
              "      <td>NaN</td>\n",
              "      <td>NaN</td>\n",
              "      <td>NaN</td>\n",
              "    </tr>\n",
              "    <tr>\n",
              "      <th>2170</th>\n",
              "      <td>31.0</td>\n",
              "      <td>1.0</td>\n",
              "      <td>bethel, alaska, usa</td>\n",
              "      <td>yupik1</td>\n",
              "      <td>yupik</td>\n",
              "      <td>female</td>\n",
              "      <td>571</td>\n",
              "      <td>usa</td>\n",
              "      <td>False</td>\n",
              "      <td>NaN</td>\n",
              "      <td>NaN</td>\n",
              "      <td>NaN</td>\n",
              "    </tr>\n",
              "    <tr>\n",
              "      <th>2171</th>\n",
              "      <td>24.0</td>\n",
              "      <td>14.0</td>\n",
              "      <td>bulawayo, zimbabwe</td>\n",
              "      <td>zulu1</td>\n",
              "      <td>zulu</td>\n",
              "      <td>female</td>\n",
              "      <td>406</td>\n",
              "      <td>zimbabwe</td>\n",
              "      <td>False</td>\n",
              "      <td>NaN</td>\n",
              "      <td>NaN</td>\n",
              "      <td>NaN</td>\n",
              "    </tr>\n",
              "  </tbody>\n",
              "</table>\n",
              "<p>2172 rows × 12 columns</p>\n",
              "</div>\n",
              "      <button class=\"colab-df-convert\" onclick=\"convertToInteractive('df-e45aab2b-da26-4ef8-b2b1-762702ccb572')\"\n",
              "              title=\"Convert this dataframe to an interactive table.\"\n",
              "              style=\"display:none;\">\n",
              "        \n",
              "  <svg xmlns=\"http://www.w3.org/2000/svg\" height=\"24px\"viewBox=\"0 0 24 24\"\n",
              "       width=\"24px\">\n",
              "    <path d=\"M0 0h24v24H0V0z\" fill=\"none\"/>\n",
              "    <path d=\"M18.56 5.44l.94 2.06.94-2.06 2.06-.94-2.06-.94-.94-2.06-.94 2.06-2.06.94zm-11 1L8.5 8.5l.94-2.06 2.06-.94-2.06-.94L8.5 2.5l-.94 2.06-2.06.94zm10 10l.94 2.06.94-2.06 2.06-.94-2.06-.94-.94-2.06-.94 2.06-2.06.94z\"/><path d=\"M17.41 7.96l-1.37-1.37c-.4-.4-.92-.59-1.43-.59-.52 0-1.04.2-1.43.59L10.3 9.45l-7.72 7.72c-.78.78-.78 2.05 0 2.83L4 21.41c.39.39.9.59 1.41.59.51 0 1.02-.2 1.41-.59l7.78-7.78 2.81-2.81c.8-.78.8-2.07 0-2.86zM5.41 20L4 18.59l7.72-7.72 1.47 1.35L5.41 20z\"/>\n",
              "  </svg>\n",
              "      </button>\n",
              "      \n",
              "  <style>\n",
              "    .colab-df-container {\n",
              "      display:flex;\n",
              "      flex-wrap:wrap;\n",
              "      gap: 12px;\n",
              "    }\n",
              "\n",
              "    .colab-df-convert {\n",
              "      background-color: #E8F0FE;\n",
              "      border: none;\n",
              "      border-radius: 50%;\n",
              "      cursor: pointer;\n",
              "      display: none;\n",
              "      fill: #1967D2;\n",
              "      height: 32px;\n",
              "      padding: 0 0 0 0;\n",
              "      width: 32px;\n",
              "    }\n",
              "\n",
              "    .colab-df-convert:hover {\n",
              "      background-color: #E2EBFA;\n",
              "      box-shadow: 0px 1px 2px rgba(60, 64, 67, 0.3), 0px 1px 3px 1px rgba(60, 64, 67, 0.15);\n",
              "      fill: #174EA6;\n",
              "    }\n",
              "\n",
              "    [theme=dark] .colab-df-convert {\n",
              "      background-color: #3B4455;\n",
              "      fill: #D2E3FC;\n",
              "    }\n",
              "\n",
              "    [theme=dark] .colab-df-convert:hover {\n",
              "      background-color: #434B5C;\n",
              "      box-shadow: 0px 1px 3px 1px rgba(0, 0, 0, 0.15);\n",
              "      filter: drop-shadow(0px 1px 2px rgba(0, 0, 0, 0.3));\n",
              "      fill: #FFFFFF;\n",
              "    }\n",
              "  </style>\n",
              "\n",
              "      <script>\n",
              "        const buttonEl =\n",
              "          document.querySelector('#df-e45aab2b-da26-4ef8-b2b1-762702ccb572 button.colab-df-convert');\n",
              "        buttonEl.style.display =\n",
              "          google.colab.kernel.accessAllowed ? 'block' : 'none';\n",
              "\n",
              "        async function convertToInteractive(key) {\n",
              "          const element = document.querySelector('#df-e45aab2b-da26-4ef8-b2b1-762702ccb572');\n",
              "          const dataTable =\n",
              "            await google.colab.kernel.invokeFunction('convertToInteractive',\n",
              "                                                     [key], {});\n",
              "          if (!dataTable) return;\n",
              "\n",
              "          const docLinkHtml = 'Like what you see? Visit the ' +\n",
              "            '<a target=\"_blank\" href=https://colab.research.google.com/notebooks/data_table.ipynb>data table notebook</a>'\n",
              "            + ' to learn more about interactive tables.';\n",
              "          element.innerHTML = '';\n",
              "          dataTable['output_type'] = 'display_data';\n",
              "          await google.colab.output.renderOutput(dataTable, element);\n",
              "          const docLink = document.createElement('div');\n",
              "          docLink.innerHTML = docLinkHtml;\n",
              "          element.appendChild(docLink);\n",
              "        }\n",
              "      </script>\n",
              "    </div>\n",
              "  </div>\n",
              "  "
            ]
          },
          "metadata": {}
        }
      ],
      "source": [
        "import pandas as pd\n",
        "\n",
        "meta = pd.read_csv('drive/MyDrive/cse256/speakers_all.csv')\n",
        "display(meta)"
      ]
    },
    {
      "cell_type": "markdown",
      "source": [
        "# Load in Speaker-to-Phonemes dictionary"
      ],
      "metadata": {
        "id": "7GbBH-vbyz4o"
      }
    },
    {
      "cell_type": "code",
      "execution_count": 7,
      "metadata": {
        "id": "r6OCBgVpWrnZ"
      },
      "outputs": [],
      "source": [
        "import pickle\n",
        "\n",
        "speaker_to_phonemes = pickle.load(open(dir + '/speakers_to_phonemes_dict.pickle', 'rb'))"
      ]
    },
    {
      "cell_type": "markdown",
      "source": [
        "# Get list of unique IPA phoneme vocab"
      ],
      "metadata": {
        "id": "nR2-4DIcy8n_"
      }
    },
    {
      "cell_type": "code",
      "execution_count": null,
      "metadata": {
        "id": "aXLDzWHLXUeS"
      },
      "outputs": [],
      "source": [
        "all_phonemes = [item for sublist in speaker_to_phonemes.values() for item in sublist]\n",
        "unique_phonemes = list(set(all_phonemes))\n",
        "\n",
        "phone_code = {}\n",
        "num = 1\n",
        "for phon in unique_phonemes:\n",
        "  phone_code[phon] = num\n",
        "  num += 1\n",
        "\n",
        "phone_code"
      ]
    },
    {
      "cell_type": "markdown",
      "source": [
        "# Convert phonemes into BoW feature vector"
      ],
      "metadata": {
        "id": "s_ZeSQqlyknn"
      }
    },
    {
      "cell_type": "code",
      "source": [
        "import glob, pickle\n",
        "\n",
        "lang_list = ['mandarin', 'italian']\n",
        "\n",
        "speakers_to_bow = {}\n",
        "speaker_labels = {}\n",
        "for speaker in speaker_to_phonemes.keys():\n",
        "  for lang in lang_list:\n",
        "    if lang in speaker:\n",
        "      phonemes = speaker_to_phonemes[speaker]\n",
        "\n",
        "      phone_bow = []\n",
        "      for phon in phone_code.keys():\n",
        "        count = phonemes.count(phon)\n",
        "        phone_bow.append(count)\n",
        "\n",
        "      speakers_to_bow[speaker] = phone_bow\n",
        "      speaker_labels[speaker] = lang"
      ],
      "metadata": {
        "id": "K2p0PiDIVOT-"
      },
      "execution_count": 27,
      "outputs": []
    },
    {
      "cell_type": "code",
      "source": [
        "from sklearn.decomposition import PCA\n",
        "\n",
        "values = list(speakers_to_bow.values())\n",
        "names = list(speakers_to_bow.keys())\n",
        "langs = [speaker_labels[n] for n in names]\n",
        "\n",
        "pca = PCA(n_components=3)\n",
        "components = pca.fit_transform(values)"
      ],
      "metadata": {
        "id": "33SYvGvRVOI1"
      },
      "execution_count": 28,
      "outputs": []
    },
    {
      "cell_type": "code",
      "source": [
        "import plotly.express as px\n",
        "\n",
        "fig = px.scatter_3d(components, x=0, y=1, z=2, color=langs)\n",
        "fig.show()"
      ],
      "metadata": {
        "colab": {
          "base_uri": "https://localhost:8080/",
          "height": 542
        },
        "id": "KBfd7IayVV4c",
        "outputId": "7c2f0743-1d27-4e53-9059-e8343c8eb165"
      },
      "execution_count": 29,
      "outputs": [
        {
          "output_type": "display_data",
          "data": {
            "text/html": [
              "<html>\n",
              "<head><meta charset=\"utf-8\" /></head>\n",
              "<body>\n",
              "    <div>            <script src=\"https://cdnjs.cloudflare.com/ajax/libs/mathjax/2.7.5/MathJax.js?config=TeX-AMS-MML_SVG\"></script><script type=\"text/javascript\">if (window.MathJax && window.MathJax.Hub && window.MathJax.Hub.Config) {window.MathJax.Hub.Config({SVG: {font: \"STIX-Web\"}});}</script>                <script type=\"text/javascript\">window.PlotlyConfig = {MathJaxConfig: 'local'};</script>\n",
              "        <script src=\"https://cdn.plot.ly/plotly-2.18.2.min.js\"></script>                <div id=\"3e8d5db5-55ce-46f6-914b-8ac89d9743eb\" class=\"plotly-graph-div\" style=\"height:525px; width:100%;\"></div>            <script type=\"text/javascript\">                                    window.PLOTLYENV=window.PLOTLYENV || {};                                    if (document.getElementById(\"3e8d5db5-55ce-46f6-914b-8ac89d9743eb\")) {                    Plotly.newPlot(                        \"3e8d5db5-55ce-46f6-914b-8ac89d9743eb\",                        [{\"hovertemplate\":\"color=mandarin<br>0=%{x}<br>1=%{y}<br>2=%{z}<extra></extra>\",\"legendgroup\":\"mandarin\",\"marker\":{\"color\":\"#636efa\",\"symbol\":\"circle\"},\"mode\":\"markers\",\"name\":\"mandarin\",\"scene\":\"scene\",\"showlegend\":true,\"x\":[-7.6241196135017795,-3.601699265271123,24.956502475462504,0.27997272405140855,-13.152796091681648,6.355814865427249,-1.967175772756025,-2.588937863043116,70.13014943713017,-11.093897354200905,-4.283117089436164,-8.269671566036063,-16.27658911374654,0.7750389477898771,-8.347037121527398,-2.3536281912216483,-6.273686840185484,-1.5753911654879749,-40.03898027094007,17.40519001220165,24.753777264161137,-2.190314831195276,-7.213277123504707,1.3999577171104856,-13.102034011246717,12.187681255290208,21.99856892210376,-13.642227457908128,-1.5253639664254683,12.180263285410156,-1.5228730193176752,1.485683477285869,2.9441180755935923,4.268151471039902,-9.438776992228089,11.32548130597628,-9.746671564404501,0.1585679296206992,2.7698543479137014,8.407564560663221,-16.493499011914082,8.743077061170464,9.885628919804345,7.792386880789011,5.355426855057618,71.49850021793605,-7.406169299537249,-8.11283678667539,-6.834102038218969,-1.7696572969373,1.1082996530327456,7.323198082606792,4.663535883163739,-5.28266963025573,0.2298479859511281,-4.075501913417325,-7.000088830088255,0.2784273198925767,15.29838386300413,-3.012724782164185,-11.085006598524425,-13.972498743391187,-36.996997823403866,-0.0743223100108965,-18.162772460497337],\"y\":[3.367202703500194,-3.1949803657426785,-0.8971456245289131,1.298171424700254,-2.895013291226805,1.276885352615079,-2.095523215464516,-3.137171707256629,12.964509885769752,-0.6970421442554928,-3.0368998674908108,-3.02788244915678,0.7769757621480122,-2.0335057713459843,-3.446204997162522,-2.517631567359736,-2.922382501516295,-0.5379779145645279,16.875444399772636,-0.5573828297196726,1.6929473387478042,-3.6253590868056076,-1.9047129029540728,-2.81965386334831,0.6355449233233474,4.080046810614589,1.3711944726048328,-5.663954315621192,-0.4765057873616923,-0.21243304559437254,-6.973588182837365,2.8726237101519128,-4.088074981560945,6.867135003024701,-3.323055354508706,-3.9513545759898556,-3.2167810666963117,0.9209027825606376,-1.8314722041885505,-2.52150529153794,-1.7879270753791572,-4.314834672367955,-2.093466863258233,-1.4759246032784228,-0.19327344579277986,7.5202701699949,0.36452024188777116,-4.306678432575554,-0.08952932208903921,-2.3666897187563367,-3.2547236812907623,-0.2800530626436979,-0.2281216373724124,-2.701049307400318,1.5852543465476183,-0.4040908170274591,0.3064706304124114,4.686849386607909,-2.803921153268751,-0.8490896198753445,-1.6873632002994812,-2.153093960234306,38.82399682121795,-0.48925429473717735,-4.185459804711795],\"z\":[0.4047592104948357,-5.626572427257319,-1.7133650896890615,-1.0852598234807318,-8.086737012561642,-1.961953398857255,-2.7442117725937574,1.3085348989725953,3.491556733126264,-2.934566775306359,-2.5662569488606755,-2.0246666170546592,3.60544994127622,-1.7918207530481542,2.1019266274989263,0.19698093217774856,-3.4522705440307604,-5.214290764168348,-2.5998428117234433,-4.697754716967781,-0.2970896289311637,-3.932397997966308,0.6550128987274366,1.9030717675837365,2.016097217862855,-0.5969241769212684,4.133629966616262,-1.7625659894399182,2.2715475807427956,-2.81209434778705,-4.978119403020518,5.460226472990414,-6.582540937819284,-2.4015886145103345,-1.9329056995348526,-1.3898629863251546,3.1428012382389023,-2.1714576329974116,-0.9684900546608994,-5.230477072927308,5.133628051153983,-4.145508231166859,4.920402831671601,-4.893836945608382,0.1590407052456173,-3.312003840386493,1.7025085000781846,0.934726336117713,1.0737123819615157,-4.218426292990723,1.2150466662719202,-1.7896954451106215,-0.7718104960433797,0.6650554744617341,-4.418873920326867,-0.672814087729289,-0.7725984418654337,4.274537975322192,-1.5508435194432333,-1.6659105046929918,4.143115796127858,1.161927442208955,-13.362488937990342,0.5700067394508738,0.6241526642982195],\"type\":\"scatter3d\"},{\"hovertemplate\":\"color=italian<br>0=%{x}<br>1=%{y}<br>2=%{z}<extra></extra>\",\"legendgroup\":\"italian\",\"marker\":{\"color\":\"#EF553B\",\"symbol\":\"circle\"},\"mode\":\"markers\",\"name\":\"italian\",\"scene\":\"scene\",\"showlegend\":true,\"x\":[-5.285514120911005,-6.165892144366324,-3.0882566794589796,2.996829209242976,-4.675511247962696,-0.3604636425193515,-7.7255917912861705,3.3675019505026826,-10.187382392179636,-10.96869708699097,-5.399184190690056,35.18687999171147,-8.131204501486332,-1.1126867200378034,-2.0163777229387745,-3.3152127502269106,-4.958051150331204,2.907723046955819,-10.781402842771296,-2.1535562959384618,41.02999219578979,0.07921022143039026,2.421655616675256,22.9348614393522,-18.74294742792709,-10.346857646022382,-15.630972946695959,3.930141608918368,5.724601706161681,-14.735281514954249,-12.536988620311249,5.5871749854512185,2.299524477478],\"y\":[-4.649826605055994,-2.5636226418819956,-3.447430006565355,-0.5775706212813784,-0.7534380213451944,-0.9288526320202894,-2.8294692728754827,-4.261981975791197,6.202187670697035,0.32244642271728036,-0.5761177639759786,5.700756389636587,0.04735701335087087,-3.321377891944017,2.9758046112339662,-2.3208254693656594,-1.4706616510758916,0.05934639641929097,-3.2719843905264767,2.5488992383132856,5.498679231349338,3.33329371932327,-0.8413271847925238,-1.7884933931735971,-0.41070274481679786,-0.8879977077244743,-0.6057119195649127,-1.4520808730705466,-1.8866760080906757,-1.2394510331422794,15.086516477030434,-2.3411732354133745,-0.3657207146242312],\"z\":[-0.5049845184301267,0.3150618516509823,1.7006183963167163,3.383839079315989,0.8521042765500787,1.7508958516824553,0.6538331597154874,8.101063388666544,11.761135989122279,-0.6869046824430508,4.12173786688604,-4.867845848551215,4.210894253515003,-1.3930185406481885,-2.9477676578992846,5.5327048243938375,-5.494999060797918,-2.9807473845314,-0.44193597687720165,3.854874786442351,8.174246296371216,-0.21320156009963287,-1.309419529685473,1.9943207833210461,5.502445329087436,-5.470056067824882,4.551169853367064,0.8307168036731752,-2.801431500629559,0.9097508197859187,21.123456471648353,0.6791045179801031,4.969775340042494],\"type\":\"scatter3d\"}],                        {\"template\":{\"data\":{\"histogram2dcontour\":[{\"type\":\"histogram2dcontour\",\"colorbar\":{\"outlinewidth\":0,\"ticks\":\"\"},\"colorscale\":[[0.0,\"#0d0887\"],[0.1111111111111111,\"#46039f\"],[0.2222222222222222,\"#7201a8\"],[0.3333333333333333,\"#9c179e\"],[0.4444444444444444,\"#bd3786\"],[0.5555555555555556,\"#d8576b\"],[0.6666666666666666,\"#ed7953\"],[0.7777777777777778,\"#fb9f3a\"],[0.8888888888888888,\"#fdca26\"],[1.0,\"#f0f921\"]]}],\"choropleth\":[{\"type\":\"choropleth\",\"colorbar\":{\"outlinewidth\":0,\"ticks\":\"\"}}],\"histogram2d\":[{\"type\":\"histogram2d\",\"colorbar\":{\"outlinewidth\":0,\"ticks\":\"\"},\"colorscale\":[[0.0,\"#0d0887\"],[0.1111111111111111,\"#46039f\"],[0.2222222222222222,\"#7201a8\"],[0.3333333333333333,\"#9c179e\"],[0.4444444444444444,\"#bd3786\"],[0.5555555555555556,\"#d8576b\"],[0.6666666666666666,\"#ed7953\"],[0.7777777777777778,\"#fb9f3a\"],[0.8888888888888888,\"#fdca26\"],[1.0,\"#f0f921\"]]}],\"heatmap\":[{\"type\":\"heatmap\",\"colorbar\":{\"outlinewidth\":0,\"ticks\":\"\"},\"colorscale\":[[0.0,\"#0d0887\"],[0.1111111111111111,\"#46039f\"],[0.2222222222222222,\"#7201a8\"],[0.3333333333333333,\"#9c179e\"],[0.4444444444444444,\"#bd3786\"],[0.5555555555555556,\"#d8576b\"],[0.6666666666666666,\"#ed7953\"],[0.7777777777777778,\"#fb9f3a\"],[0.8888888888888888,\"#fdca26\"],[1.0,\"#f0f921\"]]}],\"heatmapgl\":[{\"type\":\"heatmapgl\",\"colorbar\":{\"outlinewidth\":0,\"ticks\":\"\"},\"colorscale\":[[0.0,\"#0d0887\"],[0.1111111111111111,\"#46039f\"],[0.2222222222222222,\"#7201a8\"],[0.3333333333333333,\"#9c179e\"],[0.4444444444444444,\"#bd3786\"],[0.5555555555555556,\"#d8576b\"],[0.6666666666666666,\"#ed7953\"],[0.7777777777777778,\"#fb9f3a\"],[0.8888888888888888,\"#fdca26\"],[1.0,\"#f0f921\"]]}],\"contourcarpet\":[{\"type\":\"contourcarpet\",\"colorbar\":{\"outlinewidth\":0,\"ticks\":\"\"}}],\"contour\":[{\"type\":\"contour\",\"colorbar\":{\"outlinewidth\":0,\"ticks\":\"\"},\"colorscale\":[[0.0,\"#0d0887\"],[0.1111111111111111,\"#46039f\"],[0.2222222222222222,\"#7201a8\"],[0.3333333333333333,\"#9c179e\"],[0.4444444444444444,\"#bd3786\"],[0.5555555555555556,\"#d8576b\"],[0.6666666666666666,\"#ed7953\"],[0.7777777777777778,\"#fb9f3a\"],[0.8888888888888888,\"#fdca26\"],[1.0,\"#f0f921\"]]}],\"surface\":[{\"type\":\"surface\",\"colorbar\":{\"outlinewidth\":0,\"ticks\":\"\"},\"colorscale\":[[0.0,\"#0d0887\"],[0.1111111111111111,\"#46039f\"],[0.2222222222222222,\"#7201a8\"],[0.3333333333333333,\"#9c179e\"],[0.4444444444444444,\"#bd3786\"],[0.5555555555555556,\"#d8576b\"],[0.6666666666666666,\"#ed7953\"],[0.7777777777777778,\"#fb9f3a\"],[0.8888888888888888,\"#fdca26\"],[1.0,\"#f0f921\"]]}],\"mesh3d\":[{\"type\":\"mesh3d\",\"colorbar\":{\"outlinewidth\":0,\"ticks\":\"\"}}],\"scatter\":[{\"fillpattern\":{\"fillmode\":\"overlay\",\"size\":10,\"solidity\":0.2},\"type\":\"scatter\"}],\"parcoords\":[{\"type\":\"parcoords\",\"line\":{\"colorbar\":{\"outlinewidth\":0,\"ticks\":\"\"}}}],\"scatterpolargl\":[{\"type\":\"scatterpolargl\",\"marker\":{\"colorbar\":{\"outlinewidth\":0,\"ticks\":\"\"}}}],\"bar\":[{\"error_x\":{\"color\":\"#2a3f5f\"},\"error_y\":{\"color\":\"#2a3f5f\"},\"marker\":{\"line\":{\"color\":\"#E5ECF6\",\"width\":0.5},\"pattern\":{\"fillmode\":\"overlay\",\"size\":10,\"solidity\":0.2}},\"type\":\"bar\"}],\"scattergeo\":[{\"type\":\"scattergeo\",\"marker\":{\"colorbar\":{\"outlinewidth\":0,\"ticks\":\"\"}}}],\"scatterpolar\":[{\"type\":\"scatterpolar\",\"marker\":{\"colorbar\":{\"outlinewidth\":0,\"ticks\":\"\"}}}],\"histogram\":[{\"marker\":{\"pattern\":{\"fillmode\":\"overlay\",\"size\":10,\"solidity\":0.2}},\"type\":\"histogram\"}],\"scattergl\":[{\"type\":\"scattergl\",\"marker\":{\"colorbar\":{\"outlinewidth\":0,\"ticks\":\"\"}}}],\"scatter3d\":[{\"type\":\"scatter3d\",\"line\":{\"colorbar\":{\"outlinewidth\":0,\"ticks\":\"\"}},\"marker\":{\"colorbar\":{\"outlinewidth\":0,\"ticks\":\"\"}}}],\"scattermapbox\":[{\"type\":\"scattermapbox\",\"marker\":{\"colorbar\":{\"outlinewidth\":0,\"ticks\":\"\"}}}],\"scatterternary\":[{\"type\":\"scatterternary\",\"marker\":{\"colorbar\":{\"outlinewidth\":0,\"ticks\":\"\"}}}],\"scattercarpet\":[{\"type\":\"scattercarpet\",\"marker\":{\"colorbar\":{\"outlinewidth\":0,\"ticks\":\"\"}}}],\"carpet\":[{\"aaxis\":{\"endlinecolor\":\"#2a3f5f\",\"gridcolor\":\"white\",\"linecolor\":\"white\",\"minorgridcolor\":\"white\",\"startlinecolor\":\"#2a3f5f\"},\"baxis\":{\"endlinecolor\":\"#2a3f5f\",\"gridcolor\":\"white\",\"linecolor\":\"white\",\"minorgridcolor\":\"white\",\"startlinecolor\":\"#2a3f5f\"},\"type\":\"carpet\"}],\"table\":[{\"cells\":{\"fill\":{\"color\":\"#EBF0F8\"},\"line\":{\"color\":\"white\"}},\"header\":{\"fill\":{\"color\":\"#C8D4E3\"},\"line\":{\"color\":\"white\"}},\"type\":\"table\"}],\"barpolar\":[{\"marker\":{\"line\":{\"color\":\"#E5ECF6\",\"width\":0.5},\"pattern\":{\"fillmode\":\"overlay\",\"size\":10,\"solidity\":0.2}},\"type\":\"barpolar\"}],\"pie\":[{\"automargin\":true,\"type\":\"pie\"}]},\"layout\":{\"autotypenumbers\":\"strict\",\"colorway\":[\"#636efa\",\"#EF553B\",\"#00cc96\",\"#ab63fa\",\"#FFA15A\",\"#19d3f3\",\"#FF6692\",\"#B6E880\",\"#FF97FF\",\"#FECB52\"],\"font\":{\"color\":\"#2a3f5f\"},\"hovermode\":\"closest\",\"hoverlabel\":{\"align\":\"left\"},\"paper_bgcolor\":\"white\",\"plot_bgcolor\":\"#E5ECF6\",\"polar\":{\"bgcolor\":\"#E5ECF6\",\"angularaxis\":{\"gridcolor\":\"white\",\"linecolor\":\"white\",\"ticks\":\"\"},\"radialaxis\":{\"gridcolor\":\"white\",\"linecolor\":\"white\",\"ticks\":\"\"}},\"ternary\":{\"bgcolor\":\"#E5ECF6\",\"aaxis\":{\"gridcolor\":\"white\",\"linecolor\":\"white\",\"ticks\":\"\"},\"baxis\":{\"gridcolor\":\"white\",\"linecolor\":\"white\",\"ticks\":\"\"},\"caxis\":{\"gridcolor\":\"white\",\"linecolor\":\"white\",\"ticks\":\"\"}},\"coloraxis\":{\"colorbar\":{\"outlinewidth\":0,\"ticks\":\"\"}},\"colorscale\":{\"sequential\":[[0.0,\"#0d0887\"],[0.1111111111111111,\"#46039f\"],[0.2222222222222222,\"#7201a8\"],[0.3333333333333333,\"#9c179e\"],[0.4444444444444444,\"#bd3786\"],[0.5555555555555556,\"#d8576b\"],[0.6666666666666666,\"#ed7953\"],[0.7777777777777778,\"#fb9f3a\"],[0.8888888888888888,\"#fdca26\"],[1.0,\"#f0f921\"]],\"sequentialminus\":[[0.0,\"#0d0887\"],[0.1111111111111111,\"#46039f\"],[0.2222222222222222,\"#7201a8\"],[0.3333333333333333,\"#9c179e\"],[0.4444444444444444,\"#bd3786\"],[0.5555555555555556,\"#d8576b\"],[0.6666666666666666,\"#ed7953\"],[0.7777777777777778,\"#fb9f3a\"],[0.8888888888888888,\"#fdca26\"],[1.0,\"#f0f921\"]],\"diverging\":[[0,\"#8e0152\"],[0.1,\"#c51b7d\"],[0.2,\"#de77ae\"],[0.3,\"#f1b6da\"],[0.4,\"#fde0ef\"],[0.5,\"#f7f7f7\"],[0.6,\"#e6f5d0\"],[0.7,\"#b8e186\"],[0.8,\"#7fbc41\"],[0.9,\"#4d9221\"],[1,\"#276419\"]]},\"xaxis\":{\"gridcolor\":\"white\",\"linecolor\":\"white\",\"ticks\":\"\",\"title\":{\"standoff\":15},\"zerolinecolor\":\"white\",\"automargin\":true,\"zerolinewidth\":2},\"yaxis\":{\"gridcolor\":\"white\",\"linecolor\":\"white\",\"ticks\":\"\",\"title\":{\"standoff\":15},\"zerolinecolor\":\"white\",\"automargin\":true,\"zerolinewidth\":2},\"scene\":{\"xaxis\":{\"backgroundcolor\":\"#E5ECF6\",\"gridcolor\":\"white\",\"linecolor\":\"white\",\"showbackground\":true,\"ticks\":\"\",\"zerolinecolor\":\"white\",\"gridwidth\":2},\"yaxis\":{\"backgroundcolor\":\"#E5ECF6\",\"gridcolor\":\"white\",\"linecolor\":\"white\",\"showbackground\":true,\"ticks\":\"\",\"zerolinecolor\":\"white\",\"gridwidth\":2},\"zaxis\":{\"backgroundcolor\":\"#E5ECF6\",\"gridcolor\":\"white\",\"linecolor\":\"white\",\"showbackground\":true,\"ticks\":\"\",\"zerolinecolor\":\"white\",\"gridwidth\":2}},\"shapedefaults\":{\"line\":{\"color\":\"#2a3f5f\"}},\"annotationdefaults\":{\"arrowcolor\":\"#2a3f5f\",\"arrowhead\":0,\"arrowwidth\":1},\"geo\":{\"bgcolor\":\"white\",\"landcolor\":\"#E5ECF6\",\"subunitcolor\":\"white\",\"showland\":true,\"showlakes\":true,\"lakecolor\":\"white\"},\"title\":{\"x\":0.05},\"mapbox\":{\"style\":\"light\"}}},\"scene\":{\"domain\":{\"x\":[0.0,1.0],\"y\":[0.0,1.0]},\"xaxis\":{\"title\":{\"text\":\"0\"}},\"yaxis\":{\"title\":{\"text\":\"1\"}},\"zaxis\":{\"title\":{\"text\":\"2\"}}},\"legend\":{\"title\":{\"text\":\"color\"},\"tracegroupgap\":0},\"margin\":{\"t\":60}},                        {\"responsive\": true}                    ).then(function(){\n",
              "                            \n",
              "var gd = document.getElementById('3e8d5db5-55ce-46f6-914b-8ac89d9743eb');\n",
              "var x = new MutationObserver(function (mutations, observer) {{\n",
              "        var display = window.getComputedStyle(gd).display;\n",
              "        if (!display || display === 'none') {{\n",
              "            console.log([gd, 'removed!']);\n",
              "            Plotly.purge(gd);\n",
              "            observer.disconnect();\n",
              "        }}\n",
              "}});\n",
              "\n",
              "// Listen for the removal of the full notebook cells\n",
              "var notebookContainer = gd.closest('#notebook-container');\n",
              "if (notebookContainer) {{\n",
              "    x.observe(notebookContainer, {childList: true});\n",
              "}}\n",
              "\n",
              "// Listen for the clearing of the current output cell\n",
              "var outputEl = gd.closest('.output');\n",
              "if (outputEl) {{\n",
              "    x.observe(outputEl, {childList: true});\n",
              "}}\n",
              "\n",
              "                        })                };                            </script>        </div>\n",
              "</body>\n",
              "</html>"
            ]
          },
          "metadata": {}
        }
      ]
    },
    {
      "cell_type": "code",
      "source": [
        "fig = px.scatter_matrix(\n",
        "    components,\n",
        "    labels=langs,\n",
        "    dimensions=range(3),\n",
        "    color=langs\n",
        ")\n",
        "fig.update_traces(diagonal_visible=False)\n",
        "fig.show()"
      ],
      "metadata": {
        "colab": {
          "base_uri": "https://localhost:8080/",
          "height": 542
        },
        "id": "wZ5OnKqoV2qf",
        "outputId": "2074c5b8-d72d-4408-9897-6290f04f6e2e"
      },
      "execution_count": 31,
      "outputs": [
        {
          "output_type": "display_data",
          "data": {
            "text/html": [
              "<html>\n",
              "<head><meta charset=\"utf-8\" /></head>\n",
              "<body>\n",
              "    <div>            <script src=\"https://cdnjs.cloudflare.com/ajax/libs/mathjax/2.7.5/MathJax.js?config=TeX-AMS-MML_SVG\"></script><script type=\"text/javascript\">if (window.MathJax && window.MathJax.Hub && window.MathJax.Hub.Config) {window.MathJax.Hub.Config({SVG: {font: \"STIX-Web\"}});}</script>                <script type=\"text/javascript\">window.PlotlyConfig = {MathJaxConfig: 'local'};</script>\n",
              "        <script src=\"https://cdn.plot.ly/plotly-2.18.2.min.js\"></script>                <div id=\"40445866-63e8-445f-bb99-11f47e3e4798\" class=\"plotly-graph-div\" style=\"height:525px; width:100%;\"></div>            <script type=\"text/javascript\">                                    window.PLOTLYENV=window.PLOTLYENV || {};                                    if (document.getElementById(\"40445866-63e8-445f-bb99-11f47e3e4798\")) {                    Plotly.newPlot(                        \"40445866-63e8-445f-bb99-11f47e3e4798\",                        [{\"dimensions\":[{\"axis\":{\"matches\":true},\"label\":\"0\",\"values\":[-7.6241196135017795,-3.601699265271123,24.956502475462504,0.27997272405140855,-13.152796091681648,6.355814865427249,-1.967175772756025,-2.588937863043116,70.13014943713017,-11.093897354200905,-4.283117089436164,-8.269671566036063,-16.27658911374654,0.7750389477898771,-8.347037121527398,-2.3536281912216483,-6.273686840185484,-1.5753911654879749,-40.03898027094007,17.40519001220165,24.753777264161137,-2.190314831195276,-7.213277123504707,1.3999577171104856,-13.102034011246717,12.187681255290208,21.99856892210376,-13.642227457908128,-1.5253639664254683,12.180263285410156,-1.5228730193176752,1.485683477285869,2.9441180755935923,4.268151471039902,-9.438776992228089,11.32548130597628,-9.746671564404501,0.1585679296206992,2.7698543479137014,8.407564560663221,-16.493499011914082,8.743077061170464,9.885628919804345,7.792386880789011,5.355426855057618,71.49850021793605,-7.406169299537249,-8.11283678667539,-6.834102038218969,-1.7696572969373,1.1082996530327456,7.323198082606792,4.663535883163739,-5.28266963025573,0.2298479859511281,-4.075501913417325,-7.000088830088255,0.2784273198925767,15.29838386300413,-3.012724782164185,-11.085006598524425,-13.972498743391187,-36.996997823403866,-0.0743223100108965,-18.162772460497337]},{\"axis\":{\"matches\":true},\"label\":\"1\",\"values\":[3.367202703500194,-3.1949803657426785,-0.8971456245289131,1.298171424700254,-2.895013291226805,1.276885352615079,-2.095523215464516,-3.137171707256629,12.964509885769752,-0.6970421442554928,-3.0368998674908108,-3.02788244915678,0.7769757621480122,-2.0335057713459843,-3.446204997162522,-2.517631567359736,-2.922382501516295,-0.5379779145645279,16.875444399772636,-0.5573828297196726,1.6929473387478042,-3.6253590868056076,-1.9047129029540728,-2.81965386334831,0.6355449233233474,4.080046810614589,1.3711944726048328,-5.663954315621192,-0.4765057873616923,-0.21243304559437254,-6.973588182837365,2.8726237101519128,-4.088074981560945,6.867135003024701,-3.323055354508706,-3.9513545759898556,-3.2167810666963117,0.9209027825606376,-1.8314722041885505,-2.52150529153794,-1.7879270753791572,-4.314834672367955,-2.093466863258233,-1.4759246032784228,-0.19327344579277986,7.5202701699949,0.36452024188777116,-4.306678432575554,-0.08952932208903921,-2.3666897187563367,-3.2547236812907623,-0.2800530626436979,-0.2281216373724124,-2.701049307400318,1.5852543465476183,-0.4040908170274591,0.3064706304124114,4.686849386607909,-2.803921153268751,-0.8490896198753445,-1.6873632002994812,-2.153093960234306,38.82399682121795,-0.48925429473717735,-4.185459804711795]},{\"axis\":{\"matches\":true},\"label\":\"2\",\"values\":[0.4047592104948357,-5.626572427257319,-1.7133650896890615,-1.0852598234807318,-8.086737012561642,-1.961953398857255,-2.7442117725937574,1.3085348989725953,3.491556733126264,-2.934566775306359,-2.5662569488606755,-2.0246666170546592,3.60544994127622,-1.7918207530481542,2.1019266274989263,0.19698093217774856,-3.4522705440307604,-5.214290764168348,-2.5998428117234433,-4.697754716967781,-0.2970896289311637,-3.932397997966308,0.6550128987274366,1.9030717675837365,2.016097217862855,-0.5969241769212684,4.133629966616262,-1.7625659894399182,2.2715475807427956,-2.81209434778705,-4.978119403020518,5.460226472990414,-6.582540937819284,-2.4015886145103345,-1.9329056995348526,-1.3898629863251546,3.1428012382389023,-2.1714576329974116,-0.9684900546608994,-5.230477072927308,5.133628051153983,-4.145508231166859,4.920402831671601,-4.893836945608382,0.1590407052456173,-3.312003840386493,1.7025085000781846,0.934726336117713,1.0737123819615157,-4.218426292990723,1.2150466662719202,-1.7896954451106215,-0.7718104960433797,0.6650554744617341,-4.418873920326867,-0.672814087729289,-0.7725984418654337,4.274537975322192,-1.5508435194432333,-1.6659105046929918,4.143115796127858,1.161927442208955,-13.362488937990342,0.5700067394508738,0.6241526642982195]}],\"hovertemplate\":\"color=mandarin<br>%{xaxis.title.text}=%{x}<br>%{yaxis.title.text}=%{y}<extra></extra>\",\"legendgroup\":\"mandarin\",\"marker\":{\"color\":\"#636efa\",\"symbol\":\"circle\"},\"name\":\"mandarin\",\"showlegend\":true,\"type\":\"splom\",\"diagonal\":{\"visible\":false}},{\"dimensions\":[{\"axis\":{\"matches\":true},\"label\":\"0\",\"values\":[-5.285514120911005,-6.165892144366324,-3.0882566794589796,2.996829209242976,-4.675511247962696,-0.3604636425193515,-7.7255917912861705,3.3675019505026826,-10.187382392179636,-10.96869708699097,-5.399184190690056,35.18687999171147,-8.131204501486332,-1.1126867200378034,-2.0163777229387745,-3.3152127502269106,-4.958051150331204,2.907723046955819,-10.781402842771296,-2.1535562959384618,41.02999219578979,0.07921022143039026,2.421655616675256,22.9348614393522,-18.74294742792709,-10.346857646022382,-15.630972946695959,3.930141608918368,5.724601706161681,-14.735281514954249,-12.536988620311249,5.5871749854512185,2.299524477478]},{\"axis\":{\"matches\":true},\"label\":\"1\",\"values\":[-4.649826605055994,-2.5636226418819956,-3.447430006565355,-0.5775706212813784,-0.7534380213451944,-0.9288526320202894,-2.8294692728754827,-4.261981975791197,6.202187670697035,0.32244642271728036,-0.5761177639759786,5.700756389636587,0.04735701335087087,-3.321377891944017,2.9758046112339662,-2.3208254693656594,-1.4706616510758916,0.05934639641929097,-3.2719843905264767,2.5488992383132856,5.498679231349338,3.33329371932327,-0.8413271847925238,-1.7884933931735971,-0.41070274481679786,-0.8879977077244743,-0.6057119195649127,-1.4520808730705466,-1.8866760080906757,-1.2394510331422794,15.086516477030434,-2.3411732354133745,-0.3657207146242312]},{\"axis\":{\"matches\":true},\"label\":\"2\",\"values\":[-0.5049845184301267,0.3150618516509823,1.7006183963167163,3.383839079315989,0.8521042765500787,1.7508958516824553,0.6538331597154874,8.101063388666544,11.761135989122279,-0.6869046824430508,4.12173786688604,-4.867845848551215,4.210894253515003,-1.3930185406481885,-2.9477676578992846,5.5327048243938375,-5.494999060797918,-2.9807473845314,-0.44193597687720165,3.854874786442351,8.174246296371216,-0.21320156009963287,-1.309419529685473,1.9943207833210461,5.502445329087436,-5.470056067824882,4.551169853367064,0.8307168036731752,-2.801431500629559,0.9097508197859187,21.123456471648353,0.6791045179801031,4.969775340042494]}],\"hovertemplate\":\"color=italian<br>%{xaxis.title.text}=%{x}<br>%{yaxis.title.text}=%{y}<extra></extra>\",\"legendgroup\":\"italian\",\"marker\":{\"color\":\"#EF553B\",\"symbol\":\"circle\"},\"name\":\"italian\",\"showlegend\":true,\"type\":\"splom\",\"diagonal\":{\"visible\":false}}],                        {\"template\":{\"data\":{\"histogram2dcontour\":[{\"type\":\"histogram2dcontour\",\"colorbar\":{\"outlinewidth\":0,\"ticks\":\"\"},\"colorscale\":[[0.0,\"#0d0887\"],[0.1111111111111111,\"#46039f\"],[0.2222222222222222,\"#7201a8\"],[0.3333333333333333,\"#9c179e\"],[0.4444444444444444,\"#bd3786\"],[0.5555555555555556,\"#d8576b\"],[0.6666666666666666,\"#ed7953\"],[0.7777777777777778,\"#fb9f3a\"],[0.8888888888888888,\"#fdca26\"],[1.0,\"#f0f921\"]]}],\"choropleth\":[{\"type\":\"choropleth\",\"colorbar\":{\"outlinewidth\":0,\"ticks\":\"\"}}],\"histogram2d\":[{\"type\":\"histogram2d\",\"colorbar\":{\"outlinewidth\":0,\"ticks\":\"\"},\"colorscale\":[[0.0,\"#0d0887\"],[0.1111111111111111,\"#46039f\"],[0.2222222222222222,\"#7201a8\"],[0.3333333333333333,\"#9c179e\"],[0.4444444444444444,\"#bd3786\"],[0.5555555555555556,\"#d8576b\"],[0.6666666666666666,\"#ed7953\"],[0.7777777777777778,\"#fb9f3a\"],[0.8888888888888888,\"#fdca26\"],[1.0,\"#f0f921\"]]}],\"heatmap\":[{\"type\":\"heatmap\",\"colorbar\":{\"outlinewidth\":0,\"ticks\":\"\"},\"colorscale\":[[0.0,\"#0d0887\"],[0.1111111111111111,\"#46039f\"],[0.2222222222222222,\"#7201a8\"],[0.3333333333333333,\"#9c179e\"],[0.4444444444444444,\"#bd3786\"],[0.5555555555555556,\"#d8576b\"],[0.6666666666666666,\"#ed7953\"],[0.7777777777777778,\"#fb9f3a\"],[0.8888888888888888,\"#fdca26\"],[1.0,\"#f0f921\"]]}],\"heatmapgl\":[{\"type\":\"heatmapgl\",\"colorbar\":{\"outlinewidth\":0,\"ticks\":\"\"},\"colorscale\":[[0.0,\"#0d0887\"],[0.1111111111111111,\"#46039f\"],[0.2222222222222222,\"#7201a8\"],[0.3333333333333333,\"#9c179e\"],[0.4444444444444444,\"#bd3786\"],[0.5555555555555556,\"#d8576b\"],[0.6666666666666666,\"#ed7953\"],[0.7777777777777778,\"#fb9f3a\"],[0.8888888888888888,\"#fdca26\"],[1.0,\"#f0f921\"]]}],\"contourcarpet\":[{\"type\":\"contourcarpet\",\"colorbar\":{\"outlinewidth\":0,\"ticks\":\"\"}}],\"contour\":[{\"type\":\"contour\",\"colorbar\":{\"outlinewidth\":0,\"ticks\":\"\"},\"colorscale\":[[0.0,\"#0d0887\"],[0.1111111111111111,\"#46039f\"],[0.2222222222222222,\"#7201a8\"],[0.3333333333333333,\"#9c179e\"],[0.4444444444444444,\"#bd3786\"],[0.5555555555555556,\"#d8576b\"],[0.6666666666666666,\"#ed7953\"],[0.7777777777777778,\"#fb9f3a\"],[0.8888888888888888,\"#fdca26\"],[1.0,\"#f0f921\"]]}],\"surface\":[{\"type\":\"surface\",\"colorbar\":{\"outlinewidth\":0,\"ticks\":\"\"},\"colorscale\":[[0.0,\"#0d0887\"],[0.1111111111111111,\"#46039f\"],[0.2222222222222222,\"#7201a8\"],[0.3333333333333333,\"#9c179e\"],[0.4444444444444444,\"#bd3786\"],[0.5555555555555556,\"#d8576b\"],[0.6666666666666666,\"#ed7953\"],[0.7777777777777778,\"#fb9f3a\"],[0.8888888888888888,\"#fdca26\"],[1.0,\"#f0f921\"]]}],\"mesh3d\":[{\"type\":\"mesh3d\",\"colorbar\":{\"outlinewidth\":0,\"ticks\":\"\"}}],\"scatter\":[{\"fillpattern\":{\"fillmode\":\"overlay\",\"size\":10,\"solidity\":0.2},\"type\":\"scatter\"}],\"parcoords\":[{\"type\":\"parcoords\",\"line\":{\"colorbar\":{\"outlinewidth\":0,\"ticks\":\"\"}}}],\"scatterpolargl\":[{\"type\":\"scatterpolargl\",\"marker\":{\"colorbar\":{\"outlinewidth\":0,\"ticks\":\"\"}}}],\"bar\":[{\"error_x\":{\"color\":\"#2a3f5f\"},\"error_y\":{\"color\":\"#2a3f5f\"},\"marker\":{\"line\":{\"color\":\"#E5ECF6\",\"width\":0.5},\"pattern\":{\"fillmode\":\"overlay\",\"size\":10,\"solidity\":0.2}},\"type\":\"bar\"}],\"scattergeo\":[{\"type\":\"scattergeo\",\"marker\":{\"colorbar\":{\"outlinewidth\":0,\"ticks\":\"\"}}}],\"scatterpolar\":[{\"type\":\"scatterpolar\",\"marker\":{\"colorbar\":{\"outlinewidth\":0,\"ticks\":\"\"}}}],\"histogram\":[{\"marker\":{\"pattern\":{\"fillmode\":\"overlay\",\"size\":10,\"solidity\":0.2}},\"type\":\"histogram\"}],\"scattergl\":[{\"type\":\"scattergl\",\"marker\":{\"colorbar\":{\"outlinewidth\":0,\"ticks\":\"\"}}}],\"scatter3d\":[{\"type\":\"scatter3d\",\"line\":{\"colorbar\":{\"outlinewidth\":0,\"ticks\":\"\"}},\"marker\":{\"colorbar\":{\"outlinewidth\":0,\"ticks\":\"\"}}}],\"scattermapbox\":[{\"type\":\"scattermapbox\",\"marker\":{\"colorbar\":{\"outlinewidth\":0,\"ticks\":\"\"}}}],\"scatterternary\":[{\"type\":\"scatterternary\",\"marker\":{\"colorbar\":{\"outlinewidth\":0,\"ticks\":\"\"}}}],\"scattercarpet\":[{\"type\":\"scattercarpet\",\"marker\":{\"colorbar\":{\"outlinewidth\":0,\"ticks\":\"\"}}}],\"carpet\":[{\"aaxis\":{\"endlinecolor\":\"#2a3f5f\",\"gridcolor\":\"white\",\"linecolor\":\"white\",\"minorgridcolor\":\"white\",\"startlinecolor\":\"#2a3f5f\"},\"baxis\":{\"endlinecolor\":\"#2a3f5f\",\"gridcolor\":\"white\",\"linecolor\":\"white\",\"minorgridcolor\":\"white\",\"startlinecolor\":\"#2a3f5f\"},\"type\":\"carpet\"}],\"table\":[{\"cells\":{\"fill\":{\"color\":\"#EBF0F8\"},\"line\":{\"color\":\"white\"}},\"header\":{\"fill\":{\"color\":\"#C8D4E3\"},\"line\":{\"color\":\"white\"}},\"type\":\"table\"}],\"barpolar\":[{\"marker\":{\"line\":{\"color\":\"#E5ECF6\",\"width\":0.5},\"pattern\":{\"fillmode\":\"overlay\",\"size\":10,\"solidity\":0.2}},\"type\":\"barpolar\"}],\"pie\":[{\"automargin\":true,\"type\":\"pie\"}]},\"layout\":{\"autotypenumbers\":\"strict\",\"colorway\":[\"#636efa\",\"#EF553B\",\"#00cc96\",\"#ab63fa\",\"#FFA15A\",\"#19d3f3\",\"#FF6692\",\"#B6E880\",\"#FF97FF\",\"#FECB52\"],\"font\":{\"color\":\"#2a3f5f\"},\"hovermode\":\"closest\",\"hoverlabel\":{\"align\":\"left\"},\"paper_bgcolor\":\"white\",\"plot_bgcolor\":\"#E5ECF6\",\"polar\":{\"bgcolor\":\"#E5ECF6\",\"angularaxis\":{\"gridcolor\":\"white\",\"linecolor\":\"white\",\"ticks\":\"\"},\"radialaxis\":{\"gridcolor\":\"white\",\"linecolor\":\"white\",\"ticks\":\"\"}},\"ternary\":{\"bgcolor\":\"#E5ECF6\",\"aaxis\":{\"gridcolor\":\"white\",\"linecolor\":\"white\",\"ticks\":\"\"},\"baxis\":{\"gridcolor\":\"white\",\"linecolor\":\"white\",\"ticks\":\"\"},\"caxis\":{\"gridcolor\":\"white\",\"linecolor\":\"white\",\"ticks\":\"\"}},\"coloraxis\":{\"colorbar\":{\"outlinewidth\":0,\"ticks\":\"\"}},\"colorscale\":{\"sequential\":[[0.0,\"#0d0887\"],[0.1111111111111111,\"#46039f\"],[0.2222222222222222,\"#7201a8\"],[0.3333333333333333,\"#9c179e\"],[0.4444444444444444,\"#bd3786\"],[0.5555555555555556,\"#d8576b\"],[0.6666666666666666,\"#ed7953\"],[0.7777777777777778,\"#fb9f3a\"],[0.8888888888888888,\"#fdca26\"],[1.0,\"#f0f921\"]],\"sequentialminus\":[[0.0,\"#0d0887\"],[0.1111111111111111,\"#46039f\"],[0.2222222222222222,\"#7201a8\"],[0.3333333333333333,\"#9c179e\"],[0.4444444444444444,\"#bd3786\"],[0.5555555555555556,\"#d8576b\"],[0.6666666666666666,\"#ed7953\"],[0.7777777777777778,\"#fb9f3a\"],[0.8888888888888888,\"#fdca26\"],[1.0,\"#f0f921\"]],\"diverging\":[[0,\"#8e0152\"],[0.1,\"#c51b7d\"],[0.2,\"#de77ae\"],[0.3,\"#f1b6da\"],[0.4,\"#fde0ef\"],[0.5,\"#f7f7f7\"],[0.6,\"#e6f5d0\"],[0.7,\"#b8e186\"],[0.8,\"#7fbc41\"],[0.9,\"#4d9221\"],[1,\"#276419\"]]},\"xaxis\":{\"gridcolor\":\"white\",\"linecolor\":\"white\",\"ticks\":\"\",\"title\":{\"standoff\":15},\"zerolinecolor\":\"white\",\"automargin\":true,\"zerolinewidth\":2},\"yaxis\":{\"gridcolor\":\"white\",\"linecolor\":\"white\",\"ticks\":\"\",\"title\":{\"standoff\":15},\"zerolinecolor\":\"white\",\"automargin\":true,\"zerolinewidth\":2},\"scene\":{\"xaxis\":{\"backgroundcolor\":\"#E5ECF6\",\"gridcolor\":\"white\",\"linecolor\":\"white\",\"showbackground\":true,\"ticks\":\"\",\"zerolinecolor\":\"white\",\"gridwidth\":2},\"yaxis\":{\"backgroundcolor\":\"#E5ECF6\",\"gridcolor\":\"white\",\"linecolor\":\"white\",\"showbackground\":true,\"ticks\":\"\",\"zerolinecolor\":\"white\",\"gridwidth\":2},\"zaxis\":{\"backgroundcolor\":\"#E5ECF6\",\"gridcolor\":\"white\",\"linecolor\":\"white\",\"showbackground\":true,\"ticks\":\"\",\"zerolinecolor\":\"white\",\"gridwidth\":2}},\"shapedefaults\":{\"line\":{\"color\":\"#2a3f5f\"}},\"annotationdefaults\":{\"arrowcolor\":\"#2a3f5f\",\"arrowhead\":0,\"arrowwidth\":1},\"geo\":{\"bgcolor\":\"white\",\"landcolor\":\"#E5ECF6\",\"subunitcolor\":\"white\",\"showland\":true,\"showlakes\":true,\"lakecolor\":\"white\"},\"title\":{\"x\":0.05},\"mapbox\":{\"style\":\"light\"}}},\"legend\":{\"title\":{\"text\":\"color\"},\"tracegroupgap\":0},\"margin\":{\"t\":60},\"dragmode\":\"select\"},                        {\"responsive\": true}                    ).then(function(){\n",
              "                            \n",
              "var gd = document.getElementById('40445866-63e8-445f-bb99-11f47e3e4798');\n",
              "var x = new MutationObserver(function (mutations, observer) {{\n",
              "        var display = window.getComputedStyle(gd).display;\n",
              "        if (!display || display === 'none') {{\n",
              "            console.log([gd, 'removed!']);\n",
              "            Plotly.purge(gd);\n",
              "            observer.disconnect();\n",
              "        }}\n",
              "}});\n",
              "\n",
              "// Listen for the removal of the full notebook cells\n",
              "var notebookContainer = gd.closest('#notebook-container');\n",
              "if (notebookContainer) {{\n",
              "    x.observe(notebookContainer, {childList: true});\n",
              "}}\n",
              "\n",
              "// Listen for the clearing of the current output cell\n",
              "var outputEl = gd.closest('.output');\n",
              "if (outputEl) {{\n",
              "    x.observe(outputEl, {childList: true});\n",
              "}}\n",
              "\n",
              "                        })                };                            </script>        </div>\n",
              "</body>\n",
              "</html>"
            ]
          },
          "metadata": {}
        }
      ]
    },
    {
      "cell_type": "code",
      "source": [
        "import numpy as np\n",
        "\n",
        "lang_to_bows = {}\n",
        "for lang in lang_list:\n",
        "\n",
        "  if lang not in lang_to_bows:\n",
        "    lang_to_bows[lang] = []\n",
        "\n",
        "  for s in speakers_to_bow:\n",
        "    if lang in s:\n",
        "      lang_to_bows[lang].append(speakers_to_bow[s])\n",
        "      break\n",
        "\n",
        "\n",
        "lang_to_centroid = {}\n",
        "for lang in lang_to_bows:\n",
        "  centroid = np.mean(np.asarray(lang_to_bows[lang]))\n",
        "  print(lang, \" centroid: \", centroid)"
      ],
      "metadata": {
        "colab": {
          "base_uri": "https://localhost:8080/"
        },
        "id": "0ON6LcquWB9-",
        "outputId": "0429f0aa-837e-4ba9-9a0b-ad57487d3079"
      },
      "execution_count": 32,
      "outputs": [
        {
          "output_type": "stream",
          "name": "stdout",
          "text": [
            "mandarin  centroid:  5.9125\n",
            "italian  centroid:  5.85\n"
          ]
        }
      ]
    },
    {
      "cell_type": "markdown",
      "source": [
        "# Top N Languages"
      ],
      "metadata": {
        "id": "XjSpi0o0VXD9"
      }
    },
    {
      "cell_type": "code",
      "execution_count": 33,
      "metadata": {
        "id": "i9AR8oACLO3Q"
      },
      "outputs": [],
      "source": [
        "lang_list = ['english', 'spanish', 'mandarin', 'french', 'korean', 'portuguese', 'russian', 'dutch', 'turkish']\n",
        "\n",
        "speakers_to_bow = {}\n",
        "speaker_labels = {}\n",
        "for speaker in speaker_to_phonemes.keys():\n",
        "  for lang in lang_list:\n",
        "    if lang in speaker:\n",
        "      phonemes = speaker_to_phonemes[speaker]\n",
        "\n",
        "      phone_bow = []\n",
        "      for phon in phone_code.keys():\n",
        "        count = phonemes.count(phon)\n",
        "        phone_bow.append(count)\n",
        "\n",
        "      speakers_to_bow[speaker] = phone_bow\n",
        "      speaker_labels[speaker] = lang"
      ]
    },
    {
      "cell_type": "code",
      "source": [
        "values = list(speakers_to_bow.values())\n",
        "names = list(speakers_to_bow.keys())\n",
        "langs = [speaker_labels[n] for n in names]\n",
        "\n",
        "pca = PCA(n_components=3)\n",
        "components = pca.fit_transform(values)"
      ],
      "metadata": {
        "id": "17V5rsj8hfah"
      },
      "execution_count": 34,
      "outputs": []
    },
    {
      "cell_type": "code",
      "source": [
        "fig = px.scatter_3d(components, x=0, y=1, z=2, color=langs)\n",
        "fig.show()"
      ],
      "metadata": {
        "id": "5l0-X86pho6B",
        "colab": {
          "base_uri": "https://localhost:8080/",
          "height": 542
        },
        "outputId": "39a6b396-ac59-46db-8cd4-711fc049f144"
      },
      "execution_count": 35,
      "outputs": [
        {
          "output_type": "display_data",
          "data": {
            "text/html": [
              "<html>\n",
              "<head><meta charset=\"utf-8\" /></head>\n",
              "<body>\n",
              "    <div>            <script src=\"https://cdnjs.cloudflare.com/ajax/libs/mathjax/2.7.5/MathJax.js?config=TeX-AMS-MML_SVG\"></script><script type=\"text/javascript\">if (window.MathJax && window.MathJax.Hub && window.MathJax.Hub.Config) {window.MathJax.Hub.Config({SVG: {font: \"STIX-Web\"}});}</script>                <script type=\"text/javascript\">window.PlotlyConfig = {MathJaxConfig: 'local'};</script>\n",
              "        <script src=\"https://cdn.plot.ly/plotly-2.18.2.min.js\"></script>                <div id=\"f5668a54-1b37-4eb0-afb6-c7b5afd00442\" class=\"plotly-graph-div\" style=\"height:525px; width:100%;\"></div>            <script type=\"text/javascript\">                                    window.PLOTLYENV=window.PLOTLYENV || {};                                    if (document.getElementById(\"f5668a54-1b37-4eb0-afb6-c7b5afd00442\")) {                    Plotly.newPlot(                        \"f5668a54-1b37-4eb0-afb6-c7b5afd00442\",                        [{\"hovertemplate\":\"color=spanish<br>0=%{x}<br>1=%{y}<br>2=%{z}<extra></extra>\",\"legendgroup\":\"spanish\",\"marker\":{\"color\":\"#636efa\",\"symbol\":\"circle\"},\"mode\":\"markers\",\"name\":\"spanish\",\"scene\":\"scene\",\"showlegend\":true,\"x\":[1.622308080111482,-1.031399472677881,-2.074676765053659,9.44591725053921,-5.022268878049215,-10.91365400466392,-7.4362492973221705,2.2975369614561223,-0.7067663548524047,12.278466353935523,25.807733911430383,0.36427997571840814,8.114737083853685,16.20903193881291,-7.160370902923616,7.798639686118763,3.286372257333317,0.7889755036233412,9.625761308952372,3.748996967656793,11.48616358397453,-5.173300922812524,-6.879425385199651,-9.95315651679677,1.599258947812071,5.001502051915624,3.310604905525694,5.598275670534623,25.00812780487689,-5.484381724415928,-11.524933656289372,5.399759763780642,-6.0243947073338315,-19.872231659478473,29.713943652525234,-7.258489969685661,13.21550683917906,5.6058998773013515,10.573202655590377,0.07322630630581774,-6.275665382381538,13.245640618937115,2.8714041404967596,-23.44472596507563,8.907042785495793,-35.48682075211238,-1.1795587139919028,1.4446676035067614,-5.1426310004871425,4.221574646663156,7.043485511173843,1.3934616654172145,23.797797466128547,-1.3386442501317457,24.33496811078179,1.0072877664705855,-12.286213068769584,-1.1539975728655791,-13.987165955818757,11.585542976915733,-1.7778978540274122,11.23394273586726,-8.234877164414435,-8.230526990129473,-4.687761461390488,6.080316837693474,-16.584314702535867,-12.20199675393042,15.287700320899276,18.825735491789246,5.970672310350145,13.556877423834234,9.109826667412278,-1.7776092646158392,5.864186550114971,-17.13747532934385,13.521216775888272,4.405727542010314,-9.559923132820545,-1.8093397287661772,-2.530282384581914,1.1764605447356062,14.494587640044536,8.10369152397753,-0.4010086099386191,-0.7048400481820657,-3.29470745839945,-2.5548744840904365,-11.86370070794287,3.362013808632454,3.6584678048184336,1.4681722864439142,20.572564959697583,0.5673432786059628,8.10857828488301,5.552826999859678,3.6875189626613016,10.937448860361533,11.808968798114778,2.204112808395779,21.764274632942893,-2.2403235465997167,-9.063251417770365,9.270794773180107,-10.407524408933371,1.2637086116784741,-0.5087962334554396,-0.485816765285451,1.5033054443554463,7.062243732505115,-20.811670407401266,5.477854736316764,2.6567395675087946,10.629328986035603,1.1360667323651923,8.91393800329845,21.386394636832517,-7.943316889293256,43.98422312407889,-19.317245353493167,-0.6575490730466349,2.282921213593924,-6.510800922094784,-11.97330138712541,8.411584189420124,-0.5869716337633609,8.684546701808877,19.881035400840524,4.402443509470286,0.3942952971278959,2.5306124363553786,-2.9184692914902115,2.5159491484193337,4.502435219456054,-8.694687968896623,6.5196961770837545,1.3812758168642563,-23.691202316973605,6.174816266240918,1.6957441051252882,-1.6684140651506276,-4.614635928593864,0.27712537041807217,16.643794721565047,0.46206133993869397,31.846294832650113,-6.1569136824106385,2.476511244565142,17.300289979183198,31.071029128884376,-11.887735377042883,5.638718965173923,-6.06877685604602,10.752285050873667,0.21794876553137105,0.2618442442043412,1.9822179777577371,2.2929374648580483,17.579605635948532,4.770195422625169,8.35354951001397,-3.4538020274033574],\"y\":[-1.2825894193647704,1.790697731112187,-0.8305025733393223,7.532564461901865,-0.9784451473807272,3.1796194970047162,-3.7847561531839466,-0.724626857491813,-4.024903814675851,2.5863484072139027,7.054230111132034,1.6675880331243886,4.2517395508873665,1.0864324389821407,8.91118943300547,2.8599079410403676,0.5931328426228172,3.1944195985477344,3.299840605025818,3.123605996752218,4.566449689317972,6.431737377257266,0.3092459857927096,7.237447122494031,-3.0454286830635287,4.439642750850586,0.5691645845513081,3.596978016258056,0.32289683551117065,-1.4433467019712982,4.28047695745932,2.1164335150603275,-0.5668669149625546,11.062723704680565,8.766239414444945,3.413506704036214,10.8714644242289,-0.73707684382887,-1.4596038113912602,2.2876515663999286,15.18381828540473,4.276242057179643,2.6270919913792805,-5.4763430835070475,-0.7866406545006659,3.1050312256563593,13.946588754703418,1.1435163785926246,1.4488655571573466,-0.31035811654276707,6.153816580099238,-4.819841987562205,-1.697684757452103,2.3319046175997933,8.111141331836684,0.49128756526351913,2.894334835082778,11.54916115453248,-1.3808889950019547,7.165534460163553,-0.07877219389356518,1.515453466297405,5.360982582439777,1.5900642167727512,-1.5729250031528383,2.6483944091151916,19.333366586767983,3.98466107526357,7.468810270558071,12.745513546721606,4.010459467545714,4.646777043436291,3.642275546870845,2.194868157235921,0.018494998878042148,3.5443642967495683,1.322962340326053,0.12481827410457592,12.814240638421897,0.7675726149775719,-2.9138002291997336,-2.5535879504421892,25.22385906646894,5.710876449164484,-4.169553133898328,-2.9573666715274194,2.6332980432784474,-3.7193111049323844,1.1606479609919602,3.190710011339145,0.6289744756109698,0.7818781496324057,0.1351358128178564,5.733355361676729,0.9429727915134755,4.4754206694721965,3.660891059043866,9.660048801888577,2.263126318758223,-3.2410041919725407,8.35849191185809,9.482893088375494,-2.9872301458629256,2.109657253684854,-3.492049415979205,2.4991026276546484,-0.7001852449688781,-2.4943280192130857,2.659944749609897,1.1477673998810167,19.72302086875283,5.9213827093368385,-1.374044643598272,0.7470202685710579,8.764340045110524,10.45187683190988,2.995577254357146,-1.91972339454505,-1.947870263131562,-4.085361308117578,1.313877135148184,-3.8265141185322658,-0.6960208947459431,7.294365934438079,2.4206243410060835,10.27019254977769,1.3009744503015712,2.4211016825147587,4.587941539275422,0.2864442711775038,-3.902450995230262,-3.5141454204484326,2.8297821823161904,8.831850197010398,-1.4501941642876774,-4.0706698523664056,0.08833820832158346,10.967787538820282,8.856560448649867,-3.925978967632737,-5.94384808887434,-2.4434427327154236,-1.0046455759156996,7.816545074292005,4.1173566617375865,-1.9216490791474563,9.096978837654854,-0.6233708876920125,2.6447252320165995,3.349064384357638,5.82998005623392,-1.1015343174940542,0.447895809132345,-3.502156014421124,-0.5056661823555915,1.7120934563258392,9.16028711589778,-3.288808014886037,0.5144377604650392,1.0993941037100436,3.591340523699489,4.967162054918944],\"z\":[-1.2467978092658891,3.5991765188358107,1.0692920951290317,-7.379089602425666,-2.791596163843848,-1.391049866531253,-2.1728779961319575,2.0123685357982426,1.4377391192678526,-1.4121159086227397,-0.16343158232142632,-1.6847271220242248,6.272041307588859,-4.527235980871766,-6.574828099186641,-4.125727741953029,-5.400760971743001,-4.43140424585844,0.6262306484080544,-1.359937720850009,2.3734710341151666,-6.755620578365792,0.6590864988431653,-0.5980865262957933,-2.921958649775146,0.16499874452540064,0.5463718390113832,-0.0186076625092147,-2.2583779878362797,0.42791183448968045,0.04087819741882381,0.3902840967591687,-1.177734302694647,1.1687071556074964,2.719530803129491,-1.664509084482465,-4.777013497166314,-0.05498111456623999,-2.3063133003029583,-0.40351851047165693,-7.054717538036222,-2.894031430002601,-5.9111000408639525,-0.9983852259650895,-4.1032900674358395,-1.6294843612889236,-4.17463924832251,-4.642838931616409,-5.069406614309606,-2.5755124915802567,12.348878244897838,-0.9522049213020091,-3.6037679357364625,-0.6992075057745649,0.7789446302653638,-3.244217042352188,1.6143181230866084,-0.8940618614157919,-1.1860906571738403,0.6457855589123709,-2.4097344460018584,-4.228106985255675,-2.6665818414713987,-5.207305982484487,-2.690480874043315,-6.2199407981870145,-2.7713031960985917,-0.871907765648546,1.3401784251202464,4.808860813319642,-8.356400910600192,-5.250863059727817,-1.3945286431664257,-2.8585686706568887,-2.2366689004355096,4.04265137320191,0.7583359012602485,0.2606573848118588,9.504016954734716,-4.052826502255357,-3.758315690365002,-3.055780893555317,30.395566436268137,-2.6313555799818547,2.605513359645699,2.2979818465112603,-2.147356167985373,-1.7459432923226743,2.8538372673415857,0.8373174522185983,-1.054791727532459,0.3306553128786015,0.22068941910923687,-1.6012214697090081,0.7540282329496644,-4.084199237067359,-0.07509026170856693,1.3172133983779502,-1.9174399695418483,-0.9500518991874529,-1.9528034387617939,5.102829231257157,2.4106563725515686,3.7195050617995253,3.189849884199545,-4.50839864558923,-3.0019904702975784,-5.686164563630158,-3.215434223791439,4.093874746625872,-4.358438423199374,-2.348496146581292,-3.8924667323070743,-7.152031104920013,-3.5854990053028506,2.794304771135636,-0.30591348724877104,-1.0867967545693746,-5.274162004870564,4.60959086529929,-1.3947367345033932,0.3695326698947922,-0.3459587913052871,-11.07906262366854,-4.228186022501098,-3.1177323911963155,0.2441803044916138,-4.358365120836928,-2.8651655513384067,0.03712641464417205,-0.461205343746047,1.1315427427347862,-4.078933054787644,0.659768654243452,-0.5396686294380734,0.7198179431158575,-3.804294077730847,-2.468537976545656,6.159828150780693,0.04478105288165586,2.0049047508683384,1.5249107180452484,2.034134284284564,0.2909006511969834,-3.925304554350293,4.459993382408594,-6.223030963909228,-5.9798422542139935,-0.50129438441902,0.6182064809599679,2.6256087493537725,-4.046639997634395,0.21659862731171758,-0.44594456756756906,1.9859652819272442,-3.77863958403674,-3.1070722960513373,2.0171941270115115,1.579826117837386,-1.7577008789087185,1.4508721004687488,-3.807815462433274],\"type\":\"scatter3d\"},{\"hovertemplate\":\"color=english<br>0=%{x}<br>1=%{y}<br>2=%{z}<extra></extra>\",\"legendgroup\":\"english\",\"marker\":{\"color\":\"#EF553B\",\"symbol\":\"circle\"},\"mode\":\"markers\",\"name\":\"english\",\"scene\":\"scene\",\"showlegend\":true,\"x\":[1.4594495770181186,-3.4349839772673296,-3.6862212845356814,5.411917069237429,-12.672997499043442,21.72701462765323,1.2519826597093193,3.46731610210492,-5.3943722365206765,-1.5484932062818424,3.390134856397005,-5.582083853827187,-0.5355093125563046,0.302217888565264,-0.37412052919731026,0.6914857757852153,3.402387685612063,0.3143809775150503,-17.89697500163175,7.327603561908788,2.4088117499209583,-3.586971507878187,3.308361134129925,-2.8827169441569973,-4.5977527491174275,1.2880523821420986,-13.892087760992954,5.60519890072045,2.568239937732742,-3.455374494568656,4.55163258568755,-5.487082370771543,-23.612670155410264,4.711361217987617,6.282612023067057,-1.4595982468257362,-1.57285196053912,0.14817821590848543,5.280388002531266,-1.518415386474892,0.4424329821388985,6.6709099715211195,-5.663298211827497,-4.2488070957116495,5.222981070088441,1.3274953727348668,-2.6869409155504185,6.422868776640762,-26.862852547063987,4.057974335663748,0.34225689184634983,-1.9528906394257943,2.341934752529137,-21.467899014839823,1.4690265830267837,-1.0060320704999972,-8.806843882551057,-2.6303911625911716,2.2778623739131825,-8.094044832554625,1.14380394124062,1.3767877141282463,20.551452312902754,-4.923039984703767,-6.800861854910822,-0.47635482198860446,0.5605139489601881,-6.883250469770936,-0.8581387021803144,3.45134404074264,-2.559795240457223,-11.873620645929394,-1.6813576235577483,1.4474884180881236,1.1080004298795496,-10.086684654556676,-3.6269250271615054,13.17874849942638,7.942751878442466,-4.651536717375919,9.388698613397931,1.6210307954972316,37.96118719816684,-20.857874743485144,-21.19578276557753,2.404071347786693,-15.017088956327507,-17.122555853243664,2.4371765874391658,3.6240409375464466,1.8284467805151967,-0.5996233974716536,-9.010047100532796,-4.451567696884387,2.490547815472268,-0.6493563994442848,-4.916150599885808,-0.2585580265799241,-1.7005197498767863,-1.418884175762923,3.5627736394253735,1.4966700276585856,1.3028670000160818,6.167942910169659,-23.48593990488051,-0.7456158708262777,-1.425920022288583,5.4368889431033125,-19.71375740479914,1.429641852191061,-0.5140802814741312,-8.521005049748897,-4.905215187125775,-2.451363057483072,-4.418407290417391,-1.8089317138577647,-2.834533723773864,6.562369714068518,3.5853397979186803,-1.4724684908819619,-0.7981245068480443,-8.594654245437214,5.9316920423648485,21.757025116921238,-6.6698718293061825,1.48435244758757,6.361602643251091,6.576654116984578,-8.156768343759286,20.729351623074116,1.3224773583965106,4.459390727621004,-0.544039451077045,-6.269816337117686,-20.26562691000888,2.553729360134747,4.543534074473856,2.4926075464794333,2.5126080405824256,6.316230112663436,5.319997822914229,4.560589126742843,0.5547633609537278,-6.289431599292929,-5.4948269249933235,4.638688790506776,-2.593602219935824,0.31038924367209925,2.5130115384158005,0.44391787968664215,5.326471806020624,-1.5588939238187594,0.9907469008531149,0.5791340665369822,6.540093674731574,1.5007380294916948,-1.4796307394051709,5.345099868341867,-5.957933036463719,-0.3588828172116495,-0.5043328461348737,-6.579002002008895,3.389815393515314,27.107371352865957,1.3853070262002616,6.314722645986161,-19.270791857763882,1.291454635243114,-6.511979916236829,2.3097850349981055,4.383367572604181,-0.30850348348963785,3.4594874410853764,-11.511505419481024,-1.7397378605537754,-11.246597670972635,1.479361261327556,-6.058682315257701,6.704680548664301,-4.69638896015777,-8.857837371928264,3.838437862962376,-15.513106239907032,0.1624963242736705,2.4649266076743674,6.531821752988219,-0.3823455815828904,2.4079441854993457,-2.3473026239941404,0.4054509525594103,-2.2658138259574243,0.3072259973578674,-2.514281928379435,6.246114450581798,-6.365432775112022,-5.579808806947485,-0.8599291408296591,-0.7414663566078357,6.528750480728134,8.411940082417333,0.6883202006195381,0.8303578559929763,-3.5207302021697227,-1.5839361263777303,8.539352910669464,-0.5739088415300763,2.5557576455499977,-1.4190416677544953,-4.540004856522225,-0.6187137369325113,1.5554916388735271,-8.822355924401142,-7.087069338893256,-7.161812635138876,-1.487386363876659,-3.938166631577885,-0.6568135824563391,-6.762182405976902,6.68466288835295,-1.6930942308476344,-2.706675840566705,0.5284598377537107,0.23655613597261246,-3.713916542738862,0.897170278388509,4.609703296863124,-0.6706726202120356,-0.5938133214165803,-0.6519081486210507,1.6632241170085282,-0.46707078170712657,0.4227485333525225,1.4123876953456402,4.179603182668602,12.401922718948283,0.3097861489030669,-11.5009666520362,-1.3824039216809771,-11.431525383762384,4.5260848203607615,-3.095990949230224,5.227445149954325,-5.505310960125477,-3.5874469479654505,-0.6068172460786875,6.304660423222807,-4.776571719730394,1.7727574440948977,10.780677866527247,-3.7950698840612964,7.853930092326323,0.47604807407444283,-11.89055412514666,16.373736205415895,-0.821945484618919,-8.642656693430277,-24.572730349622812,-0.8735023117480974,2.3047768396663266,-5.1616562832046,-5.396444771556702,0.4006860292819631,-8.521625307043736,-1.5987406195101075,-4.5715233258611265,3.4797468109043863,-0.5608701064097296,10.43542390211621,5.290621465272318,-3.2102992934595207,-3.7990817898588296,4.231976605026025,-3.4890902763322202,27.07134298261991,-0.5695781168388874,-15.408025978951686,4.605546206440183,2.650825063530503,3.5397733808445384,10.098361488493946,-4.584354996852287,2.089539577881093,-2.414976474077603,-0.7211269720653419,-0.5149781286356365,-3.9107832856117253,0.42336470867667797,-3.823283234104447,-4.6436116640028775,1.418770787724336,1.5387333144218676,3.477666731679989,0.46584360936914887,2.521401940390889,-3.8108552360322014,-5.8137535924611,0.994983883935141,1.636090026954358,-8.641217425874274,-1.6244713728913973,-17.147124300514268,-1.5682217693503344,1.5947591759393223,-2.735644663107781,-3.8016573632148147,3.13374863000339,-4.242702426683747,-17.209527665478774,3.7366563456052693,2.4603823606990907,2.425550628021363,-6.145968005424746,0.8783095386795252,-4.083054899138466,0.6762447858093564,-1.6375852653973544,-6.888922464698271,-7.887840167395784,-5.80229769708592,2.295972844700443,-2.038270318635066,-0.6879874603714887,2.4108331352650616,-4.049817099404462,0.4016199973150558,-6.980061629498376,2.6241912043279716,3.5832546083928856,-7.5073712995830535,-1.0782047999329436,-3.549775692085459,22.8400905594468,-0.8688333058364679,-10.039278980067426,2.449933890021991,6.573578864262948,-1.6851624732361852,7.561327128076873,4.568654549028767,1.2709728796408282,-3.625527711505766,3.384401718376999,7.3519715131825025,-8.342370058609783,1.352906388896373,-4.79580421673485,4.528581857647048,-7.6627194367396765,7.480142990853678,1.5076246729258285,-23.003224891369666,7.485037355285171,-4.8637313333493335,-4.516218905118427,-1.542434811239801,-5.158211942872075,2.6687222582065093,1.4671685748647276,-0.5562864679286906,-20.7056482242092,0.24229767897034374,-4.635469029077422,1.3833306174877686,1.4578516090437654,-2.633468329689213,3.339022741538491,2.4558439287528313,-1.7698448859595737,-2.105668797398106,5.59986649973499,4.3569486569123095,3.4038536376362885,-0.3686968923703878,10.279438593717831,2.392847304202996,2.553676338593165,-2.896092776703094,1.5195542742725476,-4.929568108483999,-0.48704919886087106,-1.3623690640085127,-0.29952453915136634,-4.982357014623102,4.595367854617135,4.257951314406087,2.4375265075183807,4.679551467728478,1.5386121126493815,2.509385858891329,-4.57480965635311,-5.7747079240133345,-4.8774707153017,3.597562955876017,3.4336613491987653,1.6534468412281151,-14.88026770792272,3.403426969339778,-14.742528068004447,-0.40141673025138086,-10.406539397709356,1.3530506692182298,-17.33570687359316,-4.973202162522714,3.3015016713293224,1.4099127570285486,4.414155105627986,-4.612195411341608,-4.169467606736192,5.698677094427942,1.253548517738741,-0.5682369757656185,-0.33085175149072116,-0.6700902869691238,-1.7283072291728379,-5.64612420789182,1.4503801186331402,2.5640811315869385,-9.853132757578257,-9.574355452989147,8.635380224550389,0.7126620729304196,-1.6994973307902295,3.6573084039208887,-1.8981930861947731,-1.6775710566253939,-1.5739699921849848,2.2839964121688006,6.250119991994865,-0.566507057242603,1.497125316542964,-3.7494203669578585,-0.18259263906881898,1.820476032542286,0.4454513390470886,0.4512410327947797,-8.876753172118855,-1.6628876954743474,0.1232257497775013,1.6394940229980945,3.3518546677502625,-4.801525921687509,2.3349300651730927,-0.6871436305403087,-2.076800077755519,1.303400849643438,-0.11997647080916753,1.5440652786199478,2.5561961043529497,-3.771752622467051,-14.06705847791467,12.138924362211018,22.90170882279902,-17.55195509072096,-1.0257582583541798,2.559469539651383,8.67061337494203,3.624468180221403,-0.9614507583341105,-2.5059567285472255,-1.8148987092513285,-7.006185677845474,5.760223449883688,0.22837713425931325,7.522617979211536,-0.648550057096589,-3.707497042102234,-2.790098179251556,5.241156810950229,2.271577184203712,-12.633302080662268,1.13779797429631,2.360232883933651,-0.2899095113012718,2.4470453377979036,-8.212912120906624,-4.807962633539969,-11.924707565150836,2.531921952177411,-15.433830440388583,7.629528307851948,0.2514619584904705,-8.076691390600281,1.243619149308951,-5.432189274376853,-1.510457681422697,-6.568506521620475,4.240260133528669,-12.318445249330507,0.47579030443189335,0.5779178121769932,-2.8109598087586223,3.4556083451147277,-2.790434682397387,-2.5925113124876518,0.494093088730047,-3.813516146644691,-1.5198107326226906,2.5710759708804702,4.128506602812763,0.4800211966454616,-7.529388217393906,-24.16485249891126,-14.062740886180308,-4.057988593474209,-6.509093473832835,1.0230817265278256,-5.397557320732604,-3.911972063825326,2.4874481837630307,4.681558108267372,-6.079434820795322,-2.3498924324984114,2.4123271112232394,3.5916519100969406,-14.238786318293295,1.3076601468167142,1.3763989403647292,-3.816846586603956,-1.5639844251588717,3.488892023876705,2.516308177756734,-3.589907658656438,-1.571490447222572,-5.8294670833767865,-3.7618723115000763,2.6963267646062787,2.524037798871568,1.6273057110259976,1.3793879469784827,-27.35724726654379,4.3269700743775825,-0.003363314247791273,-1.6509450720698033,-4.046258536759616,2.3172842612086217,-6.288817061303985,7.561086831634431,-12.842450642017235,-0.5133794483125144,3.290403129993217,3.562601175687042,2.5411135427000047,0.4164086655724492,-0.5705385146408045,3.567799689783649,-5.771044516511698,4.277803927462936,-5.674875356275985,0.4434632699588531,0.538451806375701,-2.621608464074461,-5.361202918789537,5.426845523432733,-0.4185524492428827,-0.34749708007820984,-2.6163917130249925,2.10246917297576,0.9791304376635093,-3.8224534446316927,0.30778783689726824,5.593068425798374,-0.2806181072221958,20.860869232716325,-0.8211696813274488,4.779843655398006,-0.7592551888367581,0.12548901843044208,1.0779068652386719,2.437561354580122,-6.452042807453653,4.4544871505087915,-11.083176297776884,5.487055274021388,1.4390821196204548,-8.52141068990302,2.698937256605337,-6.709372877884985,-4.602075187155105,4.409952292539246],\"y\":[-5.0795187776576745,-1.8946246231243722,3.023702098086718,-4.532731538859917,-1.4031904714672458,0.5637169954271675,-5.956856852535178,-1.682572274297155,1.0787594780176268,-3.3339540584090077,0.7135875010020232,-2.9053461805561973,-3.2712458304023504,-0.6201223983575678,-2.285935452963699,-2.5116523890944227,-2.6873413297289397,-2.7660136637389474,-4.481610101452144,3.440486322281154,-3.6779407631265544,-4.792003727657573,-4.5281029465897005,-4.959312187553107,0.0791634211881815,-2.330029130903462,-1.1840907716013214,-4.1424402076798,8.834763735543376,-6.11396660452699,-1.7033519124052814,3.398255195122726,9.547897485319588,-0.38701202847739685,4.886937376516904,-5.602721950773345,-3.728056263424634,-1.6038055751578701,-2.7945701085494217,-3.9136586752331217,-4.795966781413531,-3.400380338596239,-0.344381990131741,1.6295916536792734,-0.5982552512388438,-0.2520625589410891,-3.679445998084419,-0.6188724718757246,6.7091211502478085,-1.850267478108369,-5.769179054039656,-0.7597082277575934,-2.051713346583898,3.570765414184729,-5.550367977715809,-1.242034112988282,-4.544258068087987,-2.5929531153673895,-0.43850302507330813,-1.200949615749933,-1.247591779612939,-1.2724414299300395,-0.7649267093030897,-0.8661041563230729,0.21178646333538023,-3.160624794791967,-3.127314818345382,-2.1530422242425695,-3.255634050625732,-1.686182140000567,-4.230285269262432,-3.514350574027039,-2.828455572271879,-2.8530093071558165,-2.8735211262262395,-1.3229201316480304,-1.9240161161476532,1.5275471785095793,-0.6435640231820925,-0.7028625967885997,-2.776624397115745,-3.7453565598713108,-1.7139506645066933,4.209677667960308,-1.1378234233251934,-4.728159064464346,-0.16102083523837857,-1.2011443559774821,-1.5065212988980805,-3.6827171738702495,-4.3478052575772885,-3.2030074844380447,-3.826139708250486,-2.888537666293651,-3.731350902247229,-1.7010317520052838,-2.9072319951821184,-3.384786433920025,-3.0949649564177544,-1.9263632093388652,-3.8490779916390987,-6.423263421509019,-0.9059631191381842,5.34231385756139,11.569154476702664,-0.5458876014073718,-3.0643698648773587,-1.8025879955668522,0.4208554872946485,-3.5991404512444833,-2.5060894408019454,-1.4636423716229132,-1.1234326930823169,-4.323479916270809,-3.6534499812929773,-0.8646323928110713,-2.6530901904523194,-1.700418557096143,-4.189859639469219,-3.729911138075259,-2.292349759504504,-1.1817265636255507,-4.183023176221049,5.209782821033367,0.3207206912458098,-5.175075099275689,-4.447883698346445,-2.900614334367125,3.9155206128499684,-1.7556220007136922,-4.508538825436796,-1.2227391535816081,-1.858542398215885,-3.944540157005249,0.7608828863697427,-4.588670463392658,-3.7495410801112063,-3.7105705666679762,-3.829099681969124,0.3927233572480103,-1.1918838724816225,-4.293751102794431,-3.988795810333708,0.22152730885496422,-1.0470689708063439,-2.2180599597254607,-2.646997741881901,-4.300542109334396,-3.6918228773771657,-3.92892125252345,-4.370207033333595,-5.720471232615337,-2.544765000400529,-4.997363244485736,-2.940386984854116,-3.7807046031960856,-4.587445882245362,-3.0301559051364384,-2.9010610071318625,-1.0554541431731437,-2.927660275277913,-5.48396680608848,-3.4779208048666357,18.463611366340057,-3.339313407907983,2.6149041158519446,5.370382121713957,-4.176072123278974,-4.914036330814229,2.501915199132341,-2.522698455162799,-3.8509868506497593,-1.9941296148292451,3.069549566792945,-3.9200109809520858,-3.5196256888921207,-3.547127317362993,6.173085528328818,-3.452017437979782,-5.186575682492603,-1.6233514162812466,-0.42890066339368926,-0.5237624825551268,-3.7219814407096594,-3.167817742425929,-1.6354994753968022,-4.196836087296976,-4.449580616873824,-4.355501156736494,-4.352807085875434,-2.824286208419502,-2.410904816714646,-3.3325307014332,-0.1142797027510856,2.5675929876813646,-2.481651572056655,-3.9084210411113047,-1.8462319415856117,-1.1502079481637482,-1.984152704040986,-3.5608740156411254,-1.6659244155363002,-5.858107746815631,0.02755559658152359,-2.805232259153708,-2.786796378601951,-2.2636650318578537,-4.102933795915908,-2.8607879470936326,-0.5652890130765289,-2.4274956259718037,0.39409384430595296,3.129604315014873,2.257243995761199,-5.079263973753555,-1.6608272047919919,-4.384991055938072,-4.160552178234202,-4.967150937232684,-2.5091694086894636,3.1951245847462695,-0.2187793190505443,-4.070127991421058,-3.4536151971807127,1.491042631372315,-3.1338347335388033,-2.454391648962144,-1.311538939727077,-2.985287146803284,-3.418693397080527,-5.3398099284940255,-0.23243578391531455,-4.537592082855554,2.7942635792107002,1.5734021458072451,-2.071677741567058,-0.7221154271160924,-4.245351042427313,1.5704249477893728,-2.8288229963411706,-2.434391419241425,-2.1909012618052497,-3.944749106699044,-3.417434685643475,-2.3142498247515784,-1.9241508598248331,-4.824695885752765,-2.7676388703515213,-0.5225403269653179,-1.7845928354641536,4.624897899474263,-2.2487105490129777,-2.104200480747473,-2.853820287060152,-3.0067055575484027,1.2897248608736274,-0.09774683568271691,-2.5439022708402748,4.886676634726723,1.6254979019367053,-0.8318498805229524,2.3272815355529617,2.0783605448571723,-5.3948871044164575,-3.7583404499894852,-2.9185109094851667,-2.062345447260144,-1.477694573653808,-1.0865973210477469,0.6397931335339874,-2.0530311567871684,-0.0747509328539892,-1.9910466324320897,-3.131058145148761,-5.036376202445667,2.6379591529904487,-4.71542546544063,-4.025151171512557,-3.8903611691489597,-5.488983390761845,-1.5562015698401785,3.7975336256862535,-4.497760816501299,-4.6037907061851,-2.9865988705130557,-2.126795072515938,-3.5216587326122615,-5.398009033206621,-4.600354887733507,-2.356719809255734,-4.444877926411138,-2.620963672179984,-4.688025748410149,-3.1336170893883946,-2.359587354269437,-1.8060001632310663,2.352729280811822,-1.497672600473093,-1.1077274344571344,-3.7508202574954446,2.585311683908981,-5.544755707198106,-2.7592408566406452,-2.174966383150224,-1.1356284297882204,1.9149874709925425,12.063727588552362,5.30503758776565,-5.129426783033763,-3.77002350245746,-4.554586466802413,3.4588225885844452,-3.5156016092363225,1.210728497321034,0.22760079169858097,-4.142682746287743,-0.13619508462094831,-0.6766661597764593,0.587851923341684,-2.6671481351965665,-0.273445941527158,-3.957182532084083,-4.428559909896979,7.425681490267436,-5.654731647034752,0.8892398298881873,-4.511658597024067,-0.6674798773086511,-4.083967101743947,0.8688266976400635,-3.3826667693626966,0.399475661874582,-3.044710560441825,-5.626916967614472,-4.397975480734947,-1.9411724366193976,-3.5221981178717465,-1.2926136626626794,-4.242599338131117,-2.9450305953353224,-0.2588725996624987,-1.5128763900561033,-1.3004012308323165,0.7941023812062453,-3.0739146905415926,-2.841737440425927,-1.6845764954990072,-0.6969574271436559,-0.7808597831843711,-4.317114654490656,4.602637859372249,-4.200704518098112,-5.438719902008467,-4.745327483158854,-1.813858217128701,-1.326552089499277,-4.42246780929252,-4.638779907175401,-3.8030152125034635,-0.25325426642110627,0.8097450717574189,-5.004336185557538,-2.32655979942511,-5.004504166102884,-6.799023839355113,-5.877054210216509,-5.949042840019132,-3.8420502560342586,0.32129120639861464,-3.9030596961298762,-2.5509724546351618,-3.462919164388838,-3.306917869556248,-0.16220338420150948,-3.305141586919497,-3.5357578906584664,-1.2763467610505685,-4.37669986803185,0.4200989802361103,-4.972459789668905,-4.527709976830972,-2.057566574285647,1.2981141390019408,-2.9462099253972207,-2.743031157478236,-4.160166441913837,2.375210549130955,-1.5272117705219874,-5.454336915706066,-0.416803111592874,-2.8262990673166852,-2.869906819512005,-4.339327084033281,-4.101255302787615,-3.1864122039473615,-3.985312132491982,-1.9964031221716638,-2.974436755261166,1.4660161761478019,0.41641906046509314,-3.598305971253041,-2.624116272869158,-0.9633876175332258,1.085801551336472,-4.26525714297931,-4.487896831430516,1.3727852334485426,-1.8018709916614672,2.4840650180390087,1.131520876997636,-2.980265320979036,-6.112635856479988,-0.681238344737331,-4.980584829015434,-2.0734091224881275,-4.449376461875032,-4.548944808589089,1.3331148420228514,2.0940775558810976,-2.1007427324819847,-0.37576533114825483,-3.236343266981542,-4.113521437781077,-3.239161274848132,-4.4334862389184,-5.686441324227541,-4.1826606977047875,3.2375930928990257,-0.4083133134019183,-4.535253647765001,-4.040065317311922,-0.31683981804842115,2.072268910107995,-5.443501456677485,-2.76749995341948,7.092610535412853,-5.072540898796022,-2.2396492497802654,-2.4400249276252315,-4.005158643880458,0.655138075118571,0.9638137413428504,-2.1344162865603638,-0.20058556816410808,-2.4861288111700977,-3.441551987523819,-5.460229976837991,-0.31113050148538735,-3.85612964411291,-2.9609144269855934,2.8318204061834966,0.3207823890308963,0.04587290472081193,-1.6959883123150683,-2.13968576704284,-4.971771981398322,-4.320579697433593,5.15079221243542,-4.393106153362307,-2.771134583273458,-1.6285964536288682,-4.12285996131694,-3.991692377105227,-2.6948154501169377,-5.952913558457458,-2.116163336586567,0.415765189680743,-1.278732108530061,-4.934092758395056,-0.43532682726765104,-1.3924259771192464,-5.071623323656795,-0.1947394008057696,-3.633446179163369,6.034238807323959,-1.3828693261466445,1.0061334346706978,-3.6583622972102905,3.91887575926631,-3.2110168364231133,-0.4965294864998601,0.31409618731747807,-1.8860332355119909,-6.186708656945625,-1.1358238395526734,-6.0085901148819705,-0.17522265632248543,4.318222246867045,-2.3418423185957846,0.2768578283648248,-2.964540869453451,-4.219743567140217,-4.127753617920547,-5.382168011742827,-3.735648573231148,-5.18564919873204,1.010565514241235,-2.2907541264433546,3.2560609290015865,-4.550503395768058,-6.174196315203044,4.904822146152147,-1.7605036801218252,3.3922002222811387,-5.643313928001836,-4.489030950480622,2.288439465419214,-3.3240767999006398,-3.879447879556363,-3.0961079510578178,-2.2338068654998238,-2.3523242587637907,-2.025034192968425,-3.511128378611854,4.8083384280286525,-5.9779857903148335,-3.7400945849463456,-0.2370458076575519,-4.067887096569887,-2.958424611947752,-3.4765744100427662,-3.2058514718274713,-4.464577404068851,-0.3499476305571297,-3.089334678225932,-4.189635623223732,-2.7649580443601107,-4.878197924074623,-3.8114532092212157,3.9233752150983983,-1.0964636499836702,-0.489568768437953,-0.4055644892713577,1.5974439570158534,-3.6804120730123016,0.7468722107848605,-5.291848400185636,-1.2821106947860303,-5.015608549081979,-3.8499210870117957,-5.0688902761845025,-3.5750208667667285,-4.746352041388039,-3.7435003984252435,-3.7389408936740054,-3.109696862501336,-2.564419107168354,-1.9899365421535025,-4.471350165140134,-3.8747351101269905,0.7027730897679394,-0.5039744741952306,-2.28220317342072,-3.4622678728912115,-3.809814192144113,-3.671052670362228,-2.482604006082006,-0.6197938330156869,2.1854416781903656,-4.168092223128743,0.3669465654876837,0.004240864090663554,1.0089074905859994,-3.0826870024547226,-2.354504337029008,-3.50148499489667,-3.846697918505556,-2.2575338338020856,-4.029083664536785,-1.6841518571580354,-5.768868712562537,-0.2649754668390495,-3.551785292483079,-4.5823938823614005,-1.3451410712233944,-4.2631263343693035,-5.1523717878927435,-4.533290065870567,-2.993834144940207],\"z\":[-0.32747558542493344,2.0663595499506404,3.608498192027138,1.681105351072145,3.3503120416419323,-1.7515473294980763,-1.8784854552055679,0.5774628157203362,6.224705326894737,0.7012360614477305,0.456274115024219,-0.06293488848894381,-0.5662354937855468,1.2933775239182255,-0.9310274141984848,0.13054280149005817,1.3959495176674868,1.5817660560978628,0.2518485787117094,2.5146945900173927,0.35991229405329983,0.3118520472390007,1.3817759098351574,-0.3163490268138551,-1.465645733698937,0.5754931937869658,0.7133586542990648,-1.5217553050442927,-1.6135110121973184,-1.654343735288033,-0.4402143909907635,1.053446755336078,0.44232075968864615,-0.5251339651072782,2.016236265321197,0.1955923381218484,-1.103777849142558,-0.16229221290984408,0.31731718503888584,-0.49267858161388955,-0.3933910503517044,1.761542254854743,-3.4519176183676885,1.4943897187204138,0.7751649426830544,3.527090537537242,1.659846958475591,2.7344025391031868,5.067059650710265,1.2432253810546616,-0.06372168713304366,1.5322821575252925,-0.013396445127825124,2.8486736190366195,0.13784782489220598,0.9267585373288708,1.3966605449066083,2.966608759001897,0.08794366945268868,-2.0286372526155394,0.5778370755553284,0.3291417188849511,2.944905410603992,0.3743397226217985,3.622998784757554,-0.7446338026771553,-1.244084812965958,-1.7706544895261864,0.3925501926185763,-2.1802312756367184,-0.6007578021078819,-0.2967060329203447,-0.12217374912022093,1.9040789711110473,1.3183007662221409,0.04757297300624897,1.2364838377683218,1.8441502284929565,-2.4830480444130836,0.6027170574426409,0.7235936050191836,1.4498988259512502,2.996349374029113,2.9712668285382864,2.476388959090291,-1.1213545899996868,2.6957456524677808,3.1268677655651826,0.9120437412741156,0.5549623147167161,-1.9286500798057067,-0.7059884223459684,-1.447942458400007,3.4523308691640278,0.6484204934223334,0.7034799100709138,2.1121437188546976,-0.3214823788139733,1.1521294165140286,1.2405102774644243,0.5318475336165502,0.34351457151621706,-0.6945856432538006,-2.835940493093731,9.089677609236128,3.430826456602166,2.911440986075466,-1.235893454255216,-1.7079272717427258,5.056290041670958,-0.7576244382522747,1.219263214586363,-0.13429297636438012,-0.8854788309644284,0.23002059347918719,1.0984275207634537,1.787153032224028,0.5136686248190502,1.0004481627063384,0.8040973062694793,2.1040679048047437,0.7669067697839501,3.4405897518982522,0.017528071431522792,2.926627605454749,0.11235983657540374,0.16834052043191336,0.5896865423045945,-0.5351097246687958,-1.9386753398136147,0.012347023469776675,3.2952849101012833,0.7638702088042183,2.1523966449423466,-1.2230705821388912,0.030101017809724684,2.6956361732461462,-0.3307221235087091,0.8745777654046324,-1.0085097355912596,2.9034934483879793,1.2860622199449663,-1.470557655659564,2.9254509051869007,0.8247245809783486,-0.8613043668890856,0.8411521931433574,0.17533359383825708,0.3985933840987351,0.6097711199275365,3.183714572737512,0.9996706673238988,1.756095368545982,-0.4200684149093558,0.7860659253757797,0.6716979821032868,-0.9662815918599111,-0.35484442600305616,2.77522537997866,2.461425191273118,-0.33459161827059314,-0.09500142609380319,1.2518337462395044,10.871750075787155,0.8945692126803111,2.431965308019038,4.199507966847659,-0.5526415683856943,-0.3371334306150455,0.5486017149914307,-0.40159555816187237,-0.20199501571219527,-1.8176925021339039,-0.8710822080051408,-0.9507883419543426,2.8934650053100777,1.8577680427096896,2.3581625470155765,-1.2419204001175712,-1.1257208247899408,-2.8746108057793016,2.152466176748347,-0.20705216907492616,0.5315472380365156,-0.6421941950729073,2.739163796691359,1.029331723269247,0.7507550355584964,0.8717727765008063,2.771319378815146,2.9103121176007227,-0.26404931203741855,0.07580738335181708,2.465799048351858,-1.7932269664052305,-2.0221406732240528,2.020169662158531,0.9361689948474508,1.4984066559255407,-0.6478520189506757,0.5445894340521943,-1.4971157767140424,-0.30861997581667905,-0.5649024023716485,3.619486752777272,-0.12479243811828221,-1.3204760091412813,4.373505447062679,0.38252829235631935,1.4337277604146696,-1.8224288842968355,1.3927603434753326,0.7806272181010474,3.5628804635771893,0.7688086421816992,1.0689272635577853,0.05561088194313337,-0.08156882675674877,-0.7776772171950628,1.850998846567707,3.3346587532987906,1.8832024650115253,1.1854579170792088,1.7994247707756024,-4.078598573747192,-1.4629477291768205,-1.4684703741970957,1.2883075839921367,0.0434760726384764,0.03776526206123754,-0.5734072648692439,-3.370031980631171,1.2599717457475097,-0.09847792438135482,6.519599092538739,3.678576761101538,5.013481785774572,-1.4314878348434026,-0.9191420406876204,0.863135696363739,0.5120670054615127,1.3328690154765537,-0.06987236847535193,0.5713763324301198,-0.3901700875317219,-0.916134387516964,-0.2256622559607434,0.42005834541560527,0.6891793937239884,1.7304539231777967,3.8074501173493682,1.0957092330203486,1.2332096524737335,-0.8190207689371705,0.82260074398504,0.05493338882999234,2.6617836848006924,0.5779152195274515,-0.18684435974043018,-0.20341608814765566,2.383603808363752,1.1821010795150066,4.149427285269126,0.5994070690372385,-1.4589267411881388,0.030736470857709346,-1.805264311940982,0.15742363554892555,1.6501925282671548,1.4678393923162245,0.9849953698449609,2.187787902516132,-0.5468702830816582,0.5956744684083812,1.204400747623522,-1.4130151469172518,-0.0837232120206843,-0.1966399040376028,0.6745062422250979,0.6607294771814309,1.9878979481936139,1.936451495169081,-0.10414947225551038,1.1649372608965363,-1.2521465914638126,2.9702858453349092,-0.4970670480997911,-0.03274109521352584,1.2474201247732035,1.0444605058698138,1.2562239417996754,0.16120669269466853,0.38992627805198854,2.497884798924177,1.6891626968277558,1.486319341049197,0.9176388874221575,-0.6299431874800291,-0.3530813382846323,1.170068511967692,2.675126016223689,1.868268861165565,0.4325893276368985,1.8485925224198536,-0.24269183123462884,2.0884986034553976,7.2608455264266265,1.2286221108620161,0.6828260359206353,-1.2574427389745846,0.5332229823682855,-1.7197646387779117,1.912287629054386,1.4963959761410202,0.1465171463113195,1.9506503255893717,-1.239979140090245,2.0939535380619905,1.3600525510455073,3.460933112584104,0.09575255816311218,1.4109186150076398,1.529790772505554,-2.4146594959754073,0.21632132742818605,-0.5994888053065638,-1.2227935902759866,0.3777584034572818,1.3910911552872527,2.7874901277133555,0.9140746041082379,1.6691342456837033,3.3442059679989664,2.99872276488371,-1.4679527723994346,-1.018611878676284,0.06566363810952067,0.19679567585467872,-0.21892122727651234,0.563928888650665,-0.041916363833883356,-1.2382630906764733,1.0615922000518732,2.9018461784074856,1.6516987673877306,0.6710783909283369,-1.2104990223918792,0.4062952881074355,-1.0008932031895912,1.4972030473828297,1.0413084194453266,-0.008676210049308226,1.2589132898244042,0.5381939585400763,-2.616557661883327,-0.7028667529015462,1.8271213241053788,-0.1235954450203079,-2.9477358146349277,-1.2736780534885408,-0.12093621756206842,-0.1631535220006734,2.2024565839769767,0.7996940485350699,-0.11800828658867701,2.4830869967869895,-0.15991378315979082,0.08382049423498258,1.650475989163227,2.0064688797058223,-0.35091443972750513,0.025562201784673392,-0.39088570910235754,2.397199956631705,1.672425653856094,0.6388690358516097,1.3234841774117987,0.773499494137837,0.16962938844817246,-0.20168161510447902,-0.6190123478663292,1.054995693514879,-1.6389215511164619,-1.6647872554372196,1.6039646277547135,-2.0864114924138617,5.041082917310875,-0.6101085001389626,-0.16360028417636446,-0.4195134373688409,-1.6458512085948098,1.0904818954565711,1.7336318613977486,0.5974046864384088,-0.48408175685046073,2.8071532609010603,-0.9855262090185887,-0.4625184192588167,-1.0264394400656216,2.742694259999101,1.0549513165963282,-0.12043484474417596,2.3086622221725404,1.0038139741357572,0.42596930425806034,1.4922356497632905,2.44496511670053,3.246433117098394,3.56016231524588,-0.3620627499685936,0.39950594869535777,0.8406002961954031,0.3025690131526944,0.2803332455289653,3.925939467743999,0.010491019113500154,1.5597269034889916,0.8604391500813618,3.5888552883080784,1.3395665895604028,2.7932635486015323,-2.172052113898521,-0.7256850063896203,2.083882006400186,-0.6093883366229164,1.31178998004872,0.7418224286541493,1.2074518600270925,-0.19825659905342713,-0.19655361537552288,3.355921972841569,6.2672932337989655,-0.42739158108275405,-0.5119738236251034,-0.15121154256613173,-5.863336067418909,0.6858463140732725,1.1804329374768137,0.9018802681516387,1.2297912568795974,-1.543088097239136,5.958791742903647,1.034733110550372,2.360187375391632,-0.942922255836514,0.008472724837085152,1.026566471084526,1.8053034496481775,1.200744887458061,1.7359608997443694,0.360873244509577,-1.47076992114363,0.3421017665681555,-1.284537282211264,0.8443986069203585,0.9292104524018624,1.5918165852340207,1.746750486007596,1.1427176775976742,1.7227520127741798,1.7779108102837415,1.0277929183291683,2.327027133378419,3.147409747279024,-0.8138233307880343,0.2045399598736794,3.214185017353161,-0.8248615605511783,0.29031951744506707,3.2821318659292436,0.42009005691616524,0.9338320269165669,-0.4747002898462654,-0.16919201003555207,9.048822342670515,0.43939038510797196,-3.64637636009802,-1.543563069035903,1.4373040224768263,1.4540922898742734,-1.1817806081142699,3.4096495453434867,-0.05963880889877434,-2.726597564275,-0.24339915802213388,0.819433827335533,1.7923828447757693,0.358478177629703,1.3106483926137398,2.9567892549696952,-3.333146630543182,0.015296029540186312,1.5227527331325728,-1.500168884840002,0.5596830642719792,1.1570779400368345,0.14096268159664235,-0.41297337808804335,1.312900348887614,0.6879971369036818,0.9343832281672649,3.313229254898758,2.873721409580455,-3.0689393930589763,-0.6401618442455451,2.0936899201001253,9.1914580771944,0.7140234770819763,-0.8642990072228883,-1.3868106798872717,-0.5340308447992942,-0.0765354684858269,-1.5646155585360964,0.7648625943179591,-1.1388681351319532,1.3950075605311398,3.6606999428075393,-2.7985499761708,1.7202497389532845,0.946436112747043,-0.4342231963219651,-1.5626212425665291,0.32031092305927744,3.0976111834679285,-0.5831363161967139,0.546361321028739,1.1341386091428658,-0.17491588554405105,2.0300191734374136,2.2812494416648135,2.2996152344060583,3.0257971289375734,1.7838496382685447,4.504462816183848,4.108564021506786,3.8887184572655724,1.8037291496232986,0.7095717398158022,0.09257993221581311,0.9325108931638696,-0.2177562963176597,0.28077937376448353,1.3900844933029683,0.7474933541172756,0.05904392057301606,-1.6735480885266982,0.6949670707381904,-2.38019559815992,0.41484657360579213,1.2046099513667405,0.3134591192516363,2.1510648712917484,0.4967727668757996,0.11644466127030452,0.2293714069414028,2.750900405812017,-0.4639467625672519,3.809209994237119,-0.16071917383228834,-0.43380933349452555,0.09099521033911995,-2.7152942931341495,1.0905793312409442,1.8919130574900445,2.7151549212205888,-1.6804993069687952,0.7391871618804956,-0.7264754834635376,-1.6686540689606641,1.6665330133211762,-0.2379641967747039,0.0545734488291913,0.3357122412454349,-0.0844011341694741,3.1300204247111774,0.9744362620033326,2.369399751428705,-0.7936034672022568,-0.35186427812812593],\"type\":\"scatter3d\"},{\"hovertemplate\":\"color=dutch<br>0=%{x}<br>1=%{y}<br>2=%{z}<extra></extra>\",\"legendgroup\":\"dutch\",\"marker\":{\"color\":\"#00cc96\",\"symbol\":\"circle\"},\"mode\":\"markers\",\"name\":\"dutch\",\"scene\":\"scene\",\"showlegend\":true,\"x\":[-4.921304832389228,-12.052886299253908,1.1749809119141255,-1.557765911115194,1.2162242634950002,-4.095501748424403,-7.990969879951946,-11.52746910736904,2.376765269393161,3.276551624238884,-0.846124169676323,-9.565577447326875,-1.7031408076500967,8.393912968472275,-24.504252939334233,2.573709630179503,-34.39181306673485,0.22861670610116344,16.44918986960761,3.1807386297081433,-15.887306684216679,-5.1800384729700735,-1.7735578056342813,-7.730568837688797,-2.5183718325275906,8.812295486411802,-10.019088806777914,8.375731398515043,5.200828013557574,-7.846903799550825,2.3493818315058563,-2.8910111042525686,-3.5745773419484204,-3.7263480545069223,-4.779753126521452,-5.122918957853254,4.466001507812825,-1.5501152245650582,-5.423740934008011,0.21076376454879034,-7.81979212274352,2.2892779121287132,0.36543697974063877,-11.86404706911088,12.723005523966197,-2.946223096828094,-15.554932265563314],\"y\":[0.8411035940375913,0.6665608727232177,-0.7224442706660591,-3.099802560108678,-2.508650855052438,0.6589010962628298,1.1345645078053268,5.350805236334178,-0.5809794507944522,5.392390155131693,8.07985536803179,-3.391666105781821,-0.039779891762372205,2.999617787805638,3.2528235383590625,1.0042093971272301,23.930402310684904,1.8328476822646693,-0.48502806541390703,-3.7746164690775235,1.2330939064863928,4.748052649156067,1.5194989958997733,-7.0292373010966935,-1.413730105642765,8.40780568126364,-4.489985307982572,0.35881637988785614,4.663033288946677,1.1797178671741122,-0.573591127710238,1.2245881712874598,-4.2661680059741895,-1.8958014076596006,-3.3743882882278675,-0.7422810877501405,-2.035112361450615,-2.3369672516596234,-1.144896333696138,-1.7158000948373446,1.9584105805390468,2.152777339857802,2.390794666019977,-3.3284708450257066,3.6581040413870958,-5.4314779699154,14.469450907103834],\"z\":[-4.71108008193674,-1.2183616774011508,1.5612089162738394,-0.5909833959682332,-1.5554000443479918,-1.019613512372398,-3.455558272550291,-0.8961121030962965,1.019623914949445,0.9604460194700232,-1.6005676663691628,-0.6637218668472006,-1.8261618451547148,-0.1691301833230624,3.9222596657600692,-3.8930512004971076,1.8365388587409908,-3.5041143832806276,-2.8623210408908926,1.17919102724931,-1.172841311269833,-0.27371158722722577,-4.000097187400178,0.7764924356406029,-1.7488193609522855,-1.6511588162941973,-0.31522402671208005,-1.2639704966843779,-2.8477815462335645,-2.310507670965373,0.063609081329705,-2.4082904003372403,0.5132546951448996,3.449000156811651,0.4099545398151762,1.2637750047152456,0.06841235364614524,0.3814146062978058,0.4881193623573562,-1.6344687145155328,2.961218118883078,-4.7335162741346455,-0.5099610895399596,0.698316932644997,-1.6519076275421496,1.3389850610820242,-4.081037795883454],\"type\":\"scatter3d\"},{\"hovertemplate\":\"color=french<br>0=%{x}<br>1=%{y}<br>2=%{z}<extra></extra>\",\"legendgroup\":\"french\",\"marker\":{\"color\":\"#ab63fa\",\"symbol\":\"circle\"},\"mode\":\"markers\",\"name\":\"french\",\"scene\":\"scene\",\"showlegend\":true,\"x\":[0.44562575601169907,34.62564189788203,-9.191715661261354,-5.162121644273974,9.262576701806857,-17.263337919400566,3.0293360303857693,-1.0124887444232107,-5.983097996833664,5.049704194164128,33.50301811735002,-9.351934253204814,-17.356879616111414,-14.853971101068401,-12.13572415546724,-12.753527337844469,-12.634748629989078,-1.2565588428885877,11.168441848238492,-9.046769907702894,-0.9520947854238125,1.4419535883675518,-0.9937022732894586,-3.9116886429411157,5.3222441641335365,-2.9876078658368574,-14.592826181608299,2.548573091183971,13.11768807639378,-2.816733488806937,-3.8988032983692986,4.427691058545683,-10.6010977178763,-9.308440350995719,-0.49957819523515257,1.5753614879591167,10.843090583953401,-21.205222984262075,2.649860215331289,1.389815830875451,5.232738756484076,5.329267160662369,-9.679879292023065,-5.530262560536257,-3.8382022731903978,-1.5918277420542528,-6.275739947808675,-2.7806772465405047,-7.962376774519118,-5.952302550094539,-11.01823198997314,11.564411402371924,-12.976705097572786,-4.232896603690516,-0.783892292704803,-2.904253231259734,-1.3749868688282851,-2.5840037171618,1.7600566725527573,-11.529348013314527,-10.781926592261621,4.47309675365203,-4.91983207481307],\"y\":[-1.507496991854563,8.53377541452171,4.634076587748936,-0.04884801546356703,-0.1080976965954054,-1.1051637975536306,13.672316663460764,-1.096909867367128,4.356682173167902,0.913449240908119,0.782467647959344,-1.1459022103956409,0.5170607196475946,3.6481009463429754,5.956621264969439,-0.1981182554117047,1.0910154182696812,1.9622058250539933,2.1023832232374904,-3.4744725661878544,-0.5757230428625513,0.22730273169211487,-1.7037544935649307,-0.9131210755500253,-0.8625575874528159,8.334529560694644,6.84523091581592,1.5629905314379762,-0.8561024957307781,-0.7499140881553491,1.420194438574505,-0.07032788453185707,-2.548489397170493,1.0948280610226637,-3.4757469890611956,-4.718680952623955,-4.1939409009763695,0.39607930472605396,-4.346557115052106,-1.978246651012434,0.5099436219142176,-0.7333353136134757,-1.839845766395967,-0.4926695715942957,1.7619196389543283,-0.6780354451380578,5.883588537878284,0.22980023947529885,0.7265113872794126,1.3544863611842028,-2.7277368421008235,-1.5031361649443589,-1.6910232968808918,9.633734719372026,-0.15906757791806694,2.9283575063713596,11.8851744392598,-5.722619347713217,0.8421947261619075,3.0082749125325963,2.5080206902288045,2.142455275850151,4.7885634299236015],\"z\":[-2.9819145945803194,-11.347991337842881,0.9589477216825276,4.238843252746553,-0.7967104619382848,2.031625560639494,-4.7069527602942145,-1.0663893011592405,2.892720772444956,-0.05800007289896256,0.6991136913422633,2.739596088789166,-2.455259227227173,-0.9285813628659205,-2.302865863185088,-5.164672928993056,0.9940059339650444,-0.3634893710524177,-2.079084232674815,0.09682967060313659,-3.4863992911488566,-1.2185413183839267,-3.049547582828644,-0.025785503364056713,-2.555706094094376,-0.7491873465319796,2.566976274224308,-2.680324456564453,-1.3425188987595544,-5.270883000829488,-3.640548379695406,4.614489750708579,5.989722238923713,0.16235637505499792,0.5531307454891229,0.3038825948939932,-4.250840765108852,-4.756977488706883,-0.7023895331935595,0.3745065321630588,-1.1903103111243636,-1.0773640052742575,0.3950061876133729,3.7282999629990723,-0.4807521690688688,-0.9372666773439196,-0.7940922735050367,-1.339332916134875,-2.0644097971488624,-3.366982376014526,-3.3217450023947483,0.6950537342414154,1.612733610374032,-4.605263029319451,-1.4318993508617088,-7.581798553512354,-2.388306794862294,0.11836177839162146,-1.5938426594501693,-1.3557531281514013,-2.6784657742591893,-5.34899223372157,-0.4801648988048521],\"type\":\"scatter3d\"},{\"hovertemplate\":\"color=mandarin<br>0=%{x}<br>1=%{y}<br>2=%{z}<extra></extra>\",\"legendgroup\":\"mandarin\",\"marker\":{\"color\":\"#FFA15A\",\"symbol\":\"circle\"},\"mode\":\"markers\",\"name\":\"mandarin\",\"scene\":\"scene\",\"showlegend\":true,\"x\":[-4.709494821703422,-0.22750729156714647,27.68534566547098,2.007413401230603,-10.274684820027632,8.856045285684921,0.7018081850387022,0.8052120158071921,71.37279875254293,-8.156147884072668,-1.459342912904486,-5.450242536917352,-14.124276642738607,3.5983849652218547,-6.278690513868097,0.07358047325409428,-3.7869429982025884,1.0594620906956171,-36.754141341443,19.81095800523033,27.254624836018397,0.9131519281994562,-4.701556854333174,3.7490604982808575,-10.9307931510488,14.106211166865993,24.244126619639097,-10.730543884396962,1.2949744481661674,14.981693863750811,1.4813946770249082,3.312471587246684,5.762322501805003,6.6966280733175445,-6.839300911066137,14.846248669469574,-7.5449444901458085,2.665508921325084,5.540109147477532,11.610157900101251,-14.044235825778564,11.449067641615645,12.354157622765566,10.841164252667461,7.547108729865121,72.90887401076048,-4.6230624098062005,-5.634903782987739,-4.411058500830603,1.0554898749881438,3.95867577332138,9.622947236798417,7.523030225927134,-2.5122255227652706,3.2628377649831473,-1.2985741293632207,-3.7319057228180212,2.2950448245136412,17.798055446094466,0.17905728813748795,-8.827508607529955,-11.26606478814096,-32.30971515510442,2.591821980400147,-15.70816448516832],\"y\":[5.828619506457619,-3.1911787871469954,1.6005250811994276,1.9721703474490002,-4.244231041741297,1.374198074604846,-1.9192197911911097,2.1708964919893963,9.310923169887158,-2.6638884326153067,-1.947145921285325,-1.6619679878172566,3.4631780156189103,-0.1819097355890828,-3.038201222255439,0.5053642095611688,-5.704470904078284,-1.22031150867617,9.250581905341244,-0.8355630798794075,3.2597219807210753,-0.718335235340381,3.128424455066174,-0.6809813690461235,1.2522751076546104,4.332164004926737,4.610759625791743,-1.374896847259801,2.6567434175190163,0.7361098970515257,-4.232802746505277,3.6823189047077594,-6.009595376846548,4.083280697502122,-3.1920666224786167,1.791684703619733,1.9492354114715134,0.04599976922931464,-3.1907685333883133,-3.949065108220103,4.7259967620038585,-5.102181479966518,5.258555272057314,-1.2003124077306278,3.1163156772681733,4.362866874769223,4.73297754279063,-0.7448495570408025,3.445554700862127,-1.2572119704396507,-1.1145169827881483,0.9145687772465536,2.0222273926989125,3.234584418829377,-1.7681366861660741,1.4573939339786288,2.822145970206466,5.700196281712571,-0.3360807009770589,0.692796722170297,1.1706077377901842,1.4052175682633288,19.100662683147917,1.703504464960888,3.1310084058278855],\"z\":[-0.9472251468705603,-2.64833993698883,-1.708698890936279,3.1047484450847964,0.45056502881193317,1.5547145141627001,-0.9495255145408212,-8.381376357014718,11.214605929909968,1.405727353733067,-2.328365377613585,-2.564837924529505,0.07772598746097308,-3.6055835838258194,0.26193418800801943,-1.8617829704682318,-0.41714107889071345,1.0595332409562224,10.914841616520794,2.8599925638328663,0.6792435485418483,-4.852899896753141,-2.9669201135040377,-2.5443034818801284,1.1043504838492035,2.5438037457015636,0.16571462366180054,-7.531930801324357,-3.4833213485304375,-1.5610489883580363,-5.2719938071533985,2.797845273327447,0.28470195751231264,6.360087735325703,-2.3032443873544097,-8.084450310823833,-3.911046469925815,2.45310282436597,-0.7981674461433648,-1.335782222471794,-4.745601418543167,-1.471382508397273,-6.238171299701096,-1.318478087312362,-0.8746673793794212,9.648676313269734,-2.9628242167840004,-4.126199630527039,-1.79272536308854,-1.2700684950166232,-4.284432868617868,1.149637410198892,-0.5910237417566891,-6.501048388182145,1.7376647647416104,-2.232281515479525,-2.89158204844642,3.535083842668584,-1.2726107302608753,-3.0351925874507866,-3.7948745180259267,-4.46869800224336,20.568866614133462,-1.6151134619313887,-5.888114045570607],\"type\":\"scatter3d\"},{\"hovertemplate\":\"color=portuguese<br>0=%{x}<br>1=%{y}<br>2=%{z}<extra></extra>\",\"legendgroup\":\"portuguese\",\"marker\":{\"color\":\"#19d3f3\",\"symbol\":\"circle\"},\"mode\":\"markers\",\"name\":\"portuguese\",\"scene\":\"scene\",\"showlegend\":true,\"x\":[8.513376318435975,-0.6167165160448242,-2.831078743043472,-4.122812561868638,1.4443721168732022,-2.5395869816084593,-2.353246956918378,-7.770980380278166,3.978399874309869,4.224322405885569,4.572829351660364,5.461142950749485,-36.1043288026588,-9.478250971069677,6.823633807191825,23.99365037579187,-7.661637899318828,-4.850771775191625,-15.455581512483278,-6.6784302005076395,13.728156752651982,2.6284952341859236,12.375642423038668,-3.751853518132018,-12.690347584322012,-15.681064532979681,-0.9870501139485413,13.390902575290516,5.2953269618260785,-1.8311244742186266,34.60959343935976,2.2024958976276348,-6.645413290193399,-5.646835994684845,5.813661656301248,4.559342669465422,0.18437475461574757,-2.540276002025764,0.6024437489194343,-4.836557532997062,3.1811108401832446,3.4382243563296346,2.035819687122048,-14.223586905247926,-7.746839734797573,-1.250248205612043,-20.398758810657302,-5.146014531203462],\"y\":[0.42749438516822713,-4.730489495315,0.09099612792076495,-3.5099317109290222,0.4277107471755004,-7.259718438114165,-1.2259201472429082,-3.0388923119220403,1.7447826762046297,-1.5185785326968375,-3.7205768356617606,6.822689763069498,22.447573375553272,2.6305141451485774,3.796014479700053,-3.2119886618464166,0.562790282774244,2.489161136876237,1.2137728861106967,-4.631039504224267,-6.889541739585326,-2.2714789878477695,-1.0507679529274045,-1.1510697530562461,0.9856654408536669,-0.365250919976179,-4.047820603109969,1.4673016383083883,-1.9305963549844216,-2.2081645048424567,9.617389465051462,-5.387415137292066,-3.992206850896982,-4.788732321556889,-7.744037988279994,-3.6805339076875025,2.2395832436371053,-5.786778837863528,-1.2748091064535652,-7.971642120498457,1.8775745931374799,-0.07359479278368572,-1.688297691873118,0.9167595677958956,-3.114906500696363,-2.8108037306742957,-1.3629495552135595,-1.2230120981898231],\"z\":[-4.183143856592782,0.07717424485089489,1.869965159435674,-1.4026515313480017,0.3721054195686017,1.472988407006509,1.4748364242297278,-0.44165596108673205,3.602920074992169,0.5663511469491442,-2.2346081232204047,-6.266015827191357,-6.794758830619315,-1.3961411393311236,4.019274488456215,0.11045248967215919,4.640810290762165,-1.9864205917499567,-2.539615354940977,-0.7321615066415957,-0.9307680646351739,-1.8547354866758106,-9.221008089558072,-1.7039571388147874,-4.726704752004595,-1.7861653408810165,-0.6032212880917319,-3.2866006678229196,4.0446801889127535,1.5273606609359562,8.903157376596424,-0.3082364561277843,0.49946149747424934,-1.159951391734561,5.29689039677685,1.5667981184951953,-3.460881243618755,-2.033524513298341,-4.7997002346946305,-0.6002012024722199,-3.2463893792457985,2.137732125284362,1.396399335399022,0.8128518707065611,-0.6480478882904361,-1.813126158976475,-0.6119153186267552,0.9539673848139008],\"type\":\"scatter3d\"},{\"hovertemplate\":\"color=korean<br>0=%{x}<br>1=%{y}<br>2=%{z}<extra></extra>\",\"legendgroup\":\"korean\",\"marker\":{\"color\":\"#FF6692\",\"symbol\":\"circle\"},\"mode\":\"markers\",\"name\":\"korean\",\"scene\":\"scene\",\"showlegend\":true,\"x\":[10.468845648512472,7.303974044993182,5.398827507006098,-2.327193619822559,-5.720734319775828,-7.805715455030083,-1.110108961131285,12.080453286947641,-7.117261765854249,-3.9007222264337287,4.223652930964998,1.6901628262919974,-1.6172185818655536,-3.0015414587253106,-7.8756503689377775,12.55281988756064,1.5482403960329232,14.695219756540917,10.519332347321289,3.313660766717211,0.7728189978150493,-8.327510790920163,-4.613683032759036,-3.3709537785346004,-7.064283144647246,4.389035441053037,0.8732196539266969,-5.805106679274717,4.1557545690947215,9.503990487248148,3.9926664529772715,34.81718478375886,22.562067808682876,-16.85840869084191,13.24856805705328,5.265321107189606,-2.2874461019699943,0.6483010406648333,-3.904995577140332,3.7114353887777938,-4.948602525912257,2.2317528133027427,20.27718538791222,2.0499334482073834,30.077924085980822,-5.705366160220313,2.1504345633270474,-9.20965482037525,15.762455062095729,12.205349484733949,-4.4697747992681265,10.51473104901684],\"y\":[5.99123157126494,-0.12953302426037794,2.264911384776395,10.763613518856847,-0.1321522357241688,-0.4891197947354657,3.2719005446787492,5.2547829218615885,2.537551765720402,-0.8982066540277368,3.6042628976408646,3.8949554151385715,0.9528357978038386,-0.7660554262126581,2.3621680165376904,2.4758005724527132,1.9230115946121245,10.732602253423378,3.2096511545682005,2.946315660220394,1.874249989478165,2.9680402525307845,-0.1372569847058826,6.703847858525507,5.153040660782804,5.230595531829254,4.217694466130679,4.872927307777432,4.435768400687903,-0.787538343457936,2.0860900603979355,10.459200891883842,9.250762558350347,-1.6297763211938257,4.97377838768616,9.291274196577861,-4.77550321937717,0.4661518722341147,3.6501144087054977,2.9724917239240125,8.12501636582721,1.6877572534300134,5.8381918828855905,5.030083512558538,9.5000652088364,-2.8678442820004957,5.862410907291612,4.328117519289046,6.233513086879648,-0.9729269595908189,6.668398517467782,4.109597938506752],\"z\":[-1.0801511784918199,0.06975963756264669,1.7843409240447528,3.4641047122230364,-1.202655347295801,-2.1704313495782377,3.8162631455703755,0.5675424481110376,0.3637970356099363,-2.390820182984579,-3.97387396789392,-0.27533920130387013,-0.5308896301530576,1.7002978556729313,1.9829037942568353,-0.6026067380640939,-2.600352541561297,-3.653312677499998,-1.0923841840844377,-4.040643251053227,4.256844418406421,-2.2489050331812703,0.14178226686893747,-3.0591078588255725,0.5124788064974014,-7.015937306978776,-0.23030612132133768,-6.140695115330343,-2.9125659826799297,-0.1348161602586606,0.8057417936172313,-2.895740370223217,0.03156729746942428,4.527753547977768,-1.707707816755841,-7.396481004265711,0.9740068524868915,-1.177886898457776,-5.408791209809411,-1.790168298411587,-1.0940329155303934,-2.7455333718057675,-1.0991305125009811,7.10733639324613,-2.7754767488857057,1.1520247960087013,-2.4678533743779765,-3.68569759706443,1.591431693528426,-3.822841370731173,0.7320466326329992,1.7682603562608608],\"type\":\"scatter3d\"},{\"hovertemplate\":\"color=russian<br>0=%{x}<br>1=%{y}<br>2=%{z}<extra></extra>\",\"legendgroup\":\"russian\",\"marker\":{\"color\":\"#B6E880\",\"symbol\":\"circle\"},\"mode\":\"markers\",\"name\":\"russian\",\"scene\":\"scene\",\"showlegend\":true,\"x\":[-3.868236648777833,-22.649733616809204,27.596839983183607,1.2731844482053747,-8.46500811971883,75.4382811209573,-0.6914270018641583,-9.213367684000653,-5.674757045662295,-18.953977634974045,-17.19721823170972,-5.476380267523236,3.1954172951812194,4.334009606245674,5.4665320377190465,15.930735485071006,16.346077102046383,1.3866117041157096,-4.4400540854843324,20.708636283214016,0.5444350908807052,15.415068334023855,3.060590406905809,0.4024882114142139,-6.522756627653781,7.052242301263785,-2.623878949078867,24.57307628579678,4.030214357890099,-9.325375259097514,-4.6769642044444,-0.9887766565401281,-7.197893787783568,8.190497971077086,-5.38739661089138,-8.230604354609488,7.725200849292056,-3.7517428522760308,0.3389686516014071,3.107122876695962,26.713908961910448,-1.0465282753933662,-0.6497779629881624,-4.68313293406989,0.0975414927196501,-10.25405808517284,-7.61479842577145,4.19855689531861],\"y\":[2.221157538983536,1.8178071898051589,3.293333973169701,-2.172358027619347,6.065037034647079,16.94872999741589,1.3872954562266555,0.3860812514972149,-2.6392159939915043,2.2736207125775096,5.42203915357291,-3.2091024178238214,0.3799048556510389,0.3796965647930522,-4.13817293473,3.928085858781388,0.968562009462289,-1.145435372879858,-2.9917027710461435,6.690521343765092,1.3142830683493485,2.601118153390905,8.118793405086441,2.579608695953952,12.389064825697513,2.596591793239032,1.0751545841286756,7.516615841006296,5.088504322783303,-1.8246225382993113,-0.07266599450776372,10.259709787765406,3.5878434865964994,2.593582083635434,-0.4778708116794396,2.3088222817234354,1.6069311957893628,-1.6971273241907037,-3.737745595353768,2.335098536576432,4.440527617219842,3.361620795994236,-2.583202799541583,0.5871933594168883,-4.055554910692603,3.772933192085641,1.3576819771324187,-0.09291141555648219],\"z\":[-0.9795844783643937,5.3923890642917485,3.7285330705088673,1.1775540959644013,-0.08653415182617448,4.6906191465355445,-0.890684702281564,1.5334831895882606,-3.73215119171724,-1.123374639020158,-8.878254065724196,0.9150418499086876,-3.9913659969090713,-4.003380488952461,-0.15536302133986388,-1.8847138710488556,-1.4332855951601076,-3.6130124655210927,-1.3353325608248234,-1.8500019909732413,-1.4281238564654808,4.685226650787258,-8.096199665070664,-3.6247324765709084,-4.216039717432601,-2.399603855567257,-1.6158699126222915,-8.028877270669996,-5.079208347379811,1.7064679453436618,-3.4628849471877805,0.08307053506179898,-3.3756902746943447,2.686119744768134,-1.4949178679101371,-3.6977544495190133,-2.655324323219954,-0.07088195512754658,-3.363987933742325,2.6684384407419053,-9.52152898410636,2.774178877931503,1.3921985124993257,-1.351756085560444,1.1127466042809226,1.6194903656569342,-4.149559739365087,2.2504687745590917],\"type\":\"scatter3d\"},{\"hovertemplate\":\"color=turkish<br>0=%{x}<br>1=%{y}<br>2=%{z}<extra></extra>\",\"legendgroup\":\"turkish\",\"marker\":{\"color\":\"#FF97FF\",\"symbol\":\"circle\"},\"mode\":\"markers\",\"name\":\"turkish\",\"scene\":\"scene\",\"showlegend\":true,\"x\":[14.345343121727165,-51.88145935864275,-9.185405103267987,-3.696455251803617,6.9368226385318055,-0.23320634629161394,-0.9428835642735223,8.230402870337535,4.866102032491662,22.39623479013645,8.618253963337665,-3.1573249827689964,0.37148352602555307,18.784707973988738,-8.858045456044726,-7.50030084740146,34.60016031076568,-0.5779794655140923,-42.47585685308724,-53.383839795433964,8.8044991285422,-12.747072085088632,6.141139555059127,0.5204189736515769,-1.581037602313963,-7.714993619347144,-16.83248504976249,-8.034997681589305,-7.925823541060097,-0.1379999206282972,13.54694881424343,-17.75583996984646,-1.3868717174441656,6.731734254016161,-3.969493714344435,-4.153990908118901,26.863114968383766],\"y\":[4.11353188455384,20.78362991580362,5.929505902218194,4.016789527342947,4.97457371198263,-3.154711560038577,0.18137460702583091,5.5117659910103125,10.956823238343105,8.294384329292058,15.0443341776536,4.727723595039126,1.7194630250629241,3.0651444284339577,8.35358138219793,8.764809047994529,10.48733538412556,12.212344128350933,19.672524211793846,20.362781392699464,14.025876175794386,4.929401171508295,13.464154427143791,-4.8423215252002185,1.9725831012443662,2.3515266012594664,8.365937861103673,2.2027239311854396,5.1901894684568415,-1.59339976114591,17.40980019585926,4.885511399547028,1.1975326518742793,8.15629563103983,8.299017608145595,7.114847502301818,20.893240132692597],\"z\":[-5.6122962338078715,-2.315260324563224,-0.5034852912478875,0.1977080792684581,-2.354820649670398,0.16841971796732513,1.511743861752401,4.202598353098778,-3.7844599372578083,-3.0282193195241134,7.121458431716917,-0.6215420695670736,1.7066334066462467,6.437254415710191,3.5658710481354245,-0.13313547305648935,1.3685437567703378,2.386442460032952,5.08273673630093,-0.9742910691957757,2.559689651524333,-1.5996659907169732,-0.6032828296512569,0.3262298498352545,-1.9156306389631748,-4.170304251898166,1.4726529340092407,2.978929030037787,-0.5334055198756518,-0.38138363548706755,6.954831649496314,-1.1899710589888755,-0.44612523568549023,1.0809573785254127,-2.2896577390981108,-2.5894315105588723,1.221226327222587],\"type\":\"scatter3d\"}],                        {\"template\":{\"data\":{\"histogram2dcontour\":[{\"type\":\"histogram2dcontour\",\"colorbar\":{\"outlinewidth\":0,\"ticks\":\"\"},\"colorscale\":[[0.0,\"#0d0887\"],[0.1111111111111111,\"#46039f\"],[0.2222222222222222,\"#7201a8\"],[0.3333333333333333,\"#9c179e\"],[0.4444444444444444,\"#bd3786\"],[0.5555555555555556,\"#d8576b\"],[0.6666666666666666,\"#ed7953\"],[0.7777777777777778,\"#fb9f3a\"],[0.8888888888888888,\"#fdca26\"],[1.0,\"#f0f921\"]]}],\"choropleth\":[{\"type\":\"choropleth\",\"colorbar\":{\"outlinewidth\":0,\"ticks\":\"\"}}],\"histogram2d\":[{\"type\":\"histogram2d\",\"colorbar\":{\"outlinewidth\":0,\"ticks\":\"\"},\"colorscale\":[[0.0,\"#0d0887\"],[0.1111111111111111,\"#46039f\"],[0.2222222222222222,\"#7201a8\"],[0.3333333333333333,\"#9c179e\"],[0.4444444444444444,\"#bd3786\"],[0.5555555555555556,\"#d8576b\"],[0.6666666666666666,\"#ed7953\"],[0.7777777777777778,\"#fb9f3a\"],[0.8888888888888888,\"#fdca26\"],[1.0,\"#f0f921\"]]}],\"heatmap\":[{\"type\":\"heatmap\",\"colorbar\":{\"outlinewidth\":0,\"ticks\":\"\"},\"colorscale\":[[0.0,\"#0d0887\"],[0.1111111111111111,\"#46039f\"],[0.2222222222222222,\"#7201a8\"],[0.3333333333333333,\"#9c179e\"],[0.4444444444444444,\"#bd3786\"],[0.5555555555555556,\"#d8576b\"],[0.6666666666666666,\"#ed7953\"],[0.7777777777777778,\"#fb9f3a\"],[0.8888888888888888,\"#fdca26\"],[1.0,\"#f0f921\"]]}],\"heatmapgl\":[{\"type\":\"heatmapgl\",\"colorbar\":{\"outlinewidth\":0,\"ticks\":\"\"},\"colorscale\":[[0.0,\"#0d0887\"],[0.1111111111111111,\"#46039f\"],[0.2222222222222222,\"#7201a8\"],[0.3333333333333333,\"#9c179e\"],[0.4444444444444444,\"#bd3786\"],[0.5555555555555556,\"#d8576b\"],[0.6666666666666666,\"#ed7953\"],[0.7777777777777778,\"#fb9f3a\"],[0.8888888888888888,\"#fdca26\"],[1.0,\"#f0f921\"]]}],\"contourcarpet\":[{\"type\":\"contourcarpet\",\"colorbar\":{\"outlinewidth\":0,\"ticks\":\"\"}}],\"contour\":[{\"type\":\"contour\",\"colorbar\":{\"outlinewidth\":0,\"ticks\":\"\"},\"colorscale\":[[0.0,\"#0d0887\"],[0.1111111111111111,\"#46039f\"],[0.2222222222222222,\"#7201a8\"],[0.3333333333333333,\"#9c179e\"],[0.4444444444444444,\"#bd3786\"],[0.5555555555555556,\"#d8576b\"],[0.6666666666666666,\"#ed7953\"],[0.7777777777777778,\"#fb9f3a\"],[0.8888888888888888,\"#fdca26\"],[1.0,\"#f0f921\"]]}],\"surface\":[{\"type\":\"surface\",\"colorbar\":{\"outlinewidth\":0,\"ticks\":\"\"},\"colorscale\":[[0.0,\"#0d0887\"],[0.1111111111111111,\"#46039f\"],[0.2222222222222222,\"#7201a8\"],[0.3333333333333333,\"#9c179e\"],[0.4444444444444444,\"#bd3786\"],[0.5555555555555556,\"#d8576b\"],[0.6666666666666666,\"#ed7953\"],[0.7777777777777778,\"#fb9f3a\"],[0.8888888888888888,\"#fdca26\"],[1.0,\"#f0f921\"]]}],\"mesh3d\":[{\"type\":\"mesh3d\",\"colorbar\":{\"outlinewidth\":0,\"ticks\":\"\"}}],\"scatter\":[{\"fillpattern\":{\"fillmode\":\"overlay\",\"size\":10,\"solidity\":0.2},\"type\":\"scatter\"}],\"parcoords\":[{\"type\":\"parcoords\",\"line\":{\"colorbar\":{\"outlinewidth\":0,\"ticks\":\"\"}}}],\"scatterpolargl\":[{\"type\":\"scatterpolargl\",\"marker\":{\"colorbar\":{\"outlinewidth\":0,\"ticks\":\"\"}}}],\"bar\":[{\"error_x\":{\"color\":\"#2a3f5f\"},\"error_y\":{\"color\":\"#2a3f5f\"},\"marker\":{\"line\":{\"color\":\"#E5ECF6\",\"width\":0.5},\"pattern\":{\"fillmode\":\"overlay\",\"size\":10,\"solidity\":0.2}},\"type\":\"bar\"}],\"scattergeo\":[{\"type\":\"scattergeo\",\"marker\":{\"colorbar\":{\"outlinewidth\":0,\"ticks\":\"\"}}}],\"scatterpolar\":[{\"type\":\"scatterpolar\",\"marker\":{\"colorbar\":{\"outlinewidth\":0,\"ticks\":\"\"}}}],\"histogram\":[{\"marker\":{\"pattern\":{\"fillmode\":\"overlay\",\"size\":10,\"solidity\":0.2}},\"type\":\"histogram\"}],\"scattergl\":[{\"type\":\"scattergl\",\"marker\":{\"colorbar\":{\"outlinewidth\":0,\"ticks\":\"\"}}}],\"scatter3d\":[{\"type\":\"scatter3d\",\"line\":{\"colorbar\":{\"outlinewidth\":0,\"ticks\":\"\"}},\"marker\":{\"colorbar\":{\"outlinewidth\":0,\"ticks\":\"\"}}}],\"scattermapbox\":[{\"type\":\"scattermapbox\",\"marker\":{\"colorbar\":{\"outlinewidth\":0,\"ticks\":\"\"}}}],\"scatterternary\":[{\"type\":\"scatterternary\",\"marker\":{\"colorbar\":{\"outlinewidth\":0,\"ticks\":\"\"}}}],\"scattercarpet\":[{\"type\":\"scattercarpet\",\"marker\":{\"colorbar\":{\"outlinewidth\":0,\"ticks\":\"\"}}}],\"carpet\":[{\"aaxis\":{\"endlinecolor\":\"#2a3f5f\",\"gridcolor\":\"white\",\"linecolor\":\"white\",\"minorgridcolor\":\"white\",\"startlinecolor\":\"#2a3f5f\"},\"baxis\":{\"endlinecolor\":\"#2a3f5f\",\"gridcolor\":\"white\",\"linecolor\":\"white\",\"minorgridcolor\":\"white\",\"startlinecolor\":\"#2a3f5f\"},\"type\":\"carpet\"}],\"table\":[{\"cells\":{\"fill\":{\"color\":\"#EBF0F8\"},\"line\":{\"color\":\"white\"}},\"header\":{\"fill\":{\"color\":\"#C8D4E3\"},\"line\":{\"color\":\"white\"}},\"type\":\"table\"}],\"barpolar\":[{\"marker\":{\"line\":{\"color\":\"#E5ECF6\",\"width\":0.5},\"pattern\":{\"fillmode\":\"overlay\",\"size\":10,\"solidity\":0.2}},\"type\":\"barpolar\"}],\"pie\":[{\"automargin\":true,\"type\":\"pie\"}]},\"layout\":{\"autotypenumbers\":\"strict\",\"colorway\":[\"#636efa\",\"#EF553B\",\"#00cc96\",\"#ab63fa\",\"#FFA15A\",\"#19d3f3\",\"#FF6692\",\"#B6E880\",\"#FF97FF\",\"#FECB52\"],\"font\":{\"color\":\"#2a3f5f\"},\"hovermode\":\"closest\",\"hoverlabel\":{\"align\":\"left\"},\"paper_bgcolor\":\"white\",\"plot_bgcolor\":\"#E5ECF6\",\"polar\":{\"bgcolor\":\"#E5ECF6\",\"angularaxis\":{\"gridcolor\":\"white\",\"linecolor\":\"white\",\"ticks\":\"\"},\"radialaxis\":{\"gridcolor\":\"white\",\"linecolor\":\"white\",\"ticks\":\"\"}},\"ternary\":{\"bgcolor\":\"#E5ECF6\",\"aaxis\":{\"gridcolor\":\"white\",\"linecolor\":\"white\",\"ticks\":\"\"},\"baxis\":{\"gridcolor\":\"white\",\"linecolor\":\"white\",\"ticks\":\"\"},\"caxis\":{\"gridcolor\":\"white\",\"linecolor\":\"white\",\"ticks\":\"\"}},\"coloraxis\":{\"colorbar\":{\"outlinewidth\":0,\"ticks\":\"\"}},\"colorscale\":{\"sequential\":[[0.0,\"#0d0887\"],[0.1111111111111111,\"#46039f\"],[0.2222222222222222,\"#7201a8\"],[0.3333333333333333,\"#9c179e\"],[0.4444444444444444,\"#bd3786\"],[0.5555555555555556,\"#d8576b\"],[0.6666666666666666,\"#ed7953\"],[0.7777777777777778,\"#fb9f3a\"],[0.8888888888888888,\"#fdca26\"],[1.0,\"#f0f921\"]],\"sequentialminus\":[[0.0,\"#0d0887\"],[0.1111111111111111,\"#46039f\"],[0.2222222222222222,\"#7201a8\"],[0.3333333333333333,\"#9c179e\"],[0.4444444444444444,\"#bd3786\"],[0.5555555555555556,\"#d8576b\"],[0.6666666666666666,\"#ed7953\"],[0.7777777777777778,\"#fb9f3a\"],[0.8888888888888888,\"#fdca26\"],[1.0,\"#f0f921\"]],\"diverging\":[[0,\"#8e0152\"],[0.1,\"#c51b7d\"],[0.2,\"#de77ae\"],[0.3,\"#f1b6da\"],[0.4,\"#fde0ef\"],[0.5,\"#f7f7f7\"],[0.6,\"#e6f5d0\"],[0.7,\"#b8e186\"],[0.8,\"#7fbc41\"],[0.9,\"#4d9221\"],[1,\"#276419\"]]},\"xaxis\":{\"gridcolor\":\"white\",\"linecolor\":\"white\",\"ticks\":\"\",\"title\":{\"standoff\":15},\"zerolinecolor\":\"white\",\"automargin\":true,\"zerolinewidth\":2},\"yaxis\":{\"gridcolor\":\"white\",\"linecolor\":\"white\",\"ticks\":\"\",\"title\":{\"standoff\":15},\"zerolinecolor\":\"white\",\"automargin\":true,\"zerolinewidth\":2},\"scene\":{\"xaxis\":{\"backgroundcolor\":\"#E5ECF6\",\"gridcolor\":\"white\",\"linecolor\":\"white\",\"showbackground\":true,\"ticks\":\"\",\"zerolinecolor\":\"white\",\"gridwidth\":2},\"yaxis\":{\"backgroundcolor\":\"#E5ECF6\",\"gridcolor\":\"white\",\"linecolor\":\"white\",\"showbackground\":true,\"ticks\":\"\",\"zerolinecolor\":\"white\",\"gridwidth\":2},\"zaxis\":{\"backgroundcolor\":\"#E5ECF6\",\"gridcolor\":\"white\",\"linecolor\":\"white\",\"showbackground\":true,\"ticks\":\"\",\"zerolinecolor\":\"white\",\"gridwidth\":2}},\"shapedefaults\":{\"line\":{\"color\":\"#2a3f5f\"}},\"annotationdefaults\":{\"arrowcolor\":\"#2a3f5f\",\"arrowhead\":0,\"arrowwidth\":1},\"geo\":{\"bgcolor\":\"white\",\"landcolor\":\"#E5ECF6\",\"subunitcolor\":\"white\",\"showland\":true,\"showlakes\":true,\"lakecolor\":\"white\"},\"title\":{\"x\":0.05},\"mapbox\":{\"style\":\"light\"}}},\"scene\":{\"domain\":{\"x\":[0.0,1.0],\"y\":[0.0,1.0]},\"xaxis\":{\"title\":{\"text\":\"0\"}},\"yaxis\":{\"title\":{\"text\":\"1\"}},\"zaxis\":{\"title\":{\"text\":\"2\"}}},\"legend\":{\"title\":{\"text\":\"color\"},\"tracegroupgap\":0},\"margin\":{\"t\":60}},                        {\"responsive\": true}                    ).then(function(){\n",
              "                            \n",
              "var gd = document.getElementById('f5668a54-1b37-4eb0-afb6-c7b5afd00442');\n",
              "var x = new MutationObserver(function (mutations, observer) {{\n",
              "        var display = window.getComputedStyle(gd).display;\n",
              "        if (!display || display === 'none') {{\n",
              "            console.log([gd, 'removed!']);\n",
              "            Plotly.purge(gd);\n",
              "            observer.disconnect();\n",
              "        }}\n",
              "}});\n",
              "\n",
              "// Listen for the removal of the full notebook cells\n",
              "var notebookContainer = gd.closest('#notebook-container');\n",
              "if (notebookContainer) {{\n",
              "    x.observe(notebookContainer, {childList: true});\n",
              "}}\n",
              "\n",
              "// Listen for the clearing of the current output cell\n",
              "var outputEl = gd.closest('.output');\n",
              "if (outputEl) {{\n",
              "    x.observe(outputEl, {childList: true});\n",
              "}}\n",
              "\n",
              "                        })                };                            </script>        </div>\n",
              "</body>\n",
              "</html>"
            ]
          },
          "metadata": {}
        }
      ]
    },
    {
      "cell_type": "code",
      "source": [
        "lang_to_bows = {}\n",
        "for lang in lang_list:\n",
        "\n",
        "  if lang not in lang_to_bows:\n",
        "    lang_to_bows[lang] = []\n",
        "\n",
        "  for s in speakers_to_bow:\n",
        "    if lang in s:\n",
        "      lang_to_bows[lang].append(speakers_to_bow[s])\n",
        "      break\n",
        "\n",
        "\n",
        "lang_to_centroid = {}\n",
        "for lang in lang_to_bows:\n",
        "  centroid = np.mean(np.asarray(lang_to_bows[lang]))\n",
        "  print(lang, \" centroid: \", centroid)"
      ],
      "metadata": {
        "colab": {
          "base_uri": "https://localhost:8080/"
        },
        "id": "mjekJbgoGTBP",
        "outputId": "52416ad3-a799-40d4-9570-cbdff774f45c"
      },
      "execution_count": 36,
      "outputs": [
        {
          "output_type": "stream",
          "name": "stdout",
          "text": [
            "english  centroid:  5.9625\n",
            "spanish  centroid:  6.1375\n",
            "mandarin  centroid:  5.9125\n",
            "french  centroid:  5.975\n",
            "korean  centroid:  6.225\n",
            "portuguese  centroid:  6.225\n",
            "russian  centroid:  5.875\n",
            "dutch  centroid:  5.8375\n",
            "turkish  centroid:  6.425\n"
          ]
        }
      ]
    }
  ],
  "metadata": {
    "colab": {
      "provenance": []
    },
    "kernelspec": {
      "display_name": "Python 3",
      "name": "python3"
    },
    "language_info": {
      "name": "python"
    }
  },
  "nbformat": 4,
  "nbformat_minor": 0
}