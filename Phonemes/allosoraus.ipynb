{
  "cells": [
    {
      "cell_type": "markdown",
      "source": [
        "# Set-Up"
      ],
      "metadata": {
        "id": "V2zftoGiyrx3"
      }
    },
    {
      "cell_type": "code",
      "execution_count": null,
      "metadata": {
        "colab": {
          "base_uri": "https://localhost:8080/"
        },
        "id": "AHbhyWsjWfic",
        "outputId": "2bfbc9f4-121a-4791-9852-2fff41bb47a4"
      },
      "outputs": [
        {
          "output_type": "stream",
          "name": "stdout",
          "text": [
            "Looking in indexes: https://pypi.org/simple, https://us-python.pkg.dev/colab-wheels/public/simple/\n",
            "Collecting allosaurus\n",
            "  Downloading allosaurus-1.0.2-py3-none-any.whl (52 kB)\n",
            "\u001b[2K     \u001b[90m━━━━━━━━━━━━━━━━━━━━━━━━━━━━━━━━━━━━━━━━\u001b[0m \u001b[32m52.1/52.1 kB\u001b[0m \u001b[31m5.0 MB/s\u001b[0m eta \u001b[36m0:00:00\u001b[0m\n",
            "\u001b[?25hRequirement already satisfied: scipy in /usr/local/lib/python3.10/dist-packages (from allosaurus) (1.10.1)\n",
            "Requirement already satisfied: numpy in /usr/local/lib/python3.10/dist-packages (from allosaurus) (1.22.4)\n",
            "Collecting resampy (from allosaurus)\n",
            "  Downloading resampy-0.4.2-py3-none-any.whl (3.1 MB)\n",
            "\u001b[2K     \u001b[90m━━━━━━━━━━━━━━━━━━━━━━━━━━━━━━━━━━━━━━━━\u001b[0m \u001b[32m3.1/3.1 MB\u001b[0m \u001b[31m28.7 MB/s\u001b[0m eta \u001b[36m0:00:00\u001b[0m\n",
            "\u001b[?25hCollecting panphon (from allosaurus)\n",
            "  Downloading panphon-0.20.0-py2.py3-none-any.whl (73 kB)\n",
            "\u001b[2K     \u001b[90m━━━━━━━━━━━━━━━━━━━━━━━━━━━━━━━━━━━━━━━━\u001b[0m \u001b[32m73.6/73.6 kB\u001b[0m \u001b[31m7.1 MB/s\u001b[0m eta \u001b[36m0:00:00\u001b[0m\n",
            "\u001b[?25hRequirement already satisfied: torch in /usr/local/lib/python3.10/dist-packages (from allosaurus) (2.0.1+cu118)\n",
            "Requirement already satisfied: editdistance in /usr/local/lib/python3.10/dist-packages (from allosaurus) (0.6.2)\n",
            "Requirement already satisfied: setuptools in /usr/local/lib/python3.10/dist-packages (from panphon->allosaurus) (67.7.2)\n",
            "Collecting unicodecsv (from panphon->allosaurus)\n",
            "  Downloading unicodecsv-0.14.1.tar.gz (10 kB)\n",
            "  Preparing metadata (setup.py) ... \u001b[?25l\u001b[?25hdone\n",
            "Requirement already satisfied: PyYAML in /usr/local/lib/python3.10/dist-packages (from panphon->allosaurus) (6.0)\n",
            "Requirement already satisfied: regex in /usr/local/lib/python3.10/dist-packages (from panphon->allosaurus) (2022.10.31)\n",
            "Collecting munkres (from panphon->allosaurus)\n",
            "  Downloading munkres-1.1.4-py2.py3-none-any.whl (7.0 kB)\n",
            "Requirement already satisfied: numba>=0.53 in /usr/local/lib/python3.10/dist-packages (from resampy->allosaurus) (0.56.4)\n",
            "Requirement already satisfied: filelock in /usr/local/lib/python3.10/dist-packages (from torch->allosaurus) (3.12.0)\n",
            "Requirement already satisfied: typing-extensions in /usr/local/lib/python3.10/dist-packages (from torch->allosaurus) (4.5.0)\n",
            "Requirement already satisfied: sympy in /usr/local/lib/python3.10/dist-packages (from torch->allosaurus) (1.11.1)\n",
            "Requirement already satisfied: networkx in /usr/local/lib/python3.10/dist-packages (from torch->allosaurus) (3.1)\n",
            "Requirement already satisfied: jinja2 in /usr/local/lib/python3.10/dist-packages (from torch->allosaurus) (3.1.2)\n",
            "Requirement already satisfied: triton==2.0.0 in /usr/local/lib/python3.10/dist-packages (from torch->allosaurus) (2.0.0)\n",
            "Requirement already satisfied: cmake in /usr/local/lib/python3.10/dist-packages (from triton==2.0.0->torch->allosaurus) (3.25.2)\n",
            "Requirement already satisfied: lit in /usr/local/lib/python3.10/dist-packages (from triton==2.0.0->torch->allosaurus) (16.0.5)\n",
            "Requirement already satisfied: llvmlite<0.40,>=0.39.0dev0 in /usr/local/lib/python3.10/dist-packages (from numba>=0.53->resampy->allosaurus) (0.39.1)\n",
            "Requirement already satisfied: MarkupSafe>=2.0 in /usr/local/lib/python3.10/dist-packages (from jinja2->torch->allosaurus) (2.1.2)\n",
            "Requirement already satisfied: mpmath>=0.19 in /usr/local/lib/python3.10/dist-packages (from sympy->torch->allosaurus) (1.3.0)\n",
            "Building wheels for collected packages: unicodecsv\n",
            "  Building wheel for unicodecsv (setup.py) ... \u001b[?25l\u001b[?25hdone\n",
            "  Created wheel for unicodecsv: filename=unicodecsv-0.14.1-py3-none-any.whl size=10745 sha256=4a5663225890d3afa5a988049d7b8839cc67287eb118a5d21d955275ccbde597\n",
            "  Stored in directory: /root/.cache/pip/wheels/9c/ea/66/8e45247b09052a933eb1a680b7c64802298faba58aac9b346b\n",
            "Successfully built unicodecsv\n",
            "Installing collected packages: unicodecsv, munkres, panphon, resampy, allosaurus\n",
            "Successfully installed allosaurus-1.0.2 munkres-1.1.4 panphon-0.20.0 resampy-0.4.2 unicodecsv-0.14.1\n"
          ]
        }
      ],
      "source": [
        "!pip install allosaurus"
      ]
    },
    {
      "cell_type": "code",
      "execution_count": null,
      "metadata": {
        "id": "06buIrLlXU_3",
        "colab": {
          "base_uri": "https://localhost:8080/"
        },
        "outputId": "ed1e48aa-8b21-4b04-9c8d-9910865a0e17"
      },
      "outputs": [
        {
          "output_type": "stream",
          "name": "stdout",
          "text": [
            "Mounted at /content/drive\n"
          ]
        }
      ],
      "source": [
        "from google.colab import drive\n",
        "drive.mount('/content/drive')"
      ]
    },
    {
      "cell_type": "code",
      "execution_count": null,
      "metadata": {
        "id": "8b9Xa5vgXU3Y"
      },
      "outputs": [],
      "source": [
        "# SET TO PROJECT FOLDER\n",
        "dir = '/content/drive/MyDrive/cse256'"
      ]
    },
    {
      "cell_type": "markdown",
      "source": [
        "# Features DF"
      ],
      "metadata": {
        "id": "eAJc801myxIb"
      }
    },
    {
      "cell_type": "code",
      "execution_count": null,
      "metadata": {
        "id": "40--6mtthJYi",
        "colab": {
          "base_uri": "https://localhost:8080/",
          "height": 424
        },
        "outputId": "f0e62b5e-35b6-47a9-eac3-98ac68dc0a22"
      },
      "outputs": [
        {
          "output_type": "display_data",
          "data": {
            "text/plain": [
              "       age  age_onset              birthplace  filename native_language  \\\n",
              "0     24.0       12.0         koussi, senegal   balanta         balanta   \n",
              "1     18.0       10.0          buea, cameroon  cameroon        cameroon   \n",
              "2     48.0        8.0  hong, adamawa, nigeria  fulfulde        fulfulde   \n",
              "3     42.0       42.0   port-au-prince, haiti   haitian         haitian   \n",
              "4     40.0       35.0   port-au-prince, haiti   haitian         haitian   \n",
              "...    ...        ...                     ...       ...             ...   \n",
              "2167  46.0        5.0          lagos, nigeria   yoruba3          yoruba   \n",
              "2168  46.0       12.0          lagos, nigeria   yoruba4          yoruba   \n",
              "2169  47.0        2.0         ibadan, nigeria   yoruba5          yoruba   \n",
              "2170  31.0        1.0     bethel, alaska, usa    yupik1           yupik   \n",
              "2171  24.0       14.0      bulawayo, zimbabwe     zulu1            zulu   \n",
              "\n",
              "         sex  speakerid   country  file_missing?  Unnamed: 9  Unnamed: 10  \\\n",
              "0       male        788   senegal           True         NaN          NaN   \n",
              "1       male       1953  cameroon           True         NaN          NaN   \n",
              "2       male       1037   nigeria           True         NaN          NaN   \n",
              "3       male       1165     haiti           True         NaN          NaN   \n",
              "4       male       1166     haiti           True         NaN          NaN   \n",
              "...      ...        ...       ...            ...         ...          ...   \n",
              "2167  female        766   nigeria          False         NaN          NaN   \n",
              "2168    male        851   nigeria          False         NaN          NaN   \n",
              "2169  female       2023   nigeria          False         NaN          NaN   \n",
              "2170  female        571       usa          False         NaN          NaN   \n",
              "2171  female        406  zimbabwe          False         NaN          NaN   \n",
              "\n",
              "     Unnamed: 11  \n",
              "0            NaN  \n",
              "1            NaN  \n",
              "2            NaN  \n",
              "3            NaN  \n",
              "4            NaN  \n",
              "...          ...  \n",
              "2167         NaN  \n",
              "2168         NaN  \n",
              "2169         NaN  \n",
              "2170         NaN  \n",
              "2171         NaN  \n",
              "\n",
              "[2172 rows x 12 columns]"
            ],
            "text/html": [
              "\n",
              "  <div id=\"df-d6031ca7-00a5-46c6-b90d-d7f8b612cfd0\">\n",
              "    <div class=\"colab-df-container\">\n",
              "      <div>\n",
              "<style scoped>\n",
              "    .dataframe tbody tr th:only-of-type {\n",
              "        vertical-align: middle;\n",
              "    }\n",
              "\n",
              "    .dataframe tbody tr th {\n",
              "        vertical-align: top;\n",
              "    }\n",
              "\n",
              "    .dataframe thead th {\n",
              "        text-align: right;\n",
              "    }\n",
              "</style>\n",
              "<table border=\"1\" class=\"dataframe\">\n",
              "  <thead>\n",
              "    <tr style=\"text-align: right;\">\n",
              "      <th></th>\n",
              "      <th>age</th>\n",
              "      <th>age_onset</th>\n",
              "      <th>birthplace</th>\n",
              "      <th>filename</th>\n",
              "      <th>native_language</th>\n",
              "      <th>sex</th>\n",
              "      <th>speakerid</th>\n",
              "      <th>country</th>\n",
              "      <th>file_missing?</th>\n",
              "      <th>Unnamed: 9</th>\n",
              "      <th>Unnamed: 10</th>\n",
              "      <th>Unnamed: 11</th>\n",
              "    </tr>\n",
              "  </thead>\n",
              "  <tbody>\n",
              "    <tr>\n",
              "      <th>0</th>\n",
              "      <td>24.0</td>\n",
              "      <td>12.0</td>\n",
              "      <td>koussi, senegal</td>\n",
              "      <td>balanta</td>\n",
              "      <td>balanta</td>\n",
              "      <td>male</td>\n",
              "      <td>788</td>\n",
              "      <td>senegal</td>\n",
              "      <td>True</td>\n",
              "      <td>NaN</td>\n",
              "      <td>NaN</td>\n",
              "      <td>NaN</td>\n",
              "    </tr>\n",
              "    <tr>\n",
              "      <th>1</th>\n",
              "      <td>18.0</td>\n",
              "      <td>10.0</td>\n",
              "      <td>buea, cameroon</td>\n",
              "      <td>cameroon</td>\n",
              "      <td>cameroon</td>\n",
              "      <td>male</td>\n",
              "      <td>1953</td>\n",
              "      <td>cameroon</td>\n",
              "      <td>True</td>\n",
              "      <td>NaN</td>\n",
              "      <td>NaN</td>\n",
              "      <td>NaN</td>\n",
              "    </tr>\n",
              "    <tr>\n",
              "      <th>2</th>\n",
              "      <td>48.0</td>\n",
              "      <td>8.0</td>\n",
              "      <td>hong, adamawa, nigeria</td>\n",
              "      <td>fulfulde</td>\n",
              "      <td>fulfulde</td>\n",
              "      <td>male</td>\n",
              "      <td>1037</td>\n",
              "      <td>nigeria</td>\n",
              "      <td>True</td>\n",
              "      <td>NaN</td>\n",
              "      <td>NaN</td>\n",
              "      <td>NaN</td>\n",
              "    </tr>\n",
              "    <tr>\n",
              "      <th>3</th>\n",
              "      <td>42.0</td>\n",
              "      <td>42.0</td>\n",
              "      <td>port-au-prince, haiti</td>\n",
              "      <td>haitian</td>\n",
              "      <td>haitian</td>\n",
              "      <td>male</td>\n",
              "      <td>1165</td>\n",
              "      <td>haiti</td>\n",
              "      <td>True</td>\n",
              "      <td>NaN</td>\n",
              "      <td>NaN</td>\n",
              "      <td>NaN</td>\n",
              "    </tr>\n",
              "    <tr>\n",
              "      <th>4</th>\n",
              "      <td>40.0</td>\n",
              "      <td>35.0</td>\n",
              "      <td>port-au-prince, haiti</td>\n",
              "      <td>haitian</td>\n",
              "      <td>haitian</td>\n",
              "      <td>male</td>\n",
              "      <td>1166</td>\n",
              "      <td>haiti</td>\n",
              "      <td>True</td>\n",
              "      <td>NaN</td>\n",
              "      <td>NaN</td>\n",
              "      <td>NaN</td>\n",
              "    </tr>\n",
              "    <tr>\n",
              "      <th>...</th>\n",
              "      <td>...</td>\n",
              "      <td>...</td>\n",
              "      <td>...</td>\n",
              "      <td>...</td>\n",
              "      <td>...</td>\n",
              "      <td>...</td>\n",
              "      <td>...</td>\n",
              "      <td>...</td>\n",
              "      <td>...</td>\n",
              "      <td>...</td>\n",
              "      <td>...</td>\n",
              "      <td>...</td>\n",
              "    </tr>\n",
              "    <tr>\n",
              "      <th>2167</th>\n",
              "      <td>46.0</td>\n",
              "      <td>5.0</td>\n",
              "      <td>lagos, nigeria</td>\n",
              "      <td>yoruba3</td>\n",
              "      <td>yoruba</td>\n",
              "      <td>female</td>\n",
              "      <td>766</td>\n",
              "      <td>nigeria</td>\n",
              "      <td>False</td>\n",
              "      <td>NaN</td>\n",
              "      <td>NaN</td>\n",
              "      <td>NaN</td>\n",
              "    </tr>\n",
              "    <tr>\n",
              "      <th>2168</th>\n",
              "      <td>46.0</td>\n",
              "      <td>12.0</td>\n",
              "      <td>lagos, nigeria</td>\n",
              "      <td>yoruba4</td>\n",
              "      <td>yoruba</td>\n",
              "      <td>male</td>\n",
              "      <td>851</td>\n",
              "      <td>nigeria</td>\n",
              "      <td>False</td>\n",
              "      <td>NaN</td>\n",
              "      <td>NaN</td>\n",
              "      <td>NaN</td>\n",
              "    </tr>\n",
              "    <tr>\n",
              "      <th>2169</th>\n",
              "      <td>47.0</td>\n",
              "      <td>2.0</td>\n",
              "      <td>ibadan, nigeria</td>\n",
              "      <td>yoruba5</td>\n",
              "      <td>yoruba</td>\n",
              "      <td>female</td>\n",
              "      <td>2023</td>\n",
              "      <td>nigeria</td>\n",
              "      <td>False</td>\n",
              "      <td>NaN</td>\n",
              "      <td>NaN</td>\n",
              "      <td>NaN</td>\n",
              "    </tr>\n",
              "    <tr>\n",
              "      <th>2170</th>\n",
              "      <td>31.0</td>\n",
              "      <td>1.0</td>\n",
              "      <td>bethel, alaska, usa</td>\n",
              "      <td>yupik1</td>\n",
              "      <td>yupik</td>\n",
              "      <td>female</td>\n",
              "      <td>571</td>\n",
              "      <td>usa</td>\n",
              "      <td>False</td>\n",
              "      <td>NaN</td>\n",
              "      <td>NaN</td>\n",
              "      <td>NaN</td>\n",
              "    </tr>\n",
              "    <tr>\n",
              "      <th>2171</th>\n",
              "      <td>24.0</td>\n",
              "      <td>14.0</td>\n",
              "      <td>bulawayo, zimbabwe</td>\n",
              "      <td>zulu1</td>\n",
              "      <td>zulu</td>\n",
              "      <td>female</td>\n",
              "      <td>406</td>\n",
              "      <td>zimbabwe</td>\n",
              "      <td>False</td>\n",
              "      <td>NaN</td>\n",
              "      <td>NaN</td>\n",
              "      <td>NaN</td>\n",
              "    </tr>\n",
              "  </tbody>\n",
              "</table>\n",
              "<p>2172 rows × 12 columns</p>\n",
              "</div>\n",
              "      <button class=\"colab-df-convert\" onclick=\"convertToInteractive('df-d6031ca7-00a5-46c6-b90d-d7f8b612cfd0')\"\n",
              "              title=\"Convert this dataframe to an interactive table.\"\n",
              "              style=\"display:none;\">\n",
              "        \n",
              "  <svg xmlns=\"http://www.w3.org/2000/svg\" height=\"24px\"viewBox=\"0 0 24 24\"\n",
              "       width=\"24px\">\n",
              "    <path d=\"M0 0h24v24H0V0z\" fill=\"none\"/>\n",
              "    <path d=\"M18.56 5.44l.94 2.06.94-2.06 2.06-.94-2.06-.94-.94-2.06-.94 2.06-2.06.94zm-11 1L8.5 8.5l.94-2.06 2.06-.94-2.06-.94L8.5 2.5l-.94 2.06-2.06.94zm10 10l.94 2.06.94-2.06 2.06-.94-2.06-.94-.94-2.06-.94 2.06-2.06.94z\"/><path d=\"M17.41 7.96l-1.37-1.37c-.4-.4-.92-.59-1.43-.59-.52 0-1.04.2-1.43.59L10.3 9.45l-7.72 7.72c-.78.78-.78 2.05 0 2.83L4 21.41c.39.39.9.59 1.41.59.51 0 1.02-.2 1.41-.59l7.78-7.78 2.81-2.81c.8-.78.8-2.07 0-2.86zM5.41 20L4 18.59l7.72-7.72 1.47 1.35L5.41 20z\"/>\n",
              "  </svg>\n",
              "      </button>\n",
              "      \n",
              "  <style>\n",
              "    .colab-df-container {\n",
              "      display:flex;\n",
              "      flex-wrap:wrap;\n",
              "      gap: 12px;\n",
              "    }\n",
              "\n",
              "    .colab-df-convert {\n",
              "      background-color: #E8F0FE;\n",
              "      border: none;\n",
              "      border-radius: 50%;\n",
              "      cursor: pointer;\n",
              "      display: none;\n",
              "      fill: #1967D2;\n",
              "      height: 32px;\n",
              "      padding: 0 0 0 0;\n",
              "      width: 32px;\n",
              "    }\n",
              "\n",
              "    .colab-df-convert:hover {\n",
              "      background-color: #E2EBFA;\n",
              "      box-shadow: 0px 1px 2px rgba(60, 64, 67, 0.3), 0px 1px 3px 1px rgba(60, 64, 67, 0.15);\n",
              "      fill: #174EA6;\n",
              "    }\n",
              "\n",
              "    [theme=dark] .colab-df-convert {\n",
              "      background-color: #3B4455;\n",
              "      fill: #D2E3FC;\n",
              "    }\n",
              "\n",
              "    [theme=dark] .colab-df-convert:hover {\n",
              "      background-color: #434B5C;\n",
              "      box-shadow: 0px 1px 3px 1px rgba(0, 0, 0, 0.15);\n",
              "      filter: drop-shadow(0px 1px 2px rgba(0, 0, 0, 0.3));\n",
              "      fill: #FFFFFF;\n",
              "    }\n",
              "  </style>\n",
              "\n",
              "      <script>\n",
              "        const buttonEl =\n",
              "          document.querySelector('#df-d6031ca7-00a5-46c6-b90d-d7f8b612cfd0 button.colab-df-convert');\n",
              "        buttonEl.style.display =\n",
              "          google.colab.kernel.accessAllowed ? 'block' : 'none';\n",
              "\n",
              "        async function convertToInteractive(key) {\n",
              "          const element = document.querySelector('#df-d6031ca7-00a5-46c6-b90d-d7f8b612cfd0');\n",
              "          const dataTable =\n",
              "            await google.colab.kernel.invokeFunction('convertToInteractive',\n",
              "                                                     [key], {});\n",
              "          if (!dataTable) return;\n",
              "\n",
              "          const docLinkHtml = 'Like what you see? Visit the ' +\n",
              "            '<a target=\"_blank\" href=https://colab.research.google.com/notebooks/data_table.ipynb>data table notebook</a>'\n",
              "            + ' to learn more about interactive tables.';\n",
              "          element.innerHTML = '';\n",
              "          dataTable['output_type'] = 'display_data';\n",
              "          await google.colab.output.renderOutput(dataTable, element);\n",
              "          const docLink = document.createElement('div');\n",
              "          docLink.innerHTML = docLinkHtml;\n",
              "          element.appendChild(docLink);\n",
              "        }\n",
              "      </script>\n",
              "    </div>\n",
              "  </div>\n",
              "  "
            ]
          },
          "metadata": {}
        }
      ],
      "source": [
        "import pandas as pd\n",
        "\n",
        "meta = pd.read_csv('drive/MyDrive/cse256/speakers_all.csv')\n",
        "display(meta)"
      ]
    },
    {
      "cell_type": "markdown",
      "source": [
        "# Load in Speaker-to-Phonemes dictionary"
      ],
      "metadata": {
        "id": "7GbBH-vbyz4o"
      }
    },
    {
      "cell_type": "code",
      "execution_count": null,
      "metadata": {
        "id": "r6OCBgVpWrnZ"
      },
      "outputs": [],
      "source": [
        "import pickle\n",
        "\n",
        "speaker_to_phonemes = pickle.load(open(dir + '/speakers_to_phonemes_dict.pickle', 'rb'))"
      ]
    },
    {
      "cell_type": "markdown",
      "source": [
        "# Get list of unique IPA phoneme vocab"
      ],
      "metadata": {
        "id": "nR2-4DIcy8n_"
      }
    },
    {
      "cell_type": "code",
      "execution_count": null,
      "metadata": {
        "id": "aXLDzWHLXUeS",
        "colab": {
          "base_uri": "https://localhost:8080/"
        },
        "outputId": "9fbbb492-b1ed-470a-f580-86ed6c5b0daa"
      },
      "outputs": [
        {
          "output_type": "execute_result",
          "data": {
            "text/plain": [
              "{'ɥ': 1,\n",
              " 'b': 2,\n",
              " 'ʒ': 3,\n",
              " 'θ': 4,\n",
              " 'z': 5,\n",
              " 'u': 6,\n",
              " 'ɤ': 7,\n",
              " 'r': 8,\n",
              " 'f': 9,\n",
              " 'm': 10,\n",
              " 'l': 11,\n",
              " 'æ': 12,\n",
              " 'ɰ': 13,\n",
              " 'y': 14,\n",
              " 'ɕ': 15,\n",
              " 'ʰ': 16,\n",
              " '̥': 17,\n",
              " 'i': 18,\n",
              " '̚': 19,\n",
              " 'ɣ': 20,\n",
              " 'ʲ': 21,\n",
              " '̆': 22,\n",
              " 'ʋ': 23,\n",
              " 'ʏ': 24,\n",
              " 'ç': 25,\n",
              " 'ɹ': 26,\n",
              " 'ɳ': 27,\n",
              " 'x': 28,\n",
              " 'o': 29,\n",
              " 'e': 30,\n",
              " 'v': 31,\n",
              " 'ʁ': 32,\n",
              " 'h': 33,\n",
              " '̪': 34,\n",
              " 'ː': 35,\n",
              " 'ɒ': 36,\n",
              " 'œ': 37,\n",
              " 'k': 38,\n",
              " 'p': 39,\n",
              " 'ɴ': 40,\n",
              " 'β': 41,\n",
              " 'ʃ': 42,\n",
              " ' ': 43,\n",
              " '̟': 44,\n",
              " 'j': 45,\n",
              " '̞': 46,\n",
              " 'ʝ': 47,\n",
              " 'ʔ': 48,\n",
              " 'ʂ': 49,\n",
              " 'ʌ': 50,\n",
              " 'ʀ': 51,\n",
              " 'ɯ': 52,\n",
              " 'n': 53,\n",
              " 'ɻ': 54,\n",
              " 'ә': 55,\n",
              " 't': 56,\n",
              " 'ɪ': 57,\n",
              " 'ɔ': 58,\n",
              " 'ɑ': 59,\n",
              " 'ɡ': 60,\n",
              " 'ɾ': 61,\n",
              " '̤': 62,\n",
              " 'ʊ': 63,\n",
              " 'ø': 64,\n",
              " 'ə': 65,\n",
              " 'ɨ': 66,\n",
              " 'd': 67,\n",
              " 'ʐ': 68,\n",
              " '̩': 69,\n",
              " 'ð': 70,\n",
              " 'w': 71,\n",
              " 'ɟ': 72,\n",
              " 's': 73,\n",
              " 'a': 74,\n",
              " 'ɛ': 75,\n",
              " '̃': 76,\n",
              " 'g': 77,\n",
              " 'ɲ': 78,\n",
              " 'ŋ': 79,\n",
              " '͡': 80}"
            ]
          },
          "metadata": {},
          "execution_count": 6
        }
      ],
      "source": [
        "all_phonemes = [item for sublist in speaker_to_phonemes.values() for item in sublist]\n",
        "unique_phonemes = list(set(all_phonemes))\n",
        "\n",
        "phone_code = {}\n",
        "num = 1\n",
        "for phon in unique_phonemes:\n",
        "  phone_code[phon] = num\n",
        "  num += 1\n",
        "\n",
        "phone_code"
      ]
    },
    {
      "cell_type": "markdown",
      "source": [
        "# Convert phonemes into BoW feature vector"
      ],
      "metadata": {
        "id": "s_ZeSQqlyknn"
      }
    },
    {
      "cell_type": "code",
      "source": [
        "import glob, pickle\n",
        "\n",
        "lang_list = ['mandarin', 'italian']\n",
        "\n",
        "speakers_to_bow = {}\n",
        "speaker_labels = {}\n",
        "for speaker in speaker_to_phonemes.keys():\n",
        "  for lang in lang_list:\n",
        "    if lang in speaker:\n",
        "      phonemes = speaker_to_phonemes[speaker]\n",
        "\n",
        "      phone_bow = []\n",
        "      for phon in phone_code.keys():\n",
        "        count = phonemes.count(phon)\n",
        "        phone_bow.append(count)\n",
        "\n",
        "      speakers_to_bow[speaker] = phone_bow\n",
        "      speaker_labels[speaker] = lang"
      ],
      "metadata": {
        "id": "K2p0PiDIVOT-"
      },
      "execution_count": null,
      "outputs": []
    },
    {
      "cell_type": "code",
      "source": [
        "from sklearn.decomposition import PCA\n",
        "\n",
        "values = list(speakers_to_bow.values())\n",
        "names = list(speakers_to_bow.keys())\n",
        "langs = [speaker_labels[n] for n in names]\n",
        "\n",
        "pca = PCA(n_components=3)\n",
        "components = pca.fit_transform(values)"
      ],
      "metadata": {
        "id": "33SYvGvRVOI1"
      },
      "execution_count": null,
      "outputs": []
    },
    {
      "cell_type": "code",
      "source": [
        "import plotly.express as px\n",
        "\n",
        "fig = px.scatter_3d(components, x=0, y=1, z=2, color=langs)\n",
        "fig.show()"
      ],
      "metadata": {
        "colab": {
          "base_uri": "https://localhost:8080/",
          "height": 542
        },
        "id": "KBfd7IayVV4c",
        "outputId": "873e04d1-fd1a-4b8a-9d59-132688408d32"
      },
      "execution_count": null,
      "outputs": [
        {
          "output_type": "display_data",
          "data": {
            "text/html": [
              "<html>\n",
              "<head><meta charset=\"utf-8\" /></head>\n",
              "<body>\n",
              "    <div>            <script src=\"https://cdnjs.cloudflare.com/ajax/libs/mathjax/2.7.5/MathJax.js?config=TeX-AMS-MML_SVG\"></script><script type=\"text/javascript\">if (window.MathJax && window.MathJax.Hub && window.MathJax.Hub.Config) {window.MathJax.Hub.Config({SVG: {font: \"STIX-Web\"}});}</script>                <script type=\"text/javascript\">window.PlotlyConfig = {MathJaxConfig: 'local'};</script>\n",
              "        <script src=\"https://cdn.plot.ly/plotly-2.18.2.min.js\"></script>                <div id=\"bcb8ce1e-7d59-4cd7-b061-5222cbe61138\" class=\"plotly-graph-div\" style=\"height:525px; width:100%;\"></div>            <script type=\"text/javascript\">                                    window.PLOTLYENV=window.PLOTLYENV || {};                                    if (document.getElementById(\"bcb8ce1e-7d59-4cd7-b061-5222cbe61138\")) {                    Plotly.newPlot(                        \"bcb8ce1e-7d59-4cd7-b061-5222cbe61138\",                        [{\"hovertemplate\":\"color=mandarin<br>0=%{x}<br>1=%{y}<br>2=%{z}<extra></extra>\",\"legendgroup\":\"mandarin\",\"marker\":{\"color\":\"#636efa\",\"symbol\":\"circle\"},\"mode\":\"markers\",\"name\":\"mandarin\",\"scene\":\"scene\",\"showlegend\":true,\"x\":[-7.624119613501739,-3.601699265271185,24.9565024754625,0.2799727240514328,-13.152796091681703,6.355814865427274,-1.9671757727560648,-2.588937863043175,70.13014943713044,-11.093897354200925,-4.2831170894362245,-8.26967156603612,-16.276589113746528,0.7750389477898384,-8.347037121527464,-2.3536281912216976,-6.273686840185528,-1.5753911654879877,-40.038980270939774,17.40519001220164,24.753777264161187,-2.190314831195346,-7.213277123504744,1.3999577171104332,-13.102034011246698,12.187681255290288,21.9985689221038,-13.642227457908247,-1.5253639664254781,12.180263285410156,-1.5228730193178062,1.4856834772859238,2.944118075593514,4.26815147104003,-9.438776992228155,11.325481305976213,-9.74667156440456,0.1585679296207155,2.769854347913666,8.407564560663175,-16.493499011914125,8.743077061170384,9.885628919804311,7.792386880788984,5.355426855057618,71.49850021793627,-7.406169299537233,-8.112836786675475,-6.8341020382189726,-1.7696572969373452,1.1082996530326812,7.323198082606788,4.663535883163736,-5.282669630255783,0.22984798595115447,-4.075501913417336,-7.000088830088252,0.27842731989266745,15.29838386300408,-3.012724782164204,-11.085006598524457,-13.972498743391231,-36.99699782340314,-0.07432231001090583,-18.16277246049742],\"y\":[3.367202703500204,-3.1949803657426714,-0.8971456245289735,1.2981714247002547,-2.895013291226779,1.2768853526150652,-2.0955232154645125,-3.13717170725663,12.96450988576962,-0.6970421442554663,-3.0368998674908037,-3.027882449156765,0.7769757621480513,-2.0335057713459914,-3.446204997162505,-2.5176315673597345,-2.922382501516267,-0.5379779145645213,16.87544439977274,-0.5573828297197156,1.6929473387477487,-3.625359086805608,-1.9047129029540595,-2.819653863348318,0.6355449233233772,4.080046810614567,1.3711944726047858,-5.663954315621168,-0.47650578736169075,-0.2124330455944013,-6.973588182837375,2.8726237101519145,-4.088074981560954,6.867135003024695,-3.3230553545086914,-3.951354575989891,-3.216781066696294,0.9209027825606364,-1.8314722041885618,-2.521505291537966,-1.7879270753791239,-4.314834672367982,-2.093466863258258,-1.4759246032784434,-0.19327344579279354,7.520270169994732,0.36452024188780396,-4.306678432575541,-0.08952932208902445,-2.3666897187563336,-3.254723681290774,-0.28005306264371316,-0.22812163737242247,-2.701049307400312,1.58525434654762,-0.40409081702745236,0.3064706304124269,4.686849386607913,-2.803921153268793,-0.8490896198753407,-1.6873632002994565,-2.153093960234274,38.823996821218095,-0.48925429473718085,-4.185459804711759],\"z\":[0.40475921049484037,-5.626572427257343,-1.7133650896890635,-1.0852598234807342,-8.08673701256165,-1.9619533988572562,-2.74421177259376,1.3085348989725964,3.491556733126258,-2.9345667753063664,-2.5662569488606795,-2.024666617054663,3.6054499412762318,-1.7918207530481556,2.101926627498931,0.1969809321777479,-3.452270544030755,-5.214290764168358,-2.599842811723432,-4.697754716967793,-0.29708962893116464,-3.9323979979663153,0.6550128987274403,1.9030717675837412,2.0160972178628653,-0.5969241769212655,4.133629966616271,-1.7625659894399244,2.2715475807427983,-2.812094347787057,-4.97811940302053,5.460226472990421,-6.582540937819294,-2.4015886145103313,-1.9329056995348561,-1.3898629863251628,3.1428012382389054,-2.171457632997418,-0.9684900546608978,-5.230477072927321,5.133628051153988,-4.14550823116687,4.920402831671611,-4.893836945608394,0.15904070524561761,-3.3120038403864873,1.7025085000781879,0.9347263361177114,1.0737123819615186,-4.218426292990729,1.2150466662719173,-1.7896954451106295,-0.771810496043389,0.6650554744617366,-4.418873920326871,-0.672814087729286,-0.7725984418654375,4.274537975322205,-1.5508435194432377,-1.6659105046929963,4.143115796127863,1.1619274422089576,-13.362488937990328,0.5700067394508774,0.6241526642982225],\"type\":\"scatter3d\"},{\"hovertemplate\":\"color=italian<br>0=%{x}<br>1=%{y}<br>2=%{z}<extra></extra>\",\"legendgroup\":\"italian\",\"marker\":{\"color\":\"#EF553B\",\"symbol\":\"circle\"},\"mode\":\"markers\",\"name\":\"italian\",\"scene\":\"scene\",\"showlegend\":true,\"x\":[-5.285514120911073,-6.165892144366363,-3.088256679459046,2.996829209242965,-4.675511247962714,-0.36046364251936547,-7.725591791286223,3.3675019505026045,-10.18738239217952,-10.968697086990964,-5.399184190690069,35.18687999171159,-8.131204501486334,-1.1126867200378676,-2.0163777229387185,-3.315212750226955,-4.9580511503312374,2.907723046955818,-10.781402842771357,-2.1535562959384142,41.02999219578991,0.07921022143045309,2.421655616675239,22.93486143935216,-18.742947427927106,-10.346857646022402,-15.630972946695978,3.930141608918341,5.7246017061616445,-14.735281514954282,-12.536988620310963,5.587174985451175,2.2995244774779935],\"y\":[-4.649826605055985,-2.563622641881997,-3.447430006565348,-0.5775706212813817,-0.7534380213451852,-0.928852632020292,-2.829469272875469,-4.26198197579121,6.202187670697065,0.3224464227173134,-0.5761177639759693,5.700756389636505,0.0473570133508845,-3.321377891944018,2.9758046112339764,-2.320825469365655,-1.4706616510758765,0.0593463964192832,-3.271984390526456,2.5488992383132962,5.498679231349249,3.3332937193232732,-0.8413271847925279,-1.7884933931736557,-0.41070274481675617,-0.8879977077244475,-0.6057119195648734,-1.4520808730705603,-1.886676008090691,-1.239451033142246,15.086516477030482,-2.3411732354133914,-0.3657207146242375],\"z\":[-0.5049845184301216,0.3150618516509673,1.7006183963167174,3.3838390793159983,0.8521042765500703,1.750895851682455,0.6538331597154851,8.101063388666553,11.761135989122302,-0.6869046824430489,4.121737866886052,-4.867845848551217,4.210894253515013,-1.3930185406481934,-2.9477676578992926,5.532704824393844,-5.4949990607979275,-2.980747384531406,-0.4419359768772043,3.8548747864423567,8.174246296371225,-0.21320156009963603,-1.3094195296854765,1.9943207833210435,5.502445329087442,-5.470056067824888,4.551169853367071,0.8307168036731781,-2.801431500629564,0.9097508197859212,21.123456471648378,0.679104517980104,4.969775340042497],\"type\":\"scatter3d\"}],                        {\"template\":{\"data\":{\"histogram2dcontour\":[{\"type\":\"histogram2dcontour\",\"colorbar\":{\"outlinewidth\":0,\"ticks\":\"\"},\"colorscale\":[[0.0,\"#0d0887\"],[0.1111111111111111,\"#46039f\"],[0.2222222222222222,\"#7201a8\"],[0.3333333333333333,\"#9c179e\"],[0.4444444444444444,\"#bd3786\"],[0.5555555555555556,\"#d8576b\"],[0.6666666666666666,\"#ed7953\"],[0.7777777777777778,\"#fb9f3a\"],[0.8888888888888888,\"#fdca26\"],[1.0,\"#f0f921\"]]}],\"choropleth\":[{\"type\":\"choropleth\",\"colorbar\":{\"outlinewidth\":0,\"ticks\":\"\"}}],\"histogram2d\":[{\"type\":\"histogram2d\",\"colorbar\":{\"outlinewidth\":0,\"ticks\":\"\"},\"colorscale\":[[0.0,\"#0d0887\"],[0.1111111111111111,\"#46039f\"],[0.2222222222222222,\"#7201a8\"],[0.3333333333333333,\"#9c179e\"],[0.4444444444444444,\"#bd3786\"],[0.5555555555555556,\"#d8576b\"],[0.6666666666666666,\"#ed7953\"],[0.7777777777777778,\"#fb9f3a\"],[0.8888888888888888,\"#fdca26\"],[1.0,\"#f0f921\"]]}],\"heatmap\":[{\"type\":\"heatmap\",\"colorbar\":{\"outlinewidth\":0,\"ticks\":\"\"},\"colorscale\":[[0.0,\"#0d0887\"],[0.1111111111111111,\"#46039f\"],[0.2222222222222222,\"#7201a8\"],[0.3333333333333333,\"#9c179e\"],[0.4444444444444444,\"#bd3786\"],[0.5555555555555556,\"#d8576b\"],[0.6666666666666666,\"#ed7953\"],[0.7777777777777778,\"#fb9f3a\"],[0.8888888888888888,\"#fdca26\"],[1.0,\"#f0f921\"]]}],\"heatmapgl\":[{\"type\":\"heatmapgl\",\"colorbar\":{\"outlinewidth\":0,\"ticks\":\"\"},\"colorscale\":[[0.0,\"#0d0887\"],[0.1111111111111111,\"#46039f\"],[0.2222222222222222,\"#7201a8\"],[0.3333333333333333,\"#9c179e\"],[0.4444444444444444,\"#bd3786\"],[0.5555555555555556,\"#d8576b\"],[0.6666666666666666,\"#ed7953\"],[0.7777777777777778,\"#fb9f3a\"],[0.8888888888888888,\"#fdca26\"],[1.0,\"#f0f921\"]]}],\"contourcarpet\":[{\"type\":\"contourcarpet\",\"colorbar\":{\"outlinewidth\":0,\"ticks\":\"\"}}],\"contour\":[{\"type\":\"contour\",\"colorbar\":{\"outlinewidth\":0,\"ticks\":\"\"},\"colorscale\":[[0.0,\"#0d0887\"],[0.1111111111111111,\"#46039f\"],[0.2222222222222222,\"#7201a8\"],[0.3333333333333333,\"#9c179e\"],[0.4444444444444444,\"#bd3786\"],[0.5555555555555556,\"#d8576b\"],[0.6666666666666666,\"#ed7953\"],[0.7777777777777778,\"#fb9f3a\"],[0.8888888888888888,\"#fdca26\"],[1.0,\"#f0f921\"]]}],\"surface\":[{\"type\":\"surface\",\"colorbar\":{\"outlinewidth\":0,\"ticks\":\"\"},\"colorscale\":[[0.0,\"#0d0887\"],[0.1111111111111111,\"#46039f\"],[0.2222222222222222,\"#7201a8\"],[0.3333333333333333,\"#9c179e\"],[0.4444444444444444,\"#bd3786\"],[0.5555555555555556,\"#d8576b\"],[0.6666666666666666,\"#ed7953\"],[0.7777777777777778,\"#fb9f3a\"],[0.8888888888888888,\"#fdca26\"],[1.0,\"#f0f921\"]]}],\"mesh3d\":[{\"type\":\"mesh3d\",\"colorbar\":{\"outlinewidth\":0,\"ticks\":\"\"}}],\"scatter\":[{\"fillpattern\":{\"fillmode\":\"overlay\",\"size\":10,\"solidity\":0.2},\"type\":\"scatter\"}],\"parcoords\":[{\"type\":\"parcoords\",\"line\":{\"colorbar\":{\"outlinewidth\":0,\"ticks\":\"\"}}}],\"scatterpolargl\":[{\"type\":\"scatterpolargl\",\"marker\":{\"colorbar\":{\"outlinewidth\":0,\"ticks\":\"\"}}}],\"bar\":[{\"error_x\":{\"color\":\"#2a3f5f\"},\"error_y\":{\"color\":\"#2a3f5f\"},\"marker\":{\"line\":{\"color\":\"#E5ECF6\",\"width\":0.5},\"pattern\":{\"fillmode\":\"overlay\",\"size\":10,\"solidity\":0.2}},\"type\":\"bar\"}],\"scattergeo\":[{\"type\":\"scattergeo\",\"marker\":{\"colorbar\":{\"outlinewidth\":0,\"ticks\":\"\"}}}],\"scatterpolar\":[{\"type\":\"scatterpolar\",\"marker\":{\"colorbar\":{\"outlinewidth\":0,\"ticks\":\"\"}}}],\"histogram\":[{\"marker\":{\"pattern\":{\"fillmode\":\"overlay\",\"size\":10,\"solidity\":0.2}},\"type\":\"histogram\"}],\"scattergl\":[{\"type\":\"scattergl\",\"marker\":{\"colorbar\":{\"outlinewidth\":0,\"ticks\":\"\"}}}],\"scatter3d\":[{\"type\":\"scatter3d\",\"line\":{\"colorbar\":{\"outlinewidth\":0,\"ticks\":\"\"}},\"marker\":{\"colorbar\":{\"outlinewidth\":0,\"ticks\":\"\"}}}],\"scattermapbox\":[{\"type\":\"scattermapbox\",\"marker\":{\"colorbar\":{\"outlinewidth\":0,\"ticks\":\"\"}}}],\"scatterternary\":[{\"type\":\"scatterternary\",\"marker\":{\"colorbar\":{\"outlinewidth\":0,\"ticks\":\"\"}}}],\"scattercarpet\":[{\"type\":\"scattercarpet\",\"marker\":{\"colorbar\":{\"outlinewidth\":0,\"ticks\":\"\"}}}],\"carpet\":[{\"aaxis\":{\"endlinecolor\":\"#2a3f5f\",\"gridcolor\":\"white\",\"linecolor\":\"white\",\"minorgridcolor\":\"white\",\"startlinecolor\":\"#2a3f5f\"},\"baxis\":{\"endlinecolor\":\"#2a3f5f\",\"gridcolor\":\"white\",\"linecolor\":\"white\",\"minorgridcolor\":\"white\",\"startlinecolor\":\"#2a3f5f\"},\"type\":\"carpet\"}],\"table\":[{\"cells\":{\"fill\":{\"color\":\"#EBF0F8\"},\"line\":{\"color\":\"white\"}},\"header\":{\"fill\":{\"color\":\"#C8D4E3\"},\"line\":{\"color\":\"white\"}},\"type\":\"table\"}],\"barpolar\":[{\"marker\":{\"line\":{\"color\":\"#E5ECF6\",\"width\":0.5},\"pattern\":{\"fillmode\":\"overlay\",\"size\":10,\"solidity\":0.2}},\"type\":\"barpolar\"}],\"pie\":[{\"automargin\":true,\"type\":\"pie\"}]},\"layout\":{\"autotypenumbers\":\"strict\",\"colorway\":[\"#636efa\",\"#EF553B\",\"#00cc96\",\"#ab63fa\",\"#FFA15A\",\"#19d3f3\",\"#FF6692\",\"#B6E880\",\"#FF97FF\",\"#FECB52\"],\"font\":{\"color\":\"#2a3f5f\"},\"hovermode\":\"closest\",\"hoverlabel\":{\"align\":\"left\"},\"paper_bgcolor\":\"white\",\"plot_bgcolor\":\"#E5ECF6\",\"polar\":{\"bgcolor\":\"#E5ECF6\",\"angularaxis\":{\"gridcolor\":\"white\",\"linecolor\":\"white\",\"ticks\":\"\"},\"radialaxis\":{\"gridcolor\":\"white\",\"linecolor\":\"white\",\"ticks\":\"\"}},\"ternary\":{\"bgcolor\":\"#E5ECF6\",\"aaxis\":{\"gridcolor\":\"white\",\"linecolor\":\"white\",\"ticks\":\"\"},\"baxis\":{\"gridcolor\":\"white\",\"linecolor\":\"white\",\"ticks\":\"\"},\"caxis\":{\"gridcolor\":\"white\",\"linecolor\":\"white\",\"ticks\":\"\"}},\"coloraxis\":{\"colorbar\":{\"outlinewidth\":0,\"ticks\":\"\"}},\"colorscale\":{\"sequential\":[[0.0,\"#0d0887\"],[0.1111111111111111,\"#46039f\"],[0.2222222222222222,\"#7201a8\"],[0.3333333333333333,\"#9c179e\"],[0.4444444444444444,\"#bd3786\"],[0.5555555555555556,\"#d8576b\"],[0.6666666666666666,\"#ed7953\"],[0.7777777777777778,\"#fb9f3a\"],[0.8888888888888888,\"#fdca26\"],[1.0,\"#f0f921\"]],\"sequentialminus\":[[0.0,\"#0d0887\"],[0.1111111111111111,\"#46039f\"],[0.2222222222222222,\"#7201a8\"],[0.3333333333333333,\"#9c179e\"],[0.4444444444444444,\"#bd3786\"],[0.5555555555555556,\"#d8576b\"],[0.6666666666666666,\"#ed7953\"],[0.7777777777777778,\"#fb9f3a\"],[0.8888888888888888,\"#fdca26\"],[1.0,\"#f0f921\"]],\"diverging\":[[0,\"#8e0152\"],[0.1,\"#c51b7d\"],[0.2,\"#de77ae\"],[0.3,\"#f1b6da\"],[0.4,\"#fde0ef\"],[0.5,\"#f7f7f7\"],[0.6,\"#e6f5d0\"],[0.7,\"#b8e186\"],[0.8,\"#7fbc41\"],[0.9,\"#4d9221\"],[1,\"#276419\"]]},\"xaxis\":{\"gridcolor\":\"white\",\"linecolor\":\"white\",\"ticks\":\"\",\"title\":{\"standoff\":15},\"zerolinecolor\":\"white\",\"automargin\":true,\"zerolinewidth\":2},\"yaxis\":{\"gridcolor\":\"white\",\"linecolor\":\"white\",\"ticks\":\"\",\"title\":{\"standoff\":15},\"zerolinecolor\":\"white\",\"automargin\":true,\"zerolinewidth\":2},\"scene\":{\"xaxis\":{\"backgroundcolor\":\"#E5ECF6\",\"gridcolor\":\"white\",\"linecolor\":\"white\",\"showbackground\":true,\"ticks\":\"\",\"zerolinecolor\":\"white\",\"gridwidth\":2},\"yaxis\":{\"backgroundcolor\":\"#E5ECF6\",\"gridcolor\":\"white\",\"linecolor\":\"white\",\"showbackground\":true,\"ticks\":\"\",\"zerolinecolor\":\"white\",\"gridwidth\":2},\"zaxis\":{\"backgroundcolor\":\"#E5ECF6\",\"gridcolor\":\"white\",\"linecolor\":\"white\",\"showbackground\":true,\"ticks\":\"\",\"zerolinecolor\":\"white\",\"gridwidth\":2}},\"shapedefaults\":{\"line\":{\"color\":\"#2a3f5f\"}},\"annotationdefaults\":{\"arrowcolor\":\"#2a3f5f\",\"arrowhead\":0,\"arrowwidth\":1},\"geo\":{\"bgcolor\":\"white\",\"landcolor\":\"#E5ECF6\",\"subunitcolor\":\"white\",\"showland\":true,\"showlakes\":true,\"lakecolor\":\"white\"},\"title\":{\"x\":0.05},\"mapbox\":{\"style\":\"light\"}}},\"scene\":{\"domain\":{\"x\":[0.0,1.0],\"y\":[0.0,1.0]},\"xaxis\":{\"title\":{\"text\":\"0\"}},\"yaxis\":{\"title\":{\"text\":\"1\"}},\"zaxis\":{\"title\":{\"text\":\"2\"}}},\"legend\":{\"title\":{\"text\":\"color\"},\"tracegroupgap\":0},\"margin\":{\"t\":60}},                        {\"responsive\": true}                    ).then(function(){\n",
              "                            \n",
              "var gd = document.getElementById('bcb8ce1e-7d59-4cd7-b061-5222cbe61138');\n",
              "var x = new MutationObserver(function (mutations, observer) {{\n",
              "        var display = window.getComputedStyle(gd).display;\n",
              "        if (!display || display === 'none') {{\n",
              "            console.log([gd, 'removed!']);\n",
              "            Plotly.purge(gd);\n",
              "            observer.disconnect();\n",
              "        }}\n",
              "}});\n",
              "\n",
              "// Listen for the removal of the full notebook cells\n",
              "var notebookContainer = gd.closest('#notebook-container');\n",
              "if (notebookContainer) {{\n",
              "    x.observe(notebookContainer, {childList: true});\n",
              "}}\n",
              "\n",
              "// Listen for the clearing of the current output cell\n",
              "var outputEl = gd.closest('.output');\n",
              "if (outputEl) {{\n",
              "    x.observe(outputEl, {childList: true});\n",
              "}}\n",
              "\n",
              "                        })                };                            </script>        </div>\n",
              "</body>\n",
              "</html>"
            ]
          },
          "metadata": {}
        }
      ]
    },
    {
      "cell_type": "code",
      "source": [
        "fig = px.scatter_matrix(\n",
        "    components,\n",
        "    labels=langs,\n",
        "    dimensions=range(3),\n",
        "    color=langs\n",
        ")\n",
        "fig.update_traces(diagonal_visible=False)\n",
        "fig.show()"
      ],
      "metadata": {
        "colab": {
          "base_uri": "https://localhost:8080/",
          "height": 542
        },
        "id": "wZ5OnKqoV2qf",
        "outputId": "b254f4b4-bdf9-419e-a6f0-5e9270776d78"
      },
      "execution_count": null,
      "outputs": [
        {
          "output_type": "display_data",
          "data": {
            "text/html": [
              "<html>\n",
              "<head><meta charset=\"utf-8\" /></head>\n",
              "<body>\n",
              "    <div>            <script src=\"https://cdnjs.cloudflare.com/ajax/libs/mathjax/2.7.5/MathJax.js?config=TeX-AMS-MML_SVG\"></script><script type=\"text/javascript\">if (window.MathJax && window.MathJax.Hub && window.MathJax.Hub.Config) {window.MathJax.Hub.Config({SVG: {font: \"STIX-Web\"}});}</script>                <script type=\"text/javascript\">window.PlotlyConfig = {MathJaxConfig: 'local'};</script>\n",
              "        <script src=\"https://cdn.plot.ly/plotly-2.18.2.min.js\"></script>                <div id=\"ab01173b-fc4c-439e-9b36-854118c44b92\" class=\"plotly-graph-div\" style=\"height:525px; width:100%;\"></div>            <script type=\"text/javascript\">                                    window.PLOTLYENV=window.PLOTLYENV || {};                                    if (document.getElementById(\"ab01173b-fc4c-439e-9b36-854118c44b92\")) {                    Plotly.newPlot(                        \"ab01173b-fc4c-439e-9b36-854118c44b92\",                        [{\"dimensions\":[{\"axis\":{\"matches\":true},\"label\":\"0\",\"values\":[-7.624119613501739,-3.601699265271185,24.9565024754625,0.2799727240514328,-13.152796091681703,6.355814865427274,-1.9671757727560648,-2.588937863043175,70.13014943713044,-11.093897354200925,-4.2831170894362245,-8.26967156603612,-16.276589113746528,0.7750389477898384,-8.347037121527464,-2.3536281912216976,-6.273686840185528,-1.5753911654879877,-40.038980270939774,17.40519001220164,24.753777264161187,-2.190314831195346,-7.213277123504744,1.3999577171104332,-13.102034011246698,12.187681255290288,21.9985689221038,-13.642227457908247,-1.5253639664254781,12.180263285410156,-1.5228730193178062,1.4856834772859238,2.944118075593514,4.26815147104003,-9.438776992228155,11.325481305976213,-9.74667156440456,0.1585679296207155,2.769854347913666,8.407564560663175,-16.493499011914125,8.743077061170384,9.885628919804311,7.792386880788984,5.355426855057618,71.49850021793627,-7.406169299537233,-8.112836786675475,-6.8341020382189726,-1.7696572969373452,1.1082996530326812,7.323198082606788,4.663535883163736,-5.282669630255783,0.22984798595115447,-4.075501913417336,-7.000088830088252,0.27842731989266745,15.29838386300408,-3.012724782164204,-11.085006598524457,-13.972498743391231,-36.99699782340314,-0.07432231001090583,-18.16277246049742]},{\"axis\":{\"matches\":true},\"label\":\"1\",\"values\":[3.367202703500204,-3.1949803657426714,-0.8971456245289735,1.2981714247002547,-2.895013291226779,1.2768853526150652,-2.0955232154645125,-3.13717170725663,12.96450988576962,-0.6970421442554663,-3.0368998674908037,-3.027882449156765,0.7769757621480513,-2.0335057713459914,-3.446204997162505,-2.5176315673597345,-2.922382501516267,-0.5379779145645213,16.87544439977274,-0.5573828297197156,1.6929473387477487,-3.625359086805608,-1.9047129029540595,-2.819653863348318,0.6355449233233772,4.080046810614567,1.3711944726047858,-5.663954315621168,-0.47650578736169075,-0.2124330455944013,-6.973588182837375,2.8726237101519145,-4.088074981560954,6.867135003024695,-3.3230553545086914,-3.951354575989891,-3.216781066696294,0.9209027825606364,-1.8314722041885618,-2.521505291537966,-1.7879270753791239,-4.314834672367982,-2.093466863258258,-1.4759246032784434,-0.19327344579279354,7.520270169994732,0.36452024188780396,-4.306678432575541,-0.08952932208902445,-2.3666897187563336,-3.254723681290774,-0.28005306264371316,-0.22812163737242247,-2.701049307400312,1.58525434654762,-0.40409081702745236,0.3064706304124269,4.686849386607913,-2.803921153268793,-0.8490896198753407,-1.6873632002994565,-2.153093960234274,38.823996821218095,-0.48925429473718085,-4.185459804711759]},{\"axis\":{\"matches\":true},\"label\":\"2\",\"values\":[0.40475921049484037,-5.626572427257343,-1.7133650896890635,-1.0852598234807342,-8.08673701256165,-1.9619533988572562,-2.74421177259376,1.3085348989725964,3.491556733126258,-2.9345667753063664,-2.5662569488606795,-2.024666617054663,3.6054499412762318,-1.7918207530481556,2.101926627498931,0.1969809321777479,-3.452270544030755,-5.214290764168358,-2.599842811723432,-4.697754716967793,-0.29708962893116464,-3.9323979979663153,0.6550128987274403,1.9030717675837412,2.0160972178628653,-0.5969241769212655,4.133629966616271,-1.7625659894399244,2.2715475807427983,-2.812094347787057,-4.97811940302053,5.460226472990421,-6.582540937819294,-2.4015886145103313,-1.9329056995348561,-1.3898629863251628,3.1428012382389054,-2.171457632997418,-0.9684900546608978,-5.230477072927321,5.133628051153988,-4.14550823116687,4.920402831671611,-4.893836945608394,0.15904070524561761,-3.3120038403864873,1.7025085000781879,0.9347263361177114,1.0737123819615186,-4.218426292990729,1.2150466662719173,-1.7896954451106295,-0.771810496043389,0.6650554744617366,-4.418873920326871,-0.672814087729286,-0.7725984418654375,4.274537975322205,-1.5508435194432377,-1.6659105046929963,4.143115796127863,1.1619274422089576,-13.362488937990328,0.5700067394508774,0.6241526642982225]}],\"hovertemplate\":\"color=mandarin<br>%{xaxis.title.text}=%{x}<br>%{yaxis.title.text}=%{y}<extra></extra>\",\"legendgroup\":\"mandarin\",\"marker\":{\"color\":\"#636efa\",\"symbol\":\"circle\"},\"name\":\"mandarin\",\"showlegend\":true,\"type\":\"splom\",\"diagonal\":{\"visible\":false}},{\"dimensions\":[{\"axis\":{\"matches\":true},\"label\":\"0\",\"values\":[-5.285514120911073,-6.165892144366363,-3.088256679459046,2.996829209242965,-4.675511247962714,-0.36046364251936547,-7.725591791286223,3.3675019505026045,-10.18738239217952,-10.968697086990964,-5.399184190690069,35.18687999171159,-8.131204501486334,-1.1126867200378676,-2.0163777229387185,-3.315212750226955,-4.9580511503312374,2.907723046955818,-10.781402842771357,-2.1535562959384142,41.02999219578991,0.07921022143045309,2.421655616675239,22.93486143935216,-18.742947427927106,-10.346857646022402,-15.630972946695978,3.930141608918341,5.7246017061616445,-14.735281514954282,-12.536988620310963,5.587174985451175,2.2995244774779935]},{\"axis\":{\"matches\":true},\"label\":\"1\",\"values\":[-4.649826605055985,-2.563622641881997,-3.447430006565348,-0.5775706212813817,-0.7534380213451852,-0.928852632020292,-2.829469272875469,-4.26198197579121,6.202187670697065,0.3224464227173134,-0.5761177639759693,5.700756389636505,0.0473570133508845,-3.321377891944018,2.9758046112339764,-2.320825469365655,-1.4706616510758765,0.0593463964192832,-3.271984390526456,2.5488992383132962,5.498679231349249,3.3332937193232732,-0.8413271847925279,-1.7884933931736557,-0.41070274481675617,-0.8879977077244475,-0.6057119195648734,-1.4520808730705603,-1.886676008090691,-1.239451033142246,15.086516477030482,-2.3411732354133914,-0.3657207146242375]},{\"axis\":{\"matches\":true},\"label\":\"2\",\"values\":[-0.5049845184301216,0.3150618516509673,1.7006183963167174,3.3838390793159983,0.8521042765500703,1.750895851682455,0.6538331597154851,8.101063388666553,11.761135989122302,-0.6869046824430489,4.121737866886052,-4.867845848551217,4.210894253515013,-1.3930185406481934,-2.9477676578992926,5.532704824393844,-5.4949990607979275,-2.980747384531406,-0.4419359768772043,3.8548747864423567,8.174246296371225,-0.21320156009963603,-1.3094195296854765,1.9943207833210435,5.502445329087442,-5.470056067824888,4.551169853367071,0.8307168036731781,-2.801431500629564,0.9097508197859212,21.123456471648378,0.679104517980104,4.969775340042497]}],\"hovertemplate\":\"color=italian<br>%{xaxis.title.text}=%{x}<br>%{yaxis.title.text}=%{y}<extra></extra>\",\"legendgroup\":\"italian\",\"marker\":{\"color\":\"#EF553B\",\"symbol\":\"circle\"},\"name\":\"italian\",\"showlegend\":true,\"type\":\"splom\",\"diagonal\":{\"visible\":false}}],                        {\"template\":{\"data\":{\"histogram2dcontour\":[{\"type\":\"histogram2dcontour\",\"colorbar\":{\"outlinewidth\":0,\"ticks\":\"\"},\"colorscale\":[[0.0,\"#0d0887\"],[0.1111111111111111,\"#46039f\"],[0.2222222222222222,\"#7201a8\"],[0.3333333333333333,\"#9c179e\"],[0.4444444444444444,\"#bd3786\"],[0.5555555555555556,\"#d8576b\"],[0.6666666666666666,\"#ed7953\"],[0.7777777777777778,\"#fb9f3a\"],[0.8888888888888888,\"#fdca26\"],[1.0,\"#f0f921\"]]}],\"choropleth\":[{\"type\":\"choropleth\",\"colorbar\":{\"outlinewidth\":0,\"ticks\":\"\"}}],\"histogram2d\":[{\"type\":\"histogram2d\",\"colorbar\":{\"outlinewidth\":0,\"ticks\":\"\"},\"colorscale\":[[0.0,\"#0d0887\"],[0.1111111111111111,\"#46039f\"],[0.2222222222222222,\"#7201a8\"],[0.3333333333333333,\"#9c179e\"],[0.4444444444444444,\"#bd3786\"],[0.5555555555555556,\"#d8576b\"],[0.6666666666666666,\"#ed7953\"],[0.7777777777777778,\"#fb9f3a\"],[0.8888888888888888,\"#fdca26\"],[1.0,\"#f0f921\"]]}],\"heatmap\":[{\"type\":\"heatmap\",\"colorbar\":{\"outlinewidth\":0,\"ticks\":\"\"},\"colorscale\":[[0.0,\"#0d0887\"],[0.1111111111111111,\"#46039f\"],[0.2222222222222222,\"#7201a8\"],[0.3333333333333333,\"#9c179e\"],[0.4444444444444444,\"#bd3786\"],[0.5555555555555556,\"#d8576b\"],[0.6666666666666666,\"#ed7953\"],[0.7777777777777778,\"#fb9f3a\"],[0.8888888888888888,\"#fdca26\"],[1.0,\"#f0f921\"]]}],\"heatmapgl\":[{\"type\":\"heatmapgl\",\"colorbar\":{\"outlinewidth\":0,\"ticks\":\"\"},\"colorscale\":[[0.0,\"#0d0887\"],[0.1111111111111111,\"#46039f\"],[0.2222222222222222,\"#7201a8\"],[0.3333333333333333,\"#9c179e\"],[0.4444444444444444,\"#bd3786\"],[0.5555555555555556,\"#d8576b\"],[0.6666666666666666,\"#ed7953\"],[0.7777777777777778,\"#fb9f3a\"],[0.8888888888888888,\"#fdca26\"],[1.0,\"#f0f921\"]]}],\"contourcarpet\":[{\"type\":\"contourcarpet\",\"colorbar\":{\"outlinewidth\":0,\"ticks\":\"\"}}],\"contour\":[{\"type\":\"contour\",\"colorbar\":{\"outlinewidth\":0,\"ticks\":\"\"},\"colorscale\":[[0.0,\"#0d0887\"],[0.1111111111111111,\"#46039f\"],[0.2222222222222222,\"#7201a8\"],[0.3333333333333333,\"#9c179e\"],[0.4444444444444444,\"#bd3786\"],[0.5555555555555556,\"#d8576b\"],[0.6666666666666666,\"#ed7953\"],[0.7777777777777778,\"#fb9f3a\"],[0.8888888888888888,\"#fdca26\"],[1.0,\"#f0f921\"]]}],\"surface\":[{\"type\":\"surface\",\"colorbar\":{\"outlinewidth\":0,\"ticks\":\"\"},\"colorscale\":[[0.0,\"#0d0887\"],[0.1111111111111111,\"#46039f\"],[0.2222222222222222,\"#7201a8\"],[0.3333333333333333,\"#9c179e\"],[0.4444444444444444,\"#bd3786\"],[0.5555555555555556,\"#d8576b\"],[0.6666666666666666,\"#ed7953\"],[0.7777777777777778,\"#fb9f3a\"],[0.8888888888888888,\"#fdca26\"],[1.0,\"#f0f921\"]]}],\"mesh3d\":[{\"type\":\"mesh3d\",\"colorbar\":{\"outlinewidth\":0,\"ticks\":\"\"}}],\"scatter\":[{\"fillpattern\":{\"fillmode\":\"overlay\",\"size\":10,\"solidity\":0.2},\"type\":\"scatter\"}],\"parcoords\":[{\"type\":\"parcoords\",\"line\":{\"colorbar\":{\"outlinewidth\":0,\"ticks\":\"\"}}}],\"scatterpolargl\":[{\"type\":\"scatterpolargl\",\"marker\":{\"colorbar\":{\"outlinewidth\":0,\"ticks\":\"\"}}}],\"bar\":[{\"error_x\":{\"color\":\"#2a3f5f\"},\"error_y\":{\"color\":\"#2a3f5f\"},\"marker\":{\"line\":{\"color\":\"#E5ECF6\",\"width\":0.5},\"pattern\":{\"fillmode\":\"overlay\",\"size\":10,\"solidity\":0.2}},\"type\":\"bar\"}],\"scattergeo\":[{\"type\":\"scattergeo\",\"marker\":{\"colorbar\":{\"outlinewidth\":0,\"ticks\":\"\"}}}],\"scatterpolar\":[{\"type\":\"scatterpolar\",\"marker\":{\"colorbar\":{\"outlinewidth\":0,\"ticks\":\"\"}}}],\"histogram\":[{\"marker\":{\"pattern\":{\"fillmode\":\"overlay\",\"size\":10,\"solidity\":0.2}},\"type\":\"histogram\"}],\"scattergl\":[{\"type\":\"scattergl\",\"marker\":{\"colorbar\":{\"outlinewidth\":0,\"ticks\":\"\"}}}],\"scatter3d\":[{\"type\":\"scatter3d\",\"line\":{\"colorbar\":{\"outlinewidth\":0,\"ticks\":\"\"}},\"marker\":{\"colorbar\":{\"outlinewidth\":0,\"ticks\":\"\"}}}],\"scattermapbox\":[{\"type\":\"scattermapbox\",\"marker\":{\"colorbar\":{\"outlinewidth\":0,\"ticks\":\"\"}}}],\"scatterternary\":[{\"type\":\"scatterternary\",\"marker\":{\"colorbar\":{\"outlinewidth\":0,\"ticks\":\"\"}}}],\"scattercarpet\":[{\"type\":\"scattercarpet\",\"marker\":{\"colorbar\":{\"outlinewidth\":0,\"ticks\":\"\"}}}],\"carpet\":[{\"aaxis\":{\"endlinecolor\":\"#2a3f5f\",\"gridcolor\":\"white\",\"linecolor\":\"white\",\"minorgridcolor\":\"white\",\"startlinecolor\":\"#2a3f5f\"},\"baxis\":{\"endlinecolor\":\"#2a3f5f\",\"gridcolor\":\"white\",\"linecolor\":\"white\",\"minorgridcolor\":\"white\",\"startlinecolor\":\"#2a3f5f\"},\"type\":\"carpet\"}],\"table\":[{\"cells\":{\"fill\":{\"color\":\"#EBF0F8\"},\"line\":{\"color\":\"white\"}},\"header\":{\"fill\":{\"color\":\"#C8D4E3\"},\"line\":{\"color\":\"white\"}},\"type\":\"table\"}],\"barpolar\":[{\"marker\":{\"line\":{\"color\":\"#E5ECF6\",\"width\":0.5},\"pattern\":{\"fillmode\":\"overlay\",\"size\":10,\"solidity\":0.2}},\"type\":\"barpolar\"}],\"pie\":[{\"automargin\":true,\"type\":\"pie\"}]},\"layout\":{\"autotypenumbers\":\"strict\",\"colorway\":[\"#636efa\",\"#EF553B\",\"#00cc96\",\"#ab63fa\",\"#FFA15A\",\"#19d3f3\",\"#FF6692\",\"#B6E880\",\"#FF97FF\",\"#FECB52\"],\"font\":{\"color\":\"#2a3f5f\"},\"hovermode\":\"closest\",\"hoverlabel\":{\"align\":\"left\"},\"paper_bgcolor\":\"white\",\"plot_bgcolor\":\"#E5ECF6\",\"polar\":{\"bgcolor\":\"#E5ECF6\",\"angularaxis\":{\"gridcolor\":\"white\",\"linecolor\":\"white\",\"ticks\":\"\"},\"radialaxis\":{\"gridcolor\":\"white\",\"linecolor\":\"white\",\"ticks\":\"\"}},\"ternary\":{\"bgcolor\":\"#E5ECF6\",\"aaxis\":{\"gridcolor\":\"white\",\"linecolor\":\"white\",\"ticks\":\"\"},\"baxis\":{\"gridcolor\":\"white\",\"linecolor\":\"white\",\"ticks\":\"\"},\"caxis\":{\"gridcolor\":\"white\",\"linecolor\":\"white\",\"ticks\":\"\"}},\"coloraxis\":{\"colorbar\":{\"outlinewidth\":0,\"ticks\":\"\"}},\"colorscale\":{\"sequential\":[[0.0,\"#0d0887\"],[0.1111111111111111,\"#46039f\"],[0.2222222222222222,\"#7201a8\"],[0.3333333333333333,\"#9c179e\"],[0.4444444444444444,\"#bd3786\"],[0.5555555555555556,\"#d8576b\"],[0.6666666666666666,\"#ed7953\"],[0.7777777777777778,\"#fb9f3a\"],[0.8888888888888888,\"#fdca26\"],[1.0,\"#f0f921\"]],\"sequentialminus\":[[0.0,\"#0d0887\"],[0.1111111111111111,\"#46039f\"],[0.2222222222222222,\"#7201a8\"],[0.3333333333333333,\"#9c179e\"],[0.4444444444444444,\"#bd3786\"],[0.5555555555555556,\"#d8576b\"],[0.6666666666666666,\"#ed7953\"],[0.7777777777777778,\"#fb9f3a\"],[0.8888888888888888,\"#fdca26\"],[1.0,\"#f0f921\"]],\"diverging\":[[0,\"#8e0152\"],[0.1,\"#c51b7d\"],[0.2,\"#de77ae\"],[0.3,\"#f1b6da\"],[0.4,\"#fde0ef\"],[0.5,\"#f7f7f7\"],[0.6,\"#e6f5d0\"],[0.7,\"#b8e186\"],[0.8,\"#7fbc41\"],[0.9,\"#4d9221\"],[1,\"#276419\"]]},\"xaxis\":{\"gridcolor\":\"white\",\"linecolor\":\"white\",\"ticks\":\"\",\"title\":{\"standoff\":15},\"zerolinecolor\":\"white\",\"automargin\":true,\"zerolinewidth\":2},\"yaxis\":{\"gridcolor\":\"white\",\"linecolor\":\"white\",\"ticks\":\"\",\"title\":{\"standoff\":15},\"zerolinecolor\":\"white\",\"automargin\":true,\"zerolinewidth\":2},\"scene\":{\"xaxis\":{\"backgroundcolor\":\"#E5ECF6\",\"gridcolor\":\"white\",\"linecolor\":\"white\",\"showbackground\":true,\"ticks\":\"\",\"zerolinecolor\":\"white\",\"gridwidth\":2},\"yaxis\":{\"backgroundcolor\":\"#E5ECF6\",\"gridcolor\":\"white\",\"linecolor\":\"white\",\"showbackground\":true,\"ticks\":\"\",\"zerolinecolor\":\"white\",\"gridwidth\":2},\"zaxis\":{\"backgroundcolor\":\"#E5ECF6\",\"gridcolor\":\"white\",\"linecolor\":\"white\",\"showbackground\":true,\"ticks\":\"\",\"zerolinecolor\":\"white\",\"gridwidth\":2}},\"shapedefaults\":{\"line\":{\"color\":\"#2a3f5f\"}},\"annotationdefaults\":{\"arrowcolor\":\"#2a3f5f\",\"arrowhead\":0,\"arrowwidth\":1},\"geo\":{\"bgcolor\":\"white\",\"landcolor\":\"#E5ECF6\",\"subunitcolor\":\"white\",\"showland\":true,\"showlakes\":true,\"lakecolor\":\"white\"},\"title\":{\"x\":0.05},\"mapbox\":{\"style\":\"light\"}}},\"legend\":{\"title\":{\"text\":\"color\"},\"tracegroupgap\":0},\"margin\":{\"t\":60},\"dragmode\":\"select\"},                        {\"responsive\": true}                    ).then(function(){\n",
              "                            \n",
              "var gd = document.getElementById('ab01173b-fc4c-439e-9b36-854118c44b92');\n",
              "var x = new MutationObserver(function (mutations, observer) {{\n",
              "        var display = window.getComputedStyle(gd).display;\n",
              "        if (!display || display === 'none') {{\n",
              "            console.log([gd, 'removed!']);\n",
              "            Plotly.purge(gd);\n",
              "            observer.disconnect();\n",
              "        }}\n",
              "}});\n",
              "\n",
              "// Listen for the removal of the full notebook cells\n",
              "var notebookContainer = gd.closest('#notebook-container');\n",
              "if (notebookContainer) {{\n",
              "    x.observe(notebookContainer, {childList: true});\n",
              "}}\n",
              "\n",
              "// Listen for the clearing of the current output cell\n",
              "var outputEl = gd.closest('.output');\n",
              "if (outputEl) {{\n",
              "    x.observe(outputEl, {childList: true});\n",
              "}}\n",
              "\n",
              "                        })                };                            </script>        </div>\n",
              "</body>\n",
              "</html>"
            ]
          },
          "metadata": {}
        }
      ]
    },
    {
      "cell_type": "code",
      "source": [
        "import numpy as np\n",
        "\n",
        "lang_to_comps = {}\n",
        "for lang in lang_list:\n",
        "\n",
        "  if lang not in lang_to_comps:\n",
        "    lang_to_comps[lang] = []\n",
        "\n",
        "  for name, comp in zip(names, values):\n",
        "    if lang in name:\n",
        "      lang_to_comps[lang].append(comp)\n",
        "\n",
        "\n",
        "lang_to_centroid = {}\n",
        "for lang in lang_to_comps:\n",
        "  centroid = np.average(np.asarray(lang_to_comps[lang]), axis=0)\n",
        "  lang_to_centroid[lang] = centroid\n",
        "\n",
        "mandarin_italian_dist = np.linalg.norm(lang_to_centroid['italian'] - lang_to_centroid['mandarin'])\n",
        "print(\"Mandarin-Italian Centroid Distance: \", mandarin_italian_dist)"
      ],
      "metadata": {
        "colab": {
          "base_uri": "https://localhost:8080/"
        },
        "id": "0ON6LcquWB9-",
        "outputId": "9f75950c-4169-43a3-a42b-7882988774fc"
      },
      "execution_count": null,
      "outputs": [
        {
          "output_type": "stream",
          "name": "stdout",
          "text": [
            "Mandarin-Italian Centroid Distance:  5.148177741614851\n"
          ]
        }
      ]
    },
    {
      "cell_type": "markdown",
      "source": [
        "# Top N Languages"
      ],
      "metadata": {
        "id": "XjSpi0o0VXD9"
      }
    },
    {
      "cell_type": "code",
      "execution_count": null,
      "metadata": {
        "id": "i9AR8oACLO3Q"
      },
      "outputs": [],
      "source": [
        "lang_list = ['english', 'spanish', 'mandarin', 'french', 'korean', 'portuguese', 'russian', 'dutch', 'turkish']\n",
        "\n",
        "speakers_to_bow = {}\n",
        "speaker_labels = {}\n",
        "for speaker in speaker_to_phonemes.keys():\n",
        "  for lang in lang_list:\n",
        "    if lang in speaker:\n",
        "      phonemes = speaker_to_phonemes[speaker]\n",
        "\n",
        "      phone_bow = []\n",
        "      for phon in phone_code.keys():\n",
        "        count = phonemes.count(phon)\n",
        "        phone_bow.append(count)\n",
        "\n",
        "      speakers_to_bow[speaker] = phone_bow\n",
        "      speaker_labels[speaker] = lang"
      ]
    },
    {
      "cell_type": "code",
      "source": [
        "values = list(speakers_to_bow.values())\n",
        "names = list(speakers_to_bow.keys())\n",
        "langs = [speaker_labels[n] for n in names]\n",
        "\n",
        "pca = PCA(n_components=3)\n",
        "components = pca.fit_transform(values)"
      ],
      "metadata": {
        "id": "17V5rsj8hfah"
      },
      "execution_count": null,
      "outputs": []
    },
    {
      "cell_type": "code",
      "source": [
        "fig = px.scatter_3d(components, x=0, y=1, z=2, color=langs)\n",
        "fig.show()"
      ],
      "metadata": {
        "id": "5l0-X86pho6B",
        "colab": {
          "base_uri": "https://localhost:8080/",
          "height": 542
        },
        "outputId": "42cb28b6-007a-4544-c760-83ffa8577295"
      },
      "execution_count": null,
      "outputs": [
        {
          "output_type": "display_data",
          "data": {
            "text/html": [
              "<html>\n",
              "<head><meta charset=\"utf-8\" /></head>\n",
              "<body>\n",
              "    <div>            <script src=\"https://cdnjs.cloudflare.com/ajax/libs/mathjax/2.7.5/MathJax.js?config=TeX-AMS-MML_SVG\"></script><script type=\"text/javascript\">if (window.MathJax && window.MathJax.Hub && window.MathJax.Hub.Config) {window.MathJax.Hub.Config({SVG: {font: \"STIX-Web\"}});}</script>                <script type=\"text/javascript\">window.PlotlyConfig = {MathJaxConfig: 'local'};</script>\n",
              "        <script src=\"https://cdn.plot.ly/plotly-2.18.2.min.js\"></script>                <div id=\"92018f1d-d329-46bc-a646-830278372443\" class=\"plotly-graph-div\" style=\"height:525px; width:100%;\"></div>            <script type=\"text/javascript\">                                    window.PLOTLYENV=window.PLOTLYENV || {};                                    if (document.getElementById(\"92018f1d-d329-46bc-a646-830278372443\")) {                    Plotly.newPlot(                        \"92018f1d-d329-46bc-a646-830278372443\",                        [{\"hovertemplate\":\"color=spanish<br>0=%{x}<br>1=%{y}<br>2=%{z}<extra></extra>\",\"legendgroup\":\"spanish\",\"marker\":{\"color\":\"#636efa\",\"symbol\":\"circle\"},\"mode\":\"markers\",\"name\":\"spanish\",\"scene\":\"scene\",\"showlegend\":true,\"x\":[1.6223080801072516,-1.0313994726462037,-2.0746767650128386,9.445917250570366,-5.022268878071306,-10.91365400467273,-7.436249297291507,2.2975369615010597,-0.7067663548541927,12.278466353921129,25.807733911449414,0.36427997571490406,8.114737083838259,16.20903193884525,-7.1603709029333755,7.798639686099913,3.286372257331993,0.7889755035920314,9.62576130892972,3.7489969676496666,11.486163583972402,-5.1733009228519675,-6.87942538519291,-9.953156516799568,1.5992589478065684,5.001502051975778,3.3106049055201847,5.598275670546972,25.008127804888574,-5.48438172442785,-11.524933656287368,5.399759763809198,-6.024394707322117,-19.87223165950355,29.71394365252413,-7.258489969679061,13.215506839206363,5.60589987728748,10.573202655579824,0.07322630633052135,-6.275665382362672,13.245640618952512,2.871404140539636,-23.444725965062545,8.90704278550253,-35.48682075210484,-1.1795587139986288,1.4446676035242882,-5.14263100047403,4.221574646645527,7.043485511177228,1.3934616654334664,23.797797466148634,-1.3386442501214393,24.33496811076844,1.0072877664942406,-12.286213068797803,-1.1539975728088956,-13.987165955820526,11.58554297693624,-1.777897854048512,11.233942735894106,-8.234877164381206,-8.230526990151757,-4.687761461400012,6.080316837681863,-16.584314702585047,-12.201996753937584,15.287700320900342,18.82573549182267,5.970672310381926,13.556877423833836,9.109826667435668,-1.777609264595028,5.864186550122756,-17.137475329351176,13.521216775898845,4.405727542025314,-9.559923132802464,-1.8093397287560917,-2.5302823845767346,1.1764605447253693,14.49458763996524,8.10369152398326,-0.40100860993585263,-0.7048400481612763,-3.2947074584083462,-2.554874484106451,-11.863700707956195,3.3620138086710125,3.658467804841479,1.4681722864039597,20.572564959722747,0.5673432785983247,8.108578284895742,5.552826999853947,3.6875189627041007,10.937448860364382,11.808968798081258,2.204112808389621,21.764274632967005,-2.2403235465992966,-9.063251417766251,9.270794773209381,-10.407524408938826,1.263708611670368,-0.5087962334616084,-0.48581676529523704,1.5033054443744225,7.0622437325148235,-20.811670407430288,5.4778547363133505,2.6567395675058783,10.629328986013876,1.1360667323755216,8.913938003308688,21.38639463686454,-7.9433168892984,43.98422312406439,-19.3172453534363,-0.6575490730663507,2.282921213586795,-6.510800922100979,-11.973301387099834,8.411584189440468,-0.5869716337606375,8.684546701832936,19.88103540085444,4.4024435094505225,0.3942952971218213,2.5306124363398417,-2.918469291480805,2.515949148407434,4.502435219517029,-8.694687968866877,6.5196961770862965,1.3812758168713224,-23.691202316945436,6.174816266236378,1.6957441051367779,-1.6684140651443653,-4.614635928604002,0.2771253704039385,16.643794721583987,0.46206133991782533,31.846294832660895,-6.156913682420963,2.476511244577547,17.300289979165104,31.0710291288828,-11.887735377019677,5.638718965153357,-6.068776856036668,10.75228505087901,0.2179487655497249,0.2618442441987347,1.9822179778273912,2.2929374648572627,17.57960563594577,4.77019542262492,8.353549510024246,-3.453802027402734],\"y\":[-1.282590898882157,1.7906974864222873,-0.8305029400351005,7.532563509828647,-0.9784463533322697,3.1796206250782473,-3.7847530630411006,-0.7246237289615607,-4.024904369828159,2.586351237624487,7.054229669876785,1.6675874914426159,4.251736911746461,1.0864350400511964,8.911184719450986,2.8599096484048925,0.5931323289118625,3.1944216463297264,3.299837605499679,3.1236155808334107,4.566448031632623,6.431739824410446,0.30924924937136855,7.237443717264893,-3.045431021543509,4.4396460108540685,0.569164752188043,3.596974203826974,0.32289469905590945,-1.44334396780483,4.280478576544444,2.116431909527053,-0.5668626935607729,11.062719667938735,8.766235529853185,3.4135090789325577,10.87146548689512,-0.737073305953731,-1.4595984036683494,2.28765646215902,15.183817310938222,4.276241504842071,2.6270881383676574,-5.476335677666166,-0.7866431419789077,3.105032384265951,13.946588902396504,1.1435157577459834,1.448865299043863,-0.3103557575614723,6.15381759071243,-4.819844123585103,-1.697683250297515,2.3319025386408834,8.111138348492398,0.49128775562307697,2.8943337371571767,11.549159861706096,-1.3808853803797634,7.1655322974303886,-0.0787719056191505,1.515451773765947,5.360982616698687,1.5900643799351422,-1.5729248069573654,2.648396720562794,19.333365210869715,3.9846582898020197,7.468810953583749,12.745513892624187,4.010462013382354,4.646779961804807,3.642281539219867,2.1948659444579732,0.018490674174438056,3.544361577500545,1.3229594326390164,0.12481625105365106,12.81425101844796,0.7675725322869816,-2.913796707919757,-2.553584922872837,25.223866151270368,5.710878224199152,-4.16955204838994,-2.957365204386773,2.6332944492891808,-3.719306493534377,1.160648605192915,3.19071369190821,0.6289715893748784,0.7818776775648738,0.13513968608643906,5.733357380895971,0.9429717281192361,4.475421956998414,3.6608832552550994,9.66005135838918,2.2631240642832453,-3.241004264269968,8.358488616735125,9.482899718602862,-2.987227384261156,2.1096559415281546,-3.4920533321638603,2.499108567254323,-0.7001881365690915,-2.494326947637263,2.6599484086027725,1.1477694049023464,19.723013394014306,5.921377299027745,-1.3740448166767738,0.7470235390507615,8.764348028786877,10.451873049200552,2.995577449825894,-1.9197214350630791,-1.9478714881820252,-4.085359306186386,1.313876369353147,-3.826512471862953,-0.696017280847492,7.294365330938344,2.4206241770815815,10.270198120400728,1.3009687748844334,2.421102949182443,4.5879414473196105,0.2864424657227905,-3.9024521075210337,-3.514147796246522,2.829783067177915,8.831849283344281,-1.4501928689621542,-4.070672953963557,0.08834092939635771,10.96778577210607,8.856556579951492,-3.925981893882704,-5.9438471997452185,-2.443444428249295,-1.0046447051235834,7.816546827229898,4.117358269753374,-1.9216477862880101,9.096981772467066,-0.6233667015186691,2.6447282124152647,3.3490621269193883,5.829983080078424,-1.1015358332333867,0.44789483420253645,-3.502156731818899,-0.505663031559865,1.7120955937654476,9.160284420789456,-3.288808637703268,0.5144379639146579,1.0993948474904645,3.5913369065254686,4.96716227613291],\"z\":[-1.246907243685618,3.5989763226576734,1.0691828516527815,-7.379747302860123,-2.7915159519056636,-1.3902510594025372,-2.1720123869443393,2.0133497075172864,1.4373393026481254,-1.410257504092839,-0.1642031971395334,-1.6845953237345537,6.2715792657338225,-4.524666218464816,-6.577296156112414,-4.123952199099025,-5.401770743571754,-4.42871046539507,0.6244193512078396,-1.354650066839015,2.372816394880177,-6.754261975226939,0.6612570336783815,-0.5983699744805112,-2.922950304084614,0.1668627823168066,0.54650106032216,-0.01942662584378266,-2.2582976956655716,0.42992900975023207,0.0411847552687587,0.3889985676503276,-1.1761110508691377,1.1671057069919957,2.7185220937149364,-1.6644283338805146,-4.776502506293565,-0.05312093775520773,-2.303926516091144,-0.4008039274817996,-7.055198016960437,-2.893668526456553,-5.912764473870202,-0.9950377752067274,-4.104072355771335,-1.6291979788175053,-4.176124449267356,-4.6432611499801215,-5.070246927467978,-2.5734344026999656,12.350308141115702,-0.9531469353011256,-3.6039488722937603,-0.6999928529828492,0.7786667687658615,-3.2443084472660004,1.6141245397554023,-0.8925193254735889,-1.1846017396043027,0.6454207848124621,-2.4102836994300887,-4.227896546847359,-2.666023020467673,-5.206325647239666,-2.6905074512806957,-6.2180856033001755,-2.7716964457022857,-0.8727227252010463,1.3403002542126565,4.810104069173179,-8.35562687307456,-5.2499269560276405,-1.3922439465276366,-2.859482612846871,-2.2376978108920444,4.042729417355724,0.7575422194006637,0.25977271002083674,9.509035996871084,-4.053576031885997,-3.755862811623519,-3.0537344586318445,30.397818743874446,-2.6304965169959353,2.6063254988467905,2.2972979537279694,-2.14793299655975,-1.7437451307788243,2.854369145052256,0.8380479703265975,-1.0567019136598614,0.33224773029966603,0.2217515634899471,-1.600878883545905,0.753617794108308,-4.082693470424142,-0.07773622187786002,1.3186564756667807,-1.9169133158448248,-0.9501777341873713,-1.954740321275453,5.107479931525792,2.412844483706865,3.7192404414957476,3.1893123283308964,-4.505131801190667,-3.003920622860044,-5.685452558258471,-3.2119986381412318,4.095926409419963,-4.362765342015034,-2.352106832662542,-3.892450781267624,-7.150961459938903,-3.5830966580944317,2.793094890421179,-0.3055906802807978,-1.0862923002143765,-5.275268408102854,4.611033137140958,-1.3938586544183942,0.3697051277449514,-0.3445359806181349,-11.079274778120306,-4.228479592570882,-3.1156426497946916,0.2422185974966489,-4.358578097993772,-2.86540175281662,0.036633756667702334,-0.4618895342960887,1.1306398745919493,-4.080265369664836,0.660398217811546,-0.5384302402116449,0.718998063128124,-3.802847706558949,-2.466054942267692,6.15921673985522,0.044084928705823215,2.004612481051088,1.5243086186684565,2.035366006796199,0.29276314774377515,-3.9253047158344607,4.461372233298287,-6.221382082742227,-5.979314621815585,-0.4994946591254261,0.6169257826124839,2.6265667957624053,-4.047029985292925,0.21687902589604535,-0.4446376933771928,1.9870468794435128,-3.777933253407811,-3.1094461456970413,2.0173873349220286,1.5809034188186022,-1.7580557603702254,1.4488697757328899,-3.807297821895797],\"type\":\"scatter3d\"},{\"hovertemplate\":\"color=english<br>0=%{x}<br>1=%{y}<br>2=%{z}<extra></extra>\",\"legendgroup\":\"english\",\"marker\":{\"color\":\"#EF553B\",\"symbol\":\"circle\"},\"mode\":\"markers\",\"name\":\"english\",\"scene\":\"scene\",\"showlegend\":true,\"x\":[1.4594495770083877,-3.434983977261351,-3.686221284541721,5.411917069239568,-12.67299749900519,21.727014627652643,1.251982659704355,3.467316102111629,-5.394372236539486,-1.5484932062781505,3.390134856416014,-5.5820838538037165,-0.5355093125723248,0.3022178885465836,-0.3741205292136581,0.6914857757872337,3.4023876856024122,0.3143809775274639,-17.896975001629826,7.327603561954777,2.4088117499088533,-3.5869715078744417,3.3083611341424066,-2.882716944159474,-4.59775274912513,1.2880523821571,-13.892087761021074,5.605198900713311,2.568239937758925,-3.455374494601462,4.551632585698712,-5.487082370758688,-23.612670155413515,4.711361217978025,6.28261202306617,-1.459598246826938,-1.5728519605600475,0.14817821592687758,5.280388002534749,-1.5184153864637675,0.4424329821259983,6.670909971497221,-5.66329821181139,-4.2488070957430795,5.222981070116998,1.327495372721502,-2.68694091556478,6.422868776620388,-26.86285254703783,4.057974335656281,0.34225689183907987,-1.9528906394520906,2.341934752513594,-21.467899014834067,1.469026583025809,-1.0060320704888739,-8.806843882549256,-2.6303911625938228,2.277862373904499,-8.094044832561638,1.1438039412230383,1.3767877141251517,20.551452312905333,-4.923039984711223,-6.800861854904938,-0.4763548219849283,0.5605139489537226,-6.883250469778116,-0.8581387021670435,3.4513440407336047,-2.5597952404735222,-11.873620645921665,-1.6813576235507375,1.447488418095621,1.1080004298918311,-10.086684654586064,-3.626925027205276,13.17874849943533,7.942751878438509,-4.6515367173305835,9.388698613397375,1.6210307954949943,37.961187198181925,-20.857874743503974,-21.195782765539466,2.4040713477763886,-15.017088956319956,-17.122555853227052,2.4371765874433344,3.624040937549919,1.8284467805313567,-0.5996233975006108,-9.010047100519865,-4.451567696890234,2.490547815477391,-0.6493563994701026,-4.916150599868822,-0.25855802659538546,-1.700519749882914,-1.418884175763404,3.562773639417539,1.496670027653727,1.302867000027922,6.167942910152013,-23.48593990488125,-0.74561587074585,-1.4259200222667334,5.436888943102155,-19.713757404775695,1.4296418522184617,-0.5140802814701754,-8.521005049730784,-4.90521518714177,-2.4513630574912573,-4.418407290406956,-1.8089317138569387,-2.834533723789108,6.56236971407855,3.5853397979245534,-1.4724684908746442,-0.7981245068557521,-8.594654245403042,5.9316920423712185,21.75702511689762,-6.669871829304904,1.4843524475819414,6.3616026432461155,6.576654116976441,-8.15676834374817,20.729351623055535,1.32247735839703,4.459390727622538,-0.5440394510841497,-6.269816337138513,-20.265626909999195,2.553729360116683,4.543534074480647,2.4926075464800057,2.512608040574745,6.316230112657008,5.319997822875743,4.5605891267412515,0.5547633609675853,-6.289431599321547,-5.494826924999948,4.638688790546216,-2.5936022199399766,0.3103892436767259,2.5130115384060177,0.4439178796626985,5.326471806033185,-1.5588939238209376,0.9907469008292576,0.5791340665342976,6.54009367472382,1.5007380294914054,-1.4796307394047585,5.345099868331723,-5.957933036422239,-0.3588828171981428,-0.5043328461242684,-6.579002001986126,3.389815393516465,27.107371352923188,1.3853070262016862,6.314722646023809,-19.270791857776096,1.2914546352439897,-6.511979916247251,2.3097850349903553,4.3833675725978125,-0.30850348349986206,3.4594874410853422,-11.511505419476853,-1.7397378605485443,-11.246597670969464,1.479361261309445,-6.0586823152463305,6.704680548659961,-4.696388960161501,-8.85783737191986,3.838437862961833,-15.51310623986785,0.16249632426876115,2.4649266076652743,6.531821753004324,-0.3823455815914194,2.407944185499769,-2.347302624019967,0.4054509525437494,-2.265813825911948,0.30722599733271116,-2.514281928376344,6.246114450607964,-6.365432775078561,-5.579808806938001,-0.8599291408299228,-0.7414663566150838,6.528750480732112,8.41194008241317,0.6883202005982136,0.8303578559969439,-3.520730202163867,-1.5839361263725182,8.539352910666118,-0.573908841537984,2.5557576455458064,-1.4190416677548892,-4.540004856516143,-0.6187137369342041,1.555491638877081,-8.822355924382801,-7.087069338864585,-7.161812635131883,-1.4873863638899525,-3.938166631563877,-0.6568135824488432,-6.762182405971989,6.68466288832869,-1.6930942308432901,-2.706675840561097,0.5284598377441788,0.2365561359973942,-3.713916542754365,0.8971702783882859,4.6097032968463365,-0.6706726202277778,-0.5938133214247291,-0.6519081486285676,1.6632241170085016,-0.4670707817084756,0.4227485333573997,1.4123876953411842,4.1796031827081785,12.401922718970095,0.3097861489211926,-11.500966652055464,-1.3824039217025896,-11.43152538375048,4.526084820358042,-3.0959909492509037,5.227445149957076,-5.5053109601068595,-3.587446947961709,-0.6068172460868336,6.304660423221555,-4.776571719742349,1.7727574441202625,10.780677866509508,-3.795069884062986,7.853930092294418,0.47604807405586713,-11.89055412514077,16.373736205399045,-0.8219454845971053,-8.642656693415276,-24.572730349620258,-0.87350231174925,2.3047768396856316,-5.161656283216611,-5.3964447715669905,0.4006860293108698,-8.521625307038875,-1.598740619520167,-4.571523325876362,3.4797468108925678,-0.5608701064162052,10.435423902127884,5.290621465288062,-3.2102992934597956,-3.7990817898605704,4.231976605020117,-3.489090276343905,27.071342982623957,-0.5695781168646196,-15.408025978958827,4.605546206459618,2.6508250635364545,3.5397733808443514,10.098361488528472,-4.584354996842706,2.089539577852745,-2.414976474093888,-0.7211269720757194,-0.5149781286268801,-3.9107832855788356,0.42336470866718645,-3.8232832340997334,-4.6436116639899305,1.4187707877234104,1.5387333143958384,3.4776667316844914,0.46584360935828045,2.521401940415074,-3.810855236020055,-5.813753592478993,0.9949838839123063,1.6360900269423828,-8.641217425873611,-1.6244713728983167,-17.147124300499243,-1.5682217693536353,1.5947591759352913,-2.735644663119716,-3.8016573632122124,3.1337486299875303,-4.242702426672055,-17.209527665459625,3.736656345607541,2.460382360722035,2.4255506280240104,-6.145968005454464,0.878309538673312,-4.083054899164665,0.6762447857999098,-1.6375852653961123,-6.888922464692945,-7.887840167392635,-5.8022976970769715,2.2959728446854575,-2.038270318617037,-0.6879874603775674,2.4108331352426045,-4.049817099409455,0.4016199973316666,-6.980061629480163,2.624191204336183,3.5832546084114045,-7.507371299557291,-1.0782047999329492,-3.5497756920809382,22.840090559441716,-0.8688333057923219,-10.03927898008686,2.4499338900198824,6.573578864254107,-1.685162473232225,7.561327128069657,4.5686545490265384,1.270972879639542,-3.6255277114800903,3.384401718374573,7.35197151318634,-8.342370058588786,1.3529063888919781,-4.795804216753837,4.528581857636519,-7.6627194367271425,7.480142990849075,1.5076246729308518,-23.003224891373392,7.485037355255798,-4.863731333354335,-4.516218905123978,-1.542434811242088,-5.158211942865607,2.6687222581976715,1.4671685748627208,-0.5562864679233794,-20.70564822424853,0.2422976789623491,-4.63546902907626,1.3833306174769018,1.4578516090299973,-2.633468329697756,3.3390227415536993,2.4558439287534153,-1.769844885953332,-2.1056687974064947,5.599866499730685,4.356948656905605,3.403853637635286,-0.3686968923753307,10.279438593698886,2.39284730421798,2.553676338595238,-2.8960927766896325,1.5195542742575778,-4.929568108478605,-0.4870491988728672,-1.3623690640128228,-0.2995245391540454,-4.982357014632479,4.5953678546170895,4.257951314405128,2.4375265075263806,4.679551467748644,1.5386121126628851,2.509385858879727,-4.574809656345766,-5.774707923980183,-4.877470715310248,3.597562955866926,3.4336613492008015,1.653446841227121,-14.880267707909768,3.4034269693410373,-14.742528068015423,-0.40141673023448815,-10.406539397728713,1.3530506692165742,-17.335706873609748,-4.973202162552184,3.301501671320519,1.4099127570189511,4.414155105627037,-4.612195411367744,-4.169467606736808,5.698677094428736,1.253548517754711,-0.5682369757841789,-0.3308517514882343,-0.6700902869575179,-1.7283072291845338,-5.6461242079013205,1.450380118632519,2.564081131601517,-9.853132757572833,-9.57435545297328,8.635380224570858,0.7126620729577502,-1.6994973307939274,3.6573084039229347,-1.89819308619786,-1.6775710566348927,-1.573969992186355,2.283996412196848,6.250119992000982,-0.5665070572576278,1.4971253165327087,-3.7494203669374437,-0.18259263905581447,1.8204760325360059,0.4454513390487541,0.4512410327910674,-8.876753172145547,-1.6628876954824385,0.12322574976749716,1.6394940229902968,3.351854667729358,-4.801525921692029,2.3349300651817284,-0.6871436305513569,-2.0768000777681497,1.3034008496387182,-0.11997647081196403,1.5440652786355968,2.556196104340027,-3.771752622484107,-14.067058477919158,12.138924362254679,22.9017088228051,-17.551955090753047,-1.0257582583644234,2.559469539629728,8.670613374941547,3.624468180215239,-0.9614507583390927,-2.50595672853783,-1.8148987092621909,-7.006185677838679,5.7602234498869915,0.22837713425636152,7.522617979212999,-0.6485500571032823,-3.707497042073787,-2.7900981792805384,5.241156810948179,2.2715771841999044,-12.633302080640998,1.1377979743011337,2.3602328839250397,-0.2899095112861329,2.4470453378052963,-8.212912120905116,-4.807962633510028,-11.924707565182894,2.5319219521708867,-15.43383044039197,7.6295283078503,0.2514619584981483,-8.076691390598793,1.2436191493374151,-5.432189274386174,-1.5104576814233952,-6.568506521624105,4.240260133536118,-12.318445249333266,0.47579030443213643,0.5779178121797746,-2.810959808760145,3.455608345108729,-2.7904346823953623,-2.5925113124796084,0.4940930887413671,-3.8135161466513865,-1.5198107326075234,2.57107597087511,4.128506602839021,0.48002119664543563,-7.529388217403747,-24.164852498864423,-14.062740886191364,-4.0579885934593,-6.509093473847239,1.023081726511853,-5.397557320738929,-3.911972063841966,2.4874481837679383,4.681558108271726,-6.079434820792564,-2.3498924324918704,2.41232711121297,3.591651910090278,-14.23878631829427,1.3076601468251634,1.3763989403772674,-3.8168465866100814,-1.563984425151032,3.488892023856215,2.5163081777618137,-3.589907658652372,-1.5714904471919733,-5.829467083384284,-3.7618723114728105,2.696326764604659,2.5240377988782394,1.6273057110186613,1.3793879469825947,-27.357247266541734,4.326970074371203,-0.003363314238814922,-1.6509450720666645,-4.046258536773976,2.3172842612160753,-6.288817061318103,7.561086831660489,-12.842450642012526,-0.5133794483258062,3.290403129990945,3.562601175680178,2.5411135427142666,0.4164086655610318,-0.5705385146350161,3.567799689774615,-5.771044516530392,4.277803927451665,-5.6748753562580525,0.44346326996215224,0.5384518063836199,-2.621608464065674,-5.36120291878844,5.426845523443607,-0.41855244924761686,-0.34749708006754726,-2.616391713024637,2.1024691729733305,0.9791304376741423,-3.8224534446267358,0.30778783688859546,5.593068425806607,-0.2806181072434399,20.8608692327506,-0.8211696813165258,4.779843655391318,-0.7592551888343757,0.12548901840248985,1.077906865231206,2.4375613545938166,-6.452042807457752,4.454487150514604,-11.08317629778195,5.487055274008547,1.4390821196213057,-8.521410689857353,2.6989372566145766,-6.7093728778775,-4.602075187159283,4.409952292524471],\"y\":[-5.079518005795688,-1.8946213052021281,3.0236999585630606,-4.532732006426832,-1.4031901786067587,0.5637207707573506,-5.956855140623491,-1.6825738278705737,1.0787579361056152,-3.333955015352387,0.713585618839869,-2.9053465291368634,-3.2712463209332614,-0.620122916782686,-2.285937373074944,-2.5116548737706643,-2.6873444351826135,-2.7660139857970254,-4.481611590653283,3.440485096242332,-3.677940667568262,-4.7920035722818515,-4.528102367590832,-4.9593129424411,0.07916098044114483,-2.3300297328978505,-1.1840908751360837,-4.142439210936114,8.834760379362741,-6.11396294710238,-1.7033531927226049,3.3982515368635955,9.547895270503155,-0.3870163955340369,4.886935074399918,-5.602721231833955,-3.7280572585960523,-1.603806365132103,-2.7945727598750234,-3.9136565072462495,-4.795968399882205,-3.4003809204494346,-0.34437802930218353,1.629595989526773,-0.5982552644914686,-0.2520632044030276,-3.6794465350179393,-0.6188729530879215,6.709121380724349,-1.8502719499016127,-5.769177025719971,-0.7597068772884163,-2.0517132327101897,3.5707671940906027,-5.550369882401237,-1.2420367856177377,-4.544257403016417,-2.5929517862125113,-0.4385015440542187,-1.2009492308193521,-1.2475917719077156,-1.2724438644489366,-0.7649254122652526,-0.8661009924426287,0.21177922065075236,-3.1606264650921227,-3.127316938635295,-2.1530431570274287,-3.255634218995049,-1.6861810994896442,-4.23028292862962,-3.514350395209881,-2.8284552765346906,-2.8530108353605845,-2.8735260994490917,-1.322917263651691,-1.9240153981276131,1.5275477102171704,-0.6435640507392387,-0.702864603418869,-2.7766238200133952,-3.7453580694458877,-1.713952155676845,4.2096735066907165,-1.1378219111741474,-4.728160654281778,-0.1610181052364947,-1.2011447419397066,-1.5065221235625028,-3.6827173128484105,-4.3478037889093955,-3.203006042708421,-3.8261387957061737,-2.8885415388409474,-3.7313520029587894,-1.7010309128041339,-2.907230239775411,-3.3847868752494126,-3.0949654635807464,-1.9263635257576266,-3.8490782584605587,-6.423263880087037,-0.9059638712268506,5.342313836406205,11.569158795968555,-0.5458893814495226,-3.0643704874376487,-1.8025880562068437,0.42085536669264517,-3.5991413810272768,-2.506088213386207,-1.4636392050048876,-1.123432582991962,-4.323479605497871,-3.6534513097982346,-0.8646341036557715,-2.6530895988027763,-1.7004212606876383,-4.189859956236837,-3.7299116567279924,-2.2923496824733447,-1.1817261718620826,-4.183024376918254,5.209784155548322,0.3207227916645485,-5.17507212766964,-4.447882456078255,-2.9006159304940633,3.9155212289896353,-1.7556202907205776,-4.508538583788854,-1.222737046489708,-1.8585442657142108,-3.9445375613381843,0.76088422674894,-4.58867216235371,-3.749542826102852,-3.710572087105684,-3.82910062780059,0.39272382358067426,-1.1918857754637358,-4.2937510927144675,-3.9887982940314077,0.2215283863085763,-1.0470674431061915,-2.2180595172729696,-2.6469996725308773,-4.300540181055443,-3.6918220237591637,-3.9289233712586342,-4.370204257521248,-5.7204735549990575,-2.5447648081689955,-4.99736171330503,-2.9403894321945296,-3.7807062445279613,-4.587447497940669,-3.030158301730532,-2.901057169791555,-1.0554583737467935,-2.927661379857753,-5.483965153724013,-3.477922678378882,18.463613332407334,-3.339314630022897,2.614900981646809,5.3703880640919515,-4.176070122484563,-4.914036094118931,2.5019162743916254,-2.5226991715971763,-3.850986053395158,-1.9941290162151006,3.069547759962193,-3.920011678330698,-3.519626175302579,-3.5471242503198535,6.173084506200751,-3.4520194578523866,-5.186574219189843,-1.6233492349788534,-0.42890224371192665,-0.5237635074610262,-3.7219827977389732,-3.1678195601226413,-1.6354985726179687,-4.196837075228438,-4.449581054858158,-4.355502944295261,-4.352808478586411,-2.824286152140572,-2.4109030980670583,-3.33253085385819,-0.11428260007117187,2.5675929038181002,-2.4816515857707153,-3.90841774465138,-1.846235034106706,-1.1502088616153396,-1.9841555151293995,-3.560874310315804,-1.6659271243810043,-5.858106737134625,0.027559348820000072,-2.8052318098118976,-2.786792866331721,-2.2636664521230028,-4.102935153620781,-2.8607878789018364,-0.5652919622222989,-2.427497005836018,0.3940932112262105,3.1296029469366253,2.2572416873477827,-5.079261147643467,-1.66082930578244,-4.384991902137814,-4.160554494201587,-4.967152417145684,-2.5091682794720134,3.1951266797651563,-0.21878180210217588,-4.0701286875361715,-3.453619228729546,1.49104323830333,-3.133839526335611,-2.4543923459606765,-1.3115417668979805,-2.985288806578984,-3.4186952186417576,-5.339809224153671,-0.23243709393744288,-4.537593793759558,2.7942631172172936,1.573401604839589,-2.07167794057727,-0.7221164253470579,-4.245350860355883,1.5704237044595253,-2.828824065344807,-2.434394037225455,-2.1908994549294634,-3.944750593316983,-3.4174323536740974,-2.314250493241388,-1.9241528845849167,-4.824693440065335,-2.7676419431046475,-0.5225406991188296,-1.7845928194751948,4.6249000062017025,-2.248711310161404,-2.1041991676516925,-2.8538200045470568,-3.006703341255317,1.289726115334737,-0.09774663056225642,-2.54390161061082,4.886674928034419,1.6254957433822157,-0.831851749936234,2.32727861374289,2.0783544331067954,-5.394884279531684,-3.758339902857504,-2.9185130379803623,-2.0623416233522938,-1.4776967433081227,-1.086596499212967,0.6397955887527995,-2.0530360713222446,-0.07474513376532067,-1.9910438949762135,-3.131058693417449,-5.036377796504853,2.6379600645454477,-4.715426208006825,-4.025150988774458,-3.890361868404504,-5.488981999708604,-1.556200274590963,3.797531833446636,-4.497758376194586,-4.603791087909975,-2.986602611604172,-2.126792624871515,-3.521659215990356,-5.398007058005243,-4.600353491172236,-2.3567174460085867,-4.4448772747035585,-2.620965745449309,-4.6880268716076,-3.1336157681039953,-2.3595879051981252,-1.8060014370221433,2.3527267852064955,-1.4976732338006709,-1.1077270758933477,-3.750820130572246,2.585315335036282,-5.544755855860461,-2.7592429866574615,-2.1749679464428646,-1.1356331845308165,1.9149894207253,12.063724372972578,5.305035773937588,-5.129427185961052,-3.770024354113271,-4.554588383424257,3.4588181295258567,-3.515602089860247,1.2107278335281115,0.2275995145592126,-4.1426791960597615,-0.13619679931465067,-0.676668255043787,0.5878503876194185,-2.6671495027211742,-0.2734440969694882,-3.957180222236682,-4.428558124252899,7.425677076247445,-5.654730894787052,0.8892412177935952,-4.511659512262062,-0.6674757040646309,-4.083966238543755,0.8688281243352144,-3.3826692648203847,0.3994721249812465,-3.0447116792825835,-5.626914643144006,-4.397975166901795,-1.9411733290087059,-3.5221980043242,-1.2926151860132689,-4.2425982624136624,-2.945029897673519,-0.2588721778500036,-1.512877743376306,-1.3004052560411945,0.7940998320124787,-3.07391645138565,-2.841737688327376,-1.684576436888498,-0.6969570519162349,-0.7808591012680114,-4.317114819201437,4.602637730607801,-4.200703814677815,-5.438719704171659,-4.745327999239599,-1.8138574625514459,-1.3265514936803793,-4.422468773555151,-4.638781722961219,-3.8030155866493787,-0.2532498900736673,0.8097443123906186,-5.004337755471141,-2.3265623024544664,-5.004505729773706,-6.799024883243127,-5.877052888907652,-5.9490435926873255,-3.842048149991026,0.32128974487164036,-3.9030631403190017,-2.5509699340638092,-3.462922307303152,-3.306914979398475,-0.16220354861356315,-3.305140827797743,-3.5357588582029367,-1.2763466324019543,-4.3766967686718035,0.42009808189835673,-4.972459311570563,-4.527711374572293,-2.0575686781797735,1.2981147108765811,-2.9462076378098745,-2.743028404900942,-4.160168560796601,2.375206183118444,-1.5272134647393867,-5.454336843687231,-0.4167989301146768,-2.826298982170784,-2.8699070247362206,-4.339328508272413,-4.101254511908617,-3.186412505106112,-3.985310599829096,-1.9964035611674802,-2.974436636260276,1.4660143885302683,0.4164169161415937,-3.598308906061514,-2.6241130368933785,-0.9633884939252153,1.0858020190179558,-4.265258165119162,-4.487894074184381,1.3727860398677523,-1.8018705251055176,2.4840658030313447,1.1315221673485267,-2.980267973214166,-6.112637005669021,-0.6812366590094259,-4.980583894670432,-2.073408255407179,-4.449377687048642,-4.548947415641791,1.3331188028735075,2.09407604879909,-2.1007439596047424,-0.3757651379053776,-3.2363420461361057,-4.113519068112864,-3.2391572936655773,-4.433485959930079,-5.686438109406288,-4.1826597002313814,3.237592762761048,-0.40831368563241616,-4.535253761276943,-4.04006455422149,-0.3168427736415173,2.0722683468452607,-5.443502131767403,-2.767502253149885,7.092611488470794,-5.072541969235411,-2.2396485747959494,-2.4400250496108864,-4.005160276447975,0.6551366713448769,0.963812077747524,-2.1344150442236858,-0.20058568971793625,-2.486130033169928,-3.4415525048582545,-5.460230397589214,-0.31113223622250685,-3.8561301550246703,-2.9609185064632206,2.8318169302556124,0.32078172284400713,0.0458672295723068,-1.695987705356918,-2.1396828601848275,-4.971770415311848,-4.320579908854168,5.150794387543992,-4.393105098732547,-2.7711329762886634,-1.6285952357194748,-4.122859905012589,-3.9916932370523277,-2.694814845015749,-5.952912039001374,-2.1161618846819303,0.4157639334982518,-1.2787316251418157,-4.934092168539329,-0.43532981986158087,-1.3924215751953415,-5.07162393780076,-0.19473879106536648,-3.6334464511529143,6.034238440104766,-1.3828713876344172,1.0061368904104022,-3.6583635749489822,3.9188738000904286,-3.211017993658509,-0.49653218749756506,0.3140946625443425,-1.8860315940642414,-6.186703201667214,-1.1358226670740852,-6.008589356180618,-0.17522421136557312,4.318220531293772,-2.3418385382432634,0.27685528367924367,-2.9645449824273573,-4.219745772246975,-4.127752950527103,-5.38216665010853,-3.7356500227353826,-5.1856514524209665,1.0105624879774517,-2.290755781105401,3.256060242743174,-4.550503546945689,-6.174194797156306,4.9048211944356535,-1.7605029806888812,3.392205076261138,-5.643314990816192,-4.4890298037141845,2.288437843933822,-3.3240772384202684,-3.879448825483404,-3.0961084860596673,-2.2338054849010196,-2.3523236910826304,-2.0250338130866608,-3.5111279240282443,4.808337845111119,-5.977983971639838,-3.7400953004093433,-0.23704367005474417,-4.067887006357029,-2.9584273813172057,-3.4765761504560553,-3.2058523450768903,-4.464573628929101,-0.34995022431793726,-3.0893314599357997,-4.189638602232284,-2.764958809564457,-4.878200801530507,-3.8114536175256717,3.9233738764326604,-1.0964664049174309,-0.48956933927628143,-0.4055626976886512,1.5974450708880368,-3.6804102841635102,0.7468727911377988,-5.291845196027123,-1.2821106994607085,-5.015609587964201,-3.8499214058060742,-5.068891888562389,-3.5750200167310706,-4.746354214671565,-3.7435019878403852,-3.7389425509895884,-3.109695843162087,-2.5644200284246352,-1.989935316961237,-4.471351350400981,-3.8747342299317036,0.7027735169859646,-0.5039791946317417,-2.282202527076345,-3.4622684422758176,-3.8098156638065532,-3.671050937587146,-2.4826000102203265,-0.6197920231286395,2.1854389532642142,-4.1680926398385765,0.36694570696949536,0.004239351038748041,1.0089058450401986,-3.0826864642268696,-2.3545029276781553,-3.501486270194354,-3.8466999585869406,-2.2575326521914545,-4.029084726089098,-1.6841536237678938,-5.768868014700969,-0.2649753533758949,-3.5517878760541866,-4.58239554261549,-1.34514158119574,-4.263127641843476,-5.15237099129654,-4.533289506746629,-2.9938341941098137],\"z\":[-0.3271045740965762,2.0684008930629583,3.6072282795556045,1.6811921233820728,3.350909096487634,-1.7497725200968464,-1.878399432793386,0.5767202655052613,6.224613434061453,0.7007057416014054,0.4560133860683538,-0.06285501958853011,-0.5669009766531903,1.2931055831818987,-0.9318867394083178,0.1294181717922945,1.394607339214571,1.5815481329931362,0.25023924565045425,2.514460842005171,0.3596880910639504,0.31236792712999406,1.3821456949135484,-0.31634832327855644,-1.4670344922119618,0.5753558824745791,0.7132734634672805,-1.5216147011549994,-1.6159148958441676,-1.6526208186499374,-0.44152907145696346,1.0511851759310875,0.4412674057460115,-0.5272050167826953,2.0151132364202384,0.1955884746198445,-1.1045010715099033,-0.16295884234758395,0.3159593725001358,-0.4917192359503828,-0.3940839111371306,1.7616832373201827,-3.450898751264078,1.4969517115688482,0.7752117289582394,3.5256873094844994,1.658913598998796,2.7342060070714593,5.06641006803765,1.2412636461795599,-0.06300565525309579,1.5324197166763514,-0.012781690678951926,2.847922291969897,0.1368702160653339,0.9246072924568182,1.3967017671442126,2.9670275219202153,0.08856098623544296,-2.0278627683079624,0.577263236898288,0.32830354674996365,2.9453604335905204,0.3762848003962215,3.6190124628844393,-0.7458044027508052,-1.2450039720056125,-1.7708931368867322,0.3915423717131583,-2.179712352546316,-0.5996450282473923,-0.2961059818594875,-0.12214843816433882,1.903445974872672,1.3161155257357846,0.04830325594200683,1.2363866118652351,1.843362307279205,-2.48224800639295,0.601698107057782,0.7239662232682325,1.4489533245427848,2.995073542697024,2.9693723093279605,2.478171522453125,-1.12220896854466,2.6973352108513904,3.127394302896241,0.9118412009632952,0.5548848283375751,-1.927832508679582,-0.7049533620884423,-1.4467828675795014,3.449624255515376,0.6477602657156336,0.7034329002719396,2.1132661429813786,-0.3219422181748987,1.1522358422114203,1.2400763701831339,0.5310684930819141,0.3431627806242908,-0.6948959520721787,-2.8369012871829256,9.09158572476925,3.430518732071272,2.9112043359943844,-1.2359322040731746,-1.7082914187372686,5.0561419899739874,-0.7580999730567028,1.2212272410071043,-0.13454101252539175,-0.8855635933932381,0.2289881227443194,1.0975800482023677,1.7877636565638004,0.5122027470805127,0.9992697825633104,0.8036264857577026,2.1041050758156365,0.7669539413760322,3.440377565186837,0.017191171236043145,2.9283110980874576,0.11361256910452956,0.16945834426704356,0.5887965279710584,-0.5349845473750472,-1.937584599762612,0.012809979535986268,3.2956593880803555,0.7630660160458677,2.153998247431535,-1.2226469536442859,0.02886436709282773,2.6942723986880712,-0.3316373071134443,0.8739011178621036,-1.0084049670391984,2.902371844856502,1.2864779148135874,-1.4728317476691748,2.9263656699419505,0.8252932315133447,-0.8617057112567709,0.839373665082277,0.17555784192209917,0.3987522881435968,0.6089331801434846,3.184900725020737,0.9980396771275774,1.755872858852328,-0.4193689153475415,0.7844421205111757,0.6709814178786032,-0.9676354168478157,-0.35586211386170863,2.777445855540771,2.4599850483749934,-0.3351175714564782,-0.09474933144664652,1.2507760729443187,10.871035667340921,0.8940570037585223,2.4289321481036703,4.2001558684654405,-0.5518219778202994,-0.33676609238410277,0.5495904422880188,-0.40190694737864396,-0.20219088791163609,-1.8176735903432135,-0.8725630547419729,-0.9515129175876923,2.892971633022221,1.858874599948099,2.3586766386681877,-1.2429685662396683,-1.1244618003179274,-2.8734270451180755,2.1512226897131677,-0.2082891092661389,0.5304820789439935,-0.643225114446596,2.739006993537045,1.028627277239271,0.7500785605792174,0.8711627742149805,2.771076382811158,2.911061161645989,-0.2635492483589084,0.07508476096290222,2.4640455936448813,-1.7942722942350655,-2.0219781354443964,2.022019644410595,0.9343451029002844,1.4982704710547998,-0.6492345833108427,0.5443182607356556,-1.4983845132907325,-0.3082426586765789,-0.5633021531583828,3.6198395023272663,-0.12278860003003854,-1.321393466776687,4.373856777552426,0.38216055988096265,1.4318326381391504,-1.8231976512451473,1.391797226809267,0.7798294230153262,3.5608943919365674,0.7702273279743016,1.0664562782850882,0.05523220438067335,-0.08220244969861167,-0.777770015392242,1.8519257132419487,3.3349345285677456,1.8816759598003687,1.1851261874459251,1.7987585016433927,-4.078978027942006,-1.4649044191119616,-1.468948169070921,1.2865100696303697,0.04208129263598059,0.03701052453258359,-0.5731407089156036,-3.3704834789947475,1.2593697976414282,-0.09838491512137096,6.519331554972574,3.678762820957674,5.013073697802802,-1.4319625633755173,-0.9203900282846543,0.8621749267927017,0.5110170929397926,1.3337567355792668,-0.07152678892582763,0.5721476454960313,-0.38987641960720837,-0.9178128508105189,-0.2248189163876213,0.4169667137095776,0.689230247983851,1.7302736519982462,3.807831755085332,1.0952151510742272,1.2332492680121798,-0.8195933056047479,0.8232894878324537,0.05582302040795211,2.663095257820789,0.5782677775032932,-0.18673614321570628,-0.2042828348605661,2.382665305034388,1.1799908660613285,4.145766591383748,0.6008103599600424,-1.4583019277962241,0.030688909019034996,-1.8029240764232237,0.15516120185713517,1.6507519284449255,1.4694572313328633,0.9823237049850105,2.1902173775016744,-0.5452593207795668,0.5957048821795828,1.2036581223784433,-1.4124610663052466,-0.08372619958394013,-0.19686378345666197,0.6739934635843913,0.6614395143113452,1.9885788937707463,1.9359650417622614,-0.10374094431197865,1.164641378113594,-1.253226208070892,2.9714960610544416,-0.4977264513247044,-0.031680380877267364,1.248405674746804,1.0457918754978455,1.2563507387020179,0.16031952508529437,0.38896699756732966,2.498015992496992,1.6893498616883338,1.4858349681342247,0.9170625813917199,-0.6296575663699546,-0.3535239089437072,1.170257555416938,2.676803325255101,1.8676204390037072,0.43170484541582343,1.8479956206284196,-0.2451280613255836,2.089165175156896,7.258664130130164,1.227828378522789,0.6827652430997275,-1.2578187057838173,0.5317759492232254,-1.7221296946480886,1.9121905133112318,1.49553702403624,0.145749575417553,1.9534387674822384,-1.2413595096751515,2.0933922261145343,1.358876072511644,3.4604016924279435,0.09735784877356593,1.4115879728925285,1.5307190045004497,-2.4158110842725167,0.21641873511500595,-0.5980134338232475,-1.2233895200782638,0.3793691905847439,1.3914988383160432,2.788423600084256,0.9131433540372044,1.6681123265563012,3.3440444328556365,2.999408613142593,-1.4678042831943365,-1.0191398039219792,0.06617810256642484,0.19623026969829838,-0.21889014245351177,0.5644443453440893,-0.04118097683419641,-1.2390381977293305,1.05976416867766,2.900233563429382,1.650109865008645,0.6714364394731015,-1.2105444135325427,0.406471819564288,-1.000423818949868,1.497337271501795,1.0408282082687978,-0.007866131456176768,1.2589217036605604,0.5382144031622983,-2.6161537795302303,-0.7027021969630376,1.8268550504139442,-0.1249097519361095,-2.948423849219716,-1.2704873668375731,-0.12156841507627458,-0.1632009839753025,2.201615011386519,0.7990143854113544,-0.11881014442160051,2.4835269616714153,-0.160391115300024,0.08515517771073074,1.6496210836436507,2.004677913005023,-0.34987174848575264,0.023399169004354802,-0.38905561595286264,2.3973618073838785,1.6729328978000249,0.6383411222091205,1.3229576678483022,0.7749647983829878,0.16869954067558093,-0.20113651617747555,-0.6196943795334656,1.054274500812513,-1.6393757893434895,-1.6632569423633976,1.60405962152806,-2.0879545942236253,5.039793388988787,-0.6109439854745012,-0.16344510987916222,-0.41823555649124955,-1.6461328642904332,1.0904370203809035,1.7328483606793188,0.5972671379482948,-0.48393120542259527,2.8080203922926095,-0.9860367528221974,-0.4630529727744277,-1.0268647433586244,2.742259355249646,1.0538155292113223,-0.11894269480004274,2.308391392776792,1.0040279721559753,0.4252578003962449,1.4934536865276333,2.4455838263806156,3.2465301658208943,3.5610910014146393,-0.36160883723882037,0.3981600788882573,0.8395950003964264,0.3024933538271607,0.27975477875276883,3.9261553427651363,0.009564260727262878,1.5582277960299664,0.8626495735345547,3.5890592487227453,1.3389633014823634,2.7936506239945915,-2.1717439554049136,-0.7242757190808076,2.086446647874661,-0.608902046422044,1.3140898597584776,0.7422218999167386,1.2070010669416877,-0.1994456433741069,-0.1962933478435703,3.3568736959571197,6.267333755661155,-0.4286857287681623,-0.5121806507456957,-0.1518697419467475,-5.862450017490038,0.6851464598575748,1.1810784984462335,0.9018138932391623,1.2293161005847082,-1.5432725151853073,5.95806729282384,1.0359649965379463,2.359909963010824,-0.9431870555977654,0.008558321404662747,1.0249429180396226,1.8046444707425895,1.2000564679006436,1.7331895574941434,0.3601125957984389,-1.4706858238380125,0.3397976463716211,-1.2845458918401527,0.8463827418690251,0.9305947212821835,1.5915064897278481,1.7466221512287443,1.142673166180555,1.7235988702977982,1.778864282359041,1.0277077493991538,2.3274236642591704,3.1471871373381926,-0.8126257565558382,0.20454564220327415,3.213332263453508,-0.8239967891010551,0.2909577506603929,3.2810681570625677,0.42224188025757875,0.9339344380843055,-0.47497013297495294,-0.169435808213745,9.048877706468964,0.4371390906819324,-3.6451129213480065,-1.5447810868971512,1.4359306160758507,1.4537648812643917,-1.1829023793803288,3.409140405388333,-0.05861295539299406,-2.7246583437251273,-0.24275541276050122,0.8196643743869328,1.7913117094615882,0.35756761689983657,1.3119441626062607,2.9547395520693653,-3.334850734871726,0.013787509059557519,1.5226845741495318,-1.500186340539468,0.559067286406985,1.1560161852640078,0.1392246336048709,-0.41449967159205403,1.3119946530186315,0.688000069783247,0.9351422879216253,3.312527947929583,2.874939206110073,-3.067239895056453,-0.6402655984608722,2.093468378074051,9.19044370908207,0.7138721049269954,-0.8647793278254632,-1.3869463827562083,-0.5342387953728328,-0.07670937553359354,-1.5647221293317748,0.7650689266492824,-1.1405762000895714,1.3961148168702533,3.660732946947408,-2.7970520609515637,1.7210485048834603,0.9449466624522206,-0.4353839459843064,-1.563147722097841,0.32178937980531686,3.0962849771306904,-0.5814512603455626,0.5448002231537189,1.1337212068273745,-0.1762946994420119,2.0296109738703345,2.280887110691344,2.299094090134392,3.0251665686438582,1.7852669526957063,4.504647376464479,4.108887201816003,3.8884721662404917,1.8053219057184338,0.7086428034447453,0.09253145007986542,0.9318773107943604,-0.21830803347086478,0.2806210018990101,1.389013657138559,0.747030986778744,0.058243013523106735,-1.673243958122846,0.6945437615865891,-2.3795730004509585,0.4144741223139407,1.205048823060726,0.3137335480081569,2.1487298049049235,0.4970133838354957,0.11586919614864662,0.2284448730695333,2.750969731829069,-0.46197621316407583,3.809860494130132,-0.16158734503392325,-0.43389263625400093,0.0900439865294745,-2.7156850044607634,1.089258992089424,1.8924965846926218,2.7163264574290045,-1.6808333420606123,0.738185020849231,-0.7255126591135082,-1.6694591555546188,1.6659371143655346,-0.23789809113033994,0.05425046235798502,0.3339757026256919,-0.08573358627647869,3.1296938596256014,0.9741113134444669,2.3687952968546417,-0.7929586053913821,-0.35187466320620187],\"type\":\"scatter3d\"},{\"hovertemplate\":\"color=dutch<br>0=%{x}<br>1=%{y}<br>2=%{z}<extra></extra>\",\"legendgroup\":\"dutch\",\"marker\":{\"color\":\"#00cc96\",\"symbol\":\"circle\"},\"mode\":\"markers\",\"name\":\"dutch\",\"scene\":\"scene\",\"showlegend\":true,\"x\":[-4.921304832399377,-12.052886299239278,1.1749809119113768,-1.5577659111168616,1.2162242635035792,-4.095501748418177,-7.990969879951053,-11.52746910735343,2.376765269406782,3.276551624230699,-0.8461241696838994,-9.5655774473125,-1.7031408076420058,8.393912968479244,-24.50425293934577,2.573709630154786,-34.3918130666533,0.22861670609016468,16.449189869578845,3.180738629700867,-15.887306684242933,-5.180038472999425,-1.773557805648692,-7.730568837690852,-2.5183718325302347,8.812295486392028,-10.019088806793919,8.37573139849338,5.20082801356402,-7.846903799553736,2.3493818315099384,-2.8910111042593667,-3.574577341936373,-3.7263480545299092,-4.779753126531585,-5.122918957891005,4.466001507800175,-1.5501152245646854,-5.423740934018658,0.2107637645445729,-7.8197921227763745,2.289277912120311,0.365436979732363,-11.864047069133282,12.723005523977562,-2.9462230968302134,-15.554932265595847],\"y\":[0.841106322559925,0.666559399400767,-0.7224439211026776,-3.0998023837081767,-2.508652144396698,0.6589030734174949,1.1345597757930939,5.350804374027677,-0.5809808650931263,5.392386102762713,8.07985664010896,-3.3916690821079536,-0.03978101451466417,2.999615976866464,3.2528282429748514,1.0042096403713756,23.930400252059407,1.8328480399026492,-0.485028380228626,-3.7746189038815037,1.2330918844538306,4.748053459118865,1.5195020113256743,-7.0292404109980335,-1.4137321357744022,8.407803780406198,-4.489987065771845,0.35881232506879085,4.6630313479163705,1.1797135713577354,-0.573592099195732,1.224592250809251,-4.26617124295658,-1.8958016317988062,-3.374392735853225,-0.7422797231956215,-2.0351138543648677,-2.3369662490421264,-1.144897638830495,-1.7158007070338512,1.9584123940572113,2.152777721579652,2.390795531645712,-3.3284675585471355,3.658105497986719,-5.4314817745756185,14.469444891598899],\"z\":[-4.7093913329102906,-1.219697755394122,1.562219619356775,-0.59047379333357,-1.556237145798635,-1.0179131789922828,-3.4581517387267815,-0.896456922263819,1.018653025419916,0.9592678491274873,-1.600429334770979,-0.6642091635946094,-1.826241620287931,-0.17014552544537123,3.9243782440983663,-3.893818499355391,1.8358163981756674,-3.5037595082773745,-2.862418247265879,1.1775673483696503,-1.1741774748397051,-0.2737906072680527,-3.9993542361568095,0.7752004213764562,-1.7503097867364923,-1.6527076415943776,-0.31615270498228876,-1.2661135204550966,-2.8496402110651533,-2.312328009574294,0.06318152488689602,-2.4066917730381583,0.511895934440276,3.448973462495485,0.40835668906706457,1.2646072329033848,0.0684472798559159,0.38195959505805127,0.4880542120204213,-1.6350047146884406,2.961925895223785,-4.733659316339366,-0.5096753933190238,0.6997566229954651,-1.6513486332912501,1.3375140691699898,-4.083425934785266],\"type\":\"scatter3d\"},{\"hovertemplate\":\"color=french<br>0=%{x}<br>1=%{y}<br>2=%{z}<extra></extra>\",\"legendgroup\":\"french\",\"marker\":{\"color\":\"#ab63fa\",\"symbol\":\"circle\"},\"mode\":\"markers\",\"name\":\"french\",\"scene\":\"scene\",\"showlegend\":true,\"x\":[0.445625756023641,34.62564189786041,-9.191715661266153,-5.162121644282247,9.26257670180909,-17.263337919363202,3.0293360303616494,-1.012488744436554,-5.983097996828681,5.049704194150176,33.503018117353946,-9.35193425319213,-17.35687961610846,-14.853971101071107,-12.135724155477378,-12.753527337822462,-12.634748629973952,-1.2565588428800938,11.1684418482104,-9.046769907688146,-0.9520947854260267,1.441953588349892,-0.9937022732921694,-3.9116886429379694,5.3222441641204545,-2.9876078658038736,-14.592826181608265,2.548573091207863,13.117688076420675,-2.816733488791776,-3.898803298379328,4.427691058599956,-10.601097717837995,-9.308440351006244,-0.49957819523716646,1.575361487961498,10.843090583940883,-21.205222984261802,2.6498602153456603,1.3898158308903883,5.232738756471785,5.329267160693595,-9.67987929203257,-5.530262560514895,-3.8382022732035663,-1.591827742061158,-6.275739947827433,-2.78067724652059,-7.962376774485928,-5.95230255006634,-11.018231989978567,11.56441140239144,-12.976705097553506,-4.23289660370138,-0.7838922926972276,-2.9042532312507623,-1.3749868688374633,-2.5840037171586614,1.7600566725936488,-11.529348013323656,-10.781926592271192,4.473096753680378,-4.919832074818872],\"y\":[-1.507495332999056,8.533780476158007,4.6340741485686054,-0.048854011092546695,-0.10809675685278346,-1.1051614313036215,13.67232004480287,-1.0969128212618422,4.35667576748571,0.9134528379420702,0.7824698549003453,-1.1459031266268873,0.5170629636990447,3.6481005939003586,5.956622339132067,-0.19811489034586732,1.091017211057378,1.962201751982458,2.1023850818551653,-3.4744697728660072,-0.5757194864279346,0.22730152149333022,-1.7037530722365652,-0.9131231338726139,-0.8625601896071127,8.334527477490765,6.8452380815835605,1.562987852876718,-0.8561045255669004,-0.7499119456526563,1.4201935678218205,-0.07032789736194067,-2.5484927259696923,1.0948294102940712,-3.475749712423472,-4.718681869443045,-4.1939373215086535,0.3960783638531105,-4.34655655078263,-1.9782475805110706,0.5099451092604608,-0.733336276646486,-1.8398453027413926,-0.49267527576319003,1.761921664011713,-0.6780400024094192,5.8835946873365685,0.22980705592406447,0.7265139888613945,1.3544817997880114,-2.7277361045152033,-1.5031415344449686,-1.6910230073323111,9.633733275871522,-0.15906700255076894,2.928359195096551,11.88517547596546,-5.7226209279418985,0.8421899447529795,3.008277193355421,2.5080171222320335,2.1424602785465847,4.7885639802442395],\"z\":[-2.981718906651757,-11.34505601113865,0.9575298272484292,4.236588686253059,-0.7967086233579427,2.0325275593516596,-4.705625710589535,-1.0675596173465398,2.888976227010352,-0.05548583948739059,0.7012192734218741,2.738972710332801,-2.45493450362912,-0.9275911338384443,-2.3025965328171574,-5.162974540616428,0.9954523242386099,-0.36458968856815094,-2.0791971763163,0.09851778892761201,-3.4842786172184037,-1.2189028989353667,-3.0488307920005733,-0.026475281712761815,-2.5570527398886633,-0.7500841900948004,2.570601511550352,-2.6815368328878697,-1.3430520933951007,-5.270799899936404,-3.6406434290530054,4.614216673426444,5.98991527960072,0.16309411806659432,0.5518590275465486,0.30354290784999305,-4.248805775768294,-4.7577179618864225,-0.7028071012490024,0.37444745373549,-1.1890558431460905,-1.0787327849471857,0.39483670239700275,3.726772051866029,-0.4795200718772606,-0.9394138486012823,-0.7899470248439516,-1.3361217921556083,-2.062896957667132,-3.3696422886225226,-3.320294663711479,0.6929552702214082,1.6128496939554038,-4.606672543561223,-1.431861462941933,-7.581655674203809,-2.3887969949749275,0.1174503938299236,-1.5966562702297291,-1.353661954803611,-2.67991154260803,-5.34588637429078,-0.47960748517816065],\"type\":\"scatter3d\"},{\"hovertemplate\":\"color=mandarin<br>0=%{x}<br>1=%{y}<br>2=%{z}<extra></extra>\",\"legendgroup\":\"mandarin\",\"marker\":{\"color\":\"#FFA15A\",\"symbol\":\"circle\"},\"mode\":\"markers\",\"name\":\"mandarin\",\"scene\":\"scene\",\"showlegend\":true,\"x\":[-4.709494821716056,-0.2275072915824001,27.68534566547072,2.007413401229701,-10.274684820023523,8.856045285715922,0.7018081850220675,0.8052120157864474,71.37279875249148,-8.156147884070657,-1.4593429128768138,-5.450242536893051,-14.124276642758288,3.598384965183847,-6.278690513867875,0.0735804732645786,-3.786942998195151,1.0594620907059202,-36.75414134144632,19.810958005224883,27.254624835999035,0.9131519281690633,-4.7015568543000255,3.7490604982975766,-10.93079315105514,14.1062111668505,24.24412661962831,-10.73054388440864,1.2949744481400296,14.981693863771337,1.4813946769987243,3.3124715872278108,5.7623225018129185,6.696628073342977,-6.839300911086173,14.84624866947554,-7.544944490136063,2.6655089213206526,5.540109147449694,11.610157900114054,-14.0442358258032,11.449067641579608,12.354157622785136,10.84116425266837,7.5471087298650765,72.90887401083025,-4.623062409809952,-5.634903782938818,-4.41105850085397,1.0554898749998638,3.9586757733522364,9.62294723680685,7.523030225940587,-2.512225522780228,3.2628377649915716,-1.298574129374309,-3.7319057228255734,2.2950448245179986,17.79805544607458,0.17905728814985164,-8.827508607552309,-11.26606478812042,-32.309715155231096,2.5918219803784512,-15.708164485186046],\"y\":[5.8286191443682425,-3.191179005829169,1.6005236749183296,1.9721721358579813,-4.244227029447484,1.3741953580884696,-1.9192203403451118,2.170899873151748,9.310919607149383,-2.6638842833560816,-1.9471486657396146,-1.6619715936113266,3.4631790095951374,-0.18191212741496168,-3.0381985504274227,0.5053637156789048,-5.704470104869019,-1.2203165469971353,9.250583896661912,-0.8355596498730348,3.2597214061966584,-0.7183312626958781,3.1284222929422345,-0.6809819677571657,1.2522737504677135,4.332157926639459,4.610753375361402,-1.3748943753650837,2.656747007424653,0.7361037975558942,-4.232798892974203,3.682315927833953,-6.009592434629143,4.08328349836559,-3.192059936754493,1.7916879365219256,1.9492385889557782,0.046000905367895535,-3.1907674534013,-3.9490573361513905,4.726005992381006,-5.102181041791506,5.258550397514496,-1.2003081096608914,3.116318711110226,4.362863133985753,4.732977054608503,-0.744851491892565,3.445554817403474,-1.2572122570368915,-1.1145145392928446,0.9145661169504226,2.0222299788578404,3.234588246041204,-1.7681347354687862,1.4573904768423775,2.8221508810564786,5.700196993836984,-0.33607824824580557,0.6928043401409416,1.1706064765890658,1.4052211600891626,19.100675295881814,1.703504758683823,3.1310127428286942],\"z\":[-0.9470592059423272,-2.6483586264002255,-1.7084969128361138,3.1055077834278735,0.4544450173932336,1.5535897809231245,-0.948580428791755,-8.37971999579238,11.21312845646397,1.4073073889039398,-2.3298242031403866,-2.566922776733387,0.07808748412714725,-3.6061340285544006,0.2636859302691867,-1.8615414090675282,-0.41857570360794394,1.0567831444294082,10.913962239263423,2.8626636195228174,0.6788591540671405,-4.8501512989580675,-2.9675323100039446,-2.5452880481755114,1.1037181139148093,2.541426543331241,0.16211034029528876,-7.529531651803429,-3.4820799906436157,-1.5651036874336148,-5.269064739108834,2.7966136530121926,0.2854282664403163,6.361525258224535,-2.3013227013315767,-8.08191155258024,-3.909727487111733,2.4537330935798938,-0.7989864445002509,-1.3322539336050034,-4.741177774784496,-1.4709201704594708,-6.240563448671181,-1.3159154845583205,-0.873166991155374,9.646951824307306,-2.963110187657687,-4.127489772750203,-1.7920929724283179,-1.2691723028744735,-4.284252747630229,1.1486097474780004,-0.5894075703215852,-6.5002605905032675,1.737959147626024,-2.2349394726000043,-2.8890551752342035,3.5358623390945683,-1.2704351631629942,-3.0314666248562308,-3.7956278216070727,-4.467197595861398,20.57115767219634,-1.614405642991943,-5.8856069178629715],\"type\":\"scatter3d\"},{\"hovertemplate\":\"color=portuguese<br>0=%{x}<br>1=%{y}<br>2=%{z}<extra></extra>\",\"legendgroup\":\"portuguese\",\"marker\":{\"color\":\"#19d3f3\",\"symbol\":\"circle\"},\"mode\":\"markers\",\"name\":\"portuguese\",\"scene\":\"scene\",\"showlegend\":true,\"x\":[8.513376318455354,-0.6167165160196922,-2.831078743060751,-4.122812561853671,1.4443721168857562,-2.5395869816259857,-2.3532469569043357,-7.770980380301711,3.9783998743062283,4.224322405902473,4.572829351664897,5.461142950744252,-36.104328802616145,-9.47825097106783,6.823633807240854,23.993650375799497,-7.661637899306866,-4.850771775163555,-15.455581512467198,-6.678430200511668,13.728156752697618,2.6284952341803933,12.375642423025282,-3.7518535181440744,-12.690347584319026,-15.681064532935482,-0.9870501139605358,13.390902575268237,5.295326961819412,-1.831124474199649,34.60959343936312,2.202495897620383,-6.645413290229582,-5.6468359946911715,5.813661656304462,4.559342669452832,0.1843747546049042,-2.540276002031811,0.6024437489245755,-4.836557533014581,3.1811108401948918,3.4382243563240698,2.0358196871371725,-14.22358690523785,-7.746839734800987,-1.2502482056333453,-20.398758810654915,-5.146014531190118],\"y\":[0.4274928725596684,-4.730487476046638,0.09099558076551524,-3.5099320791454063,0.4277134613262822,-7.259716733863713,-1.225916961821017,-3.038891392417388,1.7447832119456474,-1.518579623003933,-3.720579070824516,6.822685702388058,22.447561519645863,2.6305145752181467,3.7960165668856796,-3.211986673795944,0.5627909957712899,2.4891569311148283,1.2137699191978923,-4.631040881372862,-6.88954551950031,-2.271477652388626,-1.0507663802540006,-1.151070191730907,0.9856668619176775,-0.36525119914312776,-4.047820322505469,1.4673001639989955,-1.930599587634753,-2.2081664644162164,9.617386854565511,-5.387413405745956,-3.9922033506370456,-4.788735650762082,-7.744038301955888,-3.6805348169253183,2.239579400524155,-5.7867779356065725,-1.2748086862329906,-7.971640701144429,1.8775729642602985,-0.07359464283388129,-1.6882972346362262,0.9167570714279627,-3.1149031210945366,-2.8107993676575425,-1.3629515470500537,-1.22300989328669],\"z\":[-4.18311035600006,0.07784314381727186,1.8698696576727927,-1.403387338784531,0.3737583393907572,1.4744819457947373,1.4758304487258258,-0.4414762214713213,3.603233046407311,0.5650556671522212,-2.2345204658455677,-6.266627338734355,-6.798956094730734,-1.3963150650930103,4.019704449113221,0.11282922947680757,4.642113533482255,-1.9885953734490562,-2.5408936023837603,-0.7323896130284938,-0.9324972357970363,-1.8531017295030376,-9.220169310170474,-1.704080045019876,-4.725894359600731,-1.7859247047928575,-0.6030364001850372,-3.2870147175165556,4.042846944911947,1.5274113361105373,8.902339386840099,-0.30719029143006193,0.5020897387180531,-1.1608770343374066,5.298770241870316,1.5670230415122344,-3.4628532665256246,-2.0334248962212462,-4.800292762701343,-0.5992128206399957,-3.2463572436093835,2.1375861248330033,1.3953434766881117,0.8116872102523214,-0.6463562479891667,-1.8106955687032016,-0.6125122294333044,0.9542224031983211],\"type\":\"scatter3d\"},{\"hovertemplate\":\"color=korean<br>0=%{x}<br>1=%{y}<br>2=%{z}<extra></extra>\",\"legendgroup\":\"korean\",\"marker\":{\"color\":\"#FF6692\",\"symbol\":\"circle\"},\"mode\":\"markers\",\"name\":\"korean\",\"scene\":\"scene\",\"showlegend\":true,\"x\":[10.468845648504537,7.303974044976643,5.398827506977573,-2.3271936198818666,-5.720734319799602,-7.805715455019298,-1.1101089611303991,12.080453286945968,-7.117261765871197,-3.9007222264703034,4.223652930954924,1.6901628262663646,-1.6172185818334346,-3.0015414587403733,-7.875650368974674,12.552819887549889,1.548240395997746,14.695219756494335,10.519332347301647,3.313660766733964,0.7728189978005077,-8.327510790952529,-4.613683032697082,-3.3709537785111614,-7.064283144676974,4.389035441043741,0.8732196539230487,-5.805106679265288,4.1557545691062705,9.50399048722583,3.992666452982991,34.81718478379891,22.56206780871523,-16.858408690851842,13.248568057019343,5.265321107171981,-2.287446101990772,0.6483010406710209,-3.904995577146165,3.711435388762444,-4.94860252592412,2.231752813301304,20.277185387936836,2.0499334481732223,30.077924085986353,-5.705366160223114,2.1504345633273574,-9.209654820365161,15.762455062090936,12.205349484722793,-4.469774799221425,10.514731049043293],\"y\":[5.991232046518037,-0.12952961844254382,2.264917610940147,10.763621895753216,-0.13214811117529637,-0.4891215024057431,3.2719070589871024,5.254783506998786,2.537552386004836,-0.8982089863572735,3.6042626738990298,3.894959999681726,0.9528340885876837,-0.7660486541713153,2.362173445986276,2.475799472134191,1.9230171944495613,10.732606405003262,3.2096496456449826,2.9463149002764193,1.8742502162077876,2.9680426826804305,-0.13725957880583417,6.703845003446294,5.153043571742433,5.230602477542078,4.217699333330194,4.87293233646954,4.435768446246806,-0.7875406121637994,2.086088226610477,10.459204834955193,9.250761273344674,-1.6297800332660437,4.973782960285304,9.29127335567376,-4.775503396383858,0.46615353499357903,3.6501163576926117,2.9724911422538924,8.125020295956476,1.6877553917371675,5.838196731084889,5.03008931339681,9.500068049805828,-2.8678415686828007,5.8624108477707315,4.328114097304103,6.233511277325687,-0.972924526054123,6.668389909936636,4.109600544564319],\"z\":[-1.0807583313238749,0.07152735749056681,1.7864681813828778,3.4678020247236954,-1.2007107900221463,-2.171994066428015,3.819113400861821,0.5671415927588622,0.3629492976769819,-2.3925684416692246,-3.97360939294343,-0.27359267819017097,-0.5313724043267078,1.7021870127897458,1.9857914762256372,-0.6035106620475446,-2.597625649441329,-3.653162840150222,-1.0929267092843364,-4.042268902938074,4.256778385043748,-2.2479572818023583,0.14006322326728954,-3.061650654154951,0.5127821741654339,-7.012994452846299,-0.22803501441076826,-6.138675672989443,-2.913588694878523,-0.1360081089035137,0.8036863223438498,-2.8945763530183384,0.02977875846949944,4.525805029880192,-1.7074976859042934,-7.398324776205234,0.9742626866321319,-1.176408579532587,-5.408662164122379,-1.7908454732706502,-1.0918898564758985,-2.7461947154290502,-1.0978140319580552,7.1096370022698645,-2.774981000486249,1.1537923030023731,-2.469050984054327,-3.6852898910140834,1.5899470547045744,-3.821551272961932,0.7275065548156383,1.76859621242236],\"type\":\"scatter3d\"},{\"hovertemplate\":\"color=russian<br>0=%{x}<br>1=%{y}<br>2=%{z}<extra></extra>\",\"legendgroup\":\"russian\",\"marker\":{\"color\":\"#B6E880\",\"symbol\":\"circle\"},\"mode\":\"markers\",\"name\":\"russian\",\"scene\":\"scene\",\"showlegend\":true,\"x\":[-3.868236648812525,-22.649733616822033,27.596839983194823,1.2731844482052006,-8.465008119730937,75.43828112096872,-0.6914270018791953,-9.213367684034111,-5.674757045645416,-18.95397763495754,-17.197218231700127,-5.47638026754293,3.1954172951943436,4.334009606281582,5.466532037722231,15.930735485054093,16.346077102026626,1.3866117041039874,-4.440054085479623,20.7086362832505,0.5444350908965481,15.41506833404673,3.0605904068763143,0.402488211412294,-6.522756627683776,7.052242301206836,-2.6238789490534136,24.573076285764387,4.030214357884427,-9.325375259070835,-4.6769642044448,-0.9887766565708086,-7.197893787786259,8.190497971071988,-5.387396610916415,-8.230604354629227,7.725200849284587,-3.7517428522862506,0.3389686516006769,3.107122876684443,26.71390896185902,-1.0465282754266296,-0.6497779629973911,-4.683132934061487,0.09754149270632881,-10.25405808520646,-7.614798425786484,4.198556895328611],\"y\":[2.2211586823035887,1.817816590144683,3.2933342604523217,-2.1723573306017707,6.065042705282143,16.94872980567999,1.3872952255795383,0.38608334449234155,-2.639217590524837,2.273617258883231,5.422035095953321,-3.2091021962463757,0.37990635001602097,0.37969768304035106,-4.138174053092555,3.9280812600650274,0.9685644516872441,-1.1454351467143653,-2.991695926235373,6.690525033012733,1.314281779519661,2.601116461412788,8.118784504691769,2.5796085055256275,12.389061529733382,2.5965884529866283,1.0751560664952962,7.516617293928658,5.088508248309349,-1.8246167975610537,-0.07266590577079803,10.259713961558564,3.587845421928085,2.5935825905914527,-0.4778644269085012,2.308818820211571,1.6069324720386464,-1.697129639940069,-3.7377496861929735,2.335096084087981,4.440525999614464,3.361623868734117,-2.583202903022722,0.5871915960329475,-4.055555537109366,3.772940500590133,1.3576817883444563,-0.09291315185905058],\"z\":[-0.9787998927455194,5.397912733052623,3.7282299041986913,1.1783878691702503,-0.0832902272298088,4.690946448129201,-0.8916734302536887,1.5357700782915589,-3.7322972747525354,-1.1254054294595923,-8.879919820792749,0.915552589297412,-3.990582025708935,-4.003550523262662,-0.15619232440486797,-1.886257060240257,-1.4322562583107044,-3.6125661156812154,-1.331580787904325,-1.8476055212032836,-1.4287736948859966,4.685084467353717,-8.100694994678538,-3.6252278231087893,-4.218160832932098,-2.399924274789586,-1.6154259480385298,-8.027803571286464,-5.077869353780023,1.7097303467432312,-3.463013180039689,0.08492250036499785,-3.373984334110039,2.6859799523845447,-1.4908341423913183,-3.6992761688459055,-2.6542972247529235,-0.0719350945032349,-3.3651276201992304,2.6687694100795682,-9.522361470835396,2.7758916267041167,1.3922081001449524,-1.3525998740925829,1.1125241075759087,1.624106712554943,-4.148944130127211,2.2484121906089403],\"type\":\"scatter3d\"},{\"hovertemplate\":\"color=turkish<br>0=%{x}<br>1=%{y}<br>2=%{z}<extra></extra>\",\"legendgroup\":\"turkish\",\"marker\":{\"color\":\"#FF97FF\",\"symbol\":\"circle\"},\"mode\":\"markers\",\"name\":\"turkish\",\"scene\":\"scene\",\"showlegend\":true,\"x\":[14.345343121729504,-51.88145935863511,-9.185405103295903,-3.696455251813217,6.936822638513879,-0.23320634630147224,-0.942883564262327,8.230402870313624,4.866102032487887,22.396234790112437,8.618253963328012,-3.1573249827701937,0.37148352601847157,18.78470797395596,-8.858045456088776,-7.5003008474341,34.60016031078949,-0.5779794655336102,-42.4758568530068,-53.38383979541352,8.804499128508866,-12.747072085070851,6.141139555058698,0.5204189736467467,-1.5810376023218393,-7.714993619350613,-16.832485049756027,-8.03499768159763,-7.9258235410638,-0.13799992064617347,13.546948814225667,-17.755839969835968,-1.3868717174498557,6.731734254010251,-3.96949371437547,-4.153990908153436,26.863114968365533],\"y\":[4.113535500331507,20.783618331137298,5.92950780268507,4.016784651867567,4.974574461568377,-3.1547121233673088,0.18137506423030061,5.51176657473606,10.956824122509598,8.29438238025306,15.044332859579875,4.727729058714406,1.7194609896691386,3.0651401220244985,8.35358015609203,8.764808382149942,10.487335134487997,12.21234077878704,19.672518745121536,20.362772678441846,14.025884850460375,4.929402308494874,13.464159918279464,-4.842321989647846,1.9725854753424226,2.3515243808793485,8.36593591635335,2.2027207406050318,5.190191046808766,-1.5934016373825253,17.40980781336657,4.885509970443911,1.1975392569082035,8.156293950502608,8.299011171650525,7.114846148168932,20.893244096895675],\"z\":[-5.611188189635047,-2.321322704134323,-0.5020125304354468,0.19584508033280498,-2.354651418738129,0.16785138115966522,1.5124035721567168,4.204376486797003,-3.785287944109567,-3.0285597195645537,7.122448105562734,-0.6198535109796569,1.7061042407716498,6.435228502527745,3.565219194391629,-0.13317581567772363,1.36744379920355,2.384449648655943,5.0804940088276265,-0.976656305569667,2.565118624186984,-1.599037727969998,-0.6001614096528491,0.3256070043070971,-1.914203480037978,-4.171593723383027,1.4716021400459258,2.9784698966923666,-0.5315930760351718,-0.38297198898722123,6.96007121831484,-1.1910923703460858,-0.4431000057401355,1.080628148542494,-2.2914186650802404,-2.5903827806575803,1.223665831080537],\"type\":\"scatter3d\"}],                        {\"template\":{\"data\":{\"histogram2dcontour\":[{\"type\":\"histogram2dcontour\",\"colorbar\":{\"outlinewidth\":0,\"ticks\":\"\"},\"colorscale\":[[0.0,\"#0d0887\"],[0.1111111111111111,\"#46039f\"],[0.2222222222222222,\"#7201a8\"],[0.3333333333333333,\"#9c179e\"],[0.4444444444444444,\"#bd3786\"],[0.5555555555555556,\"#d8576b\"],[0.6666666666666666,\"#ed7953\"],[0.7777777777777778,\"#fb9f3a\"],[0.8888888888888888,\"#fdca26\"],[1.0,\"#f0f921\"]]}],\"choropleth\":[{\"type\":\"choropleth\",\"colorbar\":{\"outlinewidth\":0,\"ticks\":\"\"}}],\"histogram2d\":[{\"type\":\"histogram2d\",\"colorbar\":{\"outlinewidth\":0,\"ticks\":\"\"},\"colorscale\":[[0.0,\"#0d0887\"],[0.1111111111111111,\"#46039f\"],[0.2222222222222222,\"#7201a8\"],[0.3333333333333333,\"#9c179e\"],[0.4444444444444444,\"#bd3786\"],[0.5555555555555556,\"#d8576b\"],[0.6666666666666666,\"#ed7953\"],[0.7777777777777778,\"#fb9f3a\"],[0.8888888888888888,\"#fdca26\"],[1.0,\"#f0f921\"]]}],\"heatmap\":[{\"type\":\"heatmap\",\"colorbar\":{\"outlinewidth\":0,\"ticks\":\"\"},\"colorscale\":[[0.0,\"#0d0887\"],[0.1111111111111111,\"#46039f\"],[0.2222222222222222,\"#7201a8\"],[0.3333333333333333,\"#9c179e\"],[0.4444444444444444,\"#bd3786\"],[0.5555555555555556,\"#d8576b\"],[0.6666666666666666,\"#ed7953\"],[0.7777777777777778,\"#fb9f3a\"],[0.8888888888888888,\"#fdca26\"],[1.0,\"#f0f921\"]]}],\"heatmapgl\":[{\"type\":\"heatmapgl\",\"colorbar\":{\"outlinewidth\":0,\"ticks\":\"\"},\"colorscale\":[[0.0,\"#0d0887\"],[0.1111111111111111,\"#46039f\"],[0.2222222222222222,\"#7201a8\"],[0.3333333333333333,\"#9c179e\"],[0.4444444444444444,\"#bd3786\"],[0.5555555555555556,\"#d8576b\"],[0.6666666666666666,\"#ed7953\"],[0.7777777777777778,\"#fb9f3a\"],[0.8888888888888888,\"#fdca26\"],[1.0,\"#f0f921\"]]}],\"contourcarpet\":[{\"type\":\"contourcarpet\",\"colorbar\":{\"outlinewidth\":0,\"ticks\":\"\"}}],\"contour\":[{\"type\":\"contour\",\"colorbar\":{\"outlinewidth\":0,\"ticks\":\"\"},\"colorscale\":[[0.0,\"#0d0887\"],[0.1111111111111111,\"#46039f\"],[0.2222222222222222,\"#7201a8\"],[0.3333333333333333,\"#9c179e\"],[0.4444444444444444,\"#bd3786\"],[0.5555555555555556,\"#d8576b\"],[0.6666666666666666,\"#ed7953\"],[0.7777777777777778,\"#fb9f3a\"],[0.8888888888888888,\"#fdca26\"],[1.0,\"#f0f921\"]]}],\"surface\":[{\"type\":\"surface\",\"colorbar\":{\"outlinewidth\":0,\"ticks\":\"\"},\"colorscale\":[[0.0,\"#0d0887\"],[0.1111111111111111,\"#46039f\"],[0.2222222222222222,\"#7201a8\"],[0.3333333333333333,\"#9c179e\"],[0.4444444444444444,\"#bd3786\"],[0.5555555555555556,\"#d8576b\"],[0.6666666666666666,\"#ed7953\"],[0.7777777777777778,\"#fb9f3a\"],[0.8888888888888888,\"#fdca26\"],[1.0,\"#f0f921\"]]}],\"mesh3d\":[{\"type\":\"mesh3d\",\"colorbar\":{\"outlinewidth\":0,\"ticks\":\"\"}}],\"scatter\":[{\"fillpattern\":{\"fillmode\":\"overlay\",\"size\":10,\"solidity\":0.2},\"type\":\"scatter\"}],\"parcoords\":[{\"type\":\"parcoords\",\"line\":{\"colorbar\":{\"outlinewidth\":0,\"ticks\":\"\"}}}],\"scatterpolargl\":[{\"type\":\"scatterpolargl\",\"marker\":{\"colorbar\":{\"outlinewidth\":0,\"ticks\":\"\"}}}],\"bar\":[{\"error_x\":{\"color\":\"#2a3f5f\"},\"error_y\":{\"color\":\"#2a3f5f\"},\"marker\":{\"line\":{\"color\":\"#E5ECF6\",\"width\":0.5},\"pattern\":{\"fillmode\":\"overlay\",\"size\":10,\"solidity\":0.2}},\"type\":\"bar\"}],\"scattergeo\":[{\"type\":\"scattergeo\",\"marker\":{\"colorbar\":{\"outlinewidth\":0,\"ticks\":\"\"}}}],\"scatterpolar\":[{\"type\":\"scatterpolar\",\"marker\":{\"colorbar\":{\"outlinewidth\":0,\"ticks\":\"\"}}}],\"histogram\":[{\"marker\":{\"pattern\":{\"fillmode\":\"overlay\",\"size\":10,\"solidity\":0.2}},\"type\":\"histogram\"}],\"scattergl\":[{\"type\":\"scattergl\",\"marker\":{\"colorbar\":{\"outlinewidth\":0,\"ticks\":\"\"}}}],\"scatter3d\":[{\"type\":\"scatter3d\",\"line\":{\"colorbar\":{\"outlinewidth\":0,\"ticks\":\"\"}},\"marker\":{\"colorbar\":{\"outlinewidth\":0,\"ticks\":\"\"}}}],\"scattermapbox\":[{\"type\":\"scattermapbox\",\"marker\":{\"colorbar\":{\"outlinewidth\":0,\"ticks\":\"\"}}}],\"scatterternary\":[{\"type\":\"scatterternary\",\"marker\":{\"colorbar\":{\"outlinewidth\":0,\"ticks\":\"\"}}}],\"scattercarpet\":[{\"type\":\"scattercarpet\",\"marker\":{\"colorbar\":{\"outlinewidth\":0,\"ticks\":\"\"}}}],\"carpet\":[{\"aaxis\":{\"endlinecolor\":\"#2a3f5f\",\"gridcolor\":\"white\",\"linecolor\":\"white\",\"minorgridcolor\":\"white\",\"startlinecolor\":\"#2a3f5f\"},\"baxis\":{\"endlinecolor\":\"#2a3f5f\",\"gridcolor\":\"white\",\"linecolor\":\"white\",\"minorgridcolor\":\"white\",\"startlinecolor\":\"#2a3f5f\"},\"type\":\"carpet\"}],\"table\":[{\"cells\":{\"fill\":{\"color\":\"#EBF0F8\"},\"line\":{\"color\":\"white\"}},\"header\":{\"fill\":{\"color\":\"#C8D4E3\"},\"line\":{\"color\":\"white\"}},\"type\":\"table\"}],\"barpolar\":[{\"marker\":{\"line\":{\"color\":\"#E5ECF6\",\"width\":0.5},\"pattern\":{\"fillmode\":\"overlay\",\"size\":10,\"solidity\":0.2}},\"type\":\"barpolar\"}],\"pie\":[{\"automargin\":true,\"type\":\"pie\"}]},\"layout\":{\"autotypenumbers\":\"strict\",\"colorway\":[\"#636efa\",\"#EF553B\",\"#00cc96\",\"#ab63fa\",\"#FFA15A\",\"#19d3f3\",\"#FF6692\",\"#B6E880\",\"#FF97FF\",\"#FECB52\"],\"font\":{\"color\":\"#2a3f5f\"},\"hovermode\":\"closest\",\"hoverlabel\":{\"align\":\"left\"},\"paper_bgcolor\":\"white\",\"plot_bgcolor\":\"#E5ECF6\",\"polar\":{\"bgcolor\":\"#E5ECF6\",\"angularaxis\":{\"gridcolor\":\"white\",\"linecolor\":\"white\",\"ticks\":\"\"},\"radialaxis\":{\"gridcolor\":\"white\",\"linecolor\":\"white\",\"ticks\":\"\"}},\"ternary\":{\"bgcolor\":\"#E5ECF6\",\"aaxis\":{\"gridcolor\":\"white\",\"linecolor\":\"white\",\"ticks\":\"\"},\"baxis\":{\"gridcolor\":\"white\",\"linecolor\":\"white\",\"ticks\":\"\"},\"caxis\":{\"gridcolor\":\"white\",\"linecolor\":\"white\",\"ticks\":\"\"}},\"coloraxis\":{\"colorbar\":{\"outlinewidth\":0,\"ticks\":\"\"}},\"colorscale\":{\"sequential\":[[0.0,\"#0d0887\"],[0.1111111111111111,\"#46039f\"],[0.2222222222222222,\"#7201a8\"],[0.3333333333333333,\"#9c179e\"],[0.4444444444444444,\"#bd3786\"],[0.5555555555555556,\"#d8576b\"],[0.6666666666666666,\"#ed7953\"],[0.7777777777777778,\"#fb9f3a\"],[0.8888888888888888,\"#fdca26\"],[1.0,\"#f0f921\"]],\"sequentialminus\":[[0.0,\"#0d0887\"],[0.1111111111111111,\"#46039f\"],[0.2222222222222222,\"#7201a8\"],[0.3333333333333333,\"#9c179e\"],[0.4444444444444444,\"#bd3786\"],[0.5555555555555556,\"#d8576b\"],[0.6666666666666666,\"#ed7953\"],[0.7777777777777778,\"#fb9f3a\"],[0.8888888888888888,\"#fdca26\"],[1.0,\"#f0f921\"]],\"diverging\":[[0,\"#8e0152\"],[0.1,\"#c51b7d\"],[0.2,\"#de77ae\"],[0.3,\"#f1b6da\"],[0.4,\"#fde0ef\"],[0.5,\"#f7f7f7\"],[0.6,\"#e6f5d0\"],[0.7,\"#b8e186\"],[0.8,\"#7fbc41\"],[0.9,\"#4d9221\"],[1,\"#276419\"]]},\"xaxis\":{\"gridcolor\":\"white\",\"linecolor\":\"white\",\"ticks\":\"\",\"title\":{\"standoff\":15},\"zerolinecolor\":\"white\",\"automargin\":true,\"zerolinewidth\":2},\"yaxis\":{\"gridcolor\":\"white\",\"linecolor\":\"white\",\"ticks\":\"\",\"title\":{\"standoff\":15},\"zerolinecolor\":\"white\",\"automargin\":true,\"zerolinewidth\":2},\"scene\":{\"xaxis\":{\"backgroundcolor\":\"#E5ECF6\",\"gridcolor\":\"white\",\"linecolor\":\"white\",\"showbackground\":true,\"ticks\":\"\",\"zerolinecolor\":\"white\",\"gridwidth\":2},\"yaxis\":{\"backgroundcolor\":\"#E5ECF6\",\"gridcolor\":\"white\",\"linecolor\":\"white\",\"showbackground\":true,\"ticks\":\"\",\"zerolinecolor\":\"white\",\"gridwidth\":2},\"zaxis\":{\"backgroundcolor\":\"#E5ECF6\",\"gridcolor\":\"white\",\"linecolor\":\"white\",\"showbackground\":true,\"ticks\":\"\",\"zerolinecolor\":\"white\",\"gridwidth\":2}},\"shapedefaults\":{\"line\":{\"color\":\"#2a3f5f\"}},\"annotationdefaults\":{\"arrowcolor\":\"#2a3f5f\",\"arrowhead\":0,\"arrowwidth\":1},\"geo\":{\"bgcolor\":\"white\",\"landcolor\":\"#E5ECF6\",\"subunitcolor\":\"white\",\"showland\":true,\"showlakes\":true,\"lakecolor\":\"white\"},\"title\":{\"x\":0.05},\"mapbox\":{\"style\":\"light\"}}},\"scene\":{\"domain\":{\"x\":[0.0,1.0],\"y\":[0.0,1.0]},\"xaxis\":{\"title\":{\"text\":\"0\"}},\"yaxis\":{\"title\":{\"text\":\"1\"}},\"zaxis\":{\"title\":{\"text\":\"2\"}}},\"legend\":{\"title\":{\"text\":\"color\"},\"tracegroupgap\":0},\"margin\":{\"t\":60}},                        {\"responsive\": true}                    ).then(function(){\n",
              "                            \n",
              "var gd = document.getElementById('92018f1d-d329-46bc-a646-830278372443');\n",
              "var x = new MutationObserver(function (mutations, observer) {{\n",
              "        var display = window.getComputedStyle(gd).display;\n",
              "        if (!display || display === 'none') {{\n",
              "            console.log([gd, 'removed!']);\n",
              "            Plotly.purge(gd);\n",
              "            observer.disconnect();\n",
              "        }}\n",
              "}});\n",
              "\n",
              "// Listen for the removal of the full notebook cells\n",
              "var notebookContainer = gd.closest('#notebook-container');\n",
              "if (notebookContainer) {{\n",
              "    x.observe(notebookContainer, {childList: true});\n",
              "}}\n",
              "\n",
              "// Listen for the clearing of the current output cell\n",
              "var outputEl = gd.closest('.output');\n",
              "if (outputEl) {{\n",
              "    x.observe(outputEl, {childList: true});\n",
              "}}\n",
              "\n",
              "                        })                };                            </script>        </div>\n",
              "</body>\n",
              "</html>"
            ]
          },
          "metadata": {}
        }
      ]
    },
    {
      "cell_type": "code",
      "source": [
        "lang_to_comps = {}\n",
        "for lang in lang_list:\n",
        "\n",
        "  if lang not in lang_to_comps:\n",
        "    lang_to_comps[lang] = []\n",
        "\n",
        "  for name, comp in zip(names, values):\n",
        "    if lang in name:\n",
        "      lang_to_comps[lang].append(comp)\n",
        "\n",
        "\n",
        "lang_to_centroid = {}\n",
        "for lang in lang_to_comps:\n",
        "  centroid = np.average(np.asarray(lang_to_comps[lang]), axis=0)\n",
        "  lang_to_centroid[lang] = centroid\n",
        "\n",
        "\n",
        "english_centroid = lang_to_centroid['english']\n",
        "for lang in lang_to_centroid:\n",
        "  if lang!='english':\n",
        "    distance = np.linalg.norm(lang_to_centroid[lang] - english_centroid)\n",
        "    print(lang.upper(), ' distance: ', distance)"
      ],
      "metadata": {
        "colab": {
          "base_uri": "https://localhost:8080/"
        },
        "id": "mjekJbgoGTBP",
        "outputId": "fe9ae110-c700-400f-d445-366ca21b2a50"
      },
      "execution_count": null,
      "outputs": [
        {
          "output_type": "stream",
          "name": "stdout",
          "text": [
            "SPANISH  distance:  6.355981390154438\n",
            "MANDARIN  distance:  6.446347753645995\n",
            "FRENCH  distance:  4.601127272496815\n",
            "KOREAN  distance:  7.867154141731113\n",
            "PORTUGUESE  distance:  3.273000741863762\n",
            "RUSSIAN  distance:  6.196142056091757\n",
            "DUTCH  distance:  4.834054044140781\n",
            "TURKISH  distance:  10.220450266216522\n"
          ]
        }
      ]
    }
  ],
  "metadata": {
    "colab": {
      "provenance": []
    },
    "kernelspec": {
      "display_name": "Python 3",
      "name": "python3"
    },
    "language_info": {
      "name": "python"
    }
  },
  "nbformat": 4,
  "nbformat_minor": 0
}